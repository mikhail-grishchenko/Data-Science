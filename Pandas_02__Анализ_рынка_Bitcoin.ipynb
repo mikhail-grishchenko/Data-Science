{
  "nbformat": 4,
  "nbformat_minor": 0,
  "metadata": {
    "colab": {
      "name": "Pandas_02_ Анализ_рынка_Bitcoin",
      "provenance": [],
      "collapsed_sections": []
    },
    "kernelspec": {
      "name": "python3",
      "display_name": "Python 3"
    }
  },
  "cells": [
    {
      "cell_type": "markdown",
      "metadata": {
        "id": "dq8B72-jsYlh"
      },
      "source": [
        "1. Данных для анализа очень много на сайте для соревнований по машинному обучению [kaggle](https://www.kaggle.com/). Мы возьмем исторические данные по [биткоину](https://www.kaggle.com/mczielinski/bitcoin-historical-data) и посмотрим, какую информацию можно извлечь из него, какие статистики посчитать и какой анализ провести. "
      ]
    },
    {
      "cell_type": "code",
      "metadata": {
        "id": "QHbUQ0pQiuQi",
        "cellView": "code",
        "colab": {
          "base_uri": "https://localhost:8080/",
          "height": 391
        },
        "outputId": "a2611357-8055-4518-bf68-e6409ceebfad"
      },
      "source": [
        "!pip install -U -q PyDrive\n",
        "\n",
        "from pydrive.auth import GoogleAuth\n",
        "from pydrive.drive import GoogleDrive\n",
        "from google.colab import auth\n",
        "from oauth2client.client import GoogleCredentials\n",
        "\n",
        "# 1. Authenticate and create the PyDrive client.\n",
        "auth.authenticate_user()\n",
        "gauth = GoogleAuth()\n",
        "gauth.credentials = GoogleCredentials.get_application_default()\n",
        "drive = GoogleDrive(gauth)\n",
        "\n",
        "from google.colab import auth\n",
        "auth.authenticate_user()\n",
        "\n",
        "from googleapiclient.discovery import build\n",
        "drive_service = build('drive', 'v3')\n",
        "\n",
        "\n",
        "BTC_USD = \"18Nvsd-tAoF-FVkXZcKX07Bhagxeteawx\" #@param {type:\"string\"}\n",
        "\n",
        "BTC_USD_file = drive.CreateFile({'id': BTC_USD }) #DRIVE_FILE_ID is file id example: 1iytA1n2z4go3uVCwE_vIKouTKyIDjEq\n",
        "print(BTC_USD_file['title'])  \n",
        "BTC_USD_file.GetContentFile(BTC_USD_file['title'])  # Save Drive file as a local file\n",
        "\n",
        "USD_RUB = '1AEv6opCrO240Zv--_FCtbmJ_sWNOHxJs'\n",
        "USD_RUB_file = drive.CreateFile({'id': USD_RUB }) #DRIVE_FILE_ID is file id example: 1iytA1n2z4go3uVCwE_vIKouTKyIDjEq\n",
        "print(USD_RUB_file['title'])  \n",
        "USD_RUB_file.GetContentFile(USD_RUB_file['title'])  # Save Drive file as a local file\n",
        "\n",
        "\n",
        "!unzip {USD_RUB_file['title']}"
      ],
      "execution_count": null,
      "outputs": [
        {
          "output_type": "stream",
          "text": [
            "bitstampUSD_1-min_data_2012-01-01_to_2019-08-12.csv\n",
            "Archive.zip\n",
            "Archive:  Archive.zip\n",
            "  inflating: USDRUB_110101_111231.csv  \n",
            "   creating: __MACOSX/\n",
            "  inflating: __MACOSX/._USDRUB_110101_111231.csv  \n",
            "  inflating: USDRUB_130101_131231.csv  \n",
            "  inflating: __MACOSX/._USDRUB_130101_131231.csv  \n",
            "  inflating: USDRUB_120101_121231.csv  \n",
            "  inflating: __MACOSX/._USDRUB_120101_121231.csv  \n",
            "  inflating: USDRUB_180101_181231.csv  \n",
            "  inflating: __MACOSX/._USDRUB_180101_181231.csv  \n",
            "  inflating: USDRUB_170101_171231.csv  \n",
            "  inflating: __MACOSX/._USDRUB_170101_171231.csv  \n",
            "  inflating: USDRUB_160101_161231.csv  \n",
            "  inflating: __MACOSX/._USDRUB_160101_161231.csv  \n",
            "  inflating: USDRUB_150101_151231.csv  \n",
            "  inflating: __MACOSX/._USDRUB_150101_151231.csv  \n",
            "  inflating: USDRUB_140101_141231.csv  \n",
            "  inflating: __MACOSX/._USDRUB_140101_141231.csv  \n",
            "  inflating: USDRUB_190101_190812.csv  \n",
            "  inflating: __MACOSX/._USDRUB_190101_190812.csv  \n"
          ],
          "name": "stdout"
        }
      ]
    },
    {
      "cell_type": "markdown",
      "metadata": {
        "id": "BiiRwc8ytX2I"
      },
      "source": [
        "Теперь данные загружены в память Colab и с ними можно работать."
      ]
    },
    {
      "cell_type": "markdown",
      "metadata": {
        "id": "pCpmGfsLQENB"
      },
      "source": [
        "Импортируем все библиотеки для анализа файла:"
      ]
    },
    {
      "cell_type": "code",
      "metadata": {
        "id": "nuHhabqMrAdc",
        "colab": {
          "base_uri": "https://localhost:8080/",
          "height": 71
        },
        "outputId": "22b80c1d-7c64-4fc8-bf7b-e4cf939831d4"
      },
      "source": [
        "import numpy as np\n",
        "import pandas as pd\n",
        "import matplotlib.pyplot as plt\n",
        "import seaborn as sns\n",
        "import datetime\n",
        "\n",
        "plt.style.use('dark_background')\n",
        "pd.set_option('display.float_format', lambda x: '%.3f' % x)"
      ],
      "execution_count": null,
      "outputs": [
        {
          "output_type": "stream",
          "text": [
            "/usr/local/lib/python3.6/dist-packages/statsmodels/tools/_testing.py:19: FutureWarning: pandas.util.testing is deprecated. Use the functions in the public API at pandas.testing instead.\n",
            "  import pandas.util.testing as tm\n"
          ],
          "name": "stderr"
        }
      ]
    },
    {
      "cell_type": "markdown",
      "metadata": {
        "id": "TpYTSrTFrKmy"
      },
      "source": [
        "Прочитаем файл и посмотрим, что за данные там расположены:\n",
        "\n",
        "* Timestamp - время сделки в особом формате\n",
        "* Open - цена открытия\n",
        "* High - самая высокая цена за день\n",
        "* Low - самая низкая цена за день\n",
        "* Close - цена на момент закрытия\n",
        "* Volume_(BTC) - количество биткоинов\n",
        "* Volume_(Currency) - цена покупки\n",
        "* Weighted_Price - общая цена биткоина (курс биткоина к доллару)"
      ]
    },
    {
      "cell_type": "code",
      "metadata": {
        "id": "zXw9V5Mtf8fn",
        "colab": {
          "base_uri": "https://localhost:8080/",
          "height": 450
        },
        "outputId": "498f861d-e315-4ead-edf2-1116f3569ee4"
      },
      "source": [
        "btc"
      ],
      "execution_count": null,
      "outputs": [
        {
          "output_type": "execute_result",
          "data": {
            "text/html": [
              "<div>\n",
              "<style scoped>\n",
              "    .dataframe tbody tr th:only-of-type {\n",
              "        vertical-align: middle;\n",
              "    }\n",
              "\n",
              "    .dataframe tbody tr th {\n",
              "        vertical-align: top;\n",
              "    }\n",
              "\n",
              "    .dataframe thead th {\n",
              "        text-align: right;\n",
              "    }\n",
              "</style>\n",
              "<table border=\"1\" class=\"dataframe\">\n",
              "  <thead>\n",
              "    <tr style=\"text-align: right;\">\n",
              "      <th></th>\n",
              "      <th>Open</th>\n",
              "      <th>High</th>\n",
              "      <th>Low</th>\n",
              "      <th>Close</th>\n",
              "      <th>Volume_(BTC)</th>\n",
              "      <th>Volume_(Currency)</th>\n",
              "      <th>Weighted_Price</th>\n",
              "    </tr>\n",
              "    <tr>\n",
              "      <th>Timestamp</th>\n",
              "      <th></th>\n",
              "      <th></th>\n",
              "      <th></th>\n",
              "      <th></th>\n",
              "      <th></th>\n",
              "      <th></th>\n",
              "      <th></th>\n",
              "    </tr>\n",
              "  </thead>\n",
              "  <tbody>\n",
              "    <tr>\n",
              "      <th>2011-12-31 07:52:00</th>\n",
              "      <td>4.390</td>\n",
              "      <td>4.390</td>\n",
              "      <td>4.390</td>\n",
              "      <td>4.390</td>\n",
              "      <td>0.456</td>\n",
              "      <td>2.000</td>\n",
              "      <td>4.390</td>\n",
              "    </tr>\n",
              "    <tr>\n",
              "      <th>2011-12-31 15:50:00</th>\n",
              "      <td>4.390</td>\n",
              "      <td>4.390</td>\n",
              "      <td>4.390</td>\n",
              "      <td>4.390</td>\n",
              "      <td>48.000</td>\n",
              "      <td>210.720</td>\n",
              "      <td>4.390</td>\n",
              "    </tr>\n",
              "    <tr>\n",
              "      <th>2011-12-31 16:59:00</th>\n",
              "      <td>4.500</td>\n",
              "      <td>4.570</td>\n",
              "      <td>4.500</td>\n",
              "      <td>4.570</td>\n",
              "      <td>37.862</td>\n",
              "      <td>171.380</td>\n",
              "      <td>4.526</td>\n",
              "    </tr>\n",
              "    <tr>\n",
              "      <th>2011-12-31 17:00:00</th>\n",
              "      <td>4.580</td>\n",
              "      <td>4.580</td>\n",
              "      <td>4.580</td>\n",
              "      <td>4.580</td>\n",
              "      <td>9.000</td>\n",
              "      <td>41.220</td>\n",
              "      <td>4.580</td>\n",
              "    </tr>\n",
              "    <tr>\n",
              "      <th>2012-01-01 04:16:00</th>\n",
              "      <td>4.580</td>\n",
              "      <td>4.580</td>\n",
              "      <td>4.580</td>\n",
              "      <td>4.580</td>\n",
              "      <td>1.502</td>\n",
              "      <td>6.879</td>\n",
              "      <td>4.580</td>\n",
              "    </tr>\n",
              "    <tr>\n",
              "      <th>...</th>\n",
              "      <td>...</td>\n",
              "      <td>...</td>\n",
              "      <td>...</td>\n",
              "      <td>...</td>\n",
              "      <td>...</td>\n",
              "      <td>...</td>\n",
              "      <td>...</td>\n",
              "    </tr>\n",
              "    <tr>\n",
              "      <th>2019-08-11 23:56:00</th>\n",
              "      <td>11555.570</td>\n",
              "      <td>11555.570</td>\n",
              "      <td>11540.370</td>\n",
              "      <td>11540.580</td>\n",
              "      <td>0.037</td>\n",
              "      <td>425.909</td>\n",
              "      <td>11552.336</td>\n",
              "    </tr>\n",
              "    <tr>\n",
              "      <th>2019-08-11 23:57:00</th>\n",
              "      <td>11553.490</td>\n",
              "      <td>11556.220</td>\n",
              "      <td>11553.490</td>\n",
              "      <td>11556.220</td>\n",
              "      <td>0.623</td>\n",
              "      <td>7204.428</td>\n",
              "      <td>11555.521</td>\n",
              "    </tr>\n",
              "    <tr>\n",
              "      <th>2019-08-11 23:58:00</th>\n",
              "      <td>11559.730</td>\n",
              "      <td>11561.220</td>\n",
              "      <td>11546.770</td>\n",
              "      <td>11561.220</td>\n",
              "      <td>0.159</td>\n",
              "      <td>1838.731</td>\n",
              "      <td>11559.252</td>\n",
              "    </tr>\n",
              "    <tr>\n",
              "      <th>2019-08-11 23:59:00</th>\n",
              "      <td>11559.730</td>\n",
              "      <td>11589.730</td>\n",
              "      <td>11528.730</td>\n",
              "      <td>11528.730</td>\n",
              "      <td>16.198</td>\n",
              "      <td>187504.635</td>\n",
              "      <td>11575.639</td>\n",
              "    </tr>\n",
              "    <tr>\n",
              "      <th>2019-08-12 00:00:00</th>\n",
              "      <td>11527.440</td>\n",
              "      <td>11551.570</td>\n",
              "      <td>11520.000</td>\n",
              "      <td>11520.000</td>\n",
              "      <td>23.806</td>\n",
              "      <td>274731.257</td>\n",
              "      <td>11540.450</td>\n",
              "    </tr>\n",
              "  </tbody>\n",
              "</table>\n",
              "<p>2765819 rows × 7 columns</p>\n",
              "</div>"
            ],
            "text/plain": [
              "                         Open      High  ...  Volume_(Currency)  Weighted_Price\n",
              "Timestamp                                ...                                   \n",
              "2011-12-31 07:52:00     4.390     4.390  ...              2.000           4.390\n",
              "2011-12-31 15:50:00     4.390     4.390  ...            210.720           4.390\n",
              "2011-12-31 16:59:00     4.500     4.570  ...            171.380           4.526\n",
              "2011-12-31 17:00:00     4.580     4.580  ...             41.220           4.580\n",
              "2012-01-01 04:16:00     4.580     4.580  ...              6.879           4.580\n",
              "...                       ...       ...  ...                ...             ...\n",
              "2019-08-11 23:56:00 11555.570 11555.570  ...            425.909       11552.336\n",
              "2019-08-11 23:57:00 11553.490 11556.220  ...           7204.428       11555.521\n",
              "2019-08-11 23:58:00 11559.730 11561.220  ...           1838.731       11559.252\n",
              "2019-08-11 23:59:00 11559.730 11589.730  ...         187504.635       11575.639\n",
              "2019-08-12 00:00:00 11527.440 11551.570  ...         274731.257       11540.450\n",
              "\n",
              "[2765819 rows x 7 columns]"
            ]
          },
          "metadata": {
            "tags": []
          },
          "execution_count": 38
        }
      ]
    },
    {
      "cell_type": "code",
      "metadata": {
        "id": "mI-aKsaWjKrF",
        "colab": {
          "base_uri": "https://localhost:8080/",
          "height": 204
        },
        "outputId": "dc6ba76a-cb1d-42e4-986d-3402c5d5c7a7"
      },
      "source": [
        "btc = pd.read_csv('bitstampUSD_1-min_data_2012-01-01_to_2019-08-12.csv')\n",
        "btc.head()"
      ],
      "execution_count": null,
      "outputs": [
        {
          "output_type": "execute_result",
          "data": {
            "text/html": [
              "<div>\n",
              "<style scoped>\n",
              "    .dataframe tbody tr th:only-of-type {\n",
              "        vertical-align: middle;\n",
              "    }\n",
              "\n",
              "    .dataframe tbody tr th {\n",
              "        vertical-align: top;\n",
              "    }\n",
              "\n",
              "    .dataframe thead th {\n",
              "        text-align: right;\n",
              "    }\n",
              "</style>\n",
              "<table border=\"1\" class=\"dataframe\">\n",
              "  <thead>\n",
              "    <tr style=\"text-align: right;\">\n",
              "      <th></th>\n",
              "      <th>Timestamp</th>\n",
              "      <th>Open</th>\n",
              "      <th>High</th>\n",
              "      <th>Low</th>\n",
              "      <th>Close</th>\n",
              "      <th>Volume_(BTC)</th>\n",
              "      <th>Volume_(Currency)</th>\n",
              "      <th>Weighted_Price</th>\n",
              "    </tr>\n",
              "  </thead>\n",
              "  <tbody>\n",
              "    <tr>\n",
              "      <th>0</th>\n",
              "      <td>1325317920</td>\n",
              "      <td>4.390</td>\n",
              "      <td>4.390</td>\n",
              "      <td>4.390</td>\n",
              "      <td>4.390</td>\n",
              "      <td>0.456</td>\n",
              "      <td>2.000</td>\n",
              "      <td>4.390</td>\n",
              "    </tr>\n",
              "    <tr>\n",
              "      <th>1</th>\n",
              "      <td>1325317980</td>\n",
              "      <td>nan</td>\n",
              "      <td>nan</td>\n",
              "      <td>nan</td>\n",
              "      <td>nan</td>\n",
              "      <td>nan</td>\n",
              "      <td>nan</td>\n",
              "      <td>nan</td>\n",
              "    </tr>\n",
              "    <tr>\n",
              "      <th>2</th>\n",
              "      <td>1325318040</td>\n",
              "      <td>nan</td>\n",
              "      <td>nan</td>\n",
              "      <td>nan</td>\n",
              "      <td>nan</td>\n",
              "      <td>nan</td>\n",
              "      <td>nan</td>\n",
              "      <td>nan</td>\n",
              "    </tr>\n",
              "    <tr>\n",
              "      <th>3</th>\n",
              "      <td>1325318100</td>\n",
              "      <td>nan</td>\n",
              "      <td>nan</td>\n",
              "      <td>nan</td>\n",
              "      <td>nan</td>\n",
              "      <td>nan</td>\n",
              "      <td>nan</td>\n",
              "      <td>nan</td>\n",
              "    </tr>\n",
              "    <tr>\n",
              "      <th>4</th>\n",
              "      <td>1325318160</td>\n",
              "      <td>nan</td>\n",
              "      <td>nan</td>\n",
              "      <td>nan</td>\n",
              "      <td>nan</td>\n",
              "      <td>nan</td>\n",
              "      <td>nan</td>\n",
              "      <td>nan</td>\n",
              "    </tr>\n",
              "  </tbody>\n",
              "</table>\n",
              "</div>"
            ],
            "text/plain": [
              "    Timestamp  Open  High  ...  Volume_(BTC)  Volume_(Currency)  Weighted_Price\n",
              "0  1325317920 4.390 4.390  ...         0.456              2.000           4.390\n",
              "1  1325317980   nan   nan  ...           nan                nan             nan\n",
              "2  1325318040   nan   nan  ...           nan                nan             nan\n",
              "3  1325318100   nan   nan  ...           nan                nan             nan\n",
              "4  1325318160   nan   nan  ...           nan                nan             nan\n",
              "\n",
              "[5 rows x 8 columns]"
            ]
          },
          "metadata": {
            "tags": []
          },
          "execution_count": 3
        }
      ]
    },
    {
      "cell_type": "markdown",
      "metadata": {
        "id": "lCvSUFy2yC-F"
      },
      "source": [
        "Столбец **Timestamp** содержит странные числа - это специальный вид дат. Давайте преобразуем его к нормальному:"
      ]
    },
    {
      "cell_type": "code",
      "metadata": {
        "id": "m3WxyHvoyhs1",
        "colab": {
          "base_uri": "https://localhost:8080/",
          "height": 235
        },
        "outputId": "34ca7eb8-4b1a-4b56-8425-299b9c5e45e5"
      },
      "source": [
        "btc.index = btc['Timestamp'].apply(lambda x: datetime.datetime.fromtimestamp(x))\n",
        "del btc['Timestamp']\n",
        "btc.head()"
      ],
      "execution_count": null,
      "outputs": [
        {
          "output_type": "execute_result",
          "data": {
            "text/html": [
              "<div>\n",
              "<style scoped>\n",
              "    .dataframe tbody tr th:only-of-type {\n",
              "        vertical-align: middle;\n",
              "    }\n",
              "\n",
              "    .dataframe tbody tr th {\n",
              "        vertical-align: top;\n",
              "    }\n",
              "\n",
              "    .dataframe thead th {\n",
              "        text-align: right;\n",
              "    }\n",
              "</style>\n",
              "<table border=\"1\" class=\"dataframe\">\n",
              "  <thead>\n",
              "    <tr style=\"text-align: right;\">\n",
              "      <th></th>\n",
              "      <th>Open</th>\n",
              "      <th>High</th>\n",
              "      <th>Low</th>\n",
              "      <th>Close</th>\n",
              "      <th>Volume_(BTC)</th>\n",
              "      <th>Volume_(Currency)</th>\n",
              "      <th>Weighted_Price</th>\n",
              "    </tr>\n",
              "    <tr>\n",
              "      <th>Timestamp</th>\n",
              "      <th></th>\n",
              "      <th></th>\n",
              "      <th></th>\n",
              "      <th></th>\n",
              "      <th></th>\n",
              "      <th></th>\n",
              "      <th></th>\n",
              "    </tr>\n",
              "  </thead>\n",
              "  <tbody>\n",
              "    <tr>\n",
              "      <th>2011-12-31 07:52:00</th>\n",
              "      <td>4.390</td>\n",
              "      <td>4.390</td>\n",
              "      <td>4.390</td>\n",
              "      <td>4.390</td>\n",
              "      <td>0.456</td>\n",
              "      <td>2.000</td>\n",
              "      <td>4.390</td>\n",
              "    </tr>\n",
              "    <tr>\n",
              "      <th>2011-12-31 07:53:00</th>\n",
              "      <td>nan</td>\n",
              "      <td>nan</td>\n",
              "      <td>nan</td>\n",
              "      <td>nan</td>\n",
              "      <td>nan</td>\n",
              "      <td>nan</td>\n",
              "      <td>nan</td>\n",
              "    </tr>\n",
              "    <tr>\n",
              "      <th>2011-12-31 07:54:00</th>\n",
              "      <td>nan</td>\n",
              "      <td>nan</td>\n",
              "      <td>nan</td>\n",
              "      <td>nan</td>\n",
              "      <td>nan</td>\n",
              "      <td>nan</td>\n",
              "      <td>nan</td>\n",
              "    </tr>\n",
              "    <tr>\n",
              "      <th>2011-12-31 07:55:00</th>\n",
              "      <td>nan</td>\n",
              "      <td>nan</td>\n",
              "      <td>nan</td>\n",
              "      <td>nan</td>\n",
              "      <td>nan</td>\n",
              "      <td>nan</td>\n",
              "      <td>nan</td>\n",
              "    </tr>\n",
              "    <tr>\n",
              "      <th>2011-12-31 07:56:00</th>\n",
              "      <td>nan</td>\n",
              "      <td>nan</td>\n",
              "      <td>nan</td>\n",
              "      <td>nan</td>\n",
              "      <td>nan</td>\n",
              "      <td>nan</td>\n",
              "      <td>nan</td>\n",
              "    </tr>\n",
              "  </tbody>\n",
              "</table>\n",
              "</div>"
            ],
            "text/plain": [
              "                     Open  High  ...  Volume_(Currency)  Weighted_Price\n",
              "Timestamp                        ...                                   \n",
              "2011-12-31 07:52:00 4.390 4.390  ...              2.000           4.390\n",
              "2011-12-31 07:53:00   nan   nan  ...                nan             nan\n",
              "2011-12-31 07:54:00   nan   nan  ...                nan             nan\n",
              "2011-12-31 07:55:00   nan   nan  ...                nan             nan\n",
              "2011-12-31 07:56:00   nan   nan  ...                nan             nan\n",
              "\n",
              "[5 rows x 7 columns]"
            ]
          },
          "metadata": {
            "tags": []
          },
          "execution_count": 4
        }
      ]
    },
    {
      "cell_type": "markdown",
      "metadata": {
        "id": "ppjfNg3k87gP"
      },
      "source": [
        "У нас очень много неизвестных значений. Это связано с тем, что биткоин только начал свое развитие, и через его систему проводилось очень мало операций (это заметно и по цене биткоина в 4 доллара). Удалим их:"
      ]
    },
    {
      "cell_type": "code",
      "metadata": {
        "id": "-MMgmDgSFuJJ",
        "colab": {
          "base_uri": "https://localhost:8080/",
          "height": 235
        },
        "outputId": "57e95df5-82e3-4ad9-af1e-a6088a571a86"
      },
      "source": [
        "btc.dropna(inplace=True)\n",
        "btc.head()"
      ],
      "execution_count": null,
      "outputs": [
        {
          "output_type": "execute_result",
          "data": {
            "text/html": [
              "<div>\n",
              "<style scoped>\n",
              "    .dataframe tbody tr th:only-of-type {\n",
              "        vertical-align: middle;\n",
              "    }\n",
              "\n",
              "    .dataframe tbody tr th {\n",
              "        vertical-align: top;\n",
              "    }\n",
              "\n",
              "    .dataframe thead th {\n",
              "        text-align: right;\n",
              "    }\n",
              "</style>\n",
              "<table border=\"1\" class=\"dataframe\">\n",
              "  <thead>\n",
              "    <tr style=\"text-align: right;\">\n",
              "      <th></th>\n",
              "      <th>Open</th>\n",
              "      <th>High</th>\n",
              "      <th>Low</th>\n",
              "      <th>Close</th>\n",
              "      <th>Volume_(BTC)</th>\n",
              "      <th>Volume_(Currency)</th>\n",
              "      <th>Weighted_Price</th>\n",
              "    </tr>\n",
              "    <tr>\n",
              "      <th>Timestamp</th>\n",
              "      <th></th>\n",
              "      <th></th>\n",
              "      <th></th>\n",
              "      <th></th>\n",
              "      <th></th>\n",
              "      <th></th>\n",
              "      <th></th>\n",
              "    </tr>\n",
              "  </thead>\n",
              "  <tbody>\n",
              "    <tr>\n",
              "      <th>2011-12-31 07:52:00</th>\n",
              "      <td>4.390</td>\n",
              "      <td>4.390</td>\n",
              "      <td>4.390</td>\n",
              "      <td>4.390</td>\n",
              "      <td>0.456</td>\n",
              "      <td>2.000</td>\n",
              "      <td>4.390</td>\n",
              "    </tr>\n",
              "    <tr>\n",
              "      <th>2011-12-31 15:50:00</th>\n",
              "      <td>4.390</td>\n",
              "      <td>4.390</td>\n",
              "      <td>4.390</td>\n",
              "      <td>4.390</td>\n",
              "      <td>48.000</td>\n",
              "      <td>210.720</td>\n",
              "      <td>4.390</td>\n",
              "    </tr>\n",
              "    <tr>\n",
              "      <th>2011-12-31 16:59:00</th>\n",
              "      <td>4.500</td>\n",
              "      <td>4.570</td>\n",
              "      <td>4.500</td>\n",
              "      <td>4.570</td>\n",
              "      <td>37.862</td>\n",
              "      <td>171.380</td>\n",
              "      <td>4.526</td>\n",
              "    </tr>\n",
              "    <tr>\n",
              "      <th>2011-12-31 17:00:00</th>\n",
              "      <td>4.580</td>\n",
              "      <td>4.580</td>\n",
              "      <td>4.580</td>\n",
              "      <td>4.580</td>\n",
              "      <td>9.000</td>\n",
              "      <td>41.220</td>\n",
              "      <td>4.580</td>\n",
              "    </tr>\n",
              "    <tr>\n",
              "      <th>2012-01-01 04:16:00</th>\n",
              "      <td>4.580</td>\n",
              "      <td>4.580</td>\n",
              "      <td>4.580</td>\n",
              "      <td>4.580</td>\n",
              "      <td>1.502</td>\n",
              "      <td>6.879</td>\n",
              "      <td>4.580</td>\n",
              "    </tr>\n",
              "  </tbody>\n",
              "</table>\n",
              "</div>"
            ],
            "text/plain": [
              "                     Open  High  ...  Volume_(Currency)  Weighted_Price\n",
              "Timestamp                        ...                                   \n",
              "2011-12-31 07:52:00 4.390 4.390  ...              2.000           4.390\n",
              "2011-12-31 15:50:00 4.390 4.390  ...            210.720           4.390\n",
              "2011-12-31 16:59:00 4.500 4.570  ...            171.380           4.526\n",
              "2011-12-31 17:00:00 4.580 4.580  ...             41.220           4.580\n",
              "2012-01-01 04:16:00 4.580 4.580  ...              6.879           4.580\n",
              "\n",
              "[5 rows x 7 columns]"
            ]
          },
          "metadata": {
            "tags": []
          },
          "execution_count": 5
        }
      ]
    },
    {
      "cell_type": "markdown",
      "metadata": {
        "id": "HQW_vVbdF89h"
      },
      "source": [
        "\n",
        "Посмотрим последние данные в таблице:"
      ]
    },
    {
      "cell_type": "code",
      "metadata": {
        "id": "JgkXRmNmjV72",
        "colab": {
          "base_uri": "https://localhost:8080/",
          "height": 235
        },
        "outputId": "b72eb06f-e530-4e78-b9a9-ba76a7409c98"
      },
      "source": [
        "btc.tail()"
      ],
      "execution_count": null,
      "outputs": [
        {
          "output_type": "execute_result",
          "data": {
            "text/html": [
              "<div>\n",
              "<style scoped>\n",
              "    .dataframe tbody tr th:only-of-type {\n",
              "        vertical-align: middle;\n",
              "    }\n",
              "\n",
              "    .dataframe tbody tr th {\n",
              "        vertical-align: top;\n",
              "    }\n",
              "\n",
              "    .dataframe thead th {\n",
              "        text-align: right;\n",
              "    }\n",
              "</style>\n",
              "<table border=\"1\" class=\"dataframe\">\n",
              "  <thead>\n",
              "    <tr style=\"text-align: right;\">\n",
              "      <th></th>\n",
              "      <th>Open</th>\n",
              "      <th>High</th>\n",
              "      <th>Low</th>\n",
              "      <th>Close</th>\n",
              "      <th>Volume_(BTC)</th>\n",
              "      <th>Volume_(Currency)</th>\n",
              "      <th>Weighted_Price</th>\n",
              "    </tr>\n",
              "    <tr>\n",
              "      <th>Timestamp</th>\n",
              "      <th></th>\n",
              "      <th></th>\n",
              "      <th></th>\n",
              "      <th></th>\n",
              "      <th></th>\n",
              "      <th></th>\n",
              "      <th></th>\n",
              "    </tr>\n",
              "  </thead>\n",
              "  <tbody>\n",
              "    <tr>\n",
              "      <th>2019-08-11 23:56:00</th>\n",
              "      <td>11555.570</td>\n",
              "      <td>11555.570</td>\n",
              "      <td>11540.370</td>\n",
              "      <td>11540.580</td>\n",
              "      <td>0.037</td>\n",
              "      <td>425.909</td>\n",
              "      <td>11552.336</td>\n",
              "    </tr>\n",
              "    <tr>\n",
              "      <th>2019-08-11 23:57:00</th>\n",
              "      <td>11553.490</td>\n",
              "      <td>11556.220</td>\n",
              "      <td>11553.490</td>\n",
              "      <td>11556.220</td>\n",
              "      <td>0.623</td>\n",
              "      <td>7204.428</td>\n",
              "      <td>11555.521</td>\n",
              "    </tr>\n",
              "    <tr>\n",
              "      <th>2019-08-11 23:58:00</th>\n",
              "      <td>11559.730</td>\n",
              "      <td>11561.220</td>\n",
              "      <td>11546.770</td>\n",
              "      <td>11561.220</td>\n",
              "      <td>0.159</td>\n",
              "      <td>1838.731</td>\n",
              "      <td>11559.252</td>\n",
              "    </tr>\n",
              "    <tr>\n",
              "      <th>2019-08-11 23:59:00</th>\n",
              "      <td>11559.730</td>\n",
              "      <td>11589.730</td>\n",
              "      <td>11528.730</td>\n",
              "      <td>11528.730</td>\n",
              "      <td>16.198</td>\n",
              "      <td>187504.635</td>\n",
              "      <td>11575.639</td>\n",
              "    </tr>\n",
              "    <tr>\n",
              "      <th>2019-08-12 00:00:00</th>\n",
              "      <td>11527.440</td>\n",
              "      <td>11551.570</td>\n",
              "      <td>11520.000</td>\n",
              "      <td>11520.000</td>\n",
              "      <td>23.806</td>\n",
              "      <td>274731.257</td>\n",
              "      <td>11540.450</td>\n",
              "    </tr>\n",
              "  </tbody>\n",
              "</table>\n",
              "</div>"
            ],
            "text/plain": [
              "                         Open      High  ...  Volume_(Currency)  Weighted_Price\n",
              "Timestamp                                ...                                   \n",
              "2019-08-11 23:56:00 11555.570 11555.570  ...            425.909       11552.336\n",
              "2019-08-11 23:57:00 11553.490 11556.220  ...           7204.428       11555.521\n",
              "2019-08-11 23:58:00 11559.730 11561.220  ...           1838.731       11559.252\n",
              "2019-08-11 23:59:00 11559.730 11589.730  ...         187504.635       11575.639\n",
              "2019-08-12 00:00:00 11527.440 11551.570  ...         274731.257       11540.450\n",
              "\n",
              "[5 rows x 7 columns]"
            ]
          },
          "metadata": {
            "tags": []
          },
          "execution_count": 6
        }
      ]
    },
    {
      "cell_type": "markdown",
      "metadata": {
        "id": "Tfkyzr39-aFO"
      },
      "source": [
        "По всей таблице можно посчитать статистики:"
      ]
    },
    {
      "cell_type": "code",
      "metadata": {
        "id": "5-W23ERL-tar",
        "colab": {
          "base_uri": "https://localhost:8080/",
          "height": 297
        },
        "outputId": "71e74f54-41b1-43f1-e172-a49d301cdc40"
      },
      "source": [
        "btc.describe()"
      ],
      "execution_count": null,
      "outputs": [
        {
          "output_type": "execute_result",
          "data": {
            "text/html": [
              "<div>\n",
              "<style scoped>\n",
              "    .dataframe tbody tr th:only-of-type {\n",
              "        vertical-align: middle;\n",
              "    }\n",
              "\n",
              "    .dataframe tbody tr th {\n",
              "        vertical-align: top;\n",
              "    }\n",
              "\n",
              "    .dataframe thead th {\n",
              "        text-align: right;\n",
              "    }\n",
              "</style>\n",
              "<table border=\"1\" class=\"dataframe\">\n",
              "  <thead>\n",
              "    <tr style=\"text-align: right;\">\n",
              "      <th></th>\n",
              "      <th>Open</th>\n",
              "      <th>High</th>\n",
              "      <th>Low</th>\n",
              "      <th>Close</th>\n",
              "      <th>Volume_(BTC)</th>\n",
              "      <th>Volume_(Currency)</th>\n",
              "      <th>Weighted_Price</th>\n",
              "    </tr>\n",
              "  </thead>\n",
              "  <tbody>\n",
              "    <tr>\n",
              "      <th>count</th>\n",
              "      <td>2765819.000</td>\n",
              "      <td>2765819.000</td>\n",
              "      <td>2765819.000</td>\n",
              "      <td>2765819.000</td>\n",
              "      <td>2765819.000</td>\n",
              "      <td>2765819.000</td>\n",
              "      <td>2765819.000</td>\n",
              "    </tr>\n",
              "    <tr>\n",
              "      <th>mean</th>\n",
              "      <td>3059.659</td>\n",
              "      <td>3062.027</td>\n",
              "      <td>3057.022</td>\n",
              "      <td>3059.638</td>\n",
              "      <td>10.422</td>\n",
              "      <td>26868.120</td>\n",
              "      <td>3059.499</td>\n",
              "    </tr>\n",
              "    <tr>\n",
              "      <th>std</th>\n",
              "      <td>3741.168</td>\n",
              "      <td>3744.835</td>\n",
              "      <td>3736.985</td>\n",
              "      <td>3741.134</td>\n",
              "      <td>33.750</td>\n",
              "      <td>96204.249</td>\n",
              "      <td>3740.910</td>\n",
              "    </tr>\n",
              "    <tr>\n",
              "      <th>min</th>\n",
              "      <td>3.800</td>\n",
              "      <td>3.800</td>\n",
              "      <td>1.500</td>\n",
              "      <td>1.500</td>\n",
              "      <td>0.000</td>\n",
              "      <td>0.000</td>\n",
              "      <td>3.800</td>\n",
              "    </tr>\n",
              "    <tr>\n",
              "      <th>25%</th>\n",
              "      <td>374.270</td>\n",
              "      <td>374.520</td>\n",
              "      <td>374.000</td>\n",
              "      <td>374.250</td>\n",
              "      <td>0.453</td>\n",
              "      <td>286.551</td>\n",
              "      <td>374.243</td>\n",
              "    </tr>\n",
              "    <tr>\n",
              "      <th>50%</th>\n",
              "      <td>779.450</td>\n",
              "      <td>779.910</td>\n",
              "      <td>779.010</td>\n",
              "      <td>779.490</td>\n",
              "      <td>2.100</td>\n",
              "      <td>2209.966</td>\n",
              "      <td>779.414</td>\n",
              "    </tr>\n",
              "    <tr>\n",
              "      <th>75%</th>\n",
              "      <td>5635.745</td>\n",
              "      <td>5639.500</td>\n",
              "      <td>5631.100</td>\n",
              "      <td>5635.355</td>\n",
              "      <td>8.179</td>\n",
              "      <td>15546.886</td>\n",
              "      <td>5635.118</td>\n",
              "    </tr>\n",
              "    <tr>\n",
              "      <th>max</th>\n",
              "      <td>19665.760</td>\n",
              "      <td>19666.000</td>\n",
              "      <td>19649.960</td>\n",
              "      <td>19665.750</td>\n",
              "      <td>5853.852</td>\n",
              "      <td>7569437.061</td>\n",
              "      <td>19663.299</td>\n",
              "    </tr>\n",
              "  </tbody>\n",
              "</table>\n",
              "</div>"
            ],
            "text/plain": [
              "             Open        High  ...  Volume_(Currency)  Weighted_Price\n",
              "count 2765819.000 2765819.000  ...        2765819.000     2765819.000\n",
              "mean     3059.659    3062.027  ...          26868.120        3059.499\n",
              "std      3741.168    3744.835  ...          96204.249        3740.910\n",
              "min         3.800       3.800  ...              0.000           3.800\n",
              "25%       374.270     374.520  ...            286.551         374.243\n",
              "50%       779.450     779.910  ...           2209.966         779.414\n",
              "75%      5635.745    5639.500  ...          15546.886        5635.118\n",
              "max     19665.760   19666.000  ...        7569437.061       19663.299\n",
              "\n",
              "[8 rows x 7 columns]"
            ]
          },
          "metadata": {
            "tags": []
          },
          "execution_count": 7
        }
      ]
    },
    {
      "cell_type": "markdown",
      "metadata": {
        "id": "2mDUN6nn_hq3"
      },
      "source": [
        "Отсюда понимаем, что максимальная цена биткоина была **\\$19666**, а минимальная - **\\$3.8**. Медиана - **\\$779.91**."
      ]
    },
    {
      "cell_type": "markdown",
      "metadata": {
        "id": "6fc4cGpFESIP"
      },
      "source": [
        "Их можно посчитать и отдельно по каждому столбцу:"
      ]
    },
    {
      "cell_type": "code",
      "metadata": {
        "id": "ndiK5VQlENe_",
        "colab": {
          "base_uri": "https://localhost:8080/",
          "height": 34
        },
        "outputId": "cd620a66-c14e-43aa-c9e5-a04d6460bc16"
      },
      "source": [
        "btc['High'].max()"
      ],
      "execution_count": null,
      "outputs": [
        {
          "output_type": "execute_result",
          "data": {
            "text/plain": [
              "19666.0"
            ]
          },
          "metadata": {
            "tags": []
          },
          "execution_count": 8
        }
      ]
    },
    {
      "cell_type": "code",
      "metadata": {
        "id": "yA6ruOQiEWpe",
        "colab": {
          "base_uri": "https://localhost:8080/",
          "height": 34
        },
        "outputId": "21704b47-4eb3-4c36-a6e7-321aad84464e"
      },
      "source": [
        "btc['High'].median()"
      ],
      "execution_count": null,
      "outputs": [
        {
          "output_type": "execute_result",
          "data": {
            "text/plain": [
              "779.91"
            ]
          },
          "metadata": {
            "tags": []
          },
          "execution_count": 9
        }
      ]
    },
    {
      "cell_type": "markdown",
      "metadata": {
        "id": "dQQoZjKcEeLq"
      },
      "source": [
        "И по всей таблице целиком:"
      ]
    },
    {
      "cell_type": "code",
      "metadata": {
        "id": "wPTMmdYqEasL",
        "colab": {
          "base_uri": "https://localhost:8080/",
          "height": 153
        },
        "outputId": "e4f3beea-97b5-4b65-b52f-8e79bff3648b"
      },
      "source": [
        "btc.min()"
      ],
      "execution_count": null,
      "outputs": [
        {
          "output_type": "execute_result",
          "data": {
            "text/plain": [
              "Open                3.800\n",
              "High                3.800\n",
              "Low                 1.500\n",
              "Close               1.500\n",
              "Volume_(BTC)        0.000\n",
              "Volume_(Currency)   0.000\n",
              "Weighted_Price      3.800\n",
              "dtype: float64"
            ]
          },
          "metadata": {
            "tags": []
          },
          "execution_count": 10
        }
      ]
    },
    {
      "cell_type": "code",
      "metadata": {
        "id": "lLoc_sBbAlBD",
        "colab": {
          "base_uri": "https://localhost:8080/",
          "height": 266
        },
        "outputId": "607812b9-9759-4740-8a41-dce4c20a6881"
      },
      "source": [
        "btc.corr()"
      ],
      "execution_count": null,
      "outputs": [
        {
          "output_type": "execute_result",
          "data": {
            "text/html": [
              "<div>\n",
              "<style scoped>\n",
              "    .dataframe tbody tr th:only-of-type {\n",
              "        vertical-align: middle;\n",
              "    }\n",
              "\n",
              "    .dataframe tbody tr th {\n",
              "        vertical-align: top;\n",
              "    }\n",
              "\n",
              "    .dataframe thead th {\n",
              "        text-align: right;\n",
              "    }\n",
              "</style>\n",
              "<table border=\"1\" class=\"dataframe\">\n",
              "  <thead>\n",
              "    <tr style=\"text-align: right;\">\n",
              "      <th></th>\n",
              "      <th>Open</th>\n",
              "      <th>High</th>\n",
              "      <th>Low</th>\n",
              "      <th>Close</th>\n",
              "      <th>Volume_(BTC)</th>\n",
              "      <th>Volume_(Currency)</th>\n",
              "      <th>Weighted_Price</th>\n",
              "    </tr>\n",
              "  </thead>\n",
              "  <tbody>\n",
              "    <tr>\n",
              "      <th>Open</th>\n",
              "      <td>1.000</td>\n",
              "      <td>1.000</td>\n",
              "      <td>1.000</td>\n",
              "      <td>1.000</td>\n",
              "      <td>-0.040</td>\n",
              "      <td>0.362</td>\n",
              "      <td>1.000</td>\n",
              "    </tr>\n",
              "    <tr>\n",
              "      <th>High</th>\n",
              "      <td>1.000</td>\n",
              "      <td>1.000</td>\n",
              "      <td>1.000</td>\n",
              "      <td>1.000</td>\n",
              "      <td>-0.039</td>\n",
              "      <td>0.362</td>\n",
              "      <td>1.000</td>\n",
              "    </tr>\n",
              "    <tr>\n",
              "      <th>Low</th>\n",
              "      <td>1.000</td>\n",
              "      <td>1.000</td>\n",
              "      <td>1.000</td>\n",
              "      <td>1.000</td>\n",
              "      <td>-0.040</td>\n",
              "      <td>0.361</td>\n",
              "      <td>1.000</td>\n",
              "    </tr>\n",
              "    <tr>\n",
              "      <th>Close</th>\n",
              "      <td>1.000</td>\n",
              "      <td>1.000</td>\n",
              "      <td>1.000</td>\n",
              "      <td>1.000</td>\n",
              "      <td>-0.040</td>\n",
              "      <td>0.362</td>\n",
              "      <td>1.000</td>\n",
              "    </tr>\n",
              "    <tr>\n",
              "      <th>Volume_(BTC)</th>\n",
              "      <td>-0.040</td>\n",
              "      <td>-0.039</td>\n",
              "      <td>-0.040</td>\n",
              "      <td>-0.040</td>\n",
              "      <td>1.000</td>\n",
              "      <td>0.396</td>\n",
              "      <td>-0.040</td>\n",
              "    </tr>\n",
              "    <tr>\n",
              "      <th>Volume_(Currency)</th>\n",
              "      <td>0.362</td>\n",
              "      <td>0.362</td>\n",
              "      <td>0.361</td>\n",
              "      <td>0.362</td>\n",
              "      <td>0.396</td>\n",
              "      <td>1.000</td>\n",
              "      <td>0.362</td>\n",
              "    </tr>\n",
              "    <tr>\n",
              "      <th>Weighted_Price</th>\n",
              "      <td>1.000</td>\n",
              "      <td>1.000</td>\n",
              "      <td>1.000</td>\n",
              "      <td>1.000</td>\n",
              "      <td>-0.040</td>\n",
              "      <td>0.362</td>\n",
              "      <td>1.000</td>\n",
              "    </tr>\n",
              "  </tbody>\n",
              "</table>\n",
              "</div>"
            ],
            "text/plain": [
              "                    Open   High  ...  Volume_(Currency)  Weighted_Price\n",
              "Open               1.000  1.000  ...              0.362           1.000\n",
              "High               1.000  1.000  ...              0.362           1.000\n",
              "Low                1.000  1.000  ...              0.361           1.000\n",
              "Close              1.000  1.000  ...              0.362           1.000\n",
              "Volume_(BTC)      -0.040 -0.039  ...              0.396          -0.040\n",
              "Volume_(Currency)  0.362  0.362  ...              1.000           0.362\n",
              "Weighted_Price     1.000  1.000  ...              0.362           1.000\n",
              "\n",
              "[7 rows x 7 columns]"
            ]
          },
          "metadata": {
            "tags": []
          },
          "execution_count": 11
        }
      ]
    },
    {
      "cell_type": "markdown",
      "metadata": {
        "id": "mmxJ9X2cAuO0"
      },
      "source": [
        "По корреляции мы мало что можем сказать. Хотя была бы интересна зависимость от цены и объемами покупки.\n"
      ]
    },
    {
      "cell_type": "markdown",
      "metadata": {
        "id": "7qY322qTCNBA"
      },
      "source": [
        "Pandas позволяет фильтровать определенные данные:"
      ]
    },
    {
      "cell_type": "code",
      "metadata": {
        "id": "PDfMANA7Brqu",
        "colab": {
          "base_uri": "https://localhost:8080/",
          "height": 235
        },
        "outputId": "c2d230d4-c807-4e1a-cb93-2e2a39941de1"
      },
      "source": [
        "btc[btc['Weighted_Price']>2000].head()     # Выберем строки, где общая цена покупки более $2000"
      ],
      "execution_count": null,
      "outputs": [
        {
          "output_type": "execute_result",
          "data": {
            "text/html": [
              "<div>\n",
              "<style scoped>\n",
              "    .dataframe tbody tr th:only-of-type {\n",
              "        vertical-align: middle;\n",
              "    }\n",
              "\n",
              "    .dataframe tbody tr th {\n",
              "        vertical-align: top;\n",
              "    }\n",
              "\n",
              "    .dataframe thead th {\n",
              "        text-align: right;\n",
              "    }\n",
              "</style>\n",
              "<table border=\"1\" class=\"dataframe\">\n",
              "  <thead>\n",
              "    <tr style=\"text-align: right;\">\n",
              "      <th></th>\n",
              "      <th>Open</th>\n",
              "      <th>High</th>\n",
              "      <th>Low</th>\n",
              "      <th>Close</th>\n",
              "      <th>Volume_(BTC)</th>\n",
              "      <th>Volume_(Currency)</th>\n",
              "      <th>Weighted_Price</th>\n",
              "    </tr>\n",
              "    <tr>\n",
              "      <th>Timestamp</th>\n",
              "      <th></th>\n",
              "      <th></th>\n",
              "      <th></th>\n",
              "      <th></th>\n",
              "      <th></th>\n",
              "      <th></th>\n",
              "      <th></th>\n",
              "    </tr>\n",
              "  </thead>\n",
              "  <tbody>\n",
              "    <tr>\n",
              "      <th>2017-05-20 22:59:00</th>\n",
              "      <td>2000.000</td>\n",
              "      <td>2004.000</td>\n",
              "      <td>1999.600</td>\n",
              "      <td>1999.600</td>\n",
              "      <td>205.157</td>\n",
              "      <td>410349.574</td>\n",
              "      <td>2000.170</td>\n",
              "    </tr>\n",
              "    <tr>\n",
              "      <th>2017-05-20 23:00:00</th>\n",
              "      <td>2004.000</td>\n",
              "      <td>2008.000</td>\n",
              "      <td>2001.990</td>\n",
              "      <td>2005.450</td>\n",
              "      <td>22.815</td>\n",
              "      <td>45752.828</td>\n",
              "      <td>2005.394</td>\n",
              "    </tr>\n",
              "    <tr>\n",
              "      <th>2017-05-20 23:01:00</th>\n",
              "      <td>2007.000</td>\n",
              "      <td>2010.000</td>\n",
              "      <td>2005.450</td>\n",
              "      <td>2010.000</td>\n",
              "      <td>21.909</td>\n",
              "      <td>43993.707</td>\n",
              "      <td>2008.031</td>\n",
              "    </tr>\n",
              "    <tr>\n",
              "      <th>2017-05-20 23:02:00</th>\n",
              "      <td>2008.950</td>\n",
              "      <td>2014.300</td>\n",
              "      <td>2004.970</td>\n",
              "      <td>2004.970</td>\n",
              "      <td>28.773</td>\n",
              "      <td>57857.905</td>\n",
              "      <td>2010.814</td>\n",
              "    </tr>\n",
              "    <tr>\n",
              "      <th>2017-05-20 23:03:00</th>\n",
              "      <td>2004.970</td>\n",
              "      <td>2014.560</td>\n",
              "      <td>2004.970</td>\n",
              "      <td>2007.400</td>\n",
              "      <td>37.454</td>\n",
              "      <td>75402.027</td>\n",
              "      <td>2013.169</td>\n",
              "    </tr>\n",
              "  </tbody>\n",
              "</table>\n",
              "</div>"
            ],
            "text/plain": [
              "                        Open     High  ...  Volume_(Currency)  Weighted_Price\n",
              "Timestamp                              ...                                   \n",
              "2017-05-20 22:59:00 2000.000 2004.000  ...         410349.574        2000.170\n",
              "2017-05-20 23:00:00 2004.000 2008.000  ...          45752.828        2005.394\n",
              "2017-05-20 23:01:00 2007.000 2010.000  ...          43993.707        2008.031\n",
              "2017-05-20 23:02:00 2008.950 2014.300  ...          57857.905        2010.814\n",
              "2017-05-20 23:03:00 2004.970 2014.560  ...          75402.027        2013.169\n",
              "\n",
              "[5 rows x 7 columns]"
            ]
          },
          "metadata": {
            "tags": []
          },
          "execution_count": 12
        }
      ]
    },
    {
      "cell_type": "markdown",
      "metadata": {
        "id": "FFTBbKHtCbC9"
      },
      "source": [
        "Отсюда видим, что впервые это случилось в 2017 году."
      ]
    },
    {
      "cell_type": "markdown",
      "metadata": {
        "id": "WZieqF2qDQyA"
      },
      "source": [
        "Допустим, мы хотим узнать, сколько стоил биткоин в рублях в каждый конкретный момент времени. Для этого были выгружены настоящие данные по курсу валют по годам. Т.к. файлов много, а таблицу нужно одну, объединим все:"
      ]
    },
    {
      "cell_type": "code",
      "metadata": {
        "id": "HsTHF8UXRsh4",
        "colab": {
          "base_uri": "https://localhost:8080/",
          "height": 204
        },
        "outputId": "8096fa76-06bb-41b4-f3da-513fc7b808a6"
      },
      "source": [
        "usd_rub = pd.read_csv('USDRUB_' + str(11) + '0101_' + str(11) + '1231.csv')\n",
        "\n",
        "for year in range(12, 19):\n",
        "    table = pd.read_csv('USDRUB_' + str(year) + '0101_' + str(year) + '1231.csv')\n",
        "    usd_rub = pd.concat([usd_rub, table])\n",
        "    \n",
        "table = pd.read_csv('USDRUB_190101_190812.csv')\n",
        "usd_rub = pd.concat([usd_rub, table])\n",
        "usd_rub.head()"
      ],
      "execution_count": null,
      "outputs": [
        {
          "output_type": "execute_result",
          "data": {
            "text/html": [
              "<div>\n",
              "<style scoped>\n",
              "    .dataframe tbody tr th:only-of-type {\n",
              "        vertical-align: middle;\n",
              "    }\n",
              "\n",
              "    .dataframe tbody tr th {\n",
              "        vertical-align: top;\n",
              "    }\n",
              "\n",
              "    .dataframe thead th {\n",
              "        text-align: right;\n",
              "    }\n",
              "</style>\n",
              "<table border=\"1\" class=\"dataframe\">\n",
              "  <thead>\n",
              "    <tr style=\"text-align: right;\">\n",
              "      <th></th>\n",
              "      <th>&lt;TICKER&gt;</th>\n",
              "      <th>&lt;PER&gt;</th>\n",
              "      <th>&lt;DATE&gt;</th>\n",
              "      <th>&lt;TIME&gt;</th>\n",
              "      <th>&lt;OPEN&gt;</th>\n",
              "      <th>&lt;HIGH&gt;</th>\n",
              "      <th>&lt;LOW&gt;</th>\n",
              "      <th>&lt;CLOSE&gt;</th>\n",
              "      <th>&lt;VOL&gt;</th>\n",
              "    </tr>\n",
              "  </thead>\n",
              "  <tbody>\n",
              "    <tr>\n",
              "      <th>0</th>\n",
              "      <td>USDRUB</td>\n",
              "      <td>1</td>\n",
              "      <td>20110101</td>\n",
              "      <td>100</td>\n",
              "      <td>30.560</td>\n",
              "      <td>30.560</td>\n",
              "      <td>30.560</td>\n",
              "      <td>30.560</td>\n",
              "      <td>0</td>\n",
              "    </tr>\n",
              "    <tr>\n",
              "      <th>1</th>\n",
              "      <td>USDRUB</td>\n",
              "      <td>1</td>\n",
              "      <td>20110101</td>\n",
              "      <td>300</td>\n",
              "      <td>30.520</td>\n",
              "      <td>30.520</td>\n",
              "      <td>30.520</td>\n",
              "      <td>30.520</td>\n",
              "      <td>0</td>\n",
              "    </tr>\n",
              "    <tr>\n",
              "      <th>2</th>\n",
              "      <td>USDRUB</td>\n",
              "      <td>1</td>\n",
              "      <td>20110101</td>\n",
              "      <td>1100</td>\n",
              "      <td>30.550</td>\n",
              "      <td>30.550</td>\n",
              "      <td>30.550</td>\n",
              "      <td>30.550</td>\n",
              "      <td>0</td>\n",
              "    </tr>\n",
              "    <tr>\n",
              "      <th>3</th>\n",
              "      <td>USDRUB</td>\n",
              "      <td>1</td>\n",
              "      <td>20110101</td>\n",
              "      <td>3100</td>\n",
              "      <td>30.550</td>\n",
              "      <td>30.550</td>\n",
              "      <td>30.550</td>\n",
              "      <td>30.550</td>\n",
              "      <td>0</td>\n",
              "    </tr>\n",
              "    <tr>\n",
              "      <th>4</th>\n",
              "      <td>USDRUB</td>\n",
              "      <td>1</td>\n",
              "      <td>20110101</td>\n",
              "      <td>3200</td>\n",
              "      <td>30.520</td>\n",
              "      <td>30.520</td>\n",
              "      <td>30.520</td>\n",
              "      <td>30.520</td>\n",
              "      <td>0</td>\n",
              "    </tr>\n",
              "  </tbody>\n",
              "</table>\n",
              "</div>"
            ],
            "text/plain": [
              "  <TICKER>  <PER>    <DATE>  <TIME>  <OPEN>  <HIGH>  <LOW>  <CLOSE>  <VOL>\n",
              "0   USDRUB      1  20110101     100  30.560  30.560 30.560   30.560      0\n",
              "1   USDRUB      1  20110101     300  30.520  30.520 30.520   30.520      0\n",
              "2   USDRUB      1  20110101    1100  30.550  30.550 30.550   30.550      0\n",
              "3   USDRUB      1  20110101    3100  30.550  30.550 30.550   30.550      0\n",
              "4   USDRUB      1  20110101    3200  30.520  30.520 30.520   30.520      0"
            ]
          },
          "metadata": {
            "tags": []
          },
          "execution_count": 13
        }
      ]
    },
    {
      "cell_type": "markdown",
      "metadata": {
        "id": "lwt-qz44_F4d"
      },
      "source": [
        "Выше данные по курсу в начале 2011 года. Посмотрим, что было в августе 2019 (данные по биткоину ограничены им)."
      ]
    },
    {
      "cell_type": "code",
      "metadata": {
        "id": "kv0xYpqiS-E1",
        "colab": {
          "base_uri": "https://localhost:8080/",
          "height": 204
        },
        "outputId": "0e5afc37-f176-4519-d237-e41676dbacd3"
      },
      "source": [
        "usd_rub.tail()"
      ],
      "execution_count": null,
      "outputs": [
        {
          "output_type": "execute_result",
          "data": {
            "text/html": [
              "<div>\n",
              "<style scoped>\n",
              "    .dataframe tbody tr th:only-of-type {\n",
              "        vertical-align: middle;\n",
              "    }\n",
              "\n",
              "    .dataframe tbody tr th {\n",
              "        vertical-align: top;\n",
              "    }\n",
              "\n",
              "    .dataframe thead th {\n",
              "        text-align: right;\n",
              "    }\n",
              "</style>\n",
              "<table border=\"1\" class=\"dataframe\">\n",
              "  <thead>\n",
              "    <tr style=\"text-align: right;\">\n",
              "      <th></th>\n",
              "      <th>&lt;TICKER&gt;</th>\n",
              "      <th>&lt;PER&gt;</th>\n",
              "      <th>&lt;DATE&gt;</th>\n",
              "      <th>&lt;TIME&gt;</th>\n",
              "      <th>&lt;OPEN&gt;</th>\n",
              "      <th>&lt;HIGH&gt;</th>\n",
              "      <th>&lt;LOW&gt;</th>\n",
              "      <th>&lt;CLOSE&gt;</th>\n",
              "      <th>&lt;VOL&gt;</th>\n",
              "    </tr>\n",
              "  </thead>\n",
              "  <tbody>\n",
              "    <tr>\n",
              "      <th>221910</th>\n",
              "      <td>USDRUB</td>\n",
              "      <td>1</td>\n",
              "      <td>20190812</td>\n",
              "      <td>235700</td>\n",
              "      <td>65.378</td>\n",
              "      <td>65.423</td>\n",
              "      <td>65.376</td>\n",
              "      <td>65.411</td>\n",
              "      <td>13</td>\n",
              "    </tr>\n",
              "    <tr>\n",
              "      <th>221911</th>\n",
              "      <td>USDRUB</td>\n",
              "      <td>1</td>\n",
              "      <td>20190812</td>\n",
              "      <td>235800</td>\n",
              "      <td>65.376</td>\n",
              "      <td>65.431</td>\n",
              "      <td>65.376</td>\n",
              "      <td>65.380</td>\n",
              "      <td>13</td>\n",
              "    </tr>\n",
              "    <tr>\n",
              "      <th>221912</th>\n",
              "      <td>USDRUB</td>\n",
              "      <td>1</td>\n",
              "      <td>20190812</td>\n",
              "      <td>235900</td>\n",
              "      <td>65.421</td>\n",
              "      <td>65.426</td>\n",
              "      <td>65.421</td>\n",
              "      <td>65.421</td>\n",
              "      <td>8</td>\n",
              "    </tr>\n",
              "    <tr>\n",
              "      <th>221913</th>\n",
              "      <td>USDRUB</td>\n",
              "      <td>1</td>\n",
              "      <td>20190813</td>\n",
              "      <td>0</td>\n",
              "      <td>65.446</td>\n",
              "      <td>65.446</td>\n",
              "      <td>65.399</td>\n",
              "      <td>65.414</td>\n",
              "      <td>27</td>\n",
              "    </tr>\n",
              "    <tr>\n",
              "      <th>221914</th>\n",
              "      <td>USDRUB</td>\n",
              "      <td>1</td>\n",
              "      <td>20190813</td>\n",
              "      <td>100</td>\n",
              "      <td>65.418</td>\n",
              "      <td>65.476</td>\n",
              "      <td>65.387</td>\n",
              "      <td>65.467</td>\n",
              "      <td>9</td>\n",
              "    </tr>\n",
              "  </tbody>\n",
              "</table>\n",
              "</div>"
            ],
            "text/plain": [
              "       <TICKER>  <PER>    <DATE>  <TIME>  <OPEN>  <HIGH>  <LOW>  <CLOSE>  <VOL>\n",
              "221910   USDRUB      1  20190812  235700  65.378  65.423 65.376   65.411     13\n",
              "221911   USDRUB      1  20190812  235800  65.376  65.431 65.376   65.380     13\n",
              "221912   USDRUB      1  20190812  235900  65.421  65.426 65.421   65.421      8\n",
              "221913   USDRUB      1  20190813       0  65.446  65.446 65.399   65.414     27\n",
              "221914   USDRUB      1  20190813     100  65.418  65.476 65.387   65.467      9"
            ]
          },
          "metadata": {
            "tags": []
          },
          "execution_count": 14
        }
      ]
    },
    {
      "cell_type": "markdown",
      "metadata": {
        "id": "oWrIqHEH_ddo"
      },
      "source": [
        "Два столбца **\\<DATE>** и **\\<TIME>** хранят в числовом формате дату и время, их надо объединить, преобразовать к внутреннему типу **datetime** и сделать индексами."
      ]
    },
    {
      "cell_type": "code",
      "metadata": {
        "id": "J77XmSjLW_2X",
        "colab": {
          "base_uri": "https://localhost:8080/",
          "height": 235
        },
        "outputId": "3d5800cd-8632-4d6a-a826-4352882dcb54"
      },
      "source": [
        "usd_rub['<DATE>'] = usd_rub['<DATE>'].astype(str)\n",
        "usd_rub['<TIME>'] = usd_rub['<TIME>'].astype(str)\n",
        "\n",
        "def create_time(s):\n",
        "    s = '0'*(6-len(s)) + s\n",
        "    s = ' ' + s[:2] + ':' + s[2:4] + ':' + s[4:]\n",
        "    return s\n",
        "\n",
        "def create_date(s):\n",
        "    s = s[:4] + '-' + s[4:6] + '-' + s[6:]\n",
        "    return s\n",
        "\n",
        "usd_rub['<TIME>'] = usd_rub['<TIME>'].apply(create_time)\n",
        "usd_rub['<DATE>'] = usd_rub['<DATE>'].apply(create_date)\n",
        "\n",
        "\n",
        "usd_rub['<DATETIME>'] = usd_rub['<DATE>'] + usd_rub['<TIME>']\n",
        "usd_rub.index = usd_rub['<DATETIME>'].apply(lambda x: datetime.datetime.strptime(x, '%Y-%m-%d %H:%M:%S'))\n",
        "\n",
        "usd_rub.head()"
      ],
      "execution_count": null,
      "outputs": [
        {
          "output_type": "execute_result",
          "data": {
            "text/html": [
              "<div>\n",
              "<style scoped>\n",
              "    .dataframe tbody tr th:only-of-type {\n",
              "        vertical-align: middle;\n",
              "    }\n",
              "\n",
              "    .dataframe tbody tr th {\n",
              "        vertical-align: top;\n",
              "    }\n",
              "\n",
              "    .dataframe thead th {\n",
              "        text-align: right;\n",
              "    }\n",
              "</style>\n",
              "<table border=\"1\" class=\"dataframe\">\n",
              "  <thead>\n",
              "    <tr style=\"text-align: right;\">\n",
              "      <th></th>\n",
              "      <th>&lt;TICKER&gt;</th>\n",
              "      <th>&lt;PER&gt;</th>\n",
              "      <th>&lt;DATE&gt;</th>\n",
              "      <th>&lt;TIME&gt;</th>\n",
              "      <th>&lt;OPEN&gt;</th>\n",
              "      <th>&lt;HIGH&gt;</th>\n",
              "      <th>&lt;LOW&gt;</th>\n",
              "      <th>&lt;CLOSE&gt;</th>\n",
              "      <th>&lt;VOL&gt;</th>\n",
              "      <th>&lt;DATETIME&gt;</th>\n",
              "    </tr>\n",
              "    <tr>\n",
              "      <th>&lt;DATETIME&gt;</th>\n",
              "      <th></th>\n",
              "      <th></th>\n",
              "      <th></th>\n",
              "      <th></th>\n",
              "      <th></th>\n",
              "      <th></th>\n",
              "      <th></th>\n",
              "      <th></th>\n",
              "      <th></th>\n",
              "      <th></th>\n",
              "    </tr>\n",
              "  </thead>\n",
              "  <tbody>\n",
              "    <tr>\n",
              "      <th>2011-01-01 00:01:00</th>\n",
              "      <td>USDRUB</td>\n",
              "      <td>1</td>\n",
              "      <td>2011-01-01</td>\n",
              "      <td>00:01:00</td>\n",
              "      <td>30.560</td>\n",
              "      <td>30.560</td>\n",
              "      <td>30.560</td>\n",
              "      <td>30.560</td>\n",
              "      <td>0</td>\n",
              "      <td>2011-01-01 00:01:00</td>\n",
              "    </tr>\n",
              "    <tr>\n",
              "      <th>2011-01-01 00:03:00</th>\n",
              "      <td>USDRUB</td>\n",
              "      <td>1</td>\n",
              "      <td>2011-01-01</td>\n",
              "      <td>00:03:00</td>\n",
              "      <td>30.520</td>\n",
              "      <td>30.520</td>\n",
              "      <td>30.520</td>\n",
              "      <td>30.520</td>\n",
              "      <td>0</td>\n",
              "      <td>2011-01-01 00:03:00</td>\n",
              "    </tr>\n",
              "    <tr>\n",
              "      <th>2011-01-01 00:11:00</th>\n",
              "      <td>USDRUB</td>\n",
              "      <td>1</td>\n",
              "      <td>2011-01-01</td>\n",
              "      <td>00:11:00</td>\n",
              "      <td>30.550</td>\n",
              "      <td>30.550</td>\n",
              "      <td>30.550</td>\n",
              "      <td>30.550</td>\n",
              "      <td>0</td>\n",
              "      <td>2011-01-01 00:11:00</td>\n",
              "    </tr>\n",
              "    <tr>\n",
              "      <th>2011-01-01 00:31:00</th>\n",
              "      <td>USDRUB</td>\n",
              "      <td>1</td>\n",
              "      <td>2011-01-01</td>\n",
              "      <td>00:31:00</td>\n",
              "      <td>30.550</td>\n",
              "      <td>30.550</td>\n",
              "      <td>30.550</td>\n",
              "      <td>30.550</td>\n",
              "      <td>0</td>\n",
              "      <td>2011-01-01 00:31:00</td>\n",
              "    </tr>\n",
              "    <tr>\n",
              "      <th>2011-01-01 00:32:00</th>\n",
              "      <td>USDRUB</td>\n",
              "      <td>1</td>\n",
              "      <td>2011-01-01</td>\n",
              "      <td>00:32:00</td>\n",
              "      <td>30.520</td>\n",
              "      <td>30.520</td>\n",
              "      <td>30.520</td>\n",
              "      <td>30.520</td>\n",
              "      <td>0</td>\n",
              "      <td>2011-01-01 00:32:00</td>\n",
              "    </tr>\n",
              "  </tbody>\n",
              "</table>\n",
              "</div>"
            ],
            "text/plain": [
              "                    <TICKER>  <PER>  ... <VOL>           <DATETIME>\n",
              "<DATETIME>                           ...                           \n",
              "2011-01-01 00:01:00   USDRUB      1  ...     0  2011-01-01 00:01:00\n",
              "2011-01-01 00:03:00   USDRUB      1  ...     0  2011-01-01 00:03:00\n",
              "2011-01-01 00:11:00   USDRUB      1  ...     0  2011-01-01 00:11:00\n",
              "2011-01-01 00:31:00   USDRUB      1  ...     0  2011-01-01 00:31:00\n",
              "2011-01-01 00:32:00   USDRUB      1  ...     0  2011-01-01 00:32:00\n",
              "\n",
              "[5 rows x 10 columns]"
            ]
          },
          "metadata": {
            "tags": []
          },
          "execution_count": 15
        }
      ]
    },
    {
      "cell_type": "markdown",
      "metadata": {
        "id": "Da1rPGlq_6Ui"
      },
      "source": [
        "При объединении таблиц с курсами доллара по годам, появлялись дубликаты. Удалим их и оставим только столбец **\\<CLOSE>**, т.к. нас интересует только курс доллара, чтобы мы могли узнать цены биткоина в рублях. А цены открытия\\закрытия и объемы продаж мало интересуют."
      ]
    },
    {
      "cell_type": "code",
      "metadata": {
        "id": "sr22_seB1g9G",
        "colab": {
          "base_uri": "https://localhost:8080/",
          "height": 136
        },
        "outputId": "65cce717-b21b-4a15-ab9a-8e8dd7a7dac8"
      },
      "source": [
        "usd_rub.drop_duplicates(inplace=True)\n",
        "usd_rub = usd_rub['<CLOSE>']\n",
        "usd_rub.head()"
      ],
      "execution_count": null,
      "outputs": [
        {
          "output_type": "execute_result",
          "data": {
            "text/plain": [
              "<DATETIME>\n",
              "2011-01-01 00:01:00   30.560\n",
              "2011-01-01 00:03:00   30.520\n",
              "2011-01-01 00:11:00   30.550\n",
              "2011-01-01 00:31:00   30.550\n",
              "2011-01-01 00:32:00   30.520\n",
              "Name: <CLOSE>, dtype: float64"
            ]
          },
          "metadata": {
            "tags": []
          },
          "execution_count": 16
        }
      ]
    },
    {
      "cell_type": "markdown",
      "metadata": {
        "id": "pb61kVLOAWBP"
      },
      "source": [
        "Как видим, здесь даны курсы валют не каждую минуту (00:01, далее 00:03 и 00:11). Но тогда мы не сможем объединить ее с таблицей по биткоину. Надо заполнить все промежутки. \n",
        "\n",
        "Для этого создадим дополнительный пустой DataFrame, где будут все нужные даты и время с шагом в одну минуту. После чего объединим его с таблицей по курсу валют:"
      ]
    },
    {
      "cell_type": "code",
      "metadata": {
        "id": "g-R2mibD2hMr",
        "colab": {
          "base_uri": "https://localhost:8080/",
          "height": 359
        },
        "outputId": "801e2aaa-c161-4e6b-d079-8f6d94ad1d58"
      },
      "source": [
        "all_dates = pd.DataFrame(columns=['N'],index=pd.date_range(start='1/1/2011', end='8/12/2019', freq='min'))\n",
        "\n",
        "usd_rub = pd.concat([usd_rub, all_dates], axis=1)\n",
        "del usd_rub['N']\n",
        "usd_rub.head(10)"
      ],
      "execution_count": null,
      "outputs": [
        {
          "output_type": "execute_result",
          "data": {
            "text/html": [
              "<div>\n",
              "<style scoped>\n",
              "    .dataframe tbody tr th:only-of-type {\n",
              "        vertical-align: middle;\n",
              "    }\n",
              "\n",
              "    .dataframe tbody tr th {\n",
              "        vertical-align: top;\n",
              "    }\n",
              "\n",
              "    .dataframe thead th {\n",
              "        text-align: right;\n",
              "    }\n",
              "</style>\n",
              "<table border=\"1\" class=\"dataframe\">\n",
              "  <thead>\n",
              "    <tr style=\"text-align: right;\">\n",
              "      <th></th>\n",
              "      <th>&lt;CLOSE&gt;</th>\n",
              "    </tr>\n",
              "  </thead>\n",
              "  <tbody>\n",
              "    <tr>\n",
              "      <th>2011-01-01 00:00:00</th>\n",
              "      <td>nan</td>\n",
              "    </tr>\n",
              "    <tr>\n",
              "      <th>2011-01-01 00:01:00</th>\n",
              "      <td>30.560</td>\n",
              "    </tr>\n",
              "    <tr>\n",
              "      <th>2011-01-01 00:02:00</th>\n",
              "      <td>nan</td>\n",
              "    </tr>\n",
              "    <tr>\n",
              "      <th>2011-01-01 00:03:00</th>\n",
              "      <td>30.520</td>\n",
              "    </tr>\n",
              "    <tr>\n",
              "      <th>2011-01-01 00:04:00</th>\n",
              "      <td>nan</td>\n",
              "    </tr>\n",
              "    <tr>\n",
              "      <th>2011-01-01 00:05:00</th>\n",
              "      <td>nan</td>\n",
              "    </tr>\n",
              "    <tr>\n",
              "      <th>2011-01-01 00:06:00</th>\n",
              "      <td>nan</td>\n",
              "    </tr>\n",
              "    <tr>\n",
              "      <th>2011-01-01 00:07:00</th>\n",
              "      <td>nan</td>\n",
              "    </tr>\n",
              "    <tr>\n",
              "      <th>2011-01-01 00:08:00</th>\n",
              "      <td>nan</td>\n",
              "    </tr>\n",
              "    <tr>\n",
              "      <th>2011-01-01 00:09:00</th>\n",
              "      <td>nan</td>\n",
              "    </tr>\n",
              "  </tbody>\n",
              "</table>\n",
              "</div>"
            ],
            "text/plain": [
              "                     <CLOSE>\n",
              "2011-01-01 00:00:00      nan\n",
              "2011-01-01 00:01:00   30.560\n",
              "2011-01-01 00:02:00      nan\n",
              "2011-01-01 00:03:00   30.520\n",
              "2011-01-01 00:04:00      nan\n",
              "2011-01-01 00:05:00      nan\n",
              "2011-01-01 00:06:00      nan\n",
              "2011-01-01 00:07:00      nan\n",
              "2011-01-01 00:08:00      nan\n",
              "2011-01-01 00:09:00      nan"
            ]
          },
          "metadata": {
            "tags": []
          },
          "execution_count": 17
        }
      ]
    },
    {
      "cell_type": "markdown",
      "metadata": {
        "id": "vGeHxxAfCAWl"
      },
      "source": [
        "Видим очень много Nan (неизвестных значений). Возможно, это случалось потому, что в этот период не было ни одной сделки. Тогда протянем последнюю известную цену ниже для всех Nan."
      ]
    },
    {
      "cell_type": "code",
      "metadata": {
        "id": "a6v5cLaZGNjZ"
      },
      "source": [
        "usd_rub.rename(columns={'<CLOSE>':'USD_RUB'}, inplace=True)"
      ],
      "execution_count": null,
      "outputs": []
    },
    {
      "cell_type": "code",
      "metadata": {
        "id": "Fn1m-3nJB0f9",
        "colab": {
          "base_uri": "https://localhost:8080/",
          "height": 359
        },
        "outputId": "aee1e277-5d28-4c14-8ad5-7809665085a4"
      },
      "source": [
        "usd_rub.fillna(method='ffill', inplace=True)\n",
        "usd_rub.head(10)"
      ],
      "execution_count": null,
      "outputs": [
        {
          "output_type": "execute_result",
          "data": {
            "text/html": [
              "<div>\n",
              "<style scoped>\n",
              "    .dataframe tbody tr th:only-of-type {\n",
              "        vertical-align: middle;\n",
              "    }\n",
              "\n",
              "    .dataframe tbody tr th {\n",
              "        vertical-align: top;\n",
              "    }\n",
              "\n",
              "    .dataframe thead th {\n",
              "        text-align: right;\n",
              "    }\n",
              "</style>\n",
              "<table border=\"1\" class=\"dataframe\">\n",
              "  <thead>\n",
              "    <tr style=\"text-align: right;\">\n",
              "      <th></th>\n",
              "      <th>USD_RUB</th>\n",
              "    </tr>\n",
              "  </thead>\n",
              "  <tbody>\n",
              "    <tr>\n",
              "      <th>2011-01-01 00:00:00</th>\n",
              "      <td>nan</td>\n",
              "    </tr>\n",
              "    <tr>\n",
              "      <th>2011-01-01 00:01:00</th>\n",
              "      <td>30.560</td>\n",
              "    </tr>\n",
              "    <tr>\n",
              "      <th>2011-01-01 00:02:00</th>\n",
              "      <td>30.560</td>\n",
              "    </tr>\n",
              "    <tr>\n",
              "      <th>2011-01-01 00:03:00</th>\n",
              "      <td>30.520</td>\n",
              "    </tr>\n",
              "    <tr>\n",
              "      <th>2011-01-01 00:04:00</th>\n",
              "      <td>30.520</td>\n",
              "    </tr>\n",
              "    <tr>\n",
              "      <th>2011-01-01 00:05:00</th>\n",
              "      <td>30.520</td>\n",
              "    </tr>\n",
              "    <tr>\n",
              "      <th>2011-01-01 00:06:00</th>\n",
              "      <td>30.520</td>\n",
              "    </tr>\n",
              "    <tr>\n",
              "      <th>2011-01-01 00:07:00</th>\n",
              "      <td>30.520</td>\n",
              "    </tr>\n",
              "    <tr>\n",
              "      <th>2011-01-01 00:08:00</th>\n",
              "      <td>30.520</td>\n",
              "    </tr>\n",
              "    <tr>\n",
              "      <th>2011-01-01 00:09:00</th>\n",
              "      <td>30.520</td>\n",
              "    </tr>\n",
              "  </tbody>\n",
              "</table>\n",
              "</div>"
            ],
            "text/plain": [
              "                     USD_RUB\n",
              "2011-01-01 00:00:00      nan\n",
              "2011-01-01 00:01:00   30.560\n",
              "2011-01-01 00:02:00   30.560\n",
              "2011-01-01 00:03:00   30.520\n",
              "2011-01-01 00:04:00   30.520\n",
              "2011-01-01 00:05:00   30.520\n",
              "2011-01-01 00:06:00   30.520\n",
              "2011-01-01 00:07:00   30.520\n",
              "2011-01-01 00:08:00   30.520\n",
              "2011-01-01 00:09:00   30.520"
            ]
          },
          "metadata": {
            "tags": []
          },
          "execution_count": 19
        }
      ]
    },
    {
      "cell_type": "markdown",
      "metadata": {
        "id": "Ur7xuX2dCZOj"
      },
      "source": [
        "И одну цену протянем выше."
      ]
    },
    {
      "cell_type": "code",
      "metadata": {
        "id": "Ng2MLp1K9E5b",
        "colab": {
          "base_uri": "https://localhost:8080/",
          "height": 204
        },
        "outputId": "6465c3f5-a87f-4a6d-c720-ec34269fbf03"
      },
      "source": [
        "usd_rub.fillna(method='bfill', inplace=True)\n",
        "usd_rub.head()"
      ],
      "execution_count": null,
      "outputs": [
        {
          "output_type": "execute_result",
          "data": {
            "text/html": [
              "<div>\n",
              "<style scoped>\n",
              "    .dataframe tbody tr th:only-of-type {\n",
              "        vertical-align: middle;\n",
              "    }\n",
              "\n",
              "    .dataframe tbody tr th {\n",
              "        vertical-align: top;\n",
              "    }\n",
              "\n",
              "    .dataframe thead th {\n",
              "        text-align: right;\n",
              "    }\n",
              "</style>\n",
              "<table border=\"1\" class=\"dataframe\">\n",
              "  <thead>\n",
              "    <tr style=\"text-align: right;\">\n",
              "      <th></th>\n",
              "      <th>USD_RUB</th>\n",
              "    </tr>\n",
              "  </thead>\n",
              "  <tbody>\n",
              "    <tr>\n",
              "      <th>2011-01-01 00:00:00</th>\n",
              "      <td>30.560</td>\n",
              "    </tr>\n",
              "    <tr>\n",
              "      <th>2011-01-01 00:01:00</th>\n",
              "      <td>30.560</td>\n",
              "    </tr>\n",
              "    <tr>\n",
              "      <th>2011-01-01 00:02:00</th>\n",
              "      <td>30.560</td>\n",
              "    </tr>\n",
              "    <tr>\n",
              "      <th>2011-01-01 00:03:00</th>\n",
              "      <td>30.520</td>\n",
              "    </tr>\n",
              "    <tr>\n",
              "      <th>2011-01-01 00:04:00</th>\n",
              "      <td>30.520</td>\n",
              "    </tr>\n",
              "  </tbody>\n",
              "</table>\n",
              "</div>"
            ],
            "text/plain": [
              "                     USD_RUB\n",
              "2011-01-01 00:00:00   30.560\n",
              "2011-01-01 00:01:00   30.560\n",
              "2011-01-01 00:02:00   30.560\n",
              "2011-01-01 00:03:00   30.520\n",
              "2011-01-01 00:04:00   30.520"
            ]
          },
          "metadata": {
            "tags": []
          },
          "execution_count": 20
        }
      ]
    },
    {
      "cell_type": "markdown",
      "metadata": {
        "id": "e1FZDlBCCmyq"
      },
      "source": [
        "Курс доллара к рублю заполнен. Объединим эту таблицу с информацией по биткоину:"
      ]
    },
    {
      "cell_type": "code",
      "metadata": {
        "id": "5lqw8Cxn7tQX",
        "colab": {
          "base_uri": "https://localhost:8080/",
          "height": 204
        },
        "outputId": "9603524b-3627-4d30-b270-ebfbbed00dcb"
      },
      "source": [
        "all_btc = pd.concat([btc, usd_rub], axis=1, join='inner')\n",
        "all_btc.head()"
      ],
      "execution_count": null,
      "outputs": [
        {
          "output_type": "execute_result",
          "data": {
            "text/html": [
              "<div>\n",
              "<style scoped>\n",
              "    .dataframe tbody tr th:only-of-type {\n",
              "        vertical-align: middle;\n",
              "    }\n",
              "\n",
              "    .dataframe tbody tr th {\n",
              "        vertical-align: top;\n",
              "    }\n",
              "\n",
              "    .dataframe thead th {\n",
              "        text-align: right;\n",
              "    }\n",
              "</style>\n",
              "<table border=\"1\" class=\"dataframe\">\n",
              "  <thead>\n",
              "    <tr style=\"text-align: right;\">\n",
              "      <th></th>\n",
              "      <th>Open</th>\n",
              "      <th>High</th>\n",
              "      <th>Low</th>\n",
              "      <th>Close</th>\n",
              "      <th>Volume_(BTC)</th>\n",
              "      <th>Volume_(Currency)</th>\n",
              "      <th>Weighted_Price</th>\n",
              "      <th>USD_RUB</th>\n",
              "    </tr>\n",
              "  </thead>\n",
              "  <tbody>\n",
              "    <tr>\n",
              "      <th>2011-12-31 07:52:00</th>\n",
              "      <td>4.390</td>\n",
              "      <td>4.390</td>\n",
              "      <td>4.390</td>\n",
              "      <td>4.390</td>\n",
              "      <td>0.456</td>\n",
              "      <td>2.000</td>\n",
              "      <td>4.390</td>\n",
              "      <td>32.120</td>\n",
              "    </tr>\n",
              "    <tr>\n",
              "      <th>2011-12-31 15:50:00</th>\n",
              "      <td>4.390</td>\n",
              "      <td>4.390</td>\n",
              "      <td>4.390</td>\n",
              "      <td>4.390</td>\n",
              "      <td>48.000</td>\n",
              "      <td>210.720</td>\n",
              "      <td>4.390</td>\n",
              "      <td>32.120</td>\n",
              "    </tr>\n",
              "    <tr>\n",
              "      <th>2011-12-31 16:59:00</th>\n",
              "      <td>4.500</td>\n",
              "      <td>4.570</td>\n",
              "      <td>4.500</td>\n",
              "      <td>4.570</td>\n",
              "      <td>37.862</td>\n",
              "      <td>171.380</td>\n",
              "      <td>4.526</td>\n",
              "      <td>32.120</td>\n",
              "    </tr>\n",
              "    <tr>\n",
              "      <th>2011-12-31 17:00:00</th>\n",
              "      <td>4.580</td>\n",
              "      <td>4.580</td>\n",
              "      <td>4.580</td>\n",
              "      <td>4.580</td>\n",
              "      <td>9.000</td>\n",
              "      <td>41.220</td>\n",
              "      <td>4.580</td>\n",
              "      <td>32.120</td>\n",
              "    </tr>\n",
              "    <tr>\n",
              "      <th>2012-01-01 04:16:00</th>\n",
              "      <td>4.580</td>\n",
              "      <td>4.580</td>\n",
              "      <td>4.580</td>\n",
              "      <td>4.580</td>\n",
              "      <td>1.502</td>\n",
              "      <td>6.879</td>\n",
              "      <td>4.580</td>\n",
              "      <td>32.120</td>\n",
              "    </tr>\n",
              "  </tbody>\n",
              "</table>\n",
              "</div>"
            ],
            "text/plain": [
              "                     Open  High  ...  Weighted_Price  USD_RUB\n",
              "2011-12-31 07:52:00 4.390 4.390  ...           4.390   32.120\n",
              "2011-12-31 15:50:00 4.390 4.390  ...           4.390   32.120\n",
              "2011-12-31 16:59:00 4.500 4.570  ...           4.526   32.120\n",
              "2011-12-31 17:00:00 4.580 4.580  ...           4.580   32.120\n",
              "2012-01-01 04:16:00 4.580 4.580  ...           4.580   32.120\n",
              "\n",
              "[5 rows x 8 columns]"
            ]
          },
          "metadata": {
            "tags": []
          },
          "execution_count": 21
        }
      ]
    },
    {
      "cell_type": "markdown",
      "metadata": {
        "id": "Q2f1P4irGYQR"
      },
      "source": [
        "Наконец, создадим новый столбец, в котором будет записана цена биткоина в рублях:"
      ]
    },
    {
      "cell_type": "code",
      "metadata": {
        "id": "g6tdXRzbGm5O",
        "colab": {
          "base_uri": "https://localhost:8080/",
          "height": 204
        },
        "outputId": "6c40c3f9-4c63-4c58-8ccb-9d362c308150"
      },
      "source": [
        "all_btc['RUB'] = all_btc['USD_RUB'] * all_btc['Weighted_Price']\n",
        "all_btc.head()"
      ],
      "execution_count": null,
      "outputs": [
        {
          "output_type": "execute_result",
          "data": {
            "text/html": [
              "<div>\n",
              "<style scoped>\n",
              "    .dataframe tbody tr th:only-of-type {\n",
              "        vertical-align: middle;\n",
              "    }\n",
              "\n",
              "    .dataframe tbody tr th {\n",
              "        vertical-align: top;\n",
              "    }\n",
              "\n",
              "    .dataframe thead th {\n",
              "        text-align: right;\n",
              "    }\n",
              "</style>\n",
              "<table border=\"1\" class=\"dataframe\">\n",
              "  <thead>\n",
              "    <tr style=\"text-align: right;\">\n",
              "      <th></th>\n",
              "      <th>Open</th>\n",
              "      <th>High</th>\n",
              "      <th>Low</th>\n",
              "      <th>Close</th>\n",
              "      <th>Volume_(BTC)</th>\n",
              "      <th>Volume_(Currency)</th>\n",
              "      <th>Weighted_Price</th>\n",
              "      <th>USD_RUB</th>\n",
              "      <th>RUB</th>\n",
              "    </tr>\n",
              "  </thead>\n",
              "  <tbody>\n",
              "    <tr>\n",
              "      <th>2011-12-31 07:52:00</th>\n",
              "      <td>4.390</td>\n",
              "      <td>4.390</td>\n",
              "      <td>4.390</td>\n",
              "      <td>4.390</td>\n",
              "      <td>0.456</td>\n",
              "      <td>2.000</td>\n",
              "      <td>4.390</td>\n",
              "      <td>32.120</td>\n",
              "      <td>141.007</td>\n",
              "    </tr>\n",
              "    <tr>\n",
              "      <th>2011-12-31 15:50:00</th>\n",
              "      <td>4.390</td>\n",
              "      <td>4.390</td>\n",
              "      <td>4.390</td>\n",
              "      <td>4.390</td>\n",
              "      <td>48.000</td>\n",
              "      <td>210.720</td>\n",
              "      <td>4.390</td>\n",
              "      <td>32.120</td>\n",
              "      <td>141.007</td>\n",
              "    </tr>\n",
              "    <tr>\n",
              "      <th>2011-12-31 16:59:00</th>\n",
              "      <td>4.500</td>\n",
              "      <td>4.570</td>\n",
              "      <td>4.500</td>\n",
              "      <td>4.570</td>\n",
              "      <td>37.862</td>\n",
              "      <td>171.380</td>\n",
              "      <td>4.526</td>\n",
              "      <td>32.120</td>\n",
              "      <td>145.388</td>\n",
              "    </tr>\n",
              "    <tr>\n",
              "      <th>2011-12-31 17:00:00</th>\n",
              "      <td>4.580</td>\n",
              "      <td>4.580</td>\n",
              "      <td>4.580</td>\n",
              "      <td>4.580</td>\n",
              "      <td>9.000</td>\n",
              "      <td>41.220</td>\n",
              "      <td>4.580</td>\n",
              "      <td>32.120</td>\n",
              "      <td>147.110</td>\n",
              "    </tr>\n",
              "    <tr>\n",
              "      <th>2012-01-01 04:16:00</th>\n",
              "      <td>4.580</td>\n",
              "      <td>4.580</td>\n",
              "      <td>4.580</td>\n",
              "      <td>4.580</td>\n",
              "      <td>1.502</td>\n",
              "      <td>6.879</td>\n",
              "      <td>4.580</td>\n",
              "      <td>32.120</td>\n",
              "      <td>147.110</td>\n",
              "    </tr>\n",
              "  </tbody>\n",
              "</table>\n",
              "</div>"
            ],
            "text/plain": [
              "                     Open  High   Low  ...  Weighted_Price  USD_RUB     RUB\n",
              "2011-12-31 07:52:00 4.390 4.390 4.390  ...           4.390   32.120 141.007\n",
              "2011-12-31 15:50:00 4.390 4.390 4.390  ...           4.390   32.120 141.007\n",
              "2011-12-31 16:59:00 4.500 4.570 4.500  ...           4.526   32.120 145.388\n",
              "2011-12-31 17:00:00 4.580 4.580 4.580  ...           4.580   32.120 147.110\n",
              "2012-01-01 04:16:00 4.580 4.580 4.580  ...           4.580   32.120 147.110\n",
              "\n",
              "[5 rows x 9 columns]"
            ]
          },
          "metadata": {
            "tags": []
          },
          "execution_count": 22
        }
      ]
    },
    {
      "cell_type": "markdown",
      "metadata": {
        "id": "Kv9YM38JG29n"
      },
      "source": [
        "Посмотрим статистику по рублю:"
      ]
    },
    {
      "cell_type": "code",
      "metadata": {
        "id": "doJ0DvDZG6co",
        "colab": {
          "base_uri": "https://localhost:8080/",
          "height": 170
        },
        "outputId": "52242688-3a9f-49fa-9efc-3bad2c8ac6ed"
      },
      "source": [
        "all_btc['RUB'].describe()"
      ],
      "execution_count": null,
      "outputs": [
        {
          "output_type": "execute_result",
          "data": {
            "text/plain": [
              "count   2765819.000\n",
              "mean     186040.904\n",
              "std      229172.531\n",
              "min         114.494\n",
              "25%       17453.771\n",
              "50%       42500.160\n",
              "75%      343436.189\n",
              "max     1156612.938\n",
              "Name: RUB, dtype: float64"
            ]
          },
          "metadata": {
            "tags": []
          },
          "execution_count": 23
        }
      ]
    },
    {
      "cell_type": "markdown",
      "metadata": {
        "id": "arD8YmESHCn2"
      },
      "source": [
        "Минимальная цена за всю историю была 114 рублей, максимальная - 1.1 млн.\n",
        "\n",
        "Последние имеющиеся данные за август-2019 показывают, что биткоин продается за 750 тыс.р.:"
      ]
    },
    {
      "cell_type": "code",
      "metadata": {
        "id": "BCGjXw4PHUUu",
        "colab": {
          "base_uri": "https://localhost:8080/",
          "height": 204
        },
        "outputId": "b9612efb-e134-43ee-d4ff-7515882a5cd8"
      },
      "source": [
        "all_btc.tail()"
      ],
      "execution_count": null,
      "outputs": [
        {
          "output_type": "execute_result",
          "data": {
            "text/html": [
              "<div>\n",
              "<style scoped>\n",
              "    .dataframe tbody tr th:only-of-type {\n",
              "        vertical-align: middle;\n",
              "    }\n",
              "\n",
              "    .dataframe tbody tr th {\n",
              "        vertical-align: top;\n",
              "    }\n",
              "\n",
              "    .dataframe thead th {\n",
              "        text-align: right;\n",
              "    }\n",
              "</style>\n",
              "<table border=\"1\" class=\"dataframe\">\n",
              "  <thead>\n",
              "    <tr style=\"text-align: right;\">\n",
              "      <th></th>\n",
              "      <th>Open</th>\n",
              "      <th>High</th>\n",
              "      <th>Low</th>\n",
              "      <th>Close</th>\n",
              "      <th>Volume_(BTC)</th>\n",
              "      <th>Volume_(Currency)</th>\n",
              "      <th>Weighted_Price</th>\n",
              "      <th>USD_RUB</th>\n",
              "      <th>RUB</th>\n",
              "    </tr>\n",
              "  </thead>\n",
              "  <tbody>\n",
              "    <tr>\n",
              "      <th>2019-08-11 23:56:00</th>\n",
              "      <td>11555.570</td>\n",
              "      <td>11555.570</td>\n",
              "      <td>11540.370</td>\n",
              "      <td>11540.580</td>\n",
              "      <td>0.037</td>\n",
              "      <td>425.909</td>\n",
              "      <td>11552.336</td>\n",
              "      <td>65.383</td>\n",
              "      <td>755329.866</td>\n",
              "    </tr>\n",
              "    <tr>\n",
              "      <th>2019-08-11 23:57:00</th>\n",
              "      <td>11553.490</td>\n",
              "      <td>11556.220</td>\n",
              "      <td>11553.490</td>\n",
              "      <td>11556.220</td>\n",
              "      <td>0.623</td>\n",
              "      <td>7204.428</td>\n",
              "      <td>11555.521</td>\n",
              "      <td>65.383</td>\n",
              "      <td>755538.064</td>\n",
              "    </tr>\n",
              "    <tr>\n",
              "      <th>2019-08-11 23:58:00</th>\n",
              "      <td>11559.730</td>\n",
              "      <td>11561.220</td>\n",
              "      <td>11546.770</td>\n",
              "      <td>11561.220</td>\n",
              "      <td>0.159</td>\n",
              "      <td>1838.731</td>\n",
              "      <td>11559.252</td>\n",
              "      <td>65.383</td>\n",
              "      <td>755782.054</td>\n",
              "    </tr>\n",
              "    <tr>\n",
              "      <th>2019-08-11 23:59:00</th>\n",
              "      <td>11559.730</td>\n",
              "      <td>11589.730</td>\n",
              "      <td>11528.730</td>\n",
              "      <td>11528.730</td>\n",
              "      <td>16.198</td>\n",
              "      <td>187504.635</td>\n",
              "      <td>11575.639</td>\n",
              "      <td>65.383</td>\n",
              "      <td>756853.470</td>\n",
              "    </tr>\n",
              "    <tr>\n",
              "      <th>2019-08-12 00:00:00</th>\n",
              "      <td>11527.440</td>\n",
              "      <td>11551.570</td>\n",
              "      <td>11520.000</td>\n",
              "      <td>11520.000</td>\n",
              "      <td>23.806</td>\n",
              "      <td>274731.257</td>\n",
              "      <td>11540.450</td>\n",
              "      <td>65.377</td>\n",
              "      <td>754480.019</td>\n",
              "    </tr>\n",
              "  </tbody>\n",
              "</table>\n",
              "</div>"
            ],
            "text/plain": [
              "                         Open      High  ...  USD_RUB        RUB\n",
              "2019-08-11 23:56:00 11555.570 11555.570  ...   65.383 755329.866\n",
              "2019-08-11 23:57:00 11553.490 11556.220  ...   65.383 755538.064\n",
              "2019-08-11 23:58:00 11559.730 11561.220  ...   65.383 755782.054\n",
              "2019-08-11 23:59:00 11559.730 11589.730  ...   65.383 756853.470\n",
              "2019-08-12 00:00:00 11527.440 11551.570  ...   65.377 754480.019\n",
              "\n",
              "[5 rows x 9 columns]"
            ]
          },
          "metadata": {
            "tags": []
          },
          "execution_count": 24
        }
      ]
    },
    {
      "cell_type": "markdown",
      "metadata": {
        "id": "4lTBbsR3CiMJ"
      },
      "source": [
        "Корреляцию, которая была дана в табличном виде можно отобразить на графике:"
      ]
    },
    {
      "cell_type": "code",
      "metadata": {
        "id": "j5WrrD4lA_D1",
        "colab": {
          "base_uri": "https://localhost:8080/",
          "height": 680
        },
        "outputId": "faa9c589-5a61-441b-9656-15623203225b"
      },
      "source": [
        "f,ax = plt.subplots(figsize=(10, 10))\n",
        "sns.heatmap(all_btc.corr(), annot=True, linewidths=.5, fmt= '.1f',ax=ax)\n",
        "plt.show()"
      ],
      "execution_count": null,
      "outputs": [
        {
          "output_type": "display_data",
          "data": {
            "image/png": "[encoded data removed]",
            "text/plain": [
              "<Figure size 720x720 with 2 Axes>"
            ]
          },
          "metadata": {
            "tags": []
          }
        }
      ]
    },
    {
      "cell_type": "markdown",
      "metadata": {
        "id": "usP9lPlBH7TS"
      },
      "source": [
        "Можно посмотреть на график цены биткоина за все время:"
      ]
    },
    {
      "cell_type": "code",
      "metadata": {
        "id": "VEZ6UfapBNo6",
        "colab": {
          "base_uri": "https://localhost:8080/",
          "height": 272
        },
        "outputId": "d77dfe69-2b5f-45db-d39b-ace6ba66e36b"
      },
      "source": [
        "all_btc.Weighted_Price.plot()"
      ],
      "execution_count": null,
      "outputs": [
        {
          "output_type": "execute_result",
          "data": {
            "text/plain": [
              "<matplotlib.axes._subplots.AxesSubplot at 0x7f7d2343b0b8>"
            ]
          },
          "metadata": {
            "tags": []
          },
          "execution_count": 26
        },
        {
          "output_type": "display_data",
          "data": {
            "image/png": "[encoded data removed]",
            "text/plain": [
              "<Figure size 432x288 with 1 Axes>"
            ]
          },
          "metadata": {
            "tags": []
          }
        }
      ]
    },
    {
      "cell_type": "markdown",
      "metadata": {
        "id": "f_BHT2d7IGeS"
      },
      "source": [
        "Зависимость объема от цены за этот объем:"
      ]
    },
    {
      "cell_type": "code",
      "metadata": {
        "id": "rB3TUkNRBas9",
        "colab": {
          "base_uri": "https://localhost:8080/",
          "height": 312
        },
        "outputId": "b9144a35-12ea-4455-b6a9-12be4072f906"
      },
      "source": [
        "all_btc.plot(kind='scatter', x='Volume_(BTC)', y='Volume_(Currency)',alpha = 0.5, color = 'red')\n",
        "plt.xlabel('BTC Volume')              # label = name of label\n",
        "plt.ylabel('Currency Volume')\n",
        "plt.title('BTC-Currency Scatter Plot')  "
      ],
      "execution_count": null,
      "outputs": [
        {
          "output_type": "execute_result",
          "data": {
            "text/plain": [
              "Text(0.5, 1.0, 'BTC-Currency Scatter Plot')"
            ]
          },
          "metadata": {
            "tags": []
          },
          "execution_count": 27
        },
        {
          "output_type": "display_data",
          "data": {
            "image/png": "[encoded data removed]",
            "text/plain": [
              "<Figure size 432x288 with 1 Axes>"
            ]
          },
          "metadata": {
            "tags": []
          }
        }
      ]
    },
    {
      "cell_type": "markdown",
      "metadata": {
        "id": "L7kGeb-kJLJ2"
      },
      "source": [
        "Отобразим зависимость объемов продаж от цены биткоина:"
      ]
    },
    {
      "cell_type": "code",
      "metadata": {
        "id": "9ZS0IKneI3Vx",
        "colab": {
          "base_uri": "https://localhost:8080/",
          "height": 295
        },
        "outputId": "da77e28d-7324-4c42-c69a-087448b9fdf4"
      },
      "source": [
        "all_btc.plot(kind='scatter', x='Volume_(BTC)', y='Weighted_Price', alpha = 0.5, color = 'red')\n",
        "plt.xlabel('BTC Volume')              # label = name of label\n",
        "plt.ylabel('BTC Price')\n",
        "plt.title('BTC-Currency Scatter Plot')  \n",
        "plt.show()"
      ],
      "execution_count": null,
      "outputs": [
        {
          "output_type": "display_data",
          "data": {
            "image/png": "[encoded data removed]",
            "text/plain": [
              "<Figure size 432x288 with 1 Axes>"
            ]
          },
          "metadata": {
            "tags": []
          }
        }
      ]
    },
    {
      "cell_type": "markdown",
      "metadata": {
        "id": "BeYNQJ0HKNH9"
      },
      "source": [
        "Выберем данные за 2019 год и посмотрим, в каких объемах покупали биткоины по каким ценам."
      ]
    },
    {
      "cell_type": "code",
      "metadata": {
        "id": "bVOG8cyCJoDJ",
        "colab": {
          "base_uri": "https://localhost:8080/",
          "height": 204
        },
        "outputId": "9894ea45-eec9-44d0-9a60-ab468718845d"
      },
      "source": [
        "BTC_2019 = all_btc[all_btc.index >= datetime.datetime(2019, 1, 1)]\n",
        "BTC_2019.head()"
      ],
      "execution_count": null,
      "outputs": [
        {
          "output_type": "execute_result",
          "data": {
            "text/html": [
              "<div>\n",
              "<style scoped>\n",
              "    .dataframe tbody tr th:only-of-type {\n",
              "        vertical-align: middle;\n",
              "    }\n",
              "\n",
              "    .dataframe tbody tr th {\n",
              "        vertical-align: top;\n",
              "    }\n",
              "\n",
              "    .dataframe thead th {\n",
              "        text-align: right;\n",
              "    }\n",
              "</style>\n",
              "<table border=\"1\" class=\"dataframe\">\n",
              "  <thead>\n",
              "    <tr style=\"text-align: right;\">\n",
              "      <th></th>\n",
              "      <th>Open</th>\n",
              "      <th>High</th>\n",
              "      <th>Low</th>\n",
              "      <th>Close</th>\n",
              "      <th>Volume_(BTC)</th>\n",
              "      <th>Volume_(Currency)</th>\n",
              "      <th>Weighted_Price</th>\n",
              "      <th>USD_RUB</th>\n",
              "      <th>RUB</th>\n",
              "    </tr>\n",
              "  </thead>\n",
              "  <tbody>\n",
              "    <tr>\n",
              "      <th>2019-01-01 00:00:00</th>\n",
              "      <td>3693.850</td>\n",
              "      <td>3698.790</td>\n",
              "      <td>3693.850</td>\n",
              "      <td>3698.000</td>\n",
              "      <td>5.491</td>\n",
              "      <td>20301.157</td>\n",
              "      <td>3696.975</td>\n",
              "      <td>69.327</td>\n",
              "      <td>256300.551</td>\n",
              "    </tr>\n",
              "    <tr>\n",
              "      <th>2019-01-01 00:01:00</th>\n",
              "      <td>3694.720</td>\n",
              "      <td>3694.720</td>\n",
              "      <td>3690.650</td>\n",
              "      <td>3690.650</td>\n",
              "      <td>9.500</td>\n",
              "      <td>35080.266</td>\n",
              "      <td>3692.601</td>\n",
              "      <td>69.338</td>\n",
              "      <td>256037.559</td>\n",
              "    </tr>\n",
              "    <tr>\n",
              "      <th>2019-01-01 00:02:00</th>\n",
              "      <td>3689.730</td>\n",
              "      <td>3689.730</td>\n",
              "      <td>3686.620</td>\n",
              "      <td>3686.620</td>\n",
              "      <td>0.966</td>\n",
              "      <td>3562.371</td>\n",
              "      <td>3687.885</td>\n",
              "      <td>69.272</td>\n",
              "      <td>255467.886</td>\n",
              "    </tr>\n",
              "    <tr>\n",
              "      <th>2019-01-01 00:03:00</th>\n",
              "      <td>3692.850</td>\n",
              "      <td>3692.850</td>\n",
              "      <td>3688.320</td>\n",
              "      <td>3692.350</td>\n",
              "      <td>0.297</td>\n",
              "      <td>1095.221</td>\n",
              "      <td>3691.813</td>\n",
              "      <td>69.290</td>\n",
              "      <td>255806.850</td>\n",
              "    </tr>\n",
              "    <tr>\n",
              "      <th>2019-01-01 00:04:00</th>\n",
              "      <td>3692.350</td>\n",
              "      <td>3692.350</td>\n",
              "      <td>3690.340</td>\n",
              "      <td>3690.340</td>\n",
              "      <td>0.112</td>\n",
              "      <td>412.065</td>\n",
              "      <td>3691.615</td>\n",
              "      <td>69.290</td>\n",
              "      <td>255792.362</td>\n",
              "    </tr>\n",
              "  </tbody>\n",
              "</table>\n",
              "</div>"
            ],
            "text/plain": [
              "                        Open     High  ...  USD_RUB        RUB\n",
              "2019-01-01 00:00:00 3693.850 3698.790  ...   69.327 256300.551\n",
              "2019-01-01 00:01:00 3694.720 3694.720  ...   69.338 256037.559\n",
              "2019-01-01 00:02:00 3689.730 3689.730  ...   69.272 255467.886\n",
              "2019-01-01 00:03:00 3692.850 3692.850  ...   69.290 255806.850\n",
              "2019-01-01 00:04:00 3692.350 3692.350  ...   69.290 255792.362\n",
              "\n",
              "[5 rows x 9 columns]"
            ]
          },
          "metadata": {
            "tags": []
          },
          "execution_count": 29
        }
      ]
    },
    {
      "cell_type": "code",
      "metadata": {
        "id": "0ZCocvUSJcX3",
        "colab": {
          "base_uri": "https://localhost:8080/",
          "height": 295
        },
        "outputId": "0718c4b3-72b5-4ab1-d8e8-60e5938f82b7"
      },
      "source": [
        "BTC_2019.plot(kind='scatter', x='Volume_(BTC)', y='Weighted_Price', alpha = 0.5, color = 'red')\n",
        "plt.xlabel('BTC Volume')              # label = name of label\n",
        "plt.ylabel('BTC Price')\n",
        "plt.title('BTC-Currency Scatter Plot')  \n",
        "plt.show()"
      ],
      "execution_count": null,
      "outputs": [
        {
          "output_type": "display_data",
          "data": {
            "image/png": "[encoded data removed]",
            "text/plain": [
              "<Figure size 432x288 with 1 Axes>"
            ]
          },
          "metadata": {
            "tags": []
          }
        }
      ]
    },
    {
      "cell_type": "markdown",
      "metadata": {
        "id": "rfpuHf5sKFjj"
      },
      "source": [
        "Вне зависимости от цены биткоины по большей части покупают маленькими объемами."
      ]
    },
    {
      "cell_type": "markdown",
      "metadata": {
        "id": "Q3UmI5CFLYzA"
      },
      "source": [
        "В каких годах люди покупали биткоин большими объемами:"
      ]
    },
    {
      "cell_type": "code",
      "metadata": {
        "id": "FZ1p_raGLJdX",
        "colab": {
          "base_uri": "https://localhost:8080/",
          "height": 283
        },
        "outputId": "28028143-a047-4330-afbc-edfdf51301b4"
      },
      "source": [
        "all_btc[all_btc['Volume_(BTC)']>1500].plot()"
      ],
      "execution_count": null,
      "outputs": [
        {
          "output_type": "execute_result",
          "data": {
            "text/plain": [
              "<matplotlib.axes._subplots.AxesSubplot at 0x7f7d1c848400>"
            ]
          },
          "metadata": {
            "tags": []
          },
          "execution_count": 31
        },
        {
          "output_type": "display_data",
          "data": {
            "image/png": "[encoded data removed]",
            "text/plain": [
              "<Figure size 432x288 with 1 Axes>"
            ]
          },
          "metadata": {
            "tags": []
          }
        }
      ]
    },
    {
      "cell_type": "markdown",
      "metadata": {
        "id": "aZrjjMGXSNxv"
      },
      "source": [
        "Гистограмма по ценам открытия:"
      ]
    },
    {
      "cell_type": "code",
      "metadata": {
        "id": "RuFzBL5HBkMX",
        "colab": {
          "base_uri": "https://localhost:8080/",
          "height": 282
        },
        "outputId": "887ec162-a271-4613-c821-791f65191f62"
      },
      "source": [
        "all_btc.Open.plot(kind='hist', bins=50)"
      ],
      "execution_count": null,
      "outputs": [
        {
          "output_type": "execute_result",
          "data": {
            "text/plain": [
              "<matplotlib.axes._subplots.AxesSubplot at 0x7f7d1c633828>"
            ]
          },
          "metadata": {
            "tags": []
          },
          "execution_count": 32
        },
        {
          "output_type": "display_data",
          "data": {
            "image/png": "[encoded data removed]",
            "text/plain": [
              "<Figure size 432x288 with 1 Axes>"
            ]
          },
          "metadata": {
            "tags": []
          }
        }
      ]
    },
    {
      "cell_type": "markdown",
      "metadata": {
        "id": "61BBY4N6L7Ey"
      },
      "source": [
        "Самая большая разница в цене в течение минуты:"
      ]
    },
    {
      "cell_type": "code",
      "metadata": {
        "id": "7X2wRcsHLwJq",
        "colab": {
          "base_uri": "https://localhost:8080/",
          "height": 272
        },
        "outputId": "06a97e0b-0b54-4803-dc54-6d3867f8ec80"
      },
      "source": [
        "(all_btc.High - all_btc.Low).plot(color='green')"
      ],
      "execution_count": null,
      "outputs": [
        {
          "output_type": "execute_result",
          "data": {
            "text/plain": [
              "<matplotlib.axes._subplots.AxesSubplot at 0x7f7d1c530d68>"
            ]
          },
          "metadata": {
            "tags": []
          },
          "execution_count": 33
        },
        {
          "output_type": "display_data",
          "data": {
            "image/png": "[encoded data removed]",
            "text/plain": [
              "<Figure size 432x288 with 1 Axes>"
            ]
          },
          "metadata": {
            "tags": []
          }
        }
      ]
    },
    {
      "cell_type": "markdown",
      "metadata": {
        "id": "OCv0IKtsNmQn"
      },
      "source": [
        "Интересный случай, за минуту разница 700 долларов, давайте посмотрим внимательнее:"
      ]
    },
    {
      "cell_type": "code",
      "metadata": {
        "id": "51qc51d_MruZ",
        "colab": {
          "base_uri": "https://localhost:8080/",
          "height": 80
        },
        "outputId": "ab60eb09-d897-490d-d511-0aef0d9af8cf"
      },
      "source": [
        "all_btc[(all_btc.High - all_btc.Low)>700]"
      ],
      "execution_count": null,
      "outputs": [
        {
          "output_type": "execute_result",
          "data": {
            "text/html": [
              "<div>\n",
              "<style scoped>\n",
              "    .dataframe tbody tr th:only-of-type {\n",
              "        vertical-align: middle;\n",
              "    }\n",
              "\n",
              "    .dataframe tbody tr th {\n",
              "        vertical-align: top;\n",
              "    }\n",
              "\n",
              "    .dataframe thead th {\n",
              "        text-align: right;\n",
              "    }\n",
              "</style>\n",
              "<table border=\"1\" class=\"dataframe\">\n",
              "  <thead>\n",
              "    <tr style=\"text-align: right;\">\n",
              "      <th></th>\n",
              "      <th>Open</th>\n",
              "      <th>High</th>\n",
              "      <th>Low</th>\n",
              "      <th>Close</th>\n",
              "      <th>Volume_(BTC)</th>\n",
              "      <th>Volume_(Currency)</th>\n",
              "      <th>Weighted_Price</th>\n",
              "      <th>USD_RUB</th>\n",
              "      <th>RUB</th>\n",
              "    </tr>\n",
              "  </thead>\n",
              "  <tbody>\n",
              "    <tr>\n",
              "      <th>2019-05-17 03:10:00</th>\n",
              "      <td>6250.000</td>\n",
              "      <td>6907.010</td>\n",
              "      <td>6178.000</td>\n",
              "      <td>6907.010</td>\n",
              "      <td>150.971</td>\n",
              "      <td>940847.083</td>\n",
              "      <td>6231.966</td>\n",
              "      <td>64.592</td>\n",
              "      <td>402537.020</td>\n",
              "    </tr>\n",
              "  </tbody>\n",
              "</table>\n",
              "</div>"
            ],
            "text/plain": [
              "                        Open     High  ...  USD_RUB        RUB\n",
              "2019-05-17 03:10:00 6250.000 6907.010  ...   64.592 402537.020\n",
              "\n",
              "[1 rows x 9 columns]"
            ]
          },
          "metadata": {
            "tags": []
          },
          "execution_count": 34
        }
      ]
    },
    {
      "cell_type": "code",
      "metadata": {
        "id": "cGaVn9d4M88g",
        "colab": {
          "base_uri": "https://localhost:8080/",
          "height": 545
        },
        "outputId": "dfa36720-a120-4175-d431-c10a670954b7"
      },
      "source": [
        "all_btc.loc['2019-05-17 03:00:00':'2019-05-17 03:15:00', :]"
      ],
      "execution_count": null,
      "outputs": [
        {
          "output_type": "execute_result",
          "data": {
            "text/html": [
              "<div>\n",
              "<style scoped>\n",
              "    .dataframe tbody tr th:only-of-type {\n",
              "        vertical-align: middle;\n",
              "    }\n",
              "\n",
              "    .dataframe tbody tr th {\n",
              "        vertical-align: top;\n",
              "    }\n",
              "\n",
              "    .dataframe thead th {\n",
              "        text-align: right;\n",
              "    }\n",
              "</style>\n",
              "<table border=\"1\" class=\"dataframe\">\n",
              "  <thead>\n",
              "    <tr style=\"text-align: right;\">\n",
              "      <th></th>\n",
              "      <th>Open</th>\n",
              "      <th>High</th>\n",
              "      <th>Low</th>\n",
              "      <th>Close</th>\n",
              "      <th>Volume_(BTC)</th>\n",
              "      <th>Volume_(Currency)</th>\n",
              "      <th>Weighted_Price</th>\n",
              "      <th>USD_RUB</th>\n",
              "      <th>RUB</th>\n",
              "    </tr>\n",
              "  </thead>\n",
              "  <tbody>\n",
              "    <tr>\n",
              "      <th>2019-05-17 03:00:00</th>\n",
              "      <td>7318.000</td>\n",
              "      <td>7318.000</td>\n",
              "      <td>7148.000</td>\n",
              "      <td>7148.000</td>\n",
              "      <td>385.747</td>\n",
              "      <td>2785189.151</td>\n",
              "      <td>7220.249</td>\n",
              "      <td>64.599</td>\n",
              "      <td>466419.399</td>\n",
              "    </tr>\n",
              "    <tr>\n",
              "      <th>2019-05-17 03:01:00</th>\n",
              "      <td>7147.000</td>\n",
              "      <td>7147.000</td>\n",
              "      <td>7100.020</td>\n",
              "      <td>7100.020</td>\n",
              "      <td>296.733</td>\n",
              "      <td>2108866.758</td>\n",
              "      <td>7106.941</td>\n",
              "      <td>64.603</td>\n",
              "      <td>459132.524</td>\n",
              "    </tr>\n",
              "    <tr>\n",
              "      <th>2019-05-17 03:02:00</th>\n",
              "      <td>7100.020</td>\n",
              "      <td>7100.020</td>\n",
              "      <td>7001.000</td>\n",
              "      <td>7001.000</td>\n",
              "      <td>448.353</td>\n",
              "      <td>3152032.649</td>\n",
              "      <td>7030.249</td>\n",
              "      <td>64.588</td>\n",
              "      <td>454069.736</td>\n",
              "    </tr>\n",
              "    <tr>\n",
              "      <th>2019-05-17 03:03:00</th>\n",
              "      <td>7001.000</td>\n",
              "      <td>7001.000</td>\n",
              "      <td>6844.440</td>\n",
              "      <td>6844.440</td>\n",
              "      <td>643.799</td>\n",
              "      <td>4457442.647</td>\n",
              "      <td>6923.657</td>\n",
              "      <td>64.612</td>\n",
              "      <td>447354.814</td>\n",
              "    </tr>\n",
              "    <tr>\n",
              "      <th>2019-05-17 03:04:00</th>\n",
              "      <td>6843.350</td>\n",
              "      <td>6843.350</td>\n",
              "      <td>6718.000</td>\n",
              "      <td>6718.000</td>\n",
              "      <td>213.999</td>\n",
              "      <td>1452791.035</td>\n",
              "      <td>6788.764</td>\n",
              "      <td>64.612</td>\n",
              "      <td>438639.018</td>\n",
              "    </tr>\n",
              "    <tr>\n",
              "      <th>2019-05-17 03:05:00</th>\n",
              "      <td>6718.000</td>\n",
              "      <td>6718.000</td>\n",
              "      <td>6606.000</td>\n",
              "      <td>6606.000</td>\n",
              "      <td>225.033</td>\n",
              "      <td>1500593.171</td>\n",
              "      <td>6668.329</td>\n",
              "      <td>64.616</td>\n",
              "      <td>430880.759</td>\n",
              "    </tr>\n",
              "    <tr>\n",
              "      <th>2019-05-17 03:06:00</th>\n",
              "      <td>6606.000</td>\n",
              "      <td>6606.000</td>\n",
              "      <td>6493.770</td>\n",
              "      <td>6493.770</td>\n",
              "      <td>338.266</td>\n",
              "      <td>2212210.056</td>\n",
              "      <td>6539.854</td>\n",
              "      <td>64.594</td>\n",
              "      <td>422438.598</td>\n",
              "    </tr>\n",
              "    <tr>\n",
              "      <th>2019-05-17 03:07:00</th>\n",
              "      <td>6492.000</td>\n",
              "      <td>6492.000</td>\n",
              "      <td>6420.000</td>\n",
              "      <td>6420.000</td>\n",
              "      <td>289.972</td>\n",
              "      <td>1874226.833</td>\n",
              "      <td>6463.466</td>\n",
              "      <td>64.592</td>\n",
              "      <td>417490.146</td>\n",
              "    </tr>\n",
              "    <tr>\n",
              "      <th>2019-05-17 03:08:00</th>\n",
              "      <td>6420.000</td>\n",
              "      <td>6420.000</td>\n",
              "      <td>6350.030</td>\n",
              "      <td>6350.030</td>\n",
              "      <td>185.181</td>\n",
              "      <td>1182485.622</td>\n",
              "      <td>6385.575</td>\n",
              "      <td>64.598</td>\n",
              "      <td>412492.788</td>\n",
              "    </tr>\n",
              "    <tr>\n",
              "      <th>2019-05-17 03:09:00</th>\n",
              "      <td>6350.000</td>\n",
              "      <td>6350.000</td>\n",
              "      <td>6250.000</td>\n",
              "      <td>6250.000</td>\n",
              "      <td>262.538</td>\n",
              "      <td>1654015.913</td>\n",
              "      <td>6300.090</td>\n",
              "      <td>64.592</td>\n",
              "      <td>406937.910</td>\n",
              "    </tr>\n",
              "    <tr>\n",
              "      <th>2019-05-17 03:10:00</th>\n",
              "      <td>6250.000</td>\n",
              "      <td>6907.010</td>\n",
              "      <td>6178.000</td>\n",
              "      <td>6907.010</td>\n",
              "      <td>150.971</td>\n",
              "      <td>940847.083</td>\n",
              "      <td>6231.966</td>\n",
              "      <td>64.592</td>\n",
              "      <td>402537.020</td>\n",
              "    </tr>\n",
              "    <tr>\n",
              "      <th>2019-05-17 03:11:00</th>\n",
              "      <td>6907.010</td>\n",
              "      <td>7217.300</td>\n",
              "      <td>6810.000</td>\n",
              "      <td>6810.000</td>\n",
              "      <td>126.366</td>\n",
              "      <td>885853.401</td>\n",
              "      <td>7010.238</td>\n",
              "      <td>64.592</td>\n",
              "      <td>452807.365</td>\n",
              "    </tr>\n",
              "    <tr>\n",
              "      <th>2019-05-17 03:12:00</th>\n",
              "      <td>6810.000</td>\n",
              "      <td>7320.610</td>\n",
              "      <td>6666.000</td>\n",
              "      <td>6775.340</td>\n",
              "      <td>155.564</td>\n",
              "      <td>1077596.221</td>\n",
              "      <td>6927.025</td>\n",
              "      <td>64.592</td>\n",
              "      <td>447433.181</td>\n",
              "    </tr>\n",
              "    <tr>\n",
              "      <th>2019-05-17 03:13:00</th>\n",
              "      <td>6666.000</td>\n",
              "      <td>6758.450</td>\n",
              "      <td>6620.000</td>\n",
              "      <td>6620.000</td>\n",
              "      <td>146.839</td>\n",
              "      <td>977001.287</td>\n",
              "      <td>6653.555</td>\n",
              "      <td>64.592</td>\n",
              "      <td>429769.097</td>\n",
              "    </tr>\n",
              "    <tr>\n",
              "      <th>2019-05-17 03:14:00</th>\n",
              "      <td>6691.280</td>\n",
              "      <td>6826.280</td>\n",
              "      <td>6600.000</td>\n",
              "      <td>6600.000</td>\n",
              "      <td>183.602</td>\n",
              "      <td>1230106.998</td>\n",
              "      <td>6699.866</td>\n",
              "      <td>64.592</td>\n",
              "      <td>432759.749</td>\n",
              "    </tr>\n",
              "    <tr>\n",
              "      <th>2019-05-17 03:15:00</th>\n",
              "      <td>6600.000</td>\n",
              "      <td>6877.610</td>\n",
              "      <td>6580.000</td>\n",
              "      <td>6877.610</td>\n",
              "      <td>74.934</td>\n",
              "      <td>506638.706</td>\n",
              "      <td>6761.107</td>\n",
              "      <td>64.592</td>\n",
              "      <td>436715.467</td>\n",
              "    </tr>\n",
              "  </tbody>\n",
              "</table>\n",
              "</div>"
            ],
            "text/plain": [
              "                        Open     High  ...  USD_RUB        RUB\n",
              "2019-05-17 03:00:00 7318.000 7318.000  ...   64.599 466419.399\n",
              "2019-05-17 03:01:00 7147.000 7147.000  ...   64.603 459132.524\n",
              "2019-05-17 03:02:00 7100.020 7100.020  ...   64.588 454069.736\n",
              "2019-05-17 03:03:00 7001.000 7001.000  ...   64.612 447354.814\n",
              "2019-05-17 03:04:00 6843.350 6843.350  ...   64.612 438639.018\n",
              "2019-05-17 03:05:00 6718.000 6718.000  ...   64.616 430880.759\n",
              "2019-05-17 03:06:00 6606.000 6606.000  ...   64.594 422438.598\n",
              "2019-05-17 03:07:00 6492.000 6492.000  ...   64.592 417490.146\n",
              "2019-05-17 03:08:00 6420.000 6420.000  ...   64.598 412492.788\n",
              "2019-05-17 03:09:00 6350.000 6350.000  ...   64.592 406937.910\n",
              "2019-05-17 03:10:00 6250.000 6907.010  ...   64.592 402537.020\n",
              "2019-05-17 03:11:00 6907.010 7217.300  ...   64.592 452807.365\n",
              "2019-05-17 03:12:00 6810.000 7320.610  ...   64.592 447433.181\n",
              "2019-05-17 03:13:00 6666.000 6758.450  ...   64.592 429769.097\n",
              "2019-05-17 03:14:00 6691.280 6826.280  ...   64.592 432759.749\n",
              "2019-05-17 03:15:00 6600.000 6877.610  ...   64.592 436715.467\n",
              "\n",
              "[16 rows x 9 columns]"
            ]
          },
          "metadata": {
            "tags": []
          },
          "execution_count": 35
        }
      ]
    },
    {
      "cell_type": "markdown",
      "metadata": {
        "id": "wx7xUKQZN06y"
      },
      "source": [
        "Начиная с 3:10 биткоин резко подорожал, после чего цена стала восстанавливаться к предыдущему значению очень медленно."
      ]
    },
    {
      "cell_type": "markdown",
      "metadata": {
        "id": "7qwbMTFSJww1"
      },
      "source": [
        "Как менялся курс доллара с течением времени:"
      ]
    },
    {
      "cell_type": "code",
      "metadata": {
        "id": "H1uoHZg8J1TL",
        "colab": {
          "base_uri": "https://localhost:8080/",
          "height": 272
        },
        "outputId": "2b915b14-28e8-4a34-ae5b-8e93370f5f3e"
      },
      "source": [
        "usd_rub.plot()"
      ],
      "execution_count": null,
      "outputs": [
        {
          "output_type": "execute_result",
          "data": {
            "text/plain": [
              "<matplotlib.axes._subplots.AxesSubplot at 0x7f7d159d1940>"
            ]
          },
          "metadata": {
            "tags": []
          },
          "execution_count": 36
        },
        {
          "output_type": "display_data",
          "data": {
            "image/png": "[encoded data removed]",
            "text/plain": [
              "<Figure size 432x288 with 1 Axes>"
            ]
          },
          "metadata": {
            "tags": []
          }
        }
      ]
    },
    {
      "cell_type": "markdown",
      "metadata": {
        "id": "f2m8OjDRIlvf"
      },
      "source": [
        "И, наконец, посмотрим зависимость цены доллара от стоимости биткоина:"
      ]
    },
    {
      "cell_type": "code",
      "metadata": {
        "id": "8XgRfQouI1yz",
        "colab": {
          "base_uri": "https://localhost:8080/",
          "height": 295
        },
        "outputId": "e52db294-8e27-492d-f4bc-8766cf68e5a9"
      },
      "source": [
        "all_btc.plot(kind='scatter', x='USD_RUB', y='Weighted_Price', alpha = 0.5, color = 'blue')\n",
        "plt.xlabel('USD Price')              # label = name of label\n",
        "plt.ylabel('BTC Price')\n",
        "plt.title('BTC-Currency Scatter Plot')  \n",
        "plt.show()"
      ],
      "execution_count": null,
      "outputs": [
        {
          "output_type": "display_data",
          "data": {
            "image/png": "[encoded data removed]",
            "text/plain": [
              "<Figure size 432x288 with 1 Axes>"
            ]
          },
          "metadata": {
            "tags": []
          }
        }
      ]
    },
    {
      "cell_type": "markdown",
      "metadata": {
        "id": "QSKormKCKLau"
      },
      "source": [
        "Биткоин набрал большую популярность в 2017, когда доллар был по 60-70р."
      ]
    },
    {
      "cell_type": "markdown",
      "metadata": {
        "id": "SrP4Wwo3RgVS"
      },
      "source": [
        "Выполним таже дополнительный анализ:\n",
        "2. Скачаем актуальные данные с того же сайта до 06.2020. Дорисуем все статистики и графики для добавленных данных.\n",
        "3. Посмотрим, сколько стоил биткоин, когда доллар имел максимальную цену;\n",
        "4. Нарисуем график изменения цены доллара за 2019 год;\n",
        "5. Отобразим на графике разницу между ценами открытия и закрытия. Определим когда она была максимальной."
      ]
    },
    {
      "cell_type": "markdown",
      "source": [
        "2. Скачаем актуальные данные с того же сайта до 06.2020. Дорисуем все статистики и графики для добавленных данных."
      ],
      "metadata": {
        "id": "wZvjGFHLayct"
      }
    },
    {
      "cell_type": "code",
      "source": [
        "!pip install -U -q PyDrive\n",
        "\n",
        "from pydrive.auth import GoogleAuth\n",
        "from pydrive.drive import GoogleDrive\n",
        "from google.colab import auth\n",
        "from oauth2client.client import GoogleCredentials\n",
        "\n",
        "# 1. Authenticate and create the PyDrive client.\n",
        "auth.authenticate_user()\n",
        "gauth = GoogleAuth()\n",
        "gauth.credentials = GoogleCredentials.get_application_default()\n",
        "drive = GoogleDrive(gauth)\n",
        "\n",
        "from google.colab import auth\n",
        "auth.authenticate_user()\n",
        "\n",
        "from googleapiclient.discovery import build\n",
        "drive_service = build('drive', 'v3')"
      ],
      "metadata": {
        "id": "89lo6rxNynwZ"
      },
      "execution_count": null,
      "outputs": []
    },
    {
      "cell_type": "code",
      "source": [
        "# from google.colab import drive\n",
        "# drive.mount('/content/drive')"
      ],
      "metadata": {
        "id": "XGD2zuEa5VOw"
      },
      "execution_count": null,
      "outputs": []
    },
    {
      "cell_type": "code",
      "source": [
        "# https://drive.google.com/file/d/1yCsy4tNT3Ti9WP7ucWvTnBFBPZavMDPA/view?usp=sharing\n",
        "BTC_USD = \"1yCsy4tNT3Ti9WP7ucWvTnBFBPZavMDPA\"\n",
        "\n",
        "BTC_USD_file = drive.CreateFile({'id': BTC_USD }) #DRIVE_FILE_ID is file id example: 1iytA1n2z4go3uVCwE_vIKouTKyIDjEq\n",
        "print(BTC_USD_file['title'])  \n",
        "BTC_USD_file.GetContentFile(BTC_USD_file['title'])  # Save Drive file as a local file"
      ],
      "metadata": {
        "colab": {
          "base_uri": "https://localhost:8080/"
        },
        "id": "XydnhHW2yq0u",
        "outputId": "1782cfed-ccbe-48f2-dd83-49f1eae7b8de"
      },
      "execution_count": null,
      "outputs": [
        {
          "output_type": "stream",
          "name": "stdout",
          "text": [
            "Bitcoin_Historical_Data.zip\n"
          ]
        }
      ]
    },
    {
      "cell_type": "code",
      "source": [
        "!unzip {BTC_USD_file['title']}"
      ],
      "metadata": {
        "colab": {
          "base_uri": "https://localhost:8080/"
        },
        "id": "fY6sxHp5zqsS",
        "outputId": "97c53c7d-3780-4060-ccec-00a07f968d13"
      },
      "execution_count": null,
      "outputs": [
        {
          "output_type": "stream",
          "name": "stdout",
          "text": [
            "Archive:  Bitcoin_Historical_Data.zip\n",
            "  inflating: bitstampUSD_1-min_data_2012-01-01_to_2021-03-31.csv  \n"
          ]
        }
      ]
    },
    {
      "cell_type": "code",
      "source": [
        "# https://drive.google.com/file/d/1aFHULXfzRmGHMp0ZgwXn98mmtcQVgMIB/view?usp=sharing\n",
        "USD_RUB = '1aFHULXfzRmGHMp0ZgwXn98mmtcQVgMIB'\n",
        "USD_RUB_file = drive.CreateFile({'id': USD_RUB }) #DRIVE_FILE_ID is file id example: 1iytA1n2z4go3uVCwE_vIKouTKyIDjEq\n",
        "print(USD_RUB_file['title'])  \n",
        "USD_RUB_file.GetContentFile(USD_RUB_file['title'])  # Save Drive file as a local file"
      ],
      "metadata": {
        "colab": {
          "base_uri": "https://localhost:8080/"
        },
        "id": "kbbDIMz0z7mN",
        "outputId": "098b6094-94f3-4138-d88d-753e6a6da48b"
      },
      "execution_count": null,
      "outputs": [
        {
          "output_type": "stream",
          "name": "stdout",
          "text": [
            "RUB_USD.zip\n"
          ]
        }
      ]
    },
    {
      "cell_type": "code",
      "source": [
        "!unzip {USD_RUB_file['title']}"
      ],
      "metadata": {
        "colab": {
          "base_uri": "https://localhost:8080/"
        },
        "id": "YnqEhucA4TW_",
        "outputId": "f53a43ae-59bd-4067-f905-ed3f7fa029c6"
      },
      "execution_count": null,
      "outputs": [
        {
          "output_type": "stream",
          "name": "stdout",
          "text": [
            "Archive:  RUB_USD.zip\n",
            "  inflating: RC_F21_03_2000_T21_03_2020.xlsx  \n"
          ]
        }
      ]
    },
    {
      "cell_type": "code",
      "source": [
        "import numpy as np\n",
        "import pandas as pd\n",
        "import matplotlib.pyplot as plt\n",
        "import seaborn as sns\n",
        "import datetime\n",
        "\n",
        "plt.style.use('dark_background')\n",
        "pd.set_option('display.float_format', lambda x: '%.3f' % x)"
      ],
      "metadata": {
        "id": "erEwX_p882iK"
      },
      "execution_count": null,
      "outputs": []
    },
    {
      "cell_type": "code",
      "source": [
        "btc = pd.read_csv('bitstampUSD_1-min_data_2012-01-01_to_2021-03-31.csv')\n",
        "btc"
      ],
      "metadata": {
        "colab": {
          "base_uri": "https://localhost:8080/",
          "height": 424
        },
        "id": "YX-lBOr09eL_",
        "outputId": "4799f5b9-f672-4030-832e-e967c0592660"
      },
      "execution_count": null,
      "outputs": [
        {
          "output_type": "execute_result",
          "data": {
            "text/html": [
              "\n",
              "  <div id=\"df-e4d2b9f8-1834-4153-aa22-97681ca143b1\">\n",
              "    <div class=\"colab-df-container\">\n",
              "      <div>\n",
              "<style scoped>\n",
              "    .dataframe tbody tr th:only-of-type {\n",
              "        vertical-align: middle;\n",
              "    }\n",
              "\n",
              "    .dataframe tbody tr th {\n",
              "        vertical-align: top;\n",
              "    }\n",
              "\n",
              "    .dataframe thead th {\n",
              "        text-align: right;\n",
              "    }\n",
              "</style>\n",
              "<table border=\"1\" class=\"dataframe\">\n",
              "  <thead>\n",
              "    <tr style=\"text-align: right;\">\n",
              "      <th></th>\n",
              "      <th>Timestamp</th>\n",
              "      <th>Open</th>\n",
              "      <th>High</th>\n",
              "      <th>Low</th>\n",
              "      <th>Close</th>\n",
              "      <th>Volume_(BTC)</th>\n",
              "      <th>Volume_(Currency)</th>\n",
              "      <th>Weighted_Price</th>\n",
              "    </tr>\n",
              "  </thead>\n",
              "  <tbody>\n",
              "    <tr>\n",
              "      <th>0</th>\n",
              "      <td>1325317920</td>\n",
              "      <td>4.390</td>\n",
              "      <td>4.390</td>\n",
              "      <td>4.390</td>\n",
              "      <td>4.390</td>\n",
              "      <td>0.456</td>\n",
              "      <td>2.000</td>\n",
              "      <td>4.390</td>\n",
              "    </tr>\n",
              "    <tr>\n",
              "      <th>1</th>\n",
              "      <td>1325317980</td>\n",
              "      <td>nan</td>\n",
              "      <td>nan</td>\n",
              "      <td>nan</td>\n",
              "      <td>nan</td>\n",
              "      <td>nan</td>\n",
              "      <td>nan</td>\n",
              "      <td>nan</td>\n",
              "    </tr>\n",
              "    <tr>\n",
              "      <th>2</th>\n",
              "      <td>1325318040</td>\n",
              "      <td>nan</td>\n",
              "      <td>nan</td>\n",
              "      <td>nan</td>\n",
              "      <td>nan</td>\n",
              "      <td>nan</td>\n",
              "      <td>nan</td>\n",
              "      <td>nan</td>\n",
              "    </tr>\n",
              "    <tr>\n",
              "      <th>3</th>\n",
              "      <td>1325318100</td>\n",
              "      <td>nan</td>\n",
              "      <td>nan</td>\n",
              "      <td>nan</td>\n",
              "      <td>nan</td>\n",
              "      <td>nan</td>\n",
              "      <td>nan</td>\n",
              "      <td>nan</td>\n",
              "    </tr>\n",
              "    <tr>\n",
              "      <th>4</th>\n",
              "      <td>1325318160</td>\n",
              "      <td>nan</td>\n",
              "      <td>nan</td>\n",
              "      <td>nan</td>\n",
              "      <td>nan</td>\n",
              "      <td>nan</td>\n",
              "      <td>nan</td>\n",
              "      <td>nan</td>\n",
              "    </tr>\n",
              "    <tr>\n",
              "      <th>...</th>\n",
              "      <td>...</td>\n",
              "      <td>...</td>\n",
              "      <td>...</td>\n",
              "      <td>...</td>\n",
              "      <td>...</td>\n",
              "      <td>...</td>\n",
              "      <td>...</td>\n",
              "      <td>...</td>\n",
              "    </tr>\n",
              "    <tr>\n",
              "      <th>4857372</th>\n",
              "      <td>1617148560</td>\n",
              "      <td>58714.310</td>\n",
              "      <td>58714.310</td>\n",
              "      <td>58686.000</td>\n",
              "      <td>58686.000</td>\n",
              "      <td>1.384</td>\n",
              "      <td>81259.372</td>\n",
              "      <td>58692.753</td>\n",
              "    </tr>\n",
              "    <tr>\n",
              "      <th>4857373</th>\n",
              "      <td>1617148620</td>\n",
              "      <td>58683.970</td>\n",
              "      <td>58693.430</td>\n",
              "      <td>58683.970</td>\n",
              "      <td>58685.810</td>\n",
              "      <td>7.295</td>\n",
              "      <td>428158.147</td>\n",
              "      <td>58693.227</td>\n",
              "    </tr>\n",
              "    <tr>\n",
              "      <th>4857374</th>\n",
              "      <td>1617148680</td>\n",
              "      <td>58693.430</td>\n",
              "      <td>58723.840</td>\n",
              "      <td>58693.430</td>\n",
              "      <td>58723.840</td>\n",
              "      <td>1.706</td>\n",
              "      <td>100117.070</td>\n",
              "      <td>58696.198</td>\n",
              "    </tr>\n",
              "    <tr>\n",
              "      <th>4857375</th>\n",
              "      <td>1617148740</td>\n",
              "      <td>58742.180</td>\n",
              "      <td>58770.380</td>\n",
              "      <td>58742.180</td>\n",
              "      <td>58760.590</td>\n",
              "      <td>0.720</td>\n",
              "      <td>42332.959</td>\n",
              "      <td>58761.866</td>\n",
              "    </tr>\n",
              "    <tr>\n",
              "      <th>4857376</th>\n",
              "      <td>1617148800</td>\n",
              "      <td>58767.750</td>\n",
              "      <td>58778.180</td>\n",
              "      <td>58755.970</td>\n",
              "      <td>58778.180</td>\n",
              "      <td>2.713</td>\n",
              "      <td>159417.751</td>\n",
              "      <td>58764.349</td>\n",
              "    </tr>\n",
              "  </tbody>\n",
              "</table>\n",
              "<p>4857377 rows × 8 columns</p>\n",
              "</div>\n",
              "      <button class=\"colab-df-convert\" onclick=\"convertToInteractive('df-e4d2b9f8-1834-4153-aa22-97681ca143b1')\"\n",
              "              title=\"Convert this dataframe to an interactive table.\"\n",
              "              style=\"display:none;\">\n",
              "        \n",
              "  <svg xmlns=\"http://www.w3.org/2000/svg\" height=\"24px\"viewBox=\"0 0 24 24\"\n",
              "       width=\"24px\">\n",
              "    <path d=\"M0 0h24v24H0V0z\" fill=\"none\"/>\n",
              "    <path d=\"M18.56 5.44l.94 2.06.94-2.06 2.06-.94-2.06-.94-.94-2.06-.94 2.06-2.06.94zm-11 1L8.5 8.5l.94-2.06 2.06-.94-2.06-.94L8.5 2.5l-.94 2.06-2.06.94zm10 10l.94 2.06.94-2.06 2.06-.94-2.06-.94-.94-2.06-.94 2.06-2.06.94z\"/><path d=\"M17.41 7.96l-1.37-1.37c-.4-.4-.92-.59-1.43-.59-.52 0-1.04.2-1.43.59L10.3 9.45l-7.72 7.72c-.78.78-.78 2.05 0 2.83L4 21.41c.39.39.9.59 1.41.59.51 0 1.02-.2 1.41-.59l7.78-7.78 2.81-2.81c.8-.78.8-2.07 0-2.86zM5.41 20L4 18.59l7.72-7.72 1.47 1.35L5.41 20z\"/>\n",
              "  </svg>\n",
              "      </button>\n",
              "      \n",
              "  <style>\n",
              "    .colab-df-container {\n",
              "      display:flex;\n",
              "      flex-wrap:wrap;\n",
              "      gap: 12px;\n",
              "    }\n",
              "\n",
              "    .colab-df-convert {\n",
              "      background-color: #E8F0FE;\n",
              "      border: none;\n",
              "      border-radius: 50%;\n",
              "      cursor: pointer;\n",
              "      display: none;\n",
              "      fill: #1967D2;\n",
              "      height: 32px;\n",
              "      padding: 0 0 0 0;\n",
              "      width: 32px;\n",
              "    }\n",
              "\n",
              "    .colab-df-convert:hover {\n",
              "      background-color: #E2EBFA;\n",
              "      box-shadow: 0px 1px 2px rgba(60, 64, 67, 0.3), 0px 1px 3px 1px rgba(60, 64, 67, 0.15);\n",
              "      fill: #174EA6;\n",
              "    }\n",
              "\n",
              "    [theme=dark] .colab-df-convert {\n",
              "      background-color: #3B4455;\n",
              "      fill: #D2E3FC;\n",
              "    }\n",
              "\n",
              "    [theme=dark] .colab-df-convert:hover {\n",
              "      background-color: #434B5C;\n",
              "      box-shadow: 0px 1px 3px 1px rgba(0, 0, 0, 0.15);\n",
              "      filter: drop-shadow(0px 1px 2px rgba(0, 0, 0, 0.3));\n",
              "      fill: #FFFFFF;\n",
              "    }\n",
              "  </style>\n",
              "\n",
              "      <script>\n",
              "        const buttonEl =\n",
              "          document.querySelector('#df-e4d2b9f8-1834-4153-aa22-97681ca143b1 button.colab-df-convert');\n",
              "        buttonEl.style.display =\n",
              "          google.colab.kernel.accessAllowed ? 'block' : 'none';\n",
              "\n",
              "        async function convertToInteractive(key) {\n",
              "          const element = document.querySelector('#df-e4d2b9f8-1834-4153-aa22-97681ca143b1');\n",
              "          const dataTable =\n",
              "            await google.colab.kernel.invokeFunction('convertToInteractive',\n",
              "                                                     [key], {});\n",
              "          if (!dataTable) return;\n",
              "\n",
              "          const docLinkHtml = 'Like what you see? Visit the ' +\n",
              "            '<a target=\"_blank\" href=https://colab.research.google.com/notebooks/data_table.ipynb>data table notebook</a>'\n",
              "            + ' to learn more about interactive tables.';\n",
              "          element.innerHTML = '';\n",
              "          dataTable['output_type'] = 'display_data';\n",
              "          await google.colab.output.renderOutput(dataTable, element);\n",
              "          const docLink = document.createElement('div');\n",
              "          docLink.innerHTML = docLinkHtml;\n",
              "          element.appendChild(docLink);\n",
              "        }\n",
              "      </script>\n",
              "    </div>\n",
              "  </div>\n",
              "  "
            ],
            "text/plain": [
              "          Timestamp      Open  ...  Volume_(Currency)  Weighted_Price\n",
              "0        1325317920     4.390  ...              2.000           4.390\n",
              "1        1325317980       nan  ...                nan             nan\n",
              "2        1325318040       nan  ...                nan             nan\n",
              "3        1325318100       nan  ...                nan             nan\n",
              "4        1325318160       nan  ...                nan             nan\n",
              "...             ...       ...  ...                ...             ...\n",
              "4857372  1617148560 58714.310  ...          81259.372       58692.753\n",
              "4857373  1617148620 58683.970  ...         428158.147       58693.227\n",
              "4857374  1617148680 58693.430  ...         100117.070       58696.198\n",
              "4857375  1617148740 58742.180  ...          42332.959       58761.866\n",
              "4857376  1617148800 58767.750  ...         159417.751       58764.349\n",
              "\n",
              "[4857377 rows x 8 columns]"
            ]
          },
          "metadata": {},
          "execution_count": 9
        }
      ]
    },
    {
      "cell_type": "code",
      "source": [
        "#Вывод: данных очень много.\n",
        "#Приведем к читаемому виду Timestamp:"
      ],
      "metadata": {
        "id": "w1BdpGLYo31r"
      },
      "execution_count": null,
      "outputs": []
    },
    {
      "cell_type": "code",
      "source": [
        "btc.index = btc['Timestamp'].apply(lambda x: datetime.datetime.fromtimestamp(x))\n",
        "del btc['Timestamp']\n",
        "btc.head()"
      ],
      "metadata": {
        "colab": {
          "base_uri": "https://localhost:8080/",
          "height": 238
        },
        "id": "O2Ynw0gN-tTJ",
        "outputId": "28e185bb-4433-4d21-8227-e2b5fd02efaf"
      },
      "execution_count": null,
      "outputs": [
        {
          "output_type": "execute_result",
          "data": {
            "text/html": [
              "\n",
              "  <div id=\"df-9ab634d5-0557-4e49-b715-5c26f8dce6e9\">\n",
              "    <div class=\"colab-df-container\">\n",
              "      <div>\n",
              "<style scoped>\n",
              "    .dataframe tbody tr th:only-of-type {\n",
              "        vertical-align: middle;\n",
              "    }\n",
              "\n",
              "    .dataframe tbody tr th {\n",
              "        vertical-align: top;\n",
              "    }\n",
              "\n",
              "    .dataframe thead th {\n",
              "        text-align: right;\n",
              "    }\n",
              "</style>\n",
              "<table border=\"1\" class=\"dataframe\">\n",
              "  <thead>\n",
              "    <tr style=\"text-align: right;\">\n",
              "      <th></th>\n",
              "      <th>Open</th>\n",
              "      <th>High</th>\n",
              "      <th>Low</th>\n",
              "      <th>Close</th>\n",
              "      <th>Volume_(BTC)</th>\n",
              "      <th>Volume_(Currency)</th>\n",
              "      <th>Weighted_Price</th>\n",
              "    </tr>\n",
              "    <tr>\n",
              "      <th>Timestamp</th>\n",
              "      <th></th>\n",
              "      <th></th>\n",
              "      <th></th>\n",
              "      <th></th>\n",
              "      <th></th>\n",
              "      <th></th>\n",
              "      <th></th>\n",
              "    </tr>\n",
              "  </thead>\n",
              "  <tbody>\n",
              "    <tr>\n",
              "      <th>2011-12-31 07:52:00</th>\n",
              "      <td>4.390</td>\n",
              "      <td>4.390</td>\n",
              "      <td>4.390</td>\n",
              "      <td>4.390</td>\n",
              "      <td>0.456</td>\n",
              "      <td>2.000</td>\n",
              "      <td>4.390</td>\n",
              "    </tr>\n",
              "    <tr>\n",
              "      <th>2011-12-31 07:53:00</th>\n",
              "      <td>nan</td>\n",
              "      <td>nan</td>\n",
              "      <td>nan</td>\n",
              "      <td>nan</td>\n",
              "      <td>nan</td>\n",
              "      <td>nan</td>\n",
              "      <td>nan</td>\n",
              "    </tr>\n",
              "    <tr>\n",
              "      <th>2011-12-31 07:54:00</th>\n",
              "      <td>nan</td>\n",
              "      <td>nan</td>\n",
              "      <td>nan</td>\n",
              "      <td>nan</td>\n",
              "      <td>nan</td>\n",
              "      <td>nan</td>\n",
              "      <td>nan</td>\n",
              "    </tr>\n",
              "    <tr>\n",
              "      <th>2011-12-31 07:55:00</th>\n",
              "      <td>nan</td>\n",
              "      <td>nan</td>\n",
              "      <td>nan</td>\n",
              "      <td>nan</td>\n",
              "      <td>nan</td>\n",
              "      <td>nan</td>\n",
              "      <td>nan</td>\n",
              "    </tr>\n",
              "    <tr>\n",
              "      <th>2011-12-31 07:56:00</th>\n",
              "      <td>nan</td>\n",
              "      <td>nan</td>\n",
              "      <td>nan</td>\n",
              "      <td>nan</td>\n",
              "      <td>nan</td>\n",
              "      <td>nan</td>\n",
              "      <td>nan</td>\n",
              "    </tr>\n",
              "  </tbody>\n",
              "</table>\n",
              "</div>\n",
              "      <button class=\"colab-df-convert\" onclick=\"convertToInteractive('df-9ab634d5-0557-4e49-b715-5c26f8dce6e9')\"\n",
              "              title=\"Convert this dataframe to an interactive table.\"\n",
              "              style=\"display:none;\">\n",
              "        \n",
              "  <svg xmlns=\"http://www.w3.org/2000/svg\" height=\"24px\"viewBox=\"0 0 24 24\"\n",
              "       width=\"24px\">\n",
              "    <path d=\"M0 0h24v24H0V0z\" fill=\"none\"/>\n",
              "    <path d=\"M18.56 5.44l.94 2.06.94-2.06 2.06-.94-2.06-.94-.94-2.06-.94 2.06-2.06.94zm-11 1L8.5 8.5l.94-2.06 2.06-.94-2.06-.94L8.5 2.5l-.94 2.06-2.06.94zm10 10l.94 2.06.94-2.06 2.06-.94-2.06-.94-.94-2.06-.94 2.06-2.06.94z\"/><path d=\"M17.41 7.96l-1.37-1.37c-.4-.4-.92-.59-1.43-.59-.52 0-1.04.2-1.43.59L10.3 9.45l-7.72 7.72c-.78.78-.78 2.05 0 2.83L4 21.41c.39.39.9.59 1.41.59.51 0 1.02-.2 1.41-.59l7.78-7.78 2.81-2.81c.8-.78.8-2.07 0-2.86zM5.41 20L4 18.59l7.72-7.72 1.47 1.35L5.41 20z\"/>\n",
              "  </svg>\n",
              "      </button>\n",
              "      \n",
              "  <style>\n",
              "    .colab-df-container {\n",
              "      display:flex;\n",
              "      flex-wrap:wrap;\n",
              "      gap: 12px;\n",
              "    }\n",
              "\n",
              "    .colab-df-convert {\n",
              "      background-color: #E8F0FE;\n",
              "      border: none;\n",
              "      border-radius: 50%;\n",
              "      cursor: pointer;\n",
              "      display: none;\n",
              "      fill: #1967D2;\n",
              "      height: 32px;\n",
              "      padding: 0 0 0 0;\n",
              "      width: 32px;\n",
              "    }\n",
              "\n",
              "    .colab-df-convert:hover {\n",
              "      background-color: #E2EBFA;\n",
              "      box-shadow: 0px 1px 2px rgba(60, 64, 67, 0.3), 0px 1px 3px 1px rgba(60, 64, 67, 0.15);\n",
              "      fill: #174EA6;\n",
              "    }\n",
              "\n",
              "    [theme=dark] .colab-df-convert {\n",
              "      background-color: #3B4455;\n",
              "      fill: #D2E3FC;\n",
              "    }\n",
              "\n",
              "    [theme=dark] .colab-df-convert:hover {\n",
              "      background-color: #434B5C;\n",
              "      box-shadow: 0px 1px 3px 1px rgba(0, 0, 0, 0.15);\n",
              "      filter: drop-shadow(0px 1px 2px rgba(0, 0, 0, 0.3));\n",
              "      fill: #FFFFFF;\n",
              "    }\n",
              "  </style>\n",
              "\n",
              "      <script>\n",
              "        const buttonEl =\n",
              "          document.querySelector('#df-9ab634d5-0557-4e49-b715-5c26f8dce6e9 button.colab-df-convert');\n",
              "        buttonEl.style.display =\n",
              "          google.colab.kernel.accessAllowed ? 'block' : 'none';\n",
              "\n",
              "        async function convertToInteractive(key) {\n",
              "          const element = document.querySelector('#df-9ab634d5-0557-4e49-b715-5c26f8dce6e9');\n",
              "          const dataTable =\n",
              "            await google.colab.kernel.invokeFunction('convertToInteractive',\n",
              "                                                     [key], {});\n",
              "          if (!dataTable) return;\n",
              "\n",
              "          const docLinkHtml = 'Like what you see? Visit the ' +\n",
              "            '<a target=\"_blank\" href=https://colab.research.google.com/notebooks/data_table.ipynb>data table notebook</a>'\n",
              "            + ' to learn more about interactive tables.';\n",
              "          element.innerHTML = '';\n",
              "          dataTable['output_type'] = 'display_data';\n",
              "          await google.colab.output.renderOutput(dataTable, element);\n",
              "          const docLink = document.createElement('div');\n",
              "          docLink.innerHTML = docLinkHtml;\n",
              "          element.appendChild(docLink);\n",
              "        }\n",
              "      </script>\n",
              "    </div>\n",
              "  </div>\n",
              "  "
            ],
            "text/plain": [
              "                     Open  High  ...  Volume_(Currency)  Weighted_Price\n",
              "Timestamp                        ...                                   \n",
              "2011-12-31 07:52:00 4.390 4.390  ...              2.000           4.390\n",
              "2011-12-31 07:53:00   nan   nan  ...                nan             nan\n",
              "2011-12-31 07:54:00   nan   nan  ...                nan             nan\n",
              "2011-12-31 07:55:00   nan   nan  ...                nan             nan\n",
              "2011-12-31 07:56:00   nan   nan  ...                nan             nan\n",
              "\n",
              "[5 rows x 7 columns]"
            ]
          },
          "metadata": {},
          "execution_count": 10
        }
      ]
    },
    {
      "cell_type": "code",
      "source": [
        "btc.dropna(inplace=True) #удалим все значения NAN\n",
        "btc"
      ],
      "metadata": {
        "colab": {
          "base_uri": "https://localhost:8080/",
          "height": 455
        },
        "id": "V7Q60WvO_r4v",
        "outputId": "b311ef98-6aad-4409-c0b4-6c1841a8f2bb"
      },
      "execution_count": null,
      "outputs": [
        {
          "output_type": "execute_result",
          "data": {
            "text/html": [
              "\n",
              "  <div id=\"df-6b3d7c8a-a485-4b88-b219-b734f7a36441\">\n",
              "    <div class=\"colab-df-container\">\n",
              "      <div>\n",
              "<style scoped>\n",
              "    .dataframe tbody tr th:only-of-type {\n",
              "        vertical-align: middle;\n",
              "    }\n",
              "\n",
              "    .dataframe tbody tr th {\n",
              "        vertical-align: top;\n",
              "    }\n",
              "\n",
              "    .dataframe thead th {\n",
              "        text-align: right;\n",
              "    }\n",
              "</style>\n",
              "<table border=\"1\" class=\"dataframe\">\n",
              "  <thead>\n",
              "    <tr style=\"text-align: right;\">\n",
              "      <th></th>\n",
              "      <th>Open</th>\n",
              "      <th>High</th>\n",
              "      <th>Low</th>\n",
              "      <th>Close</th>\n",
              "      <th>Volume_(BTC)</th>\n",
              "      <th>Volume_(Currency)</th>\n",
              "      <th>Weighted_Price</th>\n",
              "    </tr>\n",
              "    <tr>\n",
              "      <th>Timestamp</th>\n",
              "      <th></th>\n",
              "      <th></th>\n",
              "      <th></th>\n",
              "      <th></th>\n",
              "      <th></th>\n",
              "      <th></th>\n",
              "      <th></th>\n",
              "    </tr>\n",
              "  </thead>\n",
              "  <tbody>\n",
              "    <tr>\n",
              "      <th>2011-12-31 07:52:00</th>\n",
              "      <td>4.390</td>\n",
              "      <td>4.390</td>\n",
              "      <td>4.390</td>\n",
              "      <td>4.390</td>\n",
              "      <td>0.456</td>\n",
              "      <td>2.000</td>\n",
              "      <td>4.390</td>\n",
              "    </tr>\n",
              "    <tr>\n",
              "      <th>2011-12-31 15:50:00</th>\n",
              "      <td>4.390</td>\n",
              "      <td>4.390</td>\n",
              "      <td>4.390</td>\n",
              "      <td>4.390</td>\n",
              "      <td>48.000</td>\n",
              "      <td>210.720</td>\n",
              "      <td>4.390</td>\n",
              "    </tr>\n",
              "    <tr>\n",
              "      <th>2011-12-31 16:59:00</th>\n",
              "      <td>4.500</td>\n",
              "      <td>4.570</td>\n",
              "      <td>4.500</td>\n",
              "      <td>4.570</td>\n",
              "      <td>37.862</td>\n",
              "      <td>171.380</td>\n",
              "      <td>4.526</td>\n",
              "    </tr>\n",
              "    <tr>\n",
              "      <th>2011-12-31 17:00:00</th>\n",
              "      <td>4.580</td>\n",
              "      <td>4.580</td>\n",
              "      <td>4.580</td>\n",
              "      <td>4.580</td>\n",
              "      <td>9.000</td>\n",
              "      <td>41.220</td>\n",
              "      <td>4.580</td>\n",
              "    </tr>\n",
              "    <tr>\n",
              "      <th>2012-01-01 04:16:00</th>\n",
              "      <td>4.580</td>\n",
              "      <td>4.580</td>\n",
              "      <td>4.580</td>\n",
              "      <td>4.580</td>\n",
              "      <td>1.502</td>\n",
              "      <td>6.879</td>\n",
              "      <td>4.580</td>\n",
              "    </tr>\n",
              "    <tr>\n",
              "      <th>...</th>\n",
              "      <td>...</td>\n",
              "      <td>...</td>\n",
              "      <td>...</td>\n",
              "      <td>...</td>\n",
              "      <td>...</td>\n",
              "      <td>...</td>\n",
              "      <td>...</td>\n",
              "    </tr>\n",
              "    <tr>\n",
              "      <th>2021-03-30 23:56:00</th>\n",
              "      <td>58714.310</td>\n",
              "      <td>58714.310</td>\n",
              "      <td>58686.000</td>\n",
              "      <td>58686.000</td>\n",
              "      <td>1.384</td>\n",
              "      <td>81259.372</td>\n",
              "      <td>58692.753</td>\n",
              "    </tr>\n",
              "    <tr>\n",
              "      <th>2021-03-30 23:57:00</th>\n",
              "      <td>58683.970</td>\n",
              "      <td>58693.430</td>\n",
              "      <td>58683.970</td>\n",
              "      <td>58685.810</td>\n",
              "      <td>7.295</td>\n",
              "      <td>428158.147</td>\n",
              "      <td>58693.227</td>\n",
              "    </tr>\n",
              "    <tr>\n",
              "      <th>2021-03-30 23:58:00</th>\n",
              "      <td>58693.430</td>\n",
              "      <td>58723.840</td>\n",
              "      <td>58693.430</td>\n",
              "      <td>58723.840</td>\n",
              "      <td>1.706</td>\n",
              "      <td>100117.070</td>\n",
              "      <td>58696.198</td>\n",
              "    </tr>\n",
              "    <tr>\n",
              "      <th>2021-03-30 23:59:00</th>\n",
              "      <td>58742.180</td>\n",
              "      <td>58770.380</td>\n",
              "      <td>58742.180</td>\n",
              "      <td>58760.590</td>\n",
              "      <td>0.720</td>\n",
              "      <td>42332.959</td>\n",
              "      <td>58761.866</td>\n",
              "    </tr>\n",
              "    <tr>\n",
              "      <th>2021-03-31 00:00:00</th>\n",
              "      <td>58767.750</td>\n",
              "      <td>58778.180</td>\n",
              "      <td>58755.970</td>\n",
              "      <td>58778.180</td>\n",
              "      <td>2.713</td>\n",
              "      <td>159417.751</td>\n",
              "      <td>58764.349</td>\n",
              "    </tr>\n",
              "  </tbody>\n",
              "</table>\n",
              "<p>3613769 rows × 7 columns</p>\n",
              "</div>\n",
              "      <button class=\"colab-df-convert\" onclick=\"convertToInteractive('df-6b3d7c8a-a485-4b88-b219-b734f7a36441')\"\n",
              "              title=\"Convert this dataframe to an interactive table.\"\n",
              "              style=\"display:none;\">\n",
              "        \n",
              "  <svg xmlns=\"http://www.w3.org/2000/svg\" height=\"24px\"viewBox=\"0 0 24 24\"\n",
              "       width=\"24px\">\n",
              "    <path d=\"M0 0h24v24H0V0z\" fill=\"none\"/>\n",
              "    <path d=\"M18.56 5.44l.94 2.06.94-2.06 2.06-.94-2.06-.94-.94-2.06-.94 2.06-2.06.94zm-11 1L8.5 8.5l.94-2.06 2.06-.94-2.06-.94L8.5 2.5l-.94 2.06-2.06.94zm10 10l.94 2.06.94-2.06 2.06-.94-2.06-.94-.94-2.06-.94 2.06-2.06.94z\"/><path d=\"M17.41 7.96l-1.37-1.37c-.4-.4-.92-.59-1.43-.59-.52 0-1.04.2-1.43.59L10.3 9.45l-7.72 7.72c-.78.78-.78 2.05 0 2.83L4 21.41c.39.39.9.59 1.41.59.51 0 1.02-.2 1.41-.59l7.78-7.78 2.81-2.81c.8-.78.8-2.07 0-2.86zM5.41 20L4 18.59l7.72-7.72 1.47 1.35L5.41 20z\"/>\n",
              "  </svg>\n",
              "      </button>\n",
              "      \n",
              "  <style>\n",
              "    .colab-df-container {\n",
              "      display:flex;\n",
              "      flex-wrap:wrap;\n",
              "      gap: 12px;\n",
              "    }\n",
              "\n",
              "    .colab-df-convert {\n",
              "      background-color: #E8F0FE;\n",
              "      border: none;\n",
              "      border-radius: 50%;\n",
              "      cursor: pointer;\n",
              "      display: none;\n",
              "      fill: #1967D2;\n",
              "      height: 32px;\n",
              "      padding: 0 0 0 0;\n",
              "      width: 32px;\n",
              "    }\n",
              "\n",
              "    .colab-df-convert:hover {\n",
              "      background-color: #E2EBFA;\n",
              "      box-shadow: 0px 1px 2px rgba(60, 64, 67, 0.3), 0px 1px 3px 1px rgba(60, 64, 67, 0.15);\n",
              "      fill: #174EA6;\n",
              "    }\n",
              "\n",
              "    [theme=dark] .colab-df-convert {\n",
              "      background-color: #3B4455;\n",
              "      fill: #D2E3FC;\n",
              "    }\n",
              "\n",
              "    [theme=dark] .colab-df-convert:hover {\n",
              "      background-color: #434B5C;\n",
              "      box-shadow: 0px 1px 3px 1px rgba(0, 0, 0, 0.15);\n",
              "      filter: drop-shadow(0px 1px 2px rgba(0, 0, 0, 0.3));\n",
              "      fill: #FFFFFF;\n",
              "    }\n",
              "  </style>\n",
              "\n",
              "      <script>\n",
              "        const buttonEl =\n",
              "          document.querySelector('#df-6b3d7c8a-a485-4b88-b219-b734f7a36441 button.colab-df-convert');\n",
              "        buttonEl.style.display =\n",
              "          google.colab.kernel.accessAllowed ? 'block' : 'none';\n",
              "\n",
              "        async function convertToInteractive(key) {\n",
              "          const element = document.querySelector('#df-6b3d7c8a-a485-4b88-b219-b734f7a36441');\n",
              "          const dataTable =\n",
              "            await google.colab.kernel.invokeFunction('convertToInteractive',\n",
              "                                                     [key], {});\n",
              "          if (!dataTable) return;\n",
              "\n",
              "          const docLinkHtml = 'Like what you see? Visit the ' +\n",
              "            '<a target=\"_blank\" href=https://colab.research.google.com/notebooks/data_table.ipynb>data table notebook</a>'\n",
              "            + ' to learn more about interactive tables.';\n",
              "          element.innerHTML = '';\n",
              "          dataTable['output_type'] = 'display_data';\n",
              "          await google.colab.output.renderOutput(dataTable, element);\n",
              "          const docLink = document.createElement('div');\n",
              "          docLink.innerHTML = docLinkHtml;\n",
              "          element.appendChild(docLink);\n",
              "        }\n",
              "      </script>\n",
              "    </div>\n",
              "  </div>\n",
              "  "
            ],
            "text/plain": [
              "                         Open      High  ...  Volume_(Currency)  Weighted_Price\n",
              "Timestamp                                ...                                   \n",
              "2011-12-31 07:52:00     4.390     4.390  ...              2.000           4.390\n",
              "2011-12-31 15:50:00     4.390     4.390  ...            210.720           4.390\n",
              "2011-12-31 16:59:00     4.500     4.570  ...            171.380           4.526\n",
              "2011-12-31 17:00:00     4.580     4.580  ...             41.220           4.580\n",
              "2012-01-01 04:16:00     4.580     4.580  ...              6.879           4.580\n",
              "...                       ...       ...  ...                ...             ...\n",
              "2021-03-30 23:56:00 58714.310 58714.310  ...          81259.372       58692.753\n",
              "2021-03-30 23:57:00 58683.970 58693.430  ...         428158.147       58693.227\n",
              "2021-03-30 23:58:00 58693.430 58723.840  ...         100117.070       58696.198\n",
              "2021-03-30 23:59:00 58742.180 58770.380  ...          42332.959       58761.866\n",
              "2021-03-31 00:00:00 58767.750 58778.180  ...         159417.751       58764.349\n",
              "\n",
              "[3613769 rows x 7 columns]"
            ]
          },
          "metadata": {},
          "execution_count": 11
        }
      ]
    },
    {
      "cell_type": "code",
      "source": [
        "btc = btc['2011-12-31 00:00:00':'2020-03-21 00:00:00'] #получаем срез данных в пределах - начальный timestamp таблицы btc : конечный timestamp таблицы usd_rub"
      ],
      "metadata": {
        "id": "feXZsCpYJ2g2"
      },
      "execution_count": null,
      "outputs": []
    },
    {
      "cell_type": "code",
      "source": [
        "btc.describe()"
      ],
      "metadata": {
        "colab": {
          "base_uri": "https://localhost:8080/",
          "height": 300
        },
        "id": "N5T7B49pA0B-",
        "outputId": "b5597577-d6b7-4d32-f2b5-f18ae5aa67d1"
      },
      "execution_count": null,
      "outputs": [
        {
          "output_type": "execute_result",
          "data": {
            "text/html": [
              "\n",
              "  <div id=\"df-616bd1c0-2a41-4957-b5e4-2fb358dae8fc\">\n",
              "    <div class=\"colab-df-container\">\n",
              "      <div>\n",
              "<style scoped>\n",
              "    .dataframe tbody tr th:only-of-type {\n",
              "        vertical-align: middle;\n",
              "    }\n",
              "\n",
              "    .dataframe tbody tr th {\n",
              "        vertical-align: top;\n",
              "    }\n",
              "\n",
              "    .dataframe thead th {\n",
              "        text-align: right;\n",
              "    }\n",
              "</style>\n",
              "<table border=\"1\" class=\"dataframe\">\n",
              "  <thead>\n",
              "    <tr style=\"text-align: right;\">\n",
              "      <th></th>\n",
              "      <th>Open</th>\n",
              "      <th>High</th>\n",
              "      <th>Low</th>\n",
              "      <th>Close</th>\n",
              "      <th>Volume_(BTC)</th>\n",
              "      <th>Volume_(Currency)</th>\n",
              "      <th>Weighted_Price</th>\n",
              "    </tr>\n",
              "  </thead>\n",
              "  <tbody>\n",
              "    <tr>\n",
              "      <th>count</th>\n",
              "      <td>3081631.000</td>\n",
              "      <td>3081631.000</td>\n",
              "      <td>3081631.000</td>\n",
              "      <td>3081631.000</td>\n",
              "      <td>3081631.000</td>\n",
              "      <td>3081631.000</td>\n",
              "      <td>3081631.000</td>\n",
              "    </tr>\n",
              "    <tr>\n",
              "      <th>mean</th>\n",
              "      <td>3629.913</td>\n",
              "      <td>3632.599</td>\n",
              "      <td>3627.009</td>\n",
              "      <td>3629.852</td>\n",
              "      <td>9.892</td>\n",
              "      <td>28548.955</td>\n",
              "      <td>3629.824</td>\n",
              "    </tr>\n",
              "    <tr>\n",
              "      <th>std</th>\n",
              "      <td>3946.214</td>\n",
              "      <td>3949.736</td>\n",
              "      <td>3942.320</td>\n",
              "      <td>3946.125</td>\n",
              "      <td>32.438</td>\n",
              "      <td>100501.169</td>\n",
              "      <td>3946.089</td>\n",
              "    </tr>\n",
              "    <tr>\n",
              "      <th>min</th>\n",
              "      <td>3.800</td>\n",
              "      <td>3.800</td>\n",
              "      <td>1.500</td>\n",
              "      <td>1.500</td>\n",
              "      <td>0.000</td>\n",
              "      <td>0.000</td>\n",
              "      <td>3.800</td>\n",
              "    </tr>\n",
              "    <tr>\n",
              "      <th>25%</th>\n",
              "      <td>404.490</td>\n",
              "      <td>404.830</td>\n",
              "      <td>404.030</td>\n",
              "      <td>404.500</td>\n",
              "      <td>0.398</td>\n",
              "      <td>342.731</td>\n",
              "      <td>404.470</td>\n",
              "    </tr>\n",
              "    <tr>\n",
              "      <th>50%</th>\n",
              "      <td>1081.950</td>\n",
              "      <td>1083.000</td>\n",
              "      <td>1080.900</td>\n",
              "      <td>1082.000</td>\n",
              "      <td>1.986</td>\n",
              "      <td>2543.187</td>\n",
              "      <td>1081.847</td>\n",
              "    </tr>\n",
              "    <tr>\n",
              "      <th>75%</th>\n",
              "      <td>6915.000</td>\n",
              "      <td>6919.400</td>\n",
              "      <td>6910.260</td>\n",
              "      <td>6914.870</td>\n",
              "      <td>7.655</td>\n",
              "      <td>17176.868</td>\n",
              "      <td>6914.741</td>\n",
              "    </tr>\n",
              "    <tr>\n",
              "      <th>max</th>\n",
              "      <td>19665.760</td>\n",
              "      <td>19666.000</td>\n",
              "      <td>19649.960</td>\n",
              "      <td>19665.750</td>\n",
              "      <td>5853.852</td>\n",
              "      <td>7569437.061</td>\n",
              "      <td>19663.299</td>\n",
              "    </tr>\n",
              "  </tbody>\n",
              "</table>\n",
              "</div>\n",
              "      <button class=\"colab-df-convert\" onclick=\"convertToInteractive('df-616bd1c0-2a41-4957-b5e4-2fb358dae8fc')\"\n",
              "              title=\"Convert this dataframe to an interactive table.\"\n",
              "              style=\"display:none;\">\n",
              "        \n",
              "  <svg xmlns=\"http://www.w3.org/2000/svg\" height=\"24px\"viewBox=\"0 0 24 24\"\n",
              "       width=\"24px\">\n",
              "    <path d=\"M0 0h24v24H0V0z\" fill=\"none\"/>\n",
              "    <path d=\"M18.56 5.44l.94 2.06.94-2.06 2.06-.94-2.06-.94-.94-2.06-.94 2.06-2.06.94zm-11 1L8.5 8.5l.94-2.06 2.06-.94-2.06-.94L8.5 2.5l-.94 2.06-2.06.94zm10 10l.94 2.06.94-2.06 2.06-.94-2.06-.94-.94-2.06-.94 2.06-2.06.94z\"/><path d=\"M17.41 7.96l-1.37-1.37c-.4-.4-.92-.59-1.43-.59-.52 0-1.04.2-1.43.59L10.3 9.45l-7.72 7.72c-.78.78-.78 2.05 0 2.83L4 21.41c.39.39.9.59 1.41.59.51 0 1.02-.2 1.41-.59l7.78-7.78 2.81-2.81c.8-.78.8-2.07 0-2.86zM5.41 20L4 18.59l7.72-7.72 1.47 1.35L5.41 20z\"/>\n",
              "  </svg>\n",
              "      </button>\n",
              "      \n",
              "  <style>\n",
              "    .colab-df-container {\n",
              "      display:flex;\n",
              "      flex-wrap:wrap;\n",
              "      gap: 12px;\n",
              "    }\n",
              "\n",
              "    .colab-df-convert {\n",
              "      background-color: #E8F0FE;\n",
              "      border: none;\n",
              "      border-radius: 50%;\n",
              "      cursor: pointer;\n",
              "      display: none;\n",
              "      fill: #1967D2;\n",
              "      height: 32px;\n",
              "      padding: 0 0 0 0;\n",
              "      width: 32px;\n",
              "    }\n",
              "\n",
              "    .colab-df-convert:hover {\n",
              "      background-color: #E2EBFA;\n",
              "      box-shadow: 0px 1px 2px rgba(60, 64, 67, 0.3), 0px 1px 3px 1px rgba(60, 64, 67, 0.15);\n",
              "      fill: #174EA6;\n",
              "    }\n",
              "\n",
              "    [theme=dark] .colab-df-convert {\n",
              "      background-color: #3B4455;\n",
              "      fill: #D2E3FC;\n",
              "    }\n",
              "\n",
              "    [theme=dark] .colab-df-convert:hover {\n",
              "      background-color: #434B5C;\n",
              "      box-shadow: 0px 1px 3px 1px rgba(0, 0, 0, 0.15);\n",
              "      filter: drop-shadow(0px 1px 2px rgba(0, 0, 0, 0.3));\n",
              "      fill: #FFFFFF;\n",
              "    }\n",
              "  </style>\n",
              "\n",
              "      <script>\n",
              "        const buttonEl =\n",
              "          document.querySelector('#df-616bd1c0-2a41-4957-b5e4-2fb358dae8fc button.colab-df-convert');\n",
              "        buttonEl.style.display =\n",
              "          google.colab.kernel.accessAllowed ? 'block' : 'none';\n",
              "\n",
              "        async function convertToInteractive(key) {\n",
              "          const element = document.querySelector('#df-616bd1c0-2a41-4957-b5e4-2fb358dae8fc');\n",
              "          const dataTable =\n",
              "            await google.colab.kernel.invokeFunction('convertToInteractive',\n",
              "                                                     [key], {});\n",
              "          if (!dataTable) return;\n",
              "\n",
              "          const docLinkHtml = 'Like what you see? Visit the ' +\n",
              "            '<a target=\"_blank\" href=https://colab.research.google.com/notebooks/data_table.ipynb>data table notebook</a>'\n",
              "            + ' to learn more about interactive tables.';\n",
              "          element.innerHTML = '';\n",
              "          dataTable['output_type'] = 'display_data';\n",
              "          await google.colab.output.renderOutput(dataTable, element);\n",
              "          const docLink = document.createElement('div');\n",
              "          docLink.innerHTML = docLinkHtml;\n",
              "          element.appendChild(docLink);\n",
              "        }\n",
              "      </script>\n",
              "    </div>\n",
              "  </div>\n",
              "  "
            ],
            "text/plain": [
              "             Open        High  ...  Volume_(Currency)  Weighted_Price\n",
              "count 3081631.000 3081631.000  ...        3081631.000     3081631.000\n",
              "mean     3629.913    3632.599  ...          28548.955        3629.824\n",
              "std      3946.214    3949.736  ...         100501.169        3946.089\n",
              "min         3.800       3.800  ...              0.000           3.800\n",
              "25%       404.490     404.830  ...            342.731         404.470\n",
              "50%      1081.950    1083.000  ...           2543.187        1081.847\n",
              "75%      6915.000    6919.400  ...          17176.868        6914.741\n",
              "max     19665.760   19666.000  ...        7569437.061       19663.299\n",
              "\n",
              "[8 rows x 7 columns]"
            ]
          },
          "metadata": {},
          "execution_count": 13
        }
      ]
    },
    {
      "cell_type": "markdown",
      "source": [
        "Отсюда понимаем, что максимальная цена биткоина была 61763.56 долларов, а минимальная - 3.8 долларов. Медиана - 3596.97 долларов."
      ],
      "metadata": {
        "id": "RQfVLV8JB2C9"
      }
    },
    {
      "cell_type": "code",
      "metadata": {
        "colab": {
          "base_uri": "https://localhost:8080/"
        },
        "outputId": "f0bf0cec-1da9-4f1f-e0ae-28511927a602",
        "id": "hYqt-DcqDEy6"
      },
      "source": [
        "btc['High'].max() #то же, но через Series"
      ],
      "execution_count": null,
      "outputs": [
        {
          "output_type": "execute_result",
          "data": {
            "text/plain": [
              "19666.0"
            ]
          },
          "metadata": {},
          "execution_count": 14
        }
      ]
    },
    {
      "cell_type": "code",
      "metadata": {
        "colab": {
          "base_uri": "https://localhost:8080/"
        },
        "outputId": "cd8e355b-40e9-4ab0-cb63-87565bd07cb7",
        "id": "NfA-3QlZDEzA"
      },
      "source": [
        "btc['High'].median() #то же, но через Series"
      ],
      "execution_count": null,
      "outputs": [
        {
          "output_type": "execute_result",
          "data": {
            "text/plain": [
              "1083.0"
            ]
          },
          "metadata": {},
          "execution_count": 15
        }
      ]
    },
    {
      "cell_type": "code",
      "metadata": {
        "colab": {
          "base_uri": "https://localhost:8080/"
        },
        "outputId": "e78675a6-68bc-44df-ea99-ad8155b38f8d",
        "id": "TYAsWvBRDEzA"
      },
      "source": [
        "btc.min() "
      ],
      "execution_count": null,
      "outputs": [
        {
          "output_type": "execute_result",
          "data": {
            "text/plain": [
              "Open                3.800\n",
              "High                3.800\n",
              "Low                 1.500\n",
              "Close               1.500\n",
              "Volume_(BTC)        0.000\n",
              "Volume_(Currency)   0.000\n",
              "Weighted_Price      3.800\n",
              "dtype: float64"
            ]
          },
          "metadata": {},
          "execution_count": 16
        }
      ]
    },
    {
      "cell_type": "code",
      "metadata": {
        "colab": {
          "base_uri": "https://localhost:8080/",
          "height": 269
        },
        "outputId": "6fe7d7d0-491e-4224-df85-8f94451a3b80",
        "id": "HWNZQv-yDSp6"
      },
      "source": [
        "btc.corr() #посмотрим корреляцию"
      ],
      "execution_count": null,
      "outputs": [
        {
          "output_type": "execute_result",
          "data": {
            "text/html": [
              "\n",
              "  <div id=\"df-098a95f4-a1ad-4b2b-abde-cff0c2d56ece\">\n",
              "    <div class=\"colab-df-container\">\n",
              "      <div>\n",
              "<style scoped>\n",
              "    .dataframe tbody tr th:only-of-type {\n",
              "        vertical-align: middle;\n",
              "    }\n",
              "\n",
              "    .dataframe tbody tr th {\n",
              "        vertical-align: top;\n",
              "    }\n",
              "\n",
              "    .dataframe thead th {\n",
              "        text-align: right;\n",
              "    }\n",
              "</style>\n",
              "<table border=\"1\" class=\"dataframe\">\n",
              "  <thead>\n",
              "    <tr style=\"text-align: right;\">\n",
              "      <th></th>\n",
              "      <th>Open</th>\n",
              "      <th>High</th>\n",
              "      <th>Low</th>\n",
              "      <th>Close</th>\n",
              "      <th>Volume_(BTC)</th>\n",
              "      <th>Volume_(Currency)</th>\n",
              "      <th>Weighted_Price</th>\n",
              "    </tr>\n",
              "  </thead>\n",
              "  <tbody>\n",
              "    <tr>\n",
              "      <th>Open</th>\n",
              "      <td>1.000</td>\n",
              "      <td>1.000</td>\n",
              "      <td>1.000</td>\n",
              "      <td>1.000</td>\n",
              "      <td>-0.057</td>\n",
              "      <td>0.315</td>\n",
              "      <td>1.000</td>\n",
              "    </tr>\n",
              "    <tr>\n",
              "      <th>High</th>\n",
              "      <td>1.000</td>\n",
              "      <td>1.000</td>\n",
              "      <td>1.000</td>\n",
              "      <td>1.000</td>\n",
              "      <td>-0.057</td>\n",
              "      <td>0.315</td>\n",
              "      <td>1.000</td>\n",
              "    </tr>\n",
              "    <tr>\n",
              "      <th>Low</th>\n",
              "      <td>1.000</td>\n",
              "      <td>1.000</td>\n",
              "      <td>1.000</td>\n",
              "      <td>1.000</td>\n",
              "      <td>-0.058</td>\n",
              "      <td>0.314</td>\n",
              "      <td>1.000</td>\n",
              "    </tr>\n",
              "    <tr>\n",
              "      <th>Close</th>\n",
              "      <td>1.000</td>\n",
              "      <td>1.000</td>\n",
              "      <td>1.000</td>\n",
              "      <td>1.000</td>\n",
              "      <td>-0.057</td>\n",
              "      <td>0.315</td>\n",
              "      <td>1.000</td>\n",
              "    </tr>\n",
              "    <tr>\n",
              "      <th>Volume_(BTC)</th>\n",
              "      <td>-0.057</td>\n",
              "      <td>-0.057</td>\n",
              "      <td>-0.058</td>\n",
              "      <td>-0.057</td>\n",
              "      <td>1.000</td>\n",
              "      <td>0.417</td>\n",
              "      <td>-0.057</td>\n",
              "    </tr>\n",
              "    <tr>\n",
              "      <th>Volume_(Currency)</th>\n",
              "      <td>0.315</td>\n",
              "      <td>0.315</td>\n",
              "      <td>0.314</td>\n",
              "      <td>0.315</td>\n",
              "      <td>0.417</td>\n",
              "      <td>1.000</td>\n",
              "      <td>0.315</td>\n",
              "    </tr>\n",
              "    <tr>\n",
              "      <th>Weighted_Price</th>\n",
              "      <td>1.000</td>\n",
              "      <td>1.000</td>\n",
              "      <td>1.000</td>\n",
              "      <td>1.000</td>\n",
              "      <td>-0.057</td>\n",
              "      <td>0.315</td>\n",
              "      <td>1.000</td>\n",
              "    </tr>\n",
              "  </tbody>\n",
              "</table>\n",
              "</div>\n",
              "      <button class=\"colab-df-convert\" onclick=\"convertToInteractive('df-098a95f4-a1ad-4b2b-abde-cff0c2d56ece')\"\n",
              "              title=\"Convert this dataframe to an interactive table.\"\n",
              "              style=\"display:none;\">\n",
              "        \n",
              "  <svg xmlns=\"http://www.w3.org/2000/svg\" height=\"24px\"viewBox=\"0 0 24 24\"\n",
              "       width=\"24px\">\n",
              "    <path d=\"M0 0h24v24H0V0z\" fill=\"none\"/>\n",
              "    <path d=\"M18.56 5.44l.94 2.06.94-2.06 2.06-.94-2.06-.94-.94-2.06-.94 2.06-2.06.94zm-11 1L8.5 8.5l.94-2.06 2.06-.94-2.06-.94L8.5 2.5l-.94 2.06-2.06.94zm10 10l.94 2.06.94-2.06 2.06-.94-2.06-.94-.94-2.06-.94 2.06-2.06.94z\"/><path d=\"M17.41 7.96l-1.37-1.37c-.4-.4-.92-.59-1.43-.59-.52 0-1.04.2-1.43.59L10.3 9.45l-7.72 7.72c-.78.78-.78 2.05 0 2.83L4 21.41c.39.39.9.59 1.41.59.51 0 1.02-.2 1.41-.59l7.78-7.78 2.81-2.81c.8-.78.8-2.07 0-2.86zM5.41 20L4 18.59l7.72-7.72 1.47 1.35L5.41 20z\"/>\n",
              "  </svg>\n",
              "      </button>\n",
              "      \n",
              "  <style>\n",
              "    .colab-df-container {\n",
              "      display:flex;\n",
              "      flex-wrap:wrap;\n",
              "      gap: 12px;\n",
              "    }\n",
              "\n",
              "    .colab-df-convert {\n",
              "      background-color: #E8F0FE;\n",
              "      border: none;\n",
              "      border-radius: 50%;\n",
              "      cursor: pointer;\n",
              "      display: none;\n",
              "      fill: #1967D2;\n",
              "      height: 32px;\n",
              "      padding: 0 0 0 0;\n",
              "      width: 32px;\n",
              "    }\n",
              "\n",
              "    .colab-df-convert:hover {\n",
              "      background-color: #E2EBFA;\n",
              "      box-shadow: 0px 1px 2px rgba(60, 64, 67, 0.3), 0px 1px 3px 1px rgba(60, 64, 67, 0.15);\n",
              "      fill: #174EA6;\n",
              "    }\n",
              "\n",
              "    [theme=dark] .colab-df-convert {\n",
              "      background-color: #3B4455;\n",
              "      fill: #D2E3FC;\n",
              "    }\n",
              "\n",
              "    [theme=dark] .colab-df-convert:hover {\n",
              "      background-color: #434B5C;\n",
              "      box-shadow: 0px 1px 3px 1px rgba(0, 0, 0, 0.15);\n",
              "      filter: drop-shadow(0px 1px 2px rgba(0, 0, 0, 0.3));\n",
              "      fill: #FFFFFF;\n",
              "    }\n",
              "  </style>\n",
              "\n",
              "      <script>\n",
              "        const buttonEl =\n",
              "          document.querySelector('#df-098a95f4-a1ad-4b2b-abde-cff0c2d56ece button.colab-df-convert');\n",
              "        buttonEl.style.display =\n",
              "          google.colab.kernel.accessAllowed ? 'block' : 'none';\n",
              "\n",
              "        async function convertToInteractive(key) {\n",
              "          const element = document.querySelector('#df-098a95f4-a1ad-4b2b-abde-cff0c2d56ece');\n",
              "          const dataTable =\n",
              "            await google.colab.kernel.invokeFunction('convertToInteractive',\n",
              "                                                     [key], {});\n",
              "          if (!dataTable) return;\n",
              "\n",
              "          const docLinkHtml = 'Like what you see? Visit the ' +\n",
              "            '<a target=\"_blank\" href=https://colab.research.google.com/notebooks/data_table.ipynb>data table notebook</a>'\n",
              "            + ' to learn more about interactive tables.';\n",
              "          element.innerHTML = '';\n",
              "          dataTable['output_type'] = 'display_data';\n",
              "          await google.colab.output.renderOutput(dataTable, element);\n",
              "          const docLink = document.createElement('div');\n",
              "          docLink.innerHTML = docLinkHtml;\n",
              "          element.appendChild(docLink);\n",
              "        }\n",
              "      </script>\n",
              "    </div>\n",
              "  </div>\n",
              "  "
            ],
            "text/plain": [
              "                    Open   High  ...  Volume_(Currency)  Weighted_Price\n",
              "Open               1.000  1.000  ...              0.315           1.000\n",
              "High               1.000  1.000  ...              0.315           1.000\n",
              "Low                1.000  1.000  ...              0.314           1.000\n",
              "Close              1.000  1.000  ...              0.315           1.000\n",
              "Volume_(BTC)      -0.057 -0.057  ...              0.417          -0.057\n",
              "Volume_(Currency)  0.315  0.315  ...              1.000           0.315\n",
              "Weighted_Price     1.000  1.000  ...              0.315           1.000\n",
              "\n",
              "[7 rows x 7 columns]"
            ]
          },
          "metadata": {},
          "execution_count": 17
        }
      ]
    },
    {
      "cell_type": "code",
      "metadata": {
        "colab": {
          "base_uri": "https://localhost:8080/",
          "height": 238
        },
        "outputId": "cfcc3c0f-605c-443c-c2e3-cea298f39459",
        "id": "0lhOuee4DSp7"
      },
      "source": [
        "btc[btc['Weighted_Price']>2000].head()     # Выберем строки, где общая цена покупки более $2000"
      ],
      "execution_count": null,
      "outputs": [
        {
          "output_type": "execute_result",
          "data": {
            "text/html": [
              "\n",
              "  <div id=\"df-c0e9ea15-a1eb-47fb-8986-2775a2a571d5\">\n",
              "    <div class=\"colab-df-container\">\n",
              "      <div>\n",
              "<style scoped>\n",
              "    .dataframe tbody tr th:only-of-type {\n",
              "        vertical-align: middle;\n",
              "    }\n",
              "\n",
              "    .dataframe tbody tr th {\n",
              "        vertical-align: top;\n",
              "    }\n",
              "\n",
              "    .dataframe thead th {\n",
              "        text-align: right;\n",
              "    }\n",
              "</style>\n",
              "<table border=\"1\" class=\"dataframe\">\n",
              "  <thead>\n",
              "    <tr style=\"text-align: right;\">\n",
              "      <th></th>\n",
              "      <th>Open</th>\n",
              "      <th>High</th>\n",
              "      <th>Low</th>\n",
              "      <th>Close</th>\n",
              "      <th>Volume_(BTC)</th>\n",
              "      <th>Volume_(Currency)</th>\n",
              "      <th>Weighted_Price</th>\n",
              "    </tr>\n",
              "    <tr>\n",
              "      <th>Timestamp</th>\n",
              "      <th></th>\n",
              "      <th></th>\n",
              "      <th></th>\n",
              "      <th></th>\n",
              "      <th></th>\n",
              "      <th></th>\n",
              "      <th></th>\n",
              "    </tr>\n",
              "  </thead>\n",
              "  <tbody>\n",
              "    <tr>\n",
              "      <th>2017-05-20 22:59:00</th>\n",
              "      <td>2000.000</td>\n",
              "      <td>2004.000</td>\n",
              "      <td>1999.600</td>\n",
              "      <td>1999.600</td>\n",
              "      <td>205.157</td>\n",
              "      <td>410349.574</td>\n",
              "      <td>2000.170</td>\n",
              "    </tr>\n",
              "    <tr>\n",
              "      <th>2017-05-20 23:00:00</th>\n",
              "      <td>2004.000</td>\n",
              "      <td>2008.000</td>\n",
              "      <td>2001.990</td>\n",
              "      <td>2005.450</td>\n",
              "      <td>22.815</td>\n",
              "      <td>45752.828</td>\n",
              "      <td>2005.394</td>\n",
              "    </tr>\n",
              "    <tr>\n",
              "      <th>2017-05-20 23:01:00</th>\n",
              "      <td>2007.000</td>\n",
              "      <td>2010.000</td>\n",
              "      <td>2005.450</td>\n",
              "      <td>2010.000</td>\n",
              "      <td>21.909</td>\n",
              "      <td>43993.707</td>\n",
              "      <td>2008.031</td>\n",
              "    </tr>\n",
              "    <tr>\n",
              "      <th>2017-05-20 23:02:00</th>\n",
              "      <td>2008.950</td>\n",
              "      <td>2014.300</td>\n",
              "      <td>2004.970</td>\n",
              "      <td>2004.970</td>\n",
              "      <td>28.773</td>\n",
              "      <td>57857.905</td>\n",
              "      <td>2010.814</td>\n",
              "    </tr>\n",
              "    <tr>\n",
              "      <th>2017-05-20 23:03:00</th>\n",
              "      <td>2004.970</td>\n",
              "      <td>2014.560</td>\n",
              "      <td>2004.970</td>\n",
              "      <td>2007.400</td>\n",
              "      <td>37.454</td>\n",
              "      <td>75402.027</td>\n",
              "      <td>2013.169</td>\n",
              "    </tr>\n",
              "  </tbody>\n",
              "</table>\n",
              "</div>\n",
              "      <button class=\"colab-df-convert\" onclick=\"convertToInteractive('df-c0e9ea15-a1eb-47fb-8986-2775a2a571d5')\"\n",
              "              title=\"Convert this dataframe to an interactive table.\"\n",
              "              style=\"display:none;\">\n",
              "        \n",
              "  <svg xmlns=\"http://www.w3.org/2000/svg\" height=\"24px\"viewBox=\"0 0 24 24\"\n",
              "       width=\"24px\">\n",
              "    <path d=\"M0 0h24v24H0V0z\" fill=\"none\"/>\n",
              "    <path d=\"M18.56 5.44l.94 2.06.94-2.06 2.06-.94-2.06-.94-.94-2.06-.94 2.06-2.06.94zm-11 1L8.5 8.5l.94-2.06 2.06-.94-2.06-.94L8.5 2.5l-.94 2.06-2.06.94zm10 10l.94 2.06.94-2.06 2.06-.94-2.06-.94-.94-2.06-.94 2.06-2.06.94z\"/><path d=\"M17.41 7.96l-1.37-1.37c-.4-.4-.92-.59-1.43-.59-.52 0-1.04.2-1.43.59L10.3 9.45l-7.72 7.72c-.78.78-.78 2.05 0 2.83L4 21.41c.39.39.9.59 1.41.59.51 0 1.02-.2 1.41-.59l7.78-7.78 2.81-2.81c.8-.78.8-2.07 0-2.86zM5.41 20L4 18.59l7.72-7.72 1.47 1.35L5.41 20z\"/>\n",
              "  </svg>\n",
              "      </button>\n",
              "      \n",
              "  <style>\n",
              "    .colab-df-container {\n",
              "      display:flex;\n",
              "      flex-wrap:wrap;\n",
              "      gap: 12px;\n",
              "    }\n",
              "\n",
              "    .colab-df-convert {\n",
              "      background-color: #E8F0FE;\n",
              "      border: none;\n",
              "      border-radius: 50%;\n",
              "      cursor: pointer;\n",
              "      display: none;\n",
              "      fill: #1967D2;\n",
              "      height: 32px;\n",
              "      padding: 0 0 0 0;\n",
              "      width: 32px;\n",
              "    }\n",
              "\n",
              "    .colab-df-convert:hover {\n",
              "      background-color: #E2EBFA;\n",
              "      box-shadow: 0px 1px 2px rgba(60, 64, 67, 0.3), 0px 1px 3px 1px rgba(60, 64, 67, 0.15);\n",
              "      fill: #174EA6;\n",
              "    }\n",
              "\n",
              "    [theme=dark] .colab-df-convert {\n",
              "      background-color: #3B4455;\n",
              "      fill: #D2E3FC;\n",
              "    }\n",
              "\n",
              "    [theme=dark] .colab-df-convert:hover {\n",
              "      background-color: #434B5C;\n",
              "      box-shadow: 0px 1px 3px 1px rgba(0, 0, 0, 0.15);\n",
              "      filter: drop-shadow(0px 1px 2px rgba(0, 0, 0, 0.3));\n",
              "      fill: #FFFFFF;\n",
              "    }\n",
              "  </style>\n",
              "\n",
              "      <script>\n",
              "        const buttonEl =\n",
              "          document.querySelector('#df-c0e9ea15-a1eb-47fb-8986-2775a2a571d5 button.colab-df-convert');\n",
              "        buttonEl.style.display =\n",
              "          google.colab.kernel.accessAllowed ? 'block' : 'none';\n",
              "\n",
              "        async function convertToInteractive(key) {\n",
              "          const element = document.querySelector('#df-c0e9ea15-a1eb-47fb-8986-2775a2a571d5');\n",
              "          const dataTable =\n",
              "            await google.colab.kernel.invokeFunction('convertToInteractive',\n",
              "                                                     [key], {});\n",
              "          if (!dataTable) return;\n",
              "\n",
              "          const docLinkHtml = 'Like what you see? Visit the ' +\n",
              "            '<a target=\"_blank\" href=https://colab.research.google.com/notebooks/data_table.ipynb>data table notebook</a>'\n",
              "            + ' to learn more about interactive tables.';\n",
              "          element.innerHTML = '';\n",
              "          dataTable['output_type'] = 'display_data';\n",
              "          await google.colab.output.renderOutput(dataTable, element);\n",
              "          const docLink = document.createElement('div');\n",
              "          docLink.innerHTML = docLinkHtml;\n",
              "          element.appendChild(docLink);\n",
              "        }\n",
              "      </script>\n",
              "    </div>\n",
              "  </div>\n",
              "  "
            ],
            "text/plain": [
              "                        Open     High  ...  Volume_(Currency)  Weighted_Price\n",
              "Timestamp                              ...                                   \n",
              "2017-05-20 22:59:00 2000.000 2004.000  ...         410349.574        2000.170\n",
              "2017-05-20 23:00:00 2004.000 2008.000  ...          45752.828        2005.394\n",
              "2017-05-20 23:01:00 2007.000 2010.000  ...          43993.707        2008.031\n",
              "2017-05-20 23:02:00 2008.950 2014.300  ...          57857.905        2010.814\n",
              "2017-05-20 23:03:00 2004.970 2014.560  ...          75402.027        2013.169\n",
              "\n",
              "[5 rows x 7 columns]"
            ]
          },
          "metadata": {},
          "execution_count": 18
        }
      ]
    },
    {
      "cell_type": "markdown",
      "source": [
        "Теперь работаем с таблицей курса Рубль-Доллар:"
      ],
      "metadata": {
        "id": "AUaSKoyvEfE9"
      }
    },
    {
      "cell_type": "code",
      "source": [
        "#читаем, удаляем дубликаты\n",
        "usd_rub = pd.read_excel('RC_F21_03_2000_T21_03_2020.xlsx')\n",
        "usd_rub.drop_duplicates(inplace=True)\n",
        "usd_rub"
      ],
      "metadata": {
        "colab": {
          "base_uri": "https://localhost:8080/",
          "height": 424
        },
        "outputId": "6ee606c5-e9ad-4310-fa99-9a75dd25c8c8",
        "id": "_a6t6fcZENw7"
      },
      "execution_count": null,
      "outputs": [
        {
          "output_type": "execute_result",
          "data": {
            "text/html": [
              "\n",
              "  <div id=\"df-d0431ebd-31b6-4faa-9c5a-01fbb8f38330\">\n",
              "    <div class=\"colab-df-container\">\n",
              "      <div>\n",
              "<style scoped>\n",
              "    .dataframe tbody tr th:only-of-type {\n",
              "        vertical-align: middle;\n",
              "    }\n",
              "\n",
              "    .dataframe tbody tr th {\n",
              "        vertical-align: top;\n",
              "    }\n",
              "\n",
              "    .dataframe thead th {\n",
              "        text-align: right;\n",
              "    }\n",
              "</style>\n",
              "<table border=\"1\" class=\"dataframe\">\n",
              "  <thead>\n",
              "    <tr style=\"text-align: right;\">\n",
              "      <th></th>\n",
              "      <th>nominal</th>\n",
              "      <th>data</th>\n",
              "      <th>curs</th>\n",
              "      <th>cdx</th>\n",
              "    </tr>\n",
              "  </thead>\n",
              "  <tbody>\n",
              "    <tr>\n",
              "      <th>0</th>\n",
              "      <td>1</td>\n",
              "      <td>2000-03-21</td>\n",
              "      <td>28.390</td>\n",
              "      <td>Доллар США</td>\n",
              "    </tr>\n",
              "    <tr>\n",
              "      <th>1</th>\n",
              "      <td>1</td>\n",
              "      <td>2000-03-22</td>\n",
              "      <td>28.380</td>\n",
              "      <td>Доллар США</td>\n",
              "    </tr>\n",
              "    <tr>\n",
              "      <th>2</th>\n",
              "      <td>1</td>\n",
              "      <td>2000-03-23</td>\n",
              "      <td>28.360</td>\n",
              "      <td>Доллар США</td>\n",
              "    </tr>\n",
              "    <tr>\n",
              "      <th>3</th>\n",
              "      <td>1</td>\n",
              "      <td>2000-03-24</td>\n",
              "      <td>28.340</td>\n",
              "      <td>Доллар США</td>\n",
              "    </tr>\n",
              "    <tr>\n",
              "      <th>4</th>\n",
              "      <td>1</td>\n",
              "      <td>2000-03-25</td>\n",
              "      <td>28.330</td>\n",
              "      <td>Доллар США</td>\n",
              "    </tr>\n",
              "    <tr>\n",
              "      <th>...</th>\n",
              "      <td>...</td>\n",
              "      <td>...</td>\n",
              "      <td>...</td>\n",
              "      <td>...</td>\n",
              "    </tr>\n",
              "    <tr>\n",
              "      <th>4963</th>\n",
              "      <td>1</td>\n",
              "      <td>2020-03-17</td>\n",
              "      <td>74.126</td>\n",
              "      <td>Доллар США</td>\n",
              "    </tr>\n",
              "    <tr>\n",
              "      <th>4964</th>\n",
              "      <td>1</td>\n",
              "      <td>2020-03-18</td>\n",
              "      <td>73.890</td>\n",
              "      <td>Доллар США</td>\n",
              "    </tr>\n",
              "    <tr>\n",
              "      <th>4965</th>\n",
              "      <td>1</td>\n",
              "      <td>2020-03-19</td>\n",
              "      <td>77.213</td>\n",
              "      <td>Доллар США</td>\n",
              "    </tr>\n",
              "    <tr>\n",
              "      <th>4966</th>\n",
              "      <td>1</td>\n",
              "      <td>2020-03-20</td>\n",
              "      <td>80.157</td>\n",
              "      <td>Доллар США</td>\n",
              "    </tr>\n",
              "    <tr>\n",
              "      <th>4967</th>\n",
              "      <td>1</td>\n",
              "      <td>2020-03-21</td>\n",
              "      <td>78.044</td>\n",
              "      <td>Доллар США</td>\n",
              "    </tr>\n",
              "  </tbody>\n",
              "</table>\n",
              "<p>4968 rows × 4 columns</p>\n",
              "</div>\n",
              "      <button class=\"colab-df-convert\" onclick=\"convertToInteractive('df-d0431ebd-31b6-4faa-9c5a-01fbb8f38330')\"\n",
              "              title=\"Convert this dataframe to an interactive table.\"\n",
              "              style=\"display:none;\">\n",
              "        \n",
              "  <svg xmlns=\"http://www.w3.org/2000/svg\" height=\"24px\"viewBox=\"0 0 24 24\"\n",
              "       width=\"24px\">\n",
              "    <path d=\"M0 0h24v24H0V0z\" fill=\"none\"/>\n",
              "    <path d=\"M18.56 5.44l.94 2.06.94-2.06 2.06-.94-2.06-.94-.94-2.06-.94 2.06-2.06.94zm-11 1L8.5 8.5l.94-2.06 2.06-.94-2.06-.94L8.5 2.5l-.94 2.06-2.06.94zm10 10l.94 2.06.94-2.06 2.06-.94-2.06-.94-.94-2.06-.94 2.06-2.06.94z\"/><path d=\"M17.41 7.96l-1.37-1.37c-.4-.4-.92-.59-1.43-.59-.52 0-1.04.2-1.43.59L10.3 9.45l-7.72 7.72c-.78.78-.78 2.05 0 2.83L4 21.41c.39.39.9.59 1.41.59.51 0 1.02-.2 1.41-.59l7.78-7.78 2.81-2.81c.8-.78.8-2.07 0-2.86zM5.41 20L4 18.59l7.72-7.72 1.47 1.35L5.41 20z\"/>\n",
              "  </svg>\n",
              "      </button>\n",
              "      \n",
              "  <style>\n",
              "    .colab-df-container {\n",
              "      display:flex;\n",
              "      flex-wrap:wrap;\n",
              "      gap: 12px;\n",
              "    }\n",
              "\n",
              "    .colab-df-convert {\n",
              "      background-color: #E8F0FE;\n",
              "      border: none;\n",
              "      border-radius: 50%;\n",
              "      cursor: pointer;\n",
              "      display: none;\n",
              "      fill: #1967D2;\n",
              "      height: 32px;\n",
              "      padding: 0 0 0 0;\n",
              "      width: 32px;\n",
              "    }\n",
              "\n",
              "    .colab-df-convert:hover {\n",
              "      background-color: #E2EBFA;\n",
              "      box-shadow: 0px 1px 2px rgba(60, 64, 67, 0.3), 0px 1px 3px 1px rgba(60, 64, 67, 0.15);\n",
              "      fill: #174EA6;\n",
              "    }\n",
              "\n",
              "    [theme=dark] .colab-df-convert {\n",
              "      background-color: #3B4455;\n",
              "      fill: #D2E3FC;\n",
              "    }\n",
              "\n",
              "    [theme=dark] .colab-df-convert:hover {\n",
              "      background-color: #434B5C;\n",
              "      box-shadow: 0px 1px 3px 1px rgba(0, 0, 0, 0.15);\n",
              "      filter: drop-shadow(0px 1px 2px rgba(0, 0, 0, 0.3));\n",
              "      fill: #FFFFFF;\n",
              "    }\n",
              "  </style>\n",
              "\n",
              "      <script>\n",
              "        const buttonEl =\n",
              "          document.querySelector('#df-d0431ebd-31b6-4faa-9c5a-01fbb8f38330 button.colab-df-convert');\n",
              "        buttonEl.style.display =\n",
              "          google.colab.kernel.accessAllowed ? 'block' : 'none';\n",
              "\n",
              "        async function convertToInteractive(key) {\n",
              "          const element = document.querySelector('#df-d0431ebd-31b6-4faa-9c5a-01fbb8f38330');\n",
              "          const dataTable =\n",
              "            await google.colab.kernel.invokeFunction('convertToInteractive',\n",
              "                                                     [key], {});\n",
              "          if (!dataTable) return;\n",
              "\n",
              "          const docLinkHtml = 'Like what you see? Visit the ' +\n",
              "            '<a target=\"_blank\" href=https://colab.research.google.com/notebooks/data_table.ipynb>data table notebook</a>'\n",
              "            + ' to learn more about interactive tables.';\n",
              "          element.innerHTML = '';\n",
              "          dataTable['output_type'] = 'display_data';\n",
              "          await google.colab.output.renderOutput(dataTable, element);\n",
              "          const docLink = document.createElement('div');\n",
              "          docLink.innerHTML = docLinkHtml;\n",
              "          element.appendChild(docLink);\n",
              "        }\n",
              "      </script>\n",
              "    </div>\n",
              "  </div>\n",
              "  "
            ],
            "text/plain": [
              "      nominal       data   curs         cdx\n",
              "0           1 2000-03-21 28.390  Доллар США\n",
              "1           1 2000-03-22 28.380  Доллар США\n",
              "2           1 2000-03-23 28.360  Доллар США\n",
              "3           1 2000-03-24 28.340  Доллар США\n",
              "4           1 2000-03-25 28.330  Доллар США\n",
              "...       ...        ...    ...         ...\n",
              "4963        1 2020-03-17 74.126  Доллар США\n",
              "4964        1 2020-03-18 73.890  Доллар США\n",
              "4965        1 2020-03-19 77.213  Доллар США\n",
              "4966        1 2020-03-20 80.157  Доллар США\n",
              "4967        1 2020-03-21 78.044  Доллар США\n",
              "\n",
              "[4968 rows x 4 columns]"
            ]
          },
          "metadata": {},
          "execution_count": 19
        }
      ]
    },
    {
      "cell_type": "code",
      "source": [
        "usd_rub['nominal'].describe()"
      ],
      "metadata": {
        "colab": {
          "base_uri": "https://localhost:8080/"
        },
        "id": "ViY1e9WXJOLN",
        "outputId": "1ff5f601-a10b-4183-ceec-0a2590ab8546"
      },
      "execution_count": null,
      "outputs": [
        {
          "output_type": "execute_result",
          "data": {
            "text/plain": [
              "count   4968.000\n",
              "mean       1.000\n",
              "std        0.000\n",
              "min        1.000\n",
              "25%        1.000\n",
              "50%        1.000\n",
              "75%        1.000\n",
              "max        1.000\n",
              "Name: nominal, dtype: float64"
            ]
          },
          "metadata": {},
          "execution_count": 20
        }
      ]
    },
    {
      "cell_type": "code",
      "source": [
        "usd_rub = usd_rub[['data','curs']] #оставляем информативные столбцы"
      ],
      "metadata": {
        "id": "J_lh83w7Jask"
      },
      "execution_count": null,
      "outputs": []
    },
    {
      "cell_type": "code",
      "source": [
        "usd_rub.index = usd_rub['data'] #определяем timestamp в качестве index\n",
        "del usd_rub['data']"
      ],
      "metadata": {
        "id": "De0TGGkDcabU"
      },
      "execution_count": null,
      "outputs": []
    },
    {
      "cell_type": "code",
      "source": [
        "usd_rub"
      ],
      "metadata": {
        "colab": {
          "base_uri": "https://localhost:8080/",
          "height": 455
        },
        "id": "4jEg_4kTKAOa",
        "outputId": "b798145f-e8b9-4c5a-e4f2-c754badcc487"
      },
      "execution_count": null,
      "outputs": [
        {
          "output_type": "execute_result",
          "data": {
            "text/html": [
              "\n",
              "  <div id=\"df-2377c0ff-fd72-40c7-8a33-7e80431b1810\">\n",
              "    <div class=\"colab-df-container\">\n",
              "      <div>\n",
              "<style scoped>\n",
              "    .dataframe tbody tr th:only-of-type {\n",
              "        vertical-align: middle;\n",
              "    }\n",
              "\n",
              "    .dataframe tbody tr th {\n",
              "        vertical-align: top;\n",
              "    }\n",
              "\n",
              "    .dataframe thead th {\n",
              "        text-align: right;\n",
              "    }\n",
              "</style>\n",
              "<table border=\"1\" class=\"dataframe\">\n",
              "  <thead>\n",
              "    <tr style=\"text-align: right;\">\n",
              "      <th></th>\n",
              "      <th>curs</th>\n",
              "    </tr>\n",
              "    <tr>\n",
              "      <th>data</th>\n",
              "      <th></th>\n",
              "    </tr>\n",
              "  </thead>\n",
              "  <tbody>\n",
              "    <tr>\n",
              "      <th>2000-03-21</th>\n",
              "      <td>28.390</td>\n",
              "    </tr>\n",
              "    <tr>\n",
              "      <th>2000-03-22</th>\n",
              "      <td>28.380</td>\n",
              "    </tr>\n",
              "    <tr>\n",
              "      <th>2000-03-23</th>\n",
              "      <td>28.360</td>\n",
              "    </tr>\n",
              "    <tr>\n",
              "      <th>2000-03-24</th>\n",
              "      <td>28.340</td>\n",
              "    </tr>\n",
              "    <tr>\n",
              "      <th>2000-03-25</th>\n",
              "      <td>28.330</td>\n",
              "    </tr>\n",
              "    <tr>\n",
              "      <th>...</th>\n",
              "      <td>...</td>\n",
              "    </tr>\n",
              "    <tr>\n",
              "      <th>2020-03-17</th>\n",
              "      <td>74.126</td>\n",
              "    </tr>\n",
              "    <tr>\n",
              "      <th>2020-03-18</th>\n",
              "      <td>73.890</td>\n",
              "    </tr>\n",
              "    <tr>\n",
              "      <th>2020-03-19</th>\n",
              "      <td>77.213</td>\n",
              "    </tr>\n",
              "    <tr>\n",
              "      <th>2020-03-20</th>\n",
              "      <td>80.157</td>\n",
              "    </tr>\n",
              "    <tr>\n",
              "      <th>2020-03-21</th>\n",
              "      <td>78.044</td>\n",
              "    </tr>\n",
              "  </tbody>\n",
              "</table>\n",
              "<p>4968 rows × 1 columns</p>\n",
              "</div>\n",
              "      <button class=\"colab-df-convert\" onclick=\"convertToInteractive('df-2377c0ff-fd72-40c7-8a33-7e80431b1810')\"\n",
              "              title=\"Convert this dataframe to an interactive table.\"\n",
              "              style=\"display:none;\">\n",
              "        \n",
              "  <svg xmlns=\"http://www.w3.org/2000/svg\" height=\"24px\"viewBox=\"0 0 24 24\"\n",
              "       width=\"24px\">\n",
              "    <path d=\"M0 0h24v24H0V0z\" fill=\"none\"/>\n",
              "    <path d=\"M18.56 5.44l.94 2.06.94-2.06 2.06-.94-2.06-.94-.94-2.06-.94 2.06-2.06.94zm-11 1L8.5 8.5l.94-2.06 2.06-.94-2.06-.94L8.5 2.5l-.94 2.06-2.06.94zm10 10l.94 2.06.94-2.06 2.06-.94-2.06-.94-.94-2.06-.94 2.06-2.06.94z\"/><path d=\"M17.41 7.96l-1.37-1.37c-.4-.4-.92-.59-1.43-.59-.52 0-1.04.2-1.43.59L10.3 9.45l-7.72 7.72c-.78.78-.78 2.05 0 2.83L4 21.41c.39.39.9.59 1.41.59.51 0 1.02-.2 1.41-.59l7.78-7.78 2.81-2.81c.8-.78.8-2.07 0-2.86zM5.41 20L4 18.59l7.72-7.72 1.47 1.35L5.41 20z\"/>\n",
              "  </svg>\n",
              "      </button>\n",
              "      \n",
              "  <style>\n",
              "    .colab-df-container {\n",
              "      display:flex;\n",
              "      flex-wrap:wrap;\n",
              "      gap: 12px;\n",
              "    }\n",
              "\n",
              "    .colab-df-convert {\n",
              "      background-color: #E8F0FE;\n",
              "      border: none;\n",
              "      border-radius: 50%;\n",
              "      cursor: pointer;\n",
              "      display: none;\n",
              "      fill: #1967D2;\n",
              "      height: 32px;\n",
              "      padding: 0 0 0 0;\n",
              "      width: 32px;\n",
              "    }\n",
              "\n",
              "    .colab-df-convert:hover {\n",
              "      background-color: #E2EBFA;\n",
              "      box-shadow: 0px 1px 2px rgba(60, 64, 67, 0.3), 0px 1px 3px 1px rgba(60, 64, 67, 0.15);\n",
              "      fill: #174EA6;\n",
              "    }\n",
              "\n",
              "    [theme=dark] .colab-df-convert {\n",
              "      background-color: #3B4455;\n",
              "      fill: #D2E3FC;\n",
              "    }\n",
              "\n",
              "    [theme=dark] .colab-df-convert:hover {\n",
              "      background-color: #434B5C;\n",
              "      box-shadow: 0px 1px 3px 1px rgba(0, 0, 0, 0.15);\n",
              "      filter: drop-shadow(0px 1px 2px rgba(0, 0, 0, 0.3));\n",
              "      fill: #FFFFFF;\n",
              "    }\n",
              "  </style>\n",
              "\n",
              "      <script>\n",
              "        const buttonEl =\n",
              "          document.querySelector('#df-2377c0ff-fd72-40c7-8a33-7e80431b1810 button.colab-df-convert');\n",
              "        buttonEl.style.display =\n",
              "          google.colab.kernel.accessAllowed ? 'block' : 'none';\n",
              "\n",
              "        async function convertToInteractive(key) {\n",
              "          const element = document.querySelector('#df-2377c0ff-fd72-40c7-8a33-7e80431b1810');\n",
              "          const dataTable =\n",
              "            await google.colab.kernel.invokeFunction('convertToInteractive',\n",
              "                                                     [key], {});\n",
              "          if (!dataTable) return;\n",
              "\n",
              "          const docLinkHtml = 'Like what you see? Visit the ' +\n",
              "            '<a target=\"_blank\" href=https://colab.research.google.com/notebooks/data_table.ipynb>data table notebook</a>'\n",
              "            + ' to learn more about interactive tables.';\n",
              "          element.innerHTML = '';\n",
              "          dataTable['output_type'] = 'display_data';\n",
              "          await google.colab.output.renderOutput(dataTable, element);\n",
              "          const docLink = document.createElement('div');\n",
              "          docLink.innerHTML = docLinkHtml;\n",
              "          element.appendChild(docLink);\n",
              "        }\n",
              "      </script>\n",
              "    </div>\n",
              "  </div>\n",
              "  "
            ],
            "text/plain": [
              "             curs\n",
              "data             \n",
              "2000-03-21 28.390\n",
              "2000-03-22 28.380\n",
              "2000-03-23 28.360\n",
              "2000-03-24 28.340\n",
              "2000-03-25 28.330\n",
              "...           ...\n",
              "2020-03-17 74.126\n",
              "2020-03-18 73.890\n",
              "2020-03-19 77.213\n",
              "2020-03-20 80.157\n",
              "2020-03-21 78.044\n",
              "\n",
              "[4968 rows x 1 columns]"
            ]
          },
          "metadata": {},
          "execution_count": 23
        }
      ]
    },
    {
      "cell_type": "code",
      "source": [
        "# btc = btc['2011-12-31 00:00:00':'2020-03-21 00:00:00']\n",
        "usd_rub = usd_rub['2011-12-31 00:00:00':'2020-03-21 00:00:00']  #получаем срез данных в пределах - начальный timestamp таблицы btc : конечный timestamp таблицы usd_rub"
      ],
      "metadata": {
        "id": "iiyO3-vRHxoJ"
      },
      "execution_count": null,
      "outputs": []
    },
    {
      "cell_type": "code",
      "source": [
        "usd_rub "
      ],
      "metadata": {
        "colab": {
          "base_uri": "https://localhost:8080/",
          "height": 455
        },
        "id": "JGRLi0djI36Z",
        "outputId": "3ccb6823-0aad-4933-871d-6694280458a8"
      },
      "execution_count": null,
      "outputs": [
        {
          "output_type": "execute_result",
          "data": {
            "text/html": [
              "\n",
              "  <div id=\"df-b8aa0747-2b50-47ed-a21f-de9f23970bc4\">\n",
              "    <div class=\"colab-df-container\">\n",
              "      <div>\n",
              "<style scoped>\n",
              "    .dataframe tbody tr th:only-of-type {\n",
              "        vertical-align: middle;\n",
              "    }\n",
              "\n",
              "    .dataframe tbody tr th {\n",
              "        vertical-align: top;\n",
              "    }\n",
              "\n",
              "    .dataframe thead th {\n",
              "        text-align: right;\n",
              "    }\n",
              "</style>\n",
              "<table border=\"1\" class=\"dataframe\">\n",
              "  <thead>\n",
              "    <tr style=\"text-align: right;\">\n",
              "      <th></th>\n",
              "      <th>curs</th>\n",
              "    </tr>\n",
              "    <tr>\n",
              "      <th>data</th>\n",
              "      <th></th>\n",
              "    </tr>\n",
              "  </thead>\n",
              "  <tbody>\n",
              "    <tr>\n",
              "      <th>2011-12-31</th>\n",
              "      <td>32.196</td>\n",
              "    </tr>\n",
              "    <tr>\n",
              "      <th>2012-01-11</th>\n",
              "      <td>31.873</td>\n",
              "    </tr>\n",
              "    <tr>\n",
              "      <th>2012-01-12</th>\n",
              "      <td>31.689</td>\n",
              "    </tr>\n",
              "    <tr>\n",
              "      <th>2012-01-13</th>\n",
              "      <td>31.681</td>\n",
              "    </tr>\n",
              "    <tr>\n",
              "      <th>2012-01-14</th>\n",
              "      <td>31.583</td>\n",
              "    </tr>\n",
              "    <tr>\n",
              "      <th>...</th>\n",
              "      <td>...</td>\n",
              "    </tr>\n",
              "    <tr>\n",
              "      <th>2020-03-17</th>\n",
              "      <td>74.126</td>\n",
              "    </tr>\n",
              "    <tr>\n",
              "      <th>2020-03-18</th>\n",
              "      <td>73.890</td>\n",
              "    </tr>\n",
              "    <tr>\n",
              "      <th>2020-03-19</th>\n",
              "      <td>77.213</td>\n",
              "    </tr>\n",
              "    <tr>\n",
              "      <th>2020-03-20</th>\n",
              "      <td>80.157</td>\n",
              "    </tr>\n",
              "    <tr>\n",
              "      <th>2020-03-21</th>\n",
              "      <td>78.044</td>\n",
              "    </tr>\n",
              "  </tbody>\n",
              "</table>\n",
              "<p>2029 rows × 1 columns</p>\n",
              "</div>\n",
              "      <button class=\"colab-df-convert\" onclick=\"convertToInteractive('df-b8aa0747-2b50-47ed-a21f-de9f23970bc4')\"\n",
              "              title=\"Convert this dataframe to an interactive table.\"\n",
              "              style=\"display:none;\">\n",
              "        \n",
              "  <svg xmlns=\"http://www.w3.org/2000/svg\" height=\"24px\"viewBox=\"0 0 24 24\"\n",
              "       width=\"24px\">\n",
              "    <path d=\"M0 0h24v24H0V0z\" fill=\"none\"/>\n",
              "    <path d=\"M18.56 5.44l.94 2.06.94-2.06 2.06-.94-2.06-.94-.94-2.06-.94 2.06-2.06.94zm-11 1L8.5 8.5l.94-2.06 2.06-.94-2.06-.94L8.5 2.5l-.94 2.06-2.06.94zm10 10l.94 2.06.94-2.06 2.06-.94-2.06-.94-.94-2.06-.94 2.06-2.06.94z\"/><path d=\"M17.41 7.96l-1.37-1.37c-.4-.4-.92-.59-1.43-.59-.52 0-1.04.2-1.43.59L10.3 9.45l-7.72 7.72c-.78.78-.78 2.05 0 2.83L4 21.41c.39.39.9.59 1.41.59.51 0 1.02-.2 1.41-.59l7.78-7.78 2.81-2.81c.8-.78.8-2.07 0-2.86zM5.41 20L4 18.59l7.72-7.72 1.47 1.35L5.41 20z\"/>\n",
              "  </svg>\n",
              "      </button>\n",
              "      \n",
              "  <style>\n",
              "    .colab-df-container {\n",
              "      display:flex;\n",
              "      flex-wrap:wrap;\n",
              "      gap: 12px;\n",
              "    }\n",
              "\n",
              "    .colab-df-convert {\n",
              "      background-color: #E8F0FE;\n",
              "      border: none;\n",
              "      border-radius: 50%;\n",
              "      cursor: pointer;\n",
              "      display: none;\n",
              "      fill: #1967D2;\n",
              "      height: 32px;\n",
              "      padding: 0 0 0 0;\n",
              "      width: 32px;\n",
              "    }\n",
              "\n",
              "    .colab-df-convert:hover {\n",
              "      background-color: #E2EBFA;\n",
              "      box-shadow: 0px 1px 2px rgba(60, 64, 67, 0.3), 0px 1px 3px 1px rgba(60, 64, 67, 0.15);\n",
              "      fill: #174EA6;\n",
              "    }\n",
              "\n",
              "    [theme=dark] .colab-df-convert {\n",
              "      background-color: #3B4455;\n",
              "      fill: #D2E3FC;\n",
              "    }\n",
              "\n",
              "    [theme=dark] .colab-df-convert:hover {\n",
              "      background-color: #434B5C;\n",
              "      box-shadow: 0px 1px 3px 1px rgba(0, 0, 0, 0.15);\n",
              "      filter: drop-shadow(0px 1px 2px rgba(0, 0, 0, 0.3));\n",
              "      fill: #FFFFFF;\n",
              "    }\n",
              "  </style>\n",
              "\n",
              "      <script>\n",
              "        const buttonEl =\n",
              "          document.querySelector('#df-b8aa0747-2b50-47ed-a21f-de9f23970bc4 button.colab-df-convert');\n",
              "        buttonEl.style.display =\n",
              "          google.colab.kernel.accessAllowed ? 'block' : 'none';\n",
              "\n",
              "        async function convertToInteractive(key) {\n",
              "          const element = document.querySelector('#df-b8aa0747-2b50-47ed-a21f-de9f23970bc4');\n",
              "          const dataTable =\n",
              "            await google.colab.kernel.invokeFunction('convertToInteractive',\n",
              "                                                     [key], {});\n",
              "          if (!dataTable) return;\n",
              "\n",
              "          const docLinkHtml = 'Like what you see? Visit the ' +\n",
              "            '<a target=\"_blank\" href=https://colab.research.google.com/notebooks/data_table.ipynb>data table notebook</a>'\n",
              "            + ' to learn more about interactive tables.';\n",
              "          element.innerHTML = '';\n",
              "          dataTable['output_type'] = 'display_data';\n",
              "          await google.colab.output.renderOutput(dataTable, element);\n",
              "          const docLink = document.createElement('div');\n",
              "          docLink.innerHTML = docLinkHtml;\n",
              "          element.appendChild(docLink);\n",
              "        }\n",
              "      </script>\n",
              "    </div>\n",
              "  </div>\n",
              "  "
            ],
            "text/plain": [
              "             curs\n",
              "data             \n",
              "2011-12-31 32.196\n",
              "2012-01-11 31.873\n",
              "2012-01-12 31.689\n",
              "2012-01-13 31.681\n",
              "2012-01-14 31.583\n",
              "...           ...\n",
              "2020-03-17 74.126\n",
              "2020-03-18 73.890\n",
              "2020-03-19 77.213\n",
              "2020-03-20 80.157\n",
              "2020-03-21 78.044\n",
              "\n",
              "[2029 rows x 1 columns]"
            ]
          },
          "metadata": {},
          "execution_count": 25
        }
      ]
    },
    {
      "cell_type": "code",
      "source": [
        "all_dates = pd.DataFrame(columns=['N'],index=pd.date_range(start='31/12/2011', end='21/03/2020', freq='min')) #создаем новый DataFrame с нужными timestamp\n",
        "all_dates"
      ],
      "metadata": {
        "colab": {
          "base_uri": "https://localhost:8080/",
          "height": 424
        },
        "id": "Wyuzu6RIV_O4",
        "outputId": "530b1c25-4433-4267-d058-58c2520fd8ca"
      },
      "execution_count": null,
      "outputs": [
        {
          "output_type": "execute_result",
          "data": {
            "text/html": [
              "\n",
              "  <div id=\"df-efd09e55-2a6b-462d-bc8a-faae8608f1ef\">\n",
              "    <div class=\"colab-df-container\">\n",
              "      <div>\n",
              "<style scoped>\n",
              "    .dataframe tbody tr th:only-of-type {\n",
              "        vertical-align: middle;\n",
              "    }\n",
              "\n",
              "    .dataframe tbody tr th {\n",
              "        vertical-align: top;\n",
              "    }\n",
              "\n",
              "    .dataframe thead th {\n",
              "        text-align: right;\n",
              "    }\n",
              "</style>\n",
              "<table border=\"1\" class=\"dataframe\">\n",
              "  <thead>\n",
              "    <tr style=\"text-align: right;\">\n",
              "      <th></th>\n",
              "      <th>N</th>\n",
              "    </tr>\n",
              "  </thead>\n",
              "  <tbody>\n",
              "    <tr>\n",
              "      <th>2011-12-31 00:00:00</th>\n",
              "      <td>NaN</td>\n",
              "    </tr>\n",
              "    <tr>\n",
              "      <th>2011-12-31 00:01:00</th>\n",
              "      <td>NaN</td>\n",
              "    </tr>\n",
              "    <tr>\n",
              "      <th>2011-12-31 00:02:00</th>\n",
              "      <td>NaN</td>\n",
              "    </tr>\n",
              "    <tr>\n",
              "      <th>2011-12-31 00:03:00</th>\n",
              "      <td>NaN</td>\n",
              "    </tr>\n",
              "    <tr>\n",
              "      <th>2011-12-31 00:04:00</th>\n",
              "      <td>NaN</td>\n",
              "    </tr>\n",
              "    <tr>\n",
              "      <th>...</th>\n",
              "      <td>...</td>\n",
              "    </tr>\n",
              "    <tr>\n",
              "      <th>2020-03-20 23:56:00</th>\n",
              "      <td>NaN</td>\n",
              "    </tr>\n",
              "    <tr>\n",
              "      <th>2020-03-20 23:57:00</th>\n",
              "      <td>NaN</td>\n",
              "    </tr>\n",
              "    <tr>\n",
              "      <th>2020-03-20 23:58:00</th>\n",
              "      <td>NaN</td>\n",
              "    </tr>\n",
              "    <tr>\n",
              "      <th>2020-03-20 23:59:00</th>\n",
              "      <td>NaN</td>\n",
              "    </tr>\n",
              "    <tr>\n",
              "      <th>2020-03-21 00:00:00</th>\n",
              "      <td>NaN</td>\n",
              "    </tr>\n",
              "  </tbody>\n",
              "</table>\n",
              "<p>4324321 rows × 1 columns</p>\n",
              "</div>\n",
              "      <button class=\"colab-df-convert\" onclick=\"convertToInteractive('df-efd09e55-2a6b-462d-bc8a-faae8608f1ef')\"\n",
              "              title=\"Convert this dataframe to an interactive table.\"\n",
              "              style=\"display:none;\">\n",
              "        \n",
              "  <svg xmlns=\"http://www.w3.org/2000/svg\" height=\"24px\"viewBox=\"0 0 24 24\"\n",
              "       width=\"24px\">\n",
              "    <path d=\"M0 0h24v24H0V0z\" fill=\"none\"/>\n",
              "    <path d=\"M18.56 5.44l.94 2.06.94-2.06 2.06-.94-2.06-.94-.94-2.06-.94 2.06-2.06.94zm-11 1L8.5 8.5l.94-2.06 2.06-.94-2.06-.94L8.5 2.5l-.94 2.06-2.06.94zm10 10l.94 2.06.94-2.06 2.06-.94-2.06-.94-.94-2.06-.94 2.06-2.06.94z\"/><path d=\"M17.41 7.96l-1.37-1.37c-.4-.4-.92-.59-1.43-.59-.52 0-1.04.2-1.43.59L10.3 9.45l-7.72 7.72c-.78.78-.78 2.05 0 2.83L4 21.41c.39.39.9.59 1.41.59.51 0 1.02-.2 1.41-.59l7.78-7.78 2.81-2.81c.8-.78.8-2.07 0-2.86zM5.41 20L4 18.59l7.72-7.72 1.47 1.35L5.41 20z\"/>\n",
              "  </svg>\n",
              "      </button>\n",
              "      \n",
              "  <style>\n",
              "    .colab-df-container {\n",
              "      display:flex;\n",
              "      flex-wrap:wrap;\n",
              "      gap: 12px;\n",
              "    }\n",
              "\n",
              "    .colab-df-convert {\n",
              "      background-color: #E8F0FE;\n",
              "      border: none;\n",
              "      border-radius: 50%;\n",
              "      cursor: pointer;\n",
              "      display: none;\n",
              "      fill: #1967D2;\n",
              "      height: 32px;\n",
              "      padding: 0 0 0 0;\n",
              "      width: 32px;\n",
              "    }\n",
              "\n",
              "    .colab-df-convert:hover {\n",
              "      background-color: #E2EBFA;\n",
              "      box-shadow: 0px 1px 2px rgba(60, 64, 67, 0.3), 0px 1px 3px 1px rgba(60, 64, 67, 0.15);\n",
              "      fill: #174EA6;\n",
              "    }\n",
              "\n",
              "    [theme=dark] .colab-df-convert {\n",
              "      background-color: #3B4455;\n",
              "      fill: #D2E3FC;\n",
              "    }\n",
              "\n",
              "    [theme=dark] .colab-df-convert:hover {\n",
              "      background-color: #434B5C;\n",
              "      box-shadow: 0px 1px 3px 1px rgba(0, 0, 0, 0.15);\n",
              "      filter: drop-shadow(0px 1px 2px rgba(0, 0, 0, 0.3));\n",
              "      fill: #FFFFFF;\n",
              "    }\n",
              "  </style>\n",
              "\n",
              "      <script>\n",
              "        const buttonEl =\n",
              "          document.querySelector('#df-efd09e55-2a6b-462d-bc8a-faae8608f1ef button.colab-df-convert');\n",
              "        buttonEl.style.display =\n",
              "          google.colab.kernel.accessAllowed ? 'block' : 'none';\n",
              "\n",
              "        async function convertToInteractive(key) {\n",
              "          const element = document.querySelector('#df-efd09e55-2a6b-462d-bc8a-faae8608f1ef');\n",
              "          const dataTable =\n",
              "            await google.colab.kernel.invokeFunction('convertToInteractive',\n",
              "                                                     [key], {});\n",
              "          if (!dataTable) return;\n",
              "\n",
              "          const docLinkHtml = 'Like what you see? Visit the ' +\n",
              "            '<a target=\"_blank\" href=https://colab.research.google.com/notebooks/data_table.ipynb>data table notebook</a>'\n",
              "            + ' to learn more about interactive tables.';\n",
              "          element.innerHTML = '';\n",
              "          dataTable['output_type'] = 'display_data';\n",
              "          await google.colab.output.renderOutput(dataTable, element);\n",
              "          const docLink = document.createElement('div');\n",
              "          docLink.innerHTML = docLinkHtml;\n",
              "          element.appendChild(docLink);\n",
              "        }\n",
              "      </script>\n",
              "    </div>\n",
              "  </div>\n",
              "  "
            ],
            "text/plain": [
              "                       N\n",
              "2011-12-31 00:00:00  NaN\n",
              "2011-12-31 00:01:00  NaN\n",
              "2011-12-31 00:02:00  NaN\n",
              "2011-12-31 00:03:00  NaN\n",
              "2011-12-31 00:04:00  NaN\n",
              "...                  ...\n",
              "2020-03-20 23:56:00  NaN\n",
              "2020-03-20 23:57:00  NaN\n",
              "2020-03-20 23:58:00  NaN\n",
              "2020-03-20 23:59:00  NaN\n",
              "2020-03-21 00:00:00  NaN\n",
              "\n",
              "[4324321 rows x 1 columns]"
            ]
          },
          "metadata": {},
          "execution_count": 26
        }
      ]
    },
    {
      "cell_type": "code",
      "source": [
        "usd_rub = pd.concat([usd_rub, all_dates], axis=1) #объединяем две таблицы"
      ],
      "metadata": {
        "id": "m1IEW-zYnsGP"
      },
      "execution_count": null,
      "outputs": []
    },
    {
      "cell_type": "code",
      "source": [
        "del usd_rub['N'] #удаляем ненужный столбец"
      ],
      "metadata": {
        "id": "YrKmvvU3tvvO"
      },
      "execution_count": null,
      "outputs": []
    },
    {
      "cell_type": "code",
      "source": [
        "usd_rub.fillna(method='ffill', inplace=True) #продлеваем значения вышестоящего курса рубль-доллар ниже на все NAN, пока не встретится следующее значение"
      ],
      "metadata": {
        "id": "ybfbf8TYtncz"
      },
      "execution_count": null,
      "outputs": []
    },
    {
      "cell_type": "code",
      "source": [
        "usd_rub"
      ],
      "metadata": {
        "colab": {
          "base_uri": "https://localhost:8080/",
          "height": 424
        },
        "id": "UNgDewB6Qfja",
        "outputId": "31fec1b8-5b0d-48bf-b94c-313255a2e74e"
      },
      "execution_count": null,
      "outputs": [
        {
          "output_type": "execute_result",
          "data": {
            "text/html": [
              "\n",
              "  <div id=\"df-08fff2a9-c22c-4ba2-a8fd-fabc031a6843\">\n",
              "    <div class=\"colab-df-container\">\n",
              "      <div>\n",
              "<style scoped>\n",
              "    .dataframe tbody tr th:only-of-type {\n",
              "        vertical-align: middle;\n",
              "    }\n",
              "\n",
              "    .dataframe tbody tr th {\n",
              "        vertical-align: top;\n",
              "    }\n",
              "\n",
              "    .dataframe thead th {\n",
              "        text-align: right;\n",
              "    }\n",
              "</style>\n",
              "<table border=\"1\" class=\"dataframe\">\n",
              "  <thead>\n",
              "    <tr style=\"text-align: right;\">\n",
              "      <th></th>\n",
              "      <th>curs</th>\n",
              "    </tr>\n",
              "  </thead>\n",
              "  <tbody>\n",
              "    <tr>\n",
              "      <th>2011-12-31 00:00:00</th>\n",
              "      <td>32.196</td>\n",
              "    </tr>\n",
              "    <tr>\n",
              "      <th>2011-12-31 00:01:00</th>\n",
              "      <td>32.196</td>\n",
              "    </tr>\n",
              "    <tr>\n",
              "      <th>2011-12-31 00:02:00</th>\n",
              "      <td>32.196</td>\n",
              "    </tr>\n",
              "    <tr>\n",
              "      <th>2011-12-31 00:03:00</th>\n",
              "      <td>32.196</td>\n",
              "    </tr>\n",
              "    <tr>\n",
              "      <th>2011-12-31 00:04:00</th>\n",
              "      <td>32.196</td>\n",
              "    </tr>\n",
              "    <tr>\n",
              "      <th>...</th>\n",
              "      <td>...</td>\n",
              "    </tr>\n",
              "    <tr>\n",
              "      <th>2020-03-20 23:56:00</th>\n",
              "      <td>80.157</td>\n",
              "    </tr>\n",
              "    <tr>\n",
              "      <th>2020-03-20 23:57:00</th>\n",
              "      <td>80.157</td>\n",
              "    </tr>\n",
              "    <tr>\n",
              "      <th>2020-03-20 23:58:00</th>\n",
              "      <td>80.157</td>\n",
              "    </tr>\n",
              "    <tr>\n",
              "      <th>2020-03-20 23:59:00</th>\n",
              "      <td>80.157</td>\n",
              "    </tr>\n",
              "    <tr>\n",
              "      <th>2020-03-21 00:00:00</th>\n",
              "      <td>78.044</td>\n",
              "    </tr>\n",
              "  </tbody>\n",
              "</table>\n",
              "<p>4324321 rows × 1 columns</p>\n",
              "</div>\n",
              "      <button class=\"colab-df-convert\" onclick=\"convertToInteractive('df-08fff2a9-c22c-4ba2-a8fd-fabc031a6843')\"\n",
              "              title=\"Convert this dataframe to an interactive table.\"\n",
              "              style=\"display:none;\">\n",
              "        \n",
              "  <svg xmlns=\"http://www.w3.org/2000/svg\" height=\"24px\"viewBox=\"0 0 24 24\"\n",
              "       width=\"24px\">\n",
              "    <path d=\"M0 0h24v24H0V0z\" fill=\"none\"/>\n",
              "    <path d=\"M18.56 5.44l.94 2.06.94-2.06 2.06-.94-2.06-.94-.94-2.06-.94 2.06-2.06.94zm-11 1L8.5 8.5l.94-2.06 2.06-.94-2.06-.94L8.5 2.5l-.94 2.06-2.06.94zm10 10l.94 2.06.94-2.06 2.06-.94-2.06-.94-.94-2.06-.94 2.06-2.06.94z\"/><path d=\"M17.41 7.96l-1.37-1.37c-.4-.4-.92-.59-1.43-.59-.52 0-1.04.2-1.43.59L10.3 9.45l-7.72 7.72c-.78.78-.78 2.05 0 2.83L4 21.41c.39.39.9.59 1.41.59.51 0 1.02-.2 1.41-.59l7.78-7.78 2.81-2.81c.8-.78.8-2.07 0-2.86zM5.41 20L4 18.59l7.72-7.72 1.47 1.35L5.41 20z\"/>\n",
              "  </svg>\n",
              "      </button>\n",
              "      \n",
              "  <style>\n",
              "    .colab-df-container {\n",
              "      display:flex;\n",
              "      flex-wrap:wrap;\n",
              "      gap: 12px;\n",
              "    }\n",
              "\n",
              "    .colab-df-convert {\n",
              "      background-color: #E8F0FE;\n",
              "      border: none;\n",
              "      border-radius: 50%;\n",
              "      cursor: pointer;\n",
              "      display: none;\n",
              "      fill: #1967D2;\n",
              "      height: 32px;\n",
              "      padding: 0 0 0 0;\n",
              "      width: 32px;\n",
              "    }\n",
              "\n",
              "    .colab-df-convert:hover {\n",
              "      background-color: #E2EBFA;\n",
              "      box-shadow: 0px 1px 2px rgba(60, 64, 67, 0.3), 0px 1px 3px 1px rgba(60, 64, 67, 0.15);\n",
              "      fill: #174EA6;\n",
              "    }\n",
              "\n",
              "    [theme=dark] .colab-df-convert {\n",
              "      background-color: #3B4455;\n",
              "      fill: #D2E3FC;\n",
              "    }\n",
              "\n",
              "    [theme=dark] .colab-df-convert:hover {\n",
              "      background-color: #434B5C;\n",
              "      box-shadow: 0px 1px 3px 1px rgba(0, 0, 0, 0.15);\n",
              "      filter: drop-shadow(0px 1px 2px rgba(0, 0, 0, 0.3));\n",
              "      fill: #FFFFFF;\n",
              "    }\n",
              "  </style>\n",
              "\n",
              "      <script>\n",
              "        const buttonEl =\n",
              "          document.querySelector('#df-08fff2a9-c22c-4ba2-a8fd-fabc031a6843 button.colab-df-convert');\n",
              "        buttonEl.style.display =\n",
              "          google.colab.kernel.accessAllowed ? 'block' : 'none';\n",
              "\n",
              "        async function convertToInteractive(key) {\n",
              "          const element = document.querySelector('#df-08fff2a9-c22c-4ba2-a8fd-fabc031a6843');\n",
              "          const dataTable =\n",
              "            await google.colab.kernel.invokeFunction('convertToInteractive',\n",
              "                                                     [key], {});\n",
              "          if (!dataTable) return;\n",
              "\n",
              "          const docLinkHtml = 'Like what you see? Visit the ' +\n",
              "            '<a target=\"_blank\" href=https://colab.research.google.com/notebooks/data_table.ipynb>data table notebook</a>'\n",
              "            + ' to learn more about interactive tables.';\n",
              "          element.innerHTML = '';\n",
              "          dataTable['output_type'] = 'display_data';\n",
              "          await google.colab.output.renderOutput(dataTable, element);\n",
              "          const docLink = document.createElement('div');\n",
              "          docLink.innerHTML = docLinkHtml;\n",
              "          element.appendChild(docLink);\n",
              "        }\n",
              "      </script>\n",
              "    </div>\n",
              "  </div>\n",
              "  "
            ],
            "text/plain": [
              "                      curs\n",
              "2011-12-31 00:00:00 32.196\n",
              "2011-12-31 00:01:00 32.196\n",
              "2011-12-31 00:02:00 32.196\n",
              "2011-12-31 00:03:00 32.196\n",
              "2011-12-31 00:04:00 32.196\n",
              "...                    ...\n",
              "2020-03-20 23:56:00 80.157\n",
              "2020-03-20 23:57:00 80.157\n",
              "2020-03-20 23:58:00 80.157\n",
              "2020-03-20 23:59:00 80.157\n",
              "2020-03-21 00:00:00 78.044\n",
              "\n",
              "[4324321 rows x 1 columns]"
            ]
          },
          "metadata": {},
          "execution_count": 30
        }
      ]
    },
    {
      "cell_type": "markdown",
      "metadata": {
        "id": "twMKLVdaQ7VF"
      },
      "source": [
        "Курс доллара к рублю заполнен. Объединим эту таблицу с информацией по биткоину:"
      ]
    },
    {
      "cell_type": "code",
      "metadata": {
        "id": "L4p8FVaRQ7VG"
      },
      "source": [
        "all_btc = pd.concat([btc, usd_rub], axis=1, join='inner')"
      ],
      "execution_count": null,
      "outputs": []
    },
    {
      "cell_type": "code",
      "source": [
        "all_btc"
      ],
      "metadata": {
        "colab": {
          "base_uri": "https://localhost:8080/",
          "height": 424
        },
        "id": "x94XmrUvRacm",
        "outputId": "5fee7e16-e29c-4ad0-854a-97fb2413a881"
      },
      "execution_count": null,
      "outputs": [
        {
          "output_type": "execute_result",
          "data": {
            "text/html": [
              "\n",
              "  <div id=\"df-49c6a51c-b4a8-473d-8854-ee0892efeed3\">\n",
              "    <div class=\"colab-df-container\">\n",
              "      <div>\n",
              "<style scoped>\n",
              "    .dataframe tbody tr th:only-of-type {\n",
              "        vertical-align: middle;\n",
              "    }\n",
              "\n",
              "    .dataframe tbody tr th {\n",
              "        vertical-align: top;\n",
              "    }\n",
              "\n",
              "    .dataframe thead th {\n",
              "        text-align: right;\n",
              "    }\n",
              "</style>\n",
              "<table border=\"1\" class=\"dataframe\">\n",
              "  <thead>\n",
              "    <tr style=\"text-align: right;\">\n",
              "      <th></th>\n",
              "      <th>Open</th>\n",
              "      <th>High</th>\n",
              "      <th>Low</th>\n",
              "      <th>Close</th>\n",
              "      <th>Volume_(BTC)</th>\n",
              "      <th>Volume_(Currency)</th>\n",
              "      <th>Weighted_Price</th>\n",
              "      <th>curs</th>\n",
              "    </tr>\n",
              "  </thead>\n",
              "  <tbody>\n",
              "    <tr>\n",
              "      <th>2011-12-31 07:52:00</th>\n",
              "      <td>4.390</td>\n",
              "      <td>4.390</td>\n",
              "      <td>4.390</td>\n",
              "      <td>4.390</td>\n",
              "      <td>0.456</td>\n",
              "      <td>2.000</td>\n",
              "      <td>4.390</td>\n",
              "      <td>32.196</td>\n",
              "    </tr>\n",
              "    <tr>\n",
              "      <th>2011-12-31 15:50:00</th>\n",
              "      <td>4.390</td>\n",
              "      <td>4.390</td>\n",
              "      <td>4.390</td>\n",
              "      <td>4.390</td>\n",
              "      <td>48.000</td>\n",
              "      <td>210.720</td>\n",
              "      <td>4.390</td>\n",
              "      <td>32.196</td>\n",
              "    </tr>\n",
              "    <tr>\n",
              "      <th>2011-12-31 16:59:00</th>\n",
              "      <td>4.500</td>\n",
              "      <td>4.570</td>\n",
              "      <td>4.500</td>\n",
              "      <td>4.570</td>\n",
              "      <td>37.862</td>\n",
              "      <td>171.380</td>\n",
              "      <td>4.526</td>\n",
              "      <td>32.196</td>\n",
              "    </tr>\n",
              "    <tr>\n",
              "      <th>2011-12-31 17:00:00</th>\n",
              "      <td>4.580</td>\n",
              "      <td>4.580</td>\n",
              "      <td>4.580</td>\n",
              "      <td>4.580</td>\n",
              "      <td>9.000</td>\n",
              "      <td>41.220</td>\n",
              "      <td>4.580</td>\n",
              "      <td>32.196</td>\n",
              "    </tr>\n",
              "    <tr>\n",
              "      <th>2012-01-01 04:16:00</th>\n",
              "      <td>4.580</td>\n",
              "      <td>4.580</td>\n",
              "      <td>4.580</td>\n",
              "      <td>4.580</td>\n",
              "      <td>1.502</td>\n",
              "      <td>6.879</td>\n",
              "      <td>4.580</td>\n",
              "      <td>32.196</td>\n",
              "    </tr>\n",
              "    <tr>\n",
              "      <th>...</th>\n",
              "      <td>...</td>\n",
              "      <td>...</td>\n",
              "      <td>...</td>\n",
              "      <td>...</td>\n",
              "      <td>...</td>\n",
              "      <td>...</td>\n",
              "      <td>...</td>\n",
              "      <td>...</td>\n",
              "    </tr>\n",
              "    <tr>\n",
              "      <th>2020-03-20 23:55:00</th>\n",
              "      <td>6189.650</td>\n",
              "      <td>6211.540</td>\n",
              "      <td>6189.650</td>\n",
              "      <td>6207.140</td>\n",
              "      <td>0.528</td>\n",
              "      <td>3278.832</td>\n",
              "      <td>6207.342</td>\n",
              "      <td>80.157</td>\n",
              "    </tr>\n",
              "    <tr>\n",
              "      <th>2020-03-20 23:57:00</th>\n",
              "      <td>6214.060</td>\n",
              "      <td>6236.450</td>\n",
              "      <td>6212.770</td>\n",
              "      <td>6224.460</td>\n",
              "      <td>20.182</td>\n",
              "      <td>125560.106</td>\n",
              "      <td>6221.418</td>\n",
              "      <td>80.157</td>\n",
              "    </tr>\n",
              "    <tr>\n",
              "      <th>2020-03-20 23:58:00</th>\n",
              "      <td>6231.220</td>\n",
              "      <td>6231.220</td>\n",
              "      <td>6219.190</td>\n",
              "      <td>6231.210</td>\n",
              "      <td>0.911</td>\n",
              "      <td>5675.120</td>\n",
              "      <td>6229.148</td>\n",
              "      <td>80.157</td>\n",
              "    </tr>\n",
              "    <tr>\n",
              "      <th>2020-03-20 23:59:00</th>\n",
              "      <td>6223.780</td>\n",
              "      <td>6230.790</td>\n",
              "      <td>6196.390</td>\n",
              "      <td>6210.140</td>\n",
              "      <td>2.493</td>\n",
              "      <td>15485.019</td>\n",
              "      <td>6212.161</td>\n",
              "      <td>80.157</td>\n",
              "    </tr>\n",
              "    <tr>\n",
              "      <th>2020-03-21 00:00:00</th>\n",
              "      <td>6207.660</td>\n",
              "      <td>6227.310</td>\n",
              "      <td>6203.990</td>\n",
              "      <td>6220.440</td>\n",
              "      <td>0.825</td>\n",
              "      <td>5124.404</td>\n",
              "      <td>6212.191</td>\n",
              "      <td>78.044</td>\n",
              "    </tr>\n",
              "  </tbody>\n",
              "</table>\n",
              "<p>3081631 rows × 8 columns</p>\n",
              "</div>\n",
              "      <button class=\"colab-df-convert\" onclick=\"convertToInteractive('df-49c6a51c-b4a8-473d-8854-ee0892efeed3')\"\n",
              "              title=\"Convert this dataframe to an interactive table.\"\n",
              "              style=\"display:none;\">\n",
              "        \n",
              "  <svg xmlns=\"http://www.w3.org/2000/svg\" height=\"24px\"viewBox=\"0 0 24 24\"\n",
              "       width=\"24px\">\n",
              "    <path d=\"M0 0h24v24H0V0z\" fill=\"none\"/>\n",
              "    <path d=\"M18.56 5.44l.94 2.06.94-2.06 2.06-.94-2.06-.94-.94-2.06-.94 2.06-2.06.94zm-11 1L8.5 8.5l.94-2.06 2.06-.94-2.06-.94L8.5 2.5l-.94 2.06-2.06.94zm10 10l.94 2.06.94-2.06 2.06-.94-2.06-.94-.94-2.06-.94 2.06-2.06.94z\"/><path d=\"M17.41 7.96l-1.37-1.37c-.4-.4-.92-.59-1.43-.59-.52 0-1.04.2-1.43.59L10.3 9.45l-7.72 7.72c-.78.78-.78 2.05 0 2.83L4 21.41c.39.39.9.59 1.41.59.51 0 1.02-.2 1.41-.59l7.78-7.78 2.81-2.81c.8-.78.8-2.07 0-2.86zM5.41 20L4 18.59l7.72-7.72 1.47 1.35L5.41 20z\"/>\n",
              "  </svg>\n",
              "      </button>\n",
              "      \n",
              "  <style>\n",
              "    .colab-df-container {\n",
              "      display:flex;\n",
              "      flex-wrap:wrap;\n",
              "      gap: 12px;\n",
              "    }\n",
              "\n",
              "    .colab-df-convert {\n",
              "      background-color: #E8F0FE;\n",
              "      border: none;\n",
              "      border-radius: 50%;\n",
              "      cursor: pointer;\n",
              "      display: none;\n",
              "      fill: #1967D2;\n",
              "      height: 32px;\n",
              "      padding: 0 0 0 0;\n",
              "      width: 32px;\n",
              "    }\n",
              "\n",
              "    .colab-df-convert:hover {\n",
              "      background-color: #E2EBFA;\n",
              "      box-shadow: 0px 1px 2px rgba(60, 64, 67, 0.3), 0px 1px 3px 1px rgba(60, 64, 67, 0.15);\n",
              "      fill: #174EA6;\n",
              "    }\n",
              "\n",
              "    [theme=dark] .colab-df-convert {\n",
              "      background-color: #3B4455;\n",
              "      fill: #D2E3FC;\n",
              "    }\n",
              "\n",
              "    [theme=dark] .colab-df-convert:hover {\n",
              "      background-color: #434B5C;\n",
              "      box-shadow: 0px 1px 3px 1px rgba(0, 0, 0, 0.15);\n",
              "      filter: drop-shadow(0px 1px 2px rgba(0, 0, 0, 0.3));\n",
              "      fill: #FFFFFF;\n",
              "    }\n",
              "  </style>\n",
              "\n",
              "      <script>\n",
              "        const buttonEl =\n",
              "          document.querySelector('#df-49c6a51c-b4a8-473d-8854-ee0892efeed3 button.colab-df-convert');\n",
              "        buttonEl.style.display =\n",
              "          google.colab.kernel.accessAllowed ? 'block' : 'none';\n",
              "\n",
              "        async function convertToInteractive(key) {\n",
              "          const element = document.querySelector('#df-49c6a51c-b4a8-473d-8854-ee0892efeed3');\n",
              "          const dataTable =\n",
              "            await google.colab.kernel.invokeFunction('convertToInteractive',\n",
              "                                                     [key], {});\n",
              "          if (!dataTable) return;\n",
              "\n",
              "          const docLinkHtml = 'Like what you see? Visit the ' +\n",
              "            '<a target=\"_blank\" href=https://colab.research.google.com/notebooks/data_table.ipynb>data table notebook</a>'\n",
              "            + ' to learn more about interactive tables.';\n",
              "          element.innerHTML = '';\n",
              "          dataTable['output_type'] = 'display_data';\n",
              "          await google.colab.output.renderOutput(dataTable, element);\n",
              "          const docLink = document.createElement('div');\n",
              "          docLink.innerHTML = docLinkHtml;\n",
              "          element.appendChild(docLink);\n",
              "        }\n",
              "      </script>\n",
              "    </div>\n",
              "  </div>\n",
              "  "
            ],
            "text/plain": [
              "                        Open     High  ...  Weighted_Price   curs\n",
              "2011-12-31 07:52:00    4.390    4.390  ...           4.390 32.196\n",
              "2011-12-31 15:50:00    4.390    4.390  ...           4.390 32.196\n",
              "2011-12-31 16:59:00    4.500    4.570  ...           4.526 32.196\n",
              "2011-12-31 17:00:00    4.580    4.580  ...           4.580 32.196\n",
              "2012-01-01 04:16:00    4.580    4.580  ...           4.580 32.196\n",
              "...                      ...      ...  ...             ...    ...\n",
              "2020-03-20 23:55:00 6189.650 6211.540  ...        6207.342 80.157\n",
              "2020-03-20 23:57:00 6214.060 6236.450  ...        6221.418 80.157\n",
              "2020-03-20 23:58:00 6231.220 6231.220  ...        6229.148 80.157\n",
              "2020-03-20 23:59:00 6223.780 6230.790  ...        6212.161 80.157\n",
              "2020-03-21 00:00:00 6207.660 6227.310  ...        6212.191 78.044\n",
              "\n",
              "[3081631 rows x 8 columns]"
            ]
          },
          "metadata": {},
          "execution_count": 32
        }
      ]
    },
    {
      "cell_type": "markdown",
      "metadata": {
        "id": "YYatDu9DQ7VG"
      },
      "source": [
        "Теперь создадим новый столбец, в котором будет записана цена биткоина в рублях:"
      ]
    },
    {
      "cell_type": "code",
      "metadata": {
        "id": "6yvTKthrQ7VG"
      },
      "source": [
        "all_btc['RUB'] = all_btc['curs'] * all_btc['Weighted_Price']"
      ],
      "execution_count": null,
      "outputs": []
    },
    {
      "cell_type": "code",
      "source": [
        "all_btc"
      ],
      "metadata": {
        "colab": {
          "base_uri": "https://localhost:8080/",
          "height": 424
        },
        "id": "A89az2BKXih-",
        "outputId": "352d68a4-b769-44e6-a884-8eb6e42873e4"
      },
      "execution_count": null,
      "outputs": [
        {
          "output_type": "execute_result",
          "data": {
            "text/html": [
              "\n",
              "  <div id=\"df-571642cf-dbc6-43bf-88ac-b7fea7a82151\">\n",
              "    <div class=\"colab-df-container\">\n",
              "      <div>\n",
              "<style scoped>\n",
              "    .dataframe tbody tr th:only-of-type {\n",
              "        vertical-align: middle;\n",
              "    }\n",
              "\n",
              "    .dataframe tbody tr th {\n",
              "        vertical-align: top;\n",
              "    }\n",
              "\n",
              "    .dataframe thead th {\n",
              "        text-align: right;\n",
              "    }\n",
              "</style>\n",
              "<table border=\"1\" class=\"dataframe\">\n",
              "  <thead>\n",
              "    <tr style=\"text-align: right;\">\n",
              "      <th></th>\n",
              "      <th>Open</th>\n",
              "      <th>High</th>\n",
              "      <th>Low</th>\n",
              "      <th>Close</th>\n",
              "      <th>Volume_(BTC)</th>\n",
              "      <th>Volume_(Currency)</th>\n",
              "      <th>Weighted_Price</th>\n",
              "      <th>curs</th>\n",
              "      <th>RUB</th>\n",
              "    </tr>\n",
              "  </thead>\n",
              "  <tbody>\n",
              "    <tr>\n",
              "      <th>2011-12-31 07:52:00</th>\n",
              "      <td>4.390</td>\n",
              "      <td>4.390</td>\n",
              "      <td>4.390</td>\n",
              "      <td>4.390</td>\n",
              "      <td>0.456</td>\n",
              "      <td>2.000</td>\n",
              "      <td>4.390</td>\n",
              "      <td>32.196</td>\n",
              "      <td>141.341</td>\n",
              "    </tr>\n",
              "    <tr>\n",
              "      <th>2011-12-31 15:50:00</th>\n",
              "      <td>4.390</td>\n",
              "      <td>4.390</td>\n",
              "      <td>4.390</td>\n",
              "      <td>4.390</td>\n",
              "      <td>48.000</td>\n",
              "      <td>210.720</td>\n",
              "      <td>4.390</td>\n",
              "      <td>32.196</td>\n",
              "      <td>141.341</td>\n",
              "    </tr>\n",
              "    <tr>\n",
              "      <th>2011-12-31 16:59:00</th>\n",
              "      <td>4.500</td>\n",
              "      <td>4.570</td>\n",
              "      <td>4.500</td>\n",
              "      <td>4.570</td>\n",
              "      <td>37.862</td>\n",
              "      <td>171.380</td>\n",
              "      <td>4.526</td>\n",
              "      <td>32.196</td>\n",
              "      <td>145.733</td>\n",
              "    </tr>\n",
              "    <tr>\n",
              "      <th>2011-12-31 17:00:00</th>\n",
              "      <td>4.580</td>\n",
              "      <td>4.580</td>\n",
              "      <td>4.580</td>\n",
              "      <td>4.580</td>\n",
              "      <td>9.000</td>\n",
              "      <td>41.220</td>\n",
              "      <td>4.580</td>\n",
              "      <td>32.196</td>\n",
              "      <td>147.458</td>\n",
              "    </tr>\n",
              "    <tr>\n",
              "      <th>2012-01-01 04:16:00</th>\n",
              "      <td>4.580</td>\n",
              "      <td>4.580</td>\n",
              "      <td>4.580</td>\n",
              "      <td>4.580</td>\n",
              "      <td>1.502</td>\n",
              "      <td>6.879</td>\n",
              "      <td>4.580</td>\n",
              "      <td>32.196</td>\n",
              "      <td>147.458</td>\n",
              "    </tr>\n",
              "    <tr>\n",
              "      <th>...</th>\n",
              "      <td>...</td>\n",
              "      <td>...</td>\n",
              "      <td>...</td>\n",
              "      <td>...</td>\n",
              "      <td>...</td>\n",
              "      <td>...</td>\n",
              "      <td>...</td>\n",
              "      <td>...</td>\n",
              "      <td>...</td>\n",
              "    </tr>\n",
              "    <tr>\n",
              "      <th>2020-03-20 23:55:00</th>\n",
              "      <td>6189.650</td>\n",
              "      <td>6211.540</td>\n",
              "      <td>6189.650</td>\n",
              "      <td>6207.140</td>\n",
              "      <td>0.528</td>\n",
              "      <td>3278.832</td>\n",
              "      <td>6207.342</td>\n",
              "      <td>80.157</td>\n",
              "      <td>497561.906</td>\n",
              "    </tr>\n",
              "    <tr>\n",
              "      <th>2020-03-20 23:57:00</th>\n",
              "      <td>6214.060</td>\n",
              "      <td>6236.450</td>\n",
              "      <td>6212.770</td>\n",
              "      <td>6224.460</td>\n",
              "      <td>20.182</td>\n",
              "      <td>125560.106</td>\n",
              "      <td>6221.418</td>\n",
              "      <td>80.157</td>\n",
              "      <td>498690.185</td>\n",
              "    </tr>\n",
              "    <tr>\n",
              "      <th>2020-03-20 23:58:00</th>\n",
              "      <td>6231.220</td>\n",
              "      <td>6231.220</td>\n",
              "      <td>6219.190</td>\n",
              "      <td>6231.210</td>\n",
              "      <td>0.911</td>\n",
              "      <td>5675.120</td>\n",
              "      <td>6229.148</td>\n",
              "      <td>80.157</td>\n",
              "      <td>499309.794</td>\n",
              "    </tr>\n",
              "    <tr>\n",
              "      <th>2020-03-20 23:59:00</th>\n",
              "      <td>6223.780</td>\n",
              "      <td>6230.790</td>\n",
              "      <td>6196.390</td>\n",
              "      <td>6210.140</td>\n",
              "      <td>2.493</td>\n",
              "      <td>15485.019</td>\n",
              "      <td>6212.161</td>\n",
              "      <td>80.157</td>\n",
              "      <td>497948.165</td>\n",
              "    </tr>\n",
              "    <tr>\n",
              "      <th>2020-03-21 00:00:00</th>\n",
              "      <td>6207.660</td>\n",
              "      <td>6227.310</td>\n",
              "      <td>6203.990</td>\n",
              "      <td>6220.440</td>\n",
              "      <td>0.825</td>\n",
              "      <td>5124.404</td>\n",
              "      <td>6212.191</td>\n",
              "      <td>78.044</td>\n",
              "      <td>484826.091</td>\n",
              "    </tr>\n",
              "  </tbody>\n",
              "</table>\n",
              "<p>3081631 rows × 9 columns</p>\n",
              "</div>\n",
              "      <button class=\"colab-df-convert\" onclick=\"convertToInteractive('df-571642cf-dbc6-43bf-88ac-b7fea7a82151')\"\n",
              "              title=\"Convert this dataframe to an interactive table.\"\n",
              "              style=\"display:none;\">\n",
              "        \n",
              "  <svg xmlns=\"http://www.w3.org/2000/svg\" height=\"24px\"viewBox=\"0 0 24 24\"\n",
              "       width=\"24px\">\n",
              "    <path d=\"M0 0h24v24H0V0z\" fill=\"none\"/>\n",
              "    <path d=\"M18.56 5.44l.94 2.06.94-2.06 2.06-.94-2.06-.94-.94-2.06-.94 2.06-2.06.94zm-11 1L8.5 8.5l.94-2.06 2.06-.94-2.06-.94L8.5 2.5l-.94 2.06-2.06.94zm10 10l.94 2.06.94-2.06 2.06-.94-2.06-.94-.94-2.06-.94 2.06-2.06.94z\"/><path d=\"M17.41 7.96l-1.37-1.37c-.4-.4-.92-.59-1.43-.59-.52 0-1.04.2-1.43.59L10.3 9.45l-7.72 7.72c-.78.78-.78 2.05 0 2.83L4 21.41c.39.39.9.59 1.41.59.51 0 1.02-.2 1.41-.59l7.78-7.78 2.81-2.81c.8-.78.8-2.07 0-2.86zM5.41 20L4 18.59l7.72-7.72 1.47 1.35L5.41 20z\"/>\n",
              "  </svg>\n",
              "      </button>\n",
              "      \n",
              "  <style>\n",
              "    .colab-df-container {\n",
              "      display:flex;\n",
              "      flex-wrap:wrap;\n",
              "      gap: 12px;\n",
              "    }\n",
              "\n",
              "    .colab-df-convert {\n",
              "      background-color: #E8F0FE;\n",
              "      border: none;\n",
              "      border-radius: 50%;\n",
              "      cursor: pointer;\n",
              "      display: none;\n",
              "      fill: #1967D2;\n",
              "      height: 32px;\n",
              "      padding: 0 0 0 0;\n",
              "      width: 32px;\n",
              "    }\n",
              "\n",
              "    .colab-df-convert:hover {\n",
              "      background-color: #E2EBFA;\n",
              "      box-shadow: 0px 1px 2px rgba(60, 64, 67, 0.3), 0px 1px 3px 1px rgba(60, 64, 67, 0.15);\n",
              "      fill: #174EA6;\n",
              "    }\n",
              "\n",
              "    [theme=dark] .colab-df-convert {\n",
              "      background-color: #3B4455;\n",
              "      fill: #D2E3FC;\n",
              "    }\n",
              "\n",
              "    [theme=dark] .colab-df-convert:hover {\n",
              "      background-color: #434B5C;\n",
              "      box-shadow: 0px 1px 3px 1px rgba(0, 0, 0, 0.15);\n",
              "      filter: drop-shadow(0px 1px 2px rgba(0, 0, 0, 0.3));\n",
              "      fill: #FFFFFF;\n",
              "    }\n",
              "  </style>\n",
              "\n",
              "      <script>\n",
              "        const buttonEl =\n",
              "          document.querySelector('#df-571642cf-dbc6-43bf-88ac-b7fea7a82151 button.colab-df-convert');\n",
              "        buttonEl.style.display =\n",
              "          google.colab.kernel.accessAllowed ? 'block' : 'none';\n",
              "\n",
              "        async function convertToInteractive(key) {\n",
              "          const element = document.querySelector('#df-571642cf-dbc6-43bf-88ac-b7fea7a82151');\n",
              "          const dataTable =\n",
              "            await google.colab.kernel.invokeFunction('convertToInteractive',\n",
              "                                                     [key], {});\n",
              "          if (!dataTable) return;\n",
              "\n",
              "          const docLinkHtml = 'Like what you see? Visit the ' +\n",
              "            '<a target=\"_blank\" href=https://colab.research.google.com/notebooks/data_table.ipynb>data table notebook</a>'\n",
              "            + ' to learn more about interactive tables.';\n",
              "          element.innerHTML = '';\n",
              "          dataTable['output_type'] = 'display_data';\n",
              "          await google.colab.output.renderOutput(dataTable, element);\n",
              "          const docLink = document.createElement('div');\n",
              "          docLink.innerHTML = docLinkHtml;\n",
              "          element.appendChild(docLink);\n",
              "        }\n",
              "      </script>\n",
              "    </div>\n",
              "  </div>\n",
              "  "
            ],
            "text/plain": [
              "                        Open     High  ...   curs        RUB\n",
              "2011-12-31 07:52:00    4.390    4.390  ... 32.196    141.341\n",
              "2011-12-31 15:50:00    4.390    4.390  ... 32.196    141.341\n",
              "2011-12-31 16:59:00    4.500    4.570  ... 32.196    145.733\n",
              "2011-12-31 17:00:00    4.580    4.580  ... 32.196    147.458\n",
              "2012-01-01 04:16:00    4.580    4.580  ... 32.196    147.458\n",
              "...                      ...      ...  ...    ...        ...\n",
              "2020-03-20 23:55:00 6189.650 6211.540  ... 80.157 497561.906\n",
              "2020-03-20 23:57:00 6214.060 6236.450  ... 80.157 498690.185\n",
              "2020-03-20 23:58:00 6231.220 6231.220  ... 80.157 499309.794\n",
              "2020-03-20 23:59:00 6223.780 6230.790  ... 80.157 497948.165\n",
              "2020-03-21 00:00:00 6207.660 6227.310  ... 78.044 484826.091\n",
              "\n",
              "[3081631 rows x 9 columns]"
            ]
          },
          "metadata": {},
          "execution_count": 34
        }
      ]
    },
    {
      "cell_type": "markdown",
      "metadata": {
        "id": "nSsXwjFqQ7VG"
      },
      "source": [
        "Посмотрим статистику по рублю:"
      ]
    },
    {
      "cell_type": "code",
      "metadata": {
        "colab": {
          "base_uri": "https://localhost:8080/"
        },
        "outputId": "50fad0c3-2db5-41e5-be17-83ef7e5859a4",
        "id": "hYTMnGjcQ7VG"
      },
      "source": [
        "all_btc['RUB'].describe()"
      ],
      "execution_count": null,
      "outputs": [
        {
          "output_type": "execute_result",
          "data": {
            "text/plain": [
              "count   3081631.000\n",
              "mean     223862.472\n",
              "std      245730.027\n",
              "min         115.368\n",
              "25%       18555.105\n",
              "50%       61775.963\n",
              "75%      439858.614\n",
              "max     1158142.742\n",
              "Name: RUB, dtype: float64"
            ]
          },
          "metadata": {},
          "execution_count": 35
        }
      ]
    },
    {
      "cell_type": "code",
      "source": [
        "all_btc[all_btc['Weighted_Price']>17000]"
      ],
      "metadata": {
        "colab": {
          "base_uri": "https://localhost:8080/",
          "height": 424
        },
        "id": "20zybIkJY7ly",
        "outputId": "e5c05993-9b58-4ef6-b97c-b3ac8fc2f0fe"
      },
      "execution_count": null,
      "outputs": [
        {
          "output_type": "execute_result",
          "data": {
            "text/html": [
              "\n",
              "  <div id=\"df-3c35d479-4bf9-41ba-8630-ee6c2d350a5f\">\n",
              "    <div class=\"colab-df-container\">\n",
              "      <div>\n",
              "<style scoped>\n",
              "    .dataframe tbody tr th:only-of-type {\n",
              "        vertical-align: middle;\n",
              "    }\n",
              "\n",
              "    .dataframe tbody tr th {\n",
              "        vertical-align: top;\n",
              "    }\n",
              "\n",
              "    .dataframe thead th {\n",
              "        text-align: right;\n",
              "    }\n",
              "</style>\n",
              "<table border=\"1\" class=\"dataframe\">\n",
              "  <thead>\n",
              "    <tr style=\"text-align: right;\">\n",
              "      <th></th>\n",
              "      <th>Open</th>\n",
              "      <th>High</th>\n",
              "      <th>Low</th>\n",
              "      <th>Close</th>\n",
              "      <th>Volume_(BTC)</th>\n",
              "      <th>Volume_(Currency)</th>\n",
              "      <th>Weighted_Price</th>\n",
              "      <th>curs</th>\n",
              "      <th>RUB</th>\n",
              "    </tr>\n",
              "  </thead>\n",
              "  <tbody>\n",
              "    <tr>\n",
              "      <th>2017-12-11 20:16:00</th>\n",
              "      <td>17000.000</td>\n",
              "      <td>17027.260</td>\n",
              "      <td>16998.000</td>\n",
              "      <td>17027.260</td>\n",
              "      <td>94.806</td>\n",
              "      <td>1612087.556</td>\n",
              "      <td>17004.138</td>\n",
              "      <td>59.281</td>\n",
              "      <td>1008023.982</td>\n",
              "    </tr>\n",
              "    <tr>\n",
              "      <th>2017-12-11 20:17:00</th>\n",
              "      <td>17027.260</td>\n",
              "      <td>17119.090</td>\n",
              "      <td>17027.250</td>\n",
              "      <td>17100.000</td>\n",
              "      <td>42.208</td>\n",
              "      <td>720191.618</td>\n",
              "      <td>17062.726</td>\n",
              "      <td>59.281</td>\n",
              "      <td>1011497.152</td>\n",
              "    </tr>\n",
              "    <tr>\n",
              "      <th>2017-12-11 20:18:00</th>\n",
              "      <td>17100.260</td>\n",
              "      <td>17115.000</td>\n",
              "      <td>17076.970</td>\n",
              "      <td>17100.000</td>\n",
              "      <td>60.073</td>\n",
              "      <td>1027302.405</td>\n",
              "      <td>17100.888</td>\n",
              "      <td>59.281</td>\n",
              "      <td>1013759.460</td>\n",
              "    </tr>\n",
              "    <tr>\n",
              "      <th>2017-12-11 20:19:00</th>\n",
              "      <td>17100.000</td>\n",
              "      <td>17110.000</td>\n",
              "      <td>17100.000</td>\n",
              "      <td>17110.000</td>\n",
              "      <td>18.549</td>\n",
              "      <td>317354.936</td>\n",
              "      <td>17108.677</td>\n",
              "      <td>59.281</td>\n",
              "      <td>1014221.191</td>\n",
              "    </tr>\n",
              "    <tr>\n",
              "      <th>2017-12-11 20:20:00</th>\n",
              "      <td>17110.000</td>\n",
              "      <td>17119.090</td>\n",
              "      <td>17100.240</td>\n",
              "      <td>17119.090</td>\n",
              "      <td>29.968</td>\n",
              "      <td>512855.446</td>\n",
              "      <td>17113.338</td>\n",
              "      <td>59.281</td>\n",
              "      <td>1014497.505</td>\n",
              "    </tr>\n",
              "    <tr>\n",
              "      <th>...</th>\n",
              "      <td>...</td>\n",
              "      <td>...</td>\n",
              "      <td>...</td>\n",
              "      <td>...</td>\n",
              "      <td>...</td>\n",
              "      <td>...</td>\n",
              "      <td>...</td>\n",
              "      <td>...</td>\n",
              "      <td>...</td>\n",
              "    </tr>\n",
              "    <tr>\n",
              "      <th>2018-01-07 01:56:00</th>\n",
              "      <td>17014.000</td>\n",
              "      <td>17031.260</td>\n",
              "      <td>16976.820</td>\n",
              "      <td>17019.010</td>\n",
              "      <td>1.521</td>\n",
              "      <td>25890.678</td>\n",
              "      <td>17020.210</td>\n",
              "      <td>57.600</td>\n",
              "      <td>980367.501</td>\n",
              "    </tr>\n",
              "    <tr>\n",
              "      <th>2018-01-07 01:57:00</th>\n",
              "      <td>17029.800</td>\n",
              "      <td>17029.990</td>\n",
              "      <td>17019.010</td>\n",
              "      <td>17027.790</td>\n",
              "      <td>2.795</td>\n",
              "      <td>47590.307</td>\n",
              "      <td>17027.966</td>\n",
              "      <td>57.600</td>\n",
              "      <td>980814.244</td>\n",
              "    </tr>\n",
              "    <tr>\n",
              "      <th>2018-01-07 01:58:00</th>\n",
              "      <td>17020.010</td>\n",
              "      <td>17027.790</td>\n",
              "      <td>17020.010</td>\n",
              "      <td>17027.790</td>\n",
              "      <td>1.052</td>\n",
              "      <td>17905.336</td>\n",
              "      <td>17026.442</td>\n",
              "      <td>57.600</td>\n",
              "      <td>980726.439</td>\n",
              "    </tr>\n",
              "    <tr>\n",
              "      <th>2018-01-07 01:59:00</th>\n",
              "      <td>17024.790</td>\n",
              "      <td>17030.000</td>\n",
              "      <td>17024.790</td>\n",
              "      <td>17027.750</td>\n",
              "      <td>3.115</td>\n",
              "      <td>53048.750</td>\n",
              "      <td>17028.074</td>\n",
              "      <td>57.600</td>\n",
              "      <td>980820.445</td>\n",
              "    </tr>\n",
              "    <tr>\n",
              "      <th>2018-01-07 02:00:00</th>\n",
              "      <td>17019.010</td>\n",
              "      <td>17032.540</td>\n",
              "      <td>17019.010</td>\n",
              "      <td>17019.010</td>\n",
              "      <td>3.161</td>\n",
              "      <td>53809.796</td>\n",
              "      <td>17025.355</td>\n",
              "      <td>57.600</td>\n",
              "      <td>980663.849</td>\n",
              "    </tr>\n",
              "  </tbody>\n",
              "</table>\n",
              "<p>8355 rows × 9 columns</p>\n",
              "</div>\n",
              "      <button class=\"colab-df-convert\" onclick=\"convertToInteractive('df-3c35d479-4bf9-41ba-8630-ee6c2d350a5f')\"\n",
              "              title=\"Convert this dataframe to an interactive table.\"\n",
              "              style=\"display:none;\">\n",
              "        \n",
              "  <svg xmlns=\"http://www.w3.org/2000/svg\" height=\"24px\"viewBox=\"0 0 24 24\"\n",
              "       width=\"24px\">\n",
              "    <path d=\"M0 0h24v24H0V0z\" fill=\"none\"/>\n",
              "    <path d=\"M18.56 5.44l.94 2.06.94-2.06 2.06-.94-2.06-.94-.94-2.06-.94 2.06-2.06.94zm-11 1L8.5 8.5l.94-2.06 2.06-.94-2.06-.94L8.5 2.5l-.94 2.06-2.06.94zm10 10l.94 2.06.94-2.06 2.06-.94-2.06-.94-.94-2.06-.94 2.06-2.06.94z\"/><path d=\"M17.41 7.96l-1.37-1.37c-.4-.4-.92-.59-1.43-.59-.52 0-1.04.2-1.43.59L10.3 9.45l-7.72 7.72c-.78.78-.78 2.05 0 2.83L4 21.41c.39.39.9.59 1.41.59.51 0 1.02-.2 1.41-.59l7.78-7.78 2.81-2.81c.8-.78.8-2.07 0-2.86zM5.41 20L4 18.59l7.72-7.72 1.47 1.35L5.41 20z\"/>\n",
              "  </svg>\n",
              "      </button>\n",
              "      \n",
              "  <style>\n",
              "    .colab-df-container {\n",
              "      display:flex;\n",
              "      flex-wrap:wrap;\n",
              "      gap: 12px;\n",
              "    }\n",
              "\n",
              "    .colab-df-convert {\n",
              "      background-color: #E8F0FE;\n",
              "      border: none;\n",
              "      border-radius: 50%;\n",
              "      cursor: pointer;\n",
              "      display: none;\n",
              "      fill: #1967D2;\n",
              "      height: 32px;\n",
              "      padding: 0 0 0 0;\n",
              "      width: 32px;\n",
              "    }\n",
              "\n",
              "    .colab-df-convert:hover {\n",
              "      background-color: #E2EBFA;\n",
              "      box-shadow: 0px 1px 2px rgba(60, 64, 67, 0.3), 0px 1px 3px 1px rgba(60, 64, 67, 0.15);\n",
              "      fill: #174EA6;\n",
              "    }\n",
              "\n",
              "    [theme=dark] .colab-df-convert {\n",
              "      background-color: #3B4455;\n",
              "      fill: #D2E3FC;\n",
              "    }\n",
              "\n",
              "    [theme=dark] .colab-df-convert:hover {\n",
              "      background-color: #434B5C;\n",
              "      box-shadow: 0px 1px 3px 1px rgba(0, 0, 0, 0.15);\n",
              "      filter: drop-shadow(0px 1px 2px rgba(0, 0, 0, 0.3));\n",
              "      fill: #FFFFFF;\n",
              "    }\n",
              "  </style>\n",
              "\n",
              "      <script>\n",
              "        const buttonEl =\n",
              "          document.querySelector('#df-3c35d479-4bf9-41ba-8630-ee6c2d350a5f button.colab-df-convert');\n",
              "        buttonEl.style.display =\n",
              "          google.colab.kernel.accessAllowed ? 'block' : 'none';\n",
              "\n",
              "        async function convertToInteractive(key) {\n",
              "          const element = document.querySelector('#df-3c35d479-4bf9-41ba-8630-ee6c2d350a5f');\n",
              "          const dataTable =\n",
              "            await google.colab.kernel.invokeFunction('convertToInteractive',\n",
              "                                                     [key], {});\n",
              "          if (!dataTable) return;\n",
              "\n",
              "          const docLinkHtml = 'Like what you see? Visit the ' +\n",
              "            '<a target=\"_blank\" href=https://colab.research.google.com/notebooks/data_table.ipynb>data table notebook</a>'\n",
              "            + ' to learn more about interactive tables.';\n",
              "          element.innerHTML = '';\n",
              "          dataTable['output_type'] = 'display_data';\n",
              "          await google.colab.output.renderOutput(dataTable, element);\n",
              "          const docLink = document.createElement('div');\n",
              "          docLink.innerHTML = docLinkHtml;\n",
              "          element.appendChild(docLink);\n",
              "        }\n",
              "      </script>\n",
              "    </div>\n",
              "  </div>\n",
              "  "
            ],
            "text/plain": [
              "                         Open      High  ...   curs         RUB\n",
              "2017-12-11 20:16:00 17000.000 17027.260  ... 59.281 1008023.982\n",
              "2017-12-11 20:17:00 17027.260 17119.090  ... 59.281 1011497.152\n",
              "2017-12-11 20:18:00 17100.260 17115.000  ... 59.281 1013759.460\n",
              "2017-12-11 20:19:00 17100.000 17110.000  ... 59.281 1014221.191\n",
              "2017-12-11 20:20:00 17110.000 17119.090  ... 59.281 1014497.505\n",
              "...                       ...       ...  ...    ...         ...\n",
              "2018-01-07 01:56:00 17014.000 17031.260  ... 57.600  980367.501\n",
              "2018-01-07 01:57:00 17029.800 17029.990  ... 57.600  980814.244\n",
              "2018-01-07 01:58:00 17020.010 17027.790  ... 57.600  980726.439\n",
              "2018-01-07 01:59:00 17024.790 17030.000  ... 57.600  980820.445\n",
              "2018-01-07 02:00:00 17019.010 17032.540  ... 57.600  980663.849\n",
              "\n",
              "[8355 rows x 9 columns]"
            ]
          },
          "metadata": {},
          "execution_count": 37
        }
      ]
    },
    {
      "cell_type": "markdown",
      "metadata": {
        "id": "tYdNsB8JQ7VG"
      },
      "source": [
        "Минимальная цена за всю историю была 115.36 рублей, максимальная - 1.158 млн.\n",
        "\n",
        "Последние имеющиеся данные за март-2021 показывают, что биткоин продавался за 484826.09 тыс.р.:"
      ]
    },
    {
      "cell_type": "code",
      "metadata": {
        "colab": {
          "base_uri": "https://localhost:8080/",
          "height": 206
        },
        "outputId": "216fec57-7fce-45af-921e-38a918510f9b",
        "id": "dUJ53tviQ7VG"
      },
      "source": [
        "all_btc.tail()"
      ],
      "execution_count": null,
      "outputs": [
        {
          "output_type": "execute_result",
          "data": {
            "text/html": [
              "\n",
              "  <div id=\"df-dacb0346-c0b3-4a2e-9782-62fe2087ab4b\">\n",
              "    <div class=\"colab-df-container\">\n",
              "      <div>\n",
              "<style scoped>\n",
              "    .dataframe tbody tr th:only-of-type {\n",
              "        vertical-align: middle;\n",
              "    }\n",
              "\n",
              "    .dataframe tbody tr th {\n",
              "        vertical-align: top;\n",
              "    }\n",
              "\n",
              "    .dataframe thead th {\n",
              "        text-align: right;\n",
              "    }\n",
              "</style>\n",
              "<table border=\"1\" class=\"dataframe\">\n",
              "  <thead>\n",
              "    <tr style=\"text-align: right;\">\n",
              "      <th></th>\n",
              "      <th>Open</th>\n",
              "      <th>High</th>\n",
              "      <th>Low</th>\n",
              "      <th>Close</th>\n",
              "      <th>Volume_(BTC)</th>\n",
              "      <th>Volume_(Currency)</th>\n",
              "      <th>Weighted_Price</th>\n",
              "      <th>curs</th>\n",
              "      <th>RUB</th>\n",
              "    </tr>\n",
              "  </thead>\n",
              "  <tbody>\n",
              "    <tr>\n",
              "      <th>2020-03-20 23:55:00</th>\n",
              "      <td>6189.650</td>\n",
              "      <td>6211.540</td>\n",
              "      <td>6189.650</td>\n",
              "      <td>6207.140</td>\n",
              "      <td>0.528</td>\n",
              "      <td>3278.832</td>\n",
              "      <td>6207.342</td>\n",
              "      <td>80.157</td>\n",
              "      <td>497561.906</td>\n",
              "    </tr>\n",
              "    <tr>\n",
              "      <th>2020-03-20 23:57:00</th>\n",
              "      <td>6214.060</td>\n",
              "      <td>6236.450</td>\n",
              "      <td>6212.770</td>\n",
              "      <td>6224.460</td>\n",
              "      <td>20.182</td>\n",
              "      <td>125560.106</td>\n",
              "      <td>6221.418</td>\n",
              "      <td>80.157</td>\n",
              "      <td>498690.185</td>\n",
              "    </tr>\n",
              "    <tr>\n",
              "      <th>2020-03-20 23:58:00</th>\n",
              "      <td>6231.220</td>\n",
              "      <td>6231.220</td>\n",
              "      <td>6219.190</td>\n",
              "      <td>6231.210</td>\n",
              "      <td>0.911</td>\n",
              "      <td>5675.120</td>\n",
              "      <td>6229.148</td>\n",
              "      <td>80.157</td>\n",
              "      <td>499309.794</td>\n",
              "    </tr>\n",
              "    <tr>\n",
              "      <th>2020-03-20 23:59:00</th>\n",
              "      <td>6223.780</td>\n",
              "      <td>6230.790</td>\n",
              "      <td>6196.390</td>\n",
              "      <td>6210.140</td>\n",
              "      <td>2.493</td>\n",
              "      <td>15485.019</td>\n",
              "      <td>6212.161</td>\n",
              "      <td>80.157</td>\n",
              "      <td>497948.165</td>\n",
              "    </tr>\n",
              "    <tr>\n",
              "      <th>2020-03-21 00:00:00</th>\n",
              "      <td>6207.660</td>\n",
              "      <td>6227.310</td>\n",
              "      <td>6203.990</td>\n",
              "      <td>6220.440</td>\n",
              "      <td>0.825</td>\n",
              "      <td>5124.404</td>\n",
              "      <td>6212.191</td>\n",
              "      <td>78.044</td>\n",
              "      <td>484826.091</td>\n",
              "    </tr>\n",
              "  </tbody>\n",
              "</table>\n",
              "</div>\n",
              "      <button class=\"colab-df-convert\" onclick=\"convertToInteractive('df-dacb0346-c0b3-4a2e-9782-62fe2087ab4b')\"\n",
              "              title=\"Convert this dataframe to an interactive table.\"\n",
              "              style=\"display:none;\">\n",
              "        \n",
              "  <svg xmlns=\"http://www.w3.org/2000/svg\" height=\"24px\"viewBox=\"0 0 24 24\"\n",
              "       width=\"24px\">\n",
              "    <path d=\"M0 0h24v24H0V0z\" fill=\"none\"/>\n",
              "    <path d=\"M18.56 5.44l.94 2.06.94-2.06 2.06-.94-2.06-.94-.94-2.06-.94 2.06-2.06.94zm-11 1L8.5 8.5l.94-2.06 2.06-.94-2.06-.94L8.5 2.5l-.94 2.06-2.06.94zm10 10l.94 2.06.94-2.06 2.06-.94-2.06-.94-.94-2.06-.94 2.06-2.06.94z\"/><path d=\"M17.41 7.96l-1.37-1.37c-.4-.4-.92-.59-1.43-.59-.52 0-1.04.2-1.43.59L10.3 9.45l-7.72 7.72c-.78.78-.78 2.05 0 2.83L4 21.41c.39.39.9.59 1.41.59.51 0 1.02-.2 1.41-.59l7.78-7.78 2.81-2.81c.8-.78.8-2.07 0-2.86zM5.41 20L4 18.59l7.72-7.72 1.47 1.35L5.41 20z\"/>\n",
              "  </svg>\n",
              "      </button>\n",
              "      \n",
              "  <style>\n",
              "    .colab-df-container {\n",
              "      display:flex;\n",
              "      flex-wrap:wrap;\n",
              "      gap: 12px;\n",
              "    }\n",
              "\n",
              "    .colab-df-convert {\n",
              "      background-color: #E8F0FE;\n",
              "      border: none;\n",
              "      border-radius: 50%;\n",
              "      cursor: pointer;\n",
              "      display: none;\n",
              "      fill: #1967D2;\n",
              "      height: 32px;\n",
              "      padding: 0 0 0 0;\n",
              "      width: 32px;\n",
              "    }\n",
              "\n",
              "    .colab-df-convert:hover {\n",
              "      background-color: #E2EBFA;\n",
              "      box-shadow: 0px 1px 2px rgba(60, 64, 67, 0.3), 0px 1px 3px 1px rgba(60, 64, 67, 0.15);\n",
              "      fill: #174EA6;\n",
              "    }\n",
              "\n",
              "    [theme=dark] .colab-df-convert {\n",
              "      background-color: #3B4455;\n",
              "      fill: #D2E3FC;\n",
              "    }\n",
              "\n",
              "    [theme=dark] .colab-df-convert:hover {\n",
              "      background-color: #434B5C;\n",
              "      box-shadow: 0px 1px 3px 1px rgba(0, 0, 0, 0.15);\n",
              "      filter: drop-shadow(0px 1px 2px rgba(0, 0, 0, 0.3));\n",
              "      fill: #FFFFFF;\n",
              "    }\n",
              "  </style>\n",
              "\n",
              "      <script>\n",
              "        const buttonEl =\n",
              "          document.querySelector('#df-dacb0346-c0b3-4a2e-9782-62fe2087ab4b button.colab-df-convert');\n",
              "        buttonEl.style.display =\n",
              "          google.colab.kernel.accessAllowed ? 'block' : 'none';\n",
              "\n",
              "        async function convertToInteractive(key) {\n",
              "          const element = document.querySelector('#df-dacb0346-c0b3-4a2e-9782-62fe2087ab4b');\n",
              "          const dataTable =\n",
              "            await google.colab.kernel.invokeFunction('convertToInteractive',\n",
              "                                                     [key], {});\n",
              "          if (!dataTable) return;\n",
              "\n",
              "          const docLinkHtml = 'Like what you see? Visit the ' +\n",
              "            '<a target=\"_blank\" href=https://colab.research.google.com/notebooks/data_table.ipynb>data table notebook</a>'\n",
              "            + ' to learn more about interactive tables.';\n",
              "          element.innerHTML = '';\n",
              "          dataTable['output_type'] = 'display_data';\n",
              "          await google.colab.output.renderOutput(dataTable, element);\n",
              "          const docLink = document.createElement('div');\n",
              "          docLink.innerHTML = docLinkHtml;\n",
              "          element.appendChild(docLink);\n",
              "        }\n",
              "      </script>\n",
              "    </div>\n",
              "  </div>\n",
              "  "
            ],
            "text/plain": [
              "                        Open     High  ...   curs        RUB\n",
              "2020-03-20 23:55:00 6189.650 6211.540  ... 80.157 497561.906\n",
              "2020-03-20 23:57:00 6214.060 6236.450  ... 80.157 498690.185\n",
              "2020-03-20 23:58:00 6231.220 6231.220  ... 80.157 499309.794\n",
              "2020-03-20 23:59:00 6223.780 6230.790  ... 80.157 497948.165\n",
              "2020-03-21 00:00:00 6207.660 6227.310  ... 78.044 484826.091\n",
              "\n",
              "[5 rows x 9 columns]"
            ]
          },
          "metadata": {},
          "execution_count": 38
        }
      ]
    },
    {
      "cell_type": "markdown",
      "metadata": {
        "id": "dJj_dlYUoWe2"
      },
      "source": [
        "Корреляция, которая была дана в табличном виде можно отобразить на графике:"
      ]
    },
    {
      "cell_type": "code",
      "metadata": {
        "colab": {
          "base_uri": "https://localhost:8080/",
          "height": 680
        },
        "outputId": "a6c275bc-1c3e-46ed-ae10-fd59db278438",
        "id": "pl0zrEkZoNoJ"
      },
      "source": [
        "f,ax = plt.subplots(figsize=(10, 10))\n",
        "sns.heatmap(all_btc.corr(), annot=True, linewidths=.5, fmt= '.1f',ax=ax)\n",
        "plt.show()"
      ],
      "execution_count": null,
      "outputs": [
        {
          "output_type": "display_data",
          "data": {
            "image/png": "[encoded data removed]",
            "text/plain": [
              "<Figure size 720x720 with 2 Axes>"
            ]
          },
          "metadata": {}
        }
      ]
    },
    {
      "cell_type": "markdown",
      "metadata": {
        "id": "xJvWLmdZoNoJ"
      },
      "source": [
        "Можно посмотреть на график цены биткоина за все время:"
      ]
    },
    {
      "cell_type": "code",
      "metadata": {
        "colab": {
          "base_uri": "https://localhost:8080/",
          "height": 272
        },
        "outputId": "f73979cf-3b19-472c-8d69-217441321316",
        "id": "tL2whfrfoNoK"
      },
      "source": [
        "all_btc.Weighted_Price.plot()"
      ],
      "execution_count": null,
      "outputs": [
        {
          "output_type": "execute_result",
          "data": {
            "text/plain": [
              "<matplotlib.axes._subplots.AxesSubplot at 0x7fdad565d250>"
            ]
          },
          "metadata": {},
          "execution_count": 40
        },
        {
          "output_type": "display_data",
          "data": {
            "image/png": "[encoded data removed]",
            "text/plain": [
              "<Figure size 432x288 with 1 Axes>"
            ]
          },
          "metadata": {}
        }
      ]
    },
    {
      "cell_type": "markdown",
      "metadata": {
        "id": "wOfbPayqoNoK"
      },
      "source": [
        "Зависимость объема от цены за этот объем:"
      ]
    },
    {
      "cell_type": "code",
      "metadata": {
        "colab": {
          "base_uri": "https://localhost:8080/",
          "height": 312
        },
        "outputId": "6fd14b3a-a517-4b44-e39b-65f2bc2228bc",
        "id": "J49ohPz-oNoK"
      },
      "source": [
        "all_btc.plot(kind='scatter', x='Volume_(BTC)', y='Volume_(Currency)',alpha = 0.5, color = 'red')\n",
        "plt.xlabel('BTC Volume')              # label = name of label\n",
        "plt.ylabel('Currency Volume')\n",
        "plt.title('BTC-Currency Scatter Plot')  "
      ],
      "execution_count": null,
      "outputs": [
        {
          "output_type": "execute_result",
          "data": {
            "text/plain": [
              "Text(0.5, 1.0, 'BTC-Currency Scatter Plot')"
            ]
          },
          "metadata": {},
          "execution_count": 41
        },
        {
          "output_type": "display_data",
          "data": {
            "image/png": "[encoded data removed]",
            "text/plain": [
              "<Figure size 432x288 with 1 Axes>"
            ]
          },
          "metadata": {}
        }
      ]
    },
    {
      "cell_type": "markdown",
      "metadata": {
        "id": "jLdrWszJoNoK"
      },
      "source": [
        "Отобразим зависимость объемов продаж от цены биткоина:"
      ]
    },
    {
      "cell_type": "code",
      "metadata": {
        "colab": {
          "base_uri": "https://localhost:8080/",
          "height": 295
        },
        "outputId": "20690bf4-7176-4ce6-f767-8d57404f8794",
        "id": "D9ytCcRNoNoK"
      },
      "source": [
        "all_btc.plot(kind='scatter', x='Volume_(BTC)', y='Weighted_Price', alpha = 0.5, color = 'red')\n",
        "plt.xlabel('BTC Volume')              # label = name of label\n",
        "plt.ylabel('BTC Price')\n",
        "plt.title('BTC-Currency Scatter Plot')  \n",
        "plt.show()"
      ],
      "execution_count": null,
      "outputs": [
        {
          "output_type": "display_data",
          "data": {
            "image/png": "[encoded data removed]",
            "text/plain": [
              "<Figure size 432x288 with 1 Axes>"
            ]
          },
          "metadata": {}
        }
      ]
    },
    {
      "cell_type": "markdown",
      "metadata": {
        "id": "eub5oh2ToNoK"
      },
      "source": [
        "Выберем данные за 2019 год и посмотрим, в каких объемах покупали биткоины по каким ценам."
      ]
    },
    {
      "cell_type": "code",
      "metadata": {
        "colab": {
          "base_uri": "https://localhost:8080/",
          "height": 206
        },
        "outputId": "54028a83-c67a-4b47-af7d-7b5c7424362b",
        "id": "Pf7XVx-0oNoK"
      },
      "source": [
        "BTC_2019 = all_btc[all_btc.index >= datetime.datetime(2019, 1, 1)]\n",
        "BTC_2019.head()"
      ],
      "execution_count": null,
      "outputs": [
        {
          "output_type": "execute_result",
          "data": {
            "text/html": [
              "\n",
              "  <div id=\"df-5e225ff8-fdce-418b-80c3-0be4c99f34eb\">\n",
              "    <div class=\"colab-df-container\">\n",
              "      <div>\n",
              "<style scoped>\n",
              "    .dataframe tbody tr th:only-of-type {\n",
              "        vertical-align: middle;\n",
              "    }\n",
              "\n",
              "    .dataframe tbody tr th {\n",
              "        vertical-align: top;\n",
              "    }\n",
              "\n",
              "    .dataframe thead th {\n",
              "        text-align: right;\n",
              "    }\n",
              "</style>\n",
              "<table border=\"1\" class=\"dataframe\">\n",
              "  <thead>\n",
              "    <tr style=\"text-align: right;\">\n",
              "      <th></th>\n",
              "      <th>Open</th>\n",
              "      <th>High</th>\n",
              "      <th>Low</th>\n",
              "      <th>Close</th>\n",
              "      <th>Volume_(BTC)</th>\n",
              "      <th>Volume_(Currency)</th>\n",
              "      <th>Weighted_Price</th>\n",
              "      <th>curs</th>\n",
              "      <th>RUB</th>\n",
              "    </tr>\n",
              "  </thead>\n",
              "  <tbody>\n",
              "    <tr>\n",
              "      <th>2019-01-01 00:00:00</th>\n",
              "      <td>3693.850</td>\n",
              "      <td>3698.790</td>\n",
              "      <td>3693.850</td>\n",
              "      <td>3698.000</td>\n",
              "      <td>5.491</td>\n",
              "      <td>20301.157</td>\n",
              "      <td>3696.975</td>\n",
              "      <td>69.471</td>\n",
              "      <td>256831.067</td>\n",
              "    </tr>\n",
              "    <tr>\n",
              "      <th>2019-01-01 00:01:00</th>\n",
              "      <td>3694.720</td>\n",
              "      <td>3694.720</td>\n",
              "      <td>3690.650</td>\n",
              "      <td>3690.650</td>\n",
              "      <td>9.500</td>\n",
              "      <td>35080.266</td>\n",
              "      <td>3692.601</td>\n",
              "      <td>69.471</td>\n",
              "      <td>256527.198</td>\n",
              "    </tr>\n",
              "    <tr>\n",
              "      <th>2019-01-01 00:02:00</th>\n",
              "      <td>3689.730</td>\n",
              "      <td>3689.730</td>\n",
              "      <td>3686.620</td>\n",
              "      <td>3686.620</td>\n",
              "      <td>0.966</td>\n",
              "      <td>3562.371</td>\n",
              "      <td>3687.885</td>\n",
              "      <td>69.471</td>\n",
              "      <td>256199.563</td>\n",
              "    </tr>\n",
              "    <tr>\n",
              "      <th>2019-01-01 00:03:00</th>\n",
              "      <td>3692.850</td>\n",
              "      <td>3692.850</td>\n",
              "      <td>3688.320</td>\n",
              "      <td>3692.350</td>\n",
              "      <td>0.297</td>\n",
              "      <td>1095.221</td>\n",
              "      <td>3691.813</td>\n",
              "      <td>69.471</td>\n",
              "      <td>256472.484</td>\n",
              "    </tr>\n",
              "    <tr>\n",
              "      <th>2019-01-01 00:04:00</th>\n",
              "      <td>3692.350</td>\n",
              "      <td>3692.350</td>\n",
              "      <td>3690.340</td>\n",
              "      <td>3690.340</td>\n",
              "      <td>0.112</td>\n",
              "      <td>412.065</td>\n",
              "      <td>3691.615</td>\n",
              "      <td>69.471</td>\n",
              "      <td>256458.699</td>\n",
              "    </tr>\n",
              "  </tbody>\n",
              "</table>\n",
              "</div>\n",
              "      <button class=\"colab-df-convert\" onclick=\"convertToInteractive('df-5e225ff8-fdce-418b-80c3-0be4c99f34eb')\"\n",
              "              title=\"Convert this dataframe to an interactive table.\"\n",
              "              style=\"display:none;\">\n",
              "        \n",
              "  <svg xmlns=\"http://www.w3.org/2000/svg\" height=\"24px\"viewBox=\"0 0 24 24\"\n",
              "       width=\"24px\">\n",
              "    <path d=\"M0 0h24v24H0V0z\" fill=\"none\"/>\n",
              "    <path d=\"M18.56 5.44l.94 2.06.94-2.06 2.06-.94-2.06-.94-.94-2.06-.94 2.06-2.06.94zm-11 1L8.5 8.5l.94-2.06 2.06-.94-2.06-.94L8.5 2.5l-.94 2.06-2.06.94zm10 10l.94 2.06.94-2.06 2.06-.94-2.06-.94-.94-2.06-.94 2.06-2.06.94z\"/><path d=\"M17.41 7.96l-1.37-1.37c-.4-.4-.92-.59-1.43-.59-.52 0-1.04.2-1.43.59L10.3 9.45l-7.72 7.72c-.78.78-.78 2.05 0 2.83L4 21.41c.39.39.9.59 1.41.59.51 0 1.02-.2 1.41-.59l7.78-7.78 2.81-2.81c.8-.78.8-2.07 0-2.86zM5.41 20L4 18.59l7.72-7.72 1.47 1.35L5.41 20z\"/>\n",
              "  </svg>\n",
              "      </button>\n",
              "      \n",
              "  <style>\n",
              "    .colab-df-container {\n",
              "      display:flex;\n",
              "      flex-wrap:wrap;\n",
              "      gap: 12px;\n",
              "    }\n",
              "\n",
              "    .colab-df-convert {\n",
              "      background-color: #E8F0FE;\n",
              "      border: none;\n",
              "      border-radius: 50%;\n",
              "      cursor: pointer;\n",
              "      display: none;\n",
              "      fill: #1967D2;\n",
              "      height: 32px;\n",
              "      padding: 0 0 0 0;\n",
              "      width: 32px;\n",
              "    }\n",
              "\n",
              "    .colab-df-convert:hover {\n",
              "      background-color: #E2EBFA;\n",
              "      box-shadow: 0px 1px 2px rgba(60, 64, 67, 0.3), 0px 1px 3px 1px rgba(60, 64, 67, 0.15);\n",
              "      fill: #174EA6;\n",
              "    }\n",
              "\n",
              "    [theme=dark] .colab-df-convert {\n",
              "      background-color: #3B4455;\n",
              "      fill: #D2E3FC;\n",
              "    }\n",
              "\n",
              "    [theme=dark] .colab-df-convert:hover {\n",
              "      background-color: #434B5C;\n",
              "      box-shadow: 0px 1px 3px 1px rgba(0, 0, 0, 0.15);\n",
              "      filter: drop-shadow(0px 1px 2px rgba(0, 0, 0, 0.3));\n",
              "      fill: #FFFFFF;\n",
              "    }\n",
              "  </style>\n",
              "\n",
              "      <script>\n",
              "        const buttonEl =\n",
              "          document.querySelector('#df-5e225ff8-fdce-418b-80c3-0be4c99f34eb button.colab-df-convert');\n",
              "        buttonEl.style.display =\n",
              "          google.colab.kernel.accessAllowed ? 'block' : 'none';\n",
              "\n",
              "        async function convertToInteractive(key) {\n",
              "          const element = document.querySelector('#df-5e225ff8-fdce-418b-80c3-0be4c99f34eb');\n",
              "          const dataTable =\n",
              "            await google.colab.kernel.invokeFunction('convertToInteractive',\n",
              "                                                     [key], {});\n",
              "          if (!dataTable) return;\n",
              "\n",
              "          const docLinkHtml = 'Like what you see? Visit the ' +\n",
              "            '<a target=\"_blank\" href=https://colab.research.google.com/notebooks/data_table.ipynb>data table notebook</a>'\n",
              "            + ' to learn more about interactive tables.';\n",
              "          element.innerHTML = '';\n",
              "          dataTable['output_type'] = 'display_data';\n",
              "          await google.colab.output.renderOutput(dataTable, element);\n",
              "          const docLink = document.createElement('div');\n",
              "          docLink.innerHTML = docLinkHtml;\n",
              "          element.appendChild(docLink);\n",
              "        }\n",
              "      </script>\n",
              "    </div>\n",
              "  </div>\n",
              "  "
            ],
            "text/plain": [
              "                        Open     High  ...   curs        RUB\n",
              "2019-01-01 00:00:00 3693.850 3698.790  ... 69.471 256831.067\n",
              "2019-01-01 00:01:00 3694.720 3694.720  ... 69.471 256527.198\n",
              "2019-01-01 00:02:00 3689.730 3689.730  ... 69.471 256199.563\n",
              "2019-01-01 00:03:00 3692.850 3692.850  ... 69.471 256472.484\n",
              "2019-01-01 00:04:00 3692.350 3692.350  ... 69.471 256458.699\n",
              "\n",
              "[5 rows x 9 columns]"
            ]
          },
          "metadata": {},
          "execution_count": 43
        }
      ]
    },
    {
      "cell_type": "code",
      "metadata": {
        "colab": {
          "base_uri": "https://localhost:8080/",
          "height": 295
        },
        "outputId": "77edcbd7-65c0-4129-8d0a-662e3f831360",
        "id": "KtrM9TXQoNoL"
      },
      "source": [
        "BTC_2019.plot(kind='scatter', x='Volume_(BTC)', y='Weighted_Price', alpha = 0.5, color = 'red')\n",
        "plt.xlabel('BTC Volume')              # label = name of label\n",
        "plt.ylabel('BTC Price')\n",
        "plt.title('BTC-Currency Scatter Plot')  \n",
        "plt.show()"
      ],
      "execution_count": null,
      "outputs": [
        {
          "output_type": "display_data",
          "data": {
            "image/png": "[encoded data removed]",
            "text/plain": [
              "<Figure size 432x288 with 1 Axes>"
            ]
          },
          "metadata": {}
        }
      ]
    },
    {
      "cell_type": "markdown",
      "metadata": {
        "id": "NQvETJu9oNoL"
      },
      "source": [
        "Вне зависимости от цены биткоины по большей части покупают маленькими объемами."
      ]
    },
    {
      "cell_type": "markdown",
      "metadata": {
        "id": "F2MN17RXoNoL"
      },
      "source": [
        "А в каких годах люди покупали биткоин большими объемами?"
      ]
    },
    {
      "cell_type": "code",
      "metadata": {
        "colab": {
          "base_uri": "https://localhost:8080/",
          "height": 283
        },
        "outputId": "047165bf-dc6e-4997-ecb3-f8700cf537dd",
        "id": "wZYMSDFQoNoL"
      },
      "source": [
        "all_btc[all_btc['Volume_(BTC)']>1500].plot()"
      ],
      "execution_count": null,
      "outputs": [
        {
          "output_type": "execute_result",
          "data": {
            "text/plain": [
              "<matplotlib.axes._subplots.AxesSubplot at 0x7fdac37d03d0>"
            ]
          },
          "metadata": {},
          "execution_count": 45
        },
        {
          "output_type": "display_data",
          "data": {
            "image/png": "[encoded data removed]",
            "text/plain": [
              "<Figure size 432x288 with 1 Axes>"
            ]
          },
          "metadata": {}
        }
      ]
    },
    {
      "cell_type": "markdown",
      "metadata": {
        "id": "A9nRjga6oNoL"
      },
      "source": [
        "Гистограмма по ценам открытия:"
      ]
    },
    {
      "cell_type": "code",
      "metadata": {
        "colab": {
          "base_uri": "https://localhost:8080/",
          "height": 282
        },
        "outputId": "309982f3-7a70-46cf-8857-7126b42adf71",
        "id": "fmvQWQlUoNoL"
      },
      "source": [
        "all_btc.Open.plot(kind='hist', bins=50)"
      ],
      "execution_count": null,
      "outputs": [
        {
          "output_type": "execute_result",
          "data": {
            "text/plain": [
              "<matplotlib.axes._subplots.AxesSubplot at 0x7fdac367e250>"
            ]
          },
          "metadata": {},
          "execution_count": 46
        },
        {
          "output_type": "display_data",
          "data": {
            "image/png": "[encoded data removed]",
            "text/plain": [
              "<Figure size 432x288 with 1 Axes>"
            ]
          },
          "metadata": {}
        }
      ]
    },
    {
      "cell_type": "markdown",
      "metadata": {
        "id": "cJwXphluugM1"
      },
      "source": [
        "Самая большая разница в цене в течение минуты:"
      ]
    },
    {
      "cell_type": "code",
      "metadata": {
        "colab": {
          "base_uri": "https://localhost:8080/",
          "height": 272
        },
        "outputId": "47154973-ac0d-440c-e8f4-3531f7d3b7a3",
        "id": "gsyR1aZiugM2"
      },
      "source": [
        "(all_btc.High - all_btc.Low).plot(color='green')"
      ],
      "execution_count": null,
      "outputs": [
        {
          "output_type": "execute_result",
          "data": {
            "text/plain": [
              "<matplotlib.axes._subplots.AxesSubplot at 0x7fdac35c0cd0>"
            ]
          },
          "metadata": {},
          "execution_count": 47
        },
        {
          "output_type": "display_data",
          "data": {
            "image/png": "[encoded data removed]",
            "text/plain": [
              "<Figure size 432x288 with 1 Axes>"
            ]
          },
          "metadata": {}
        }
      ]
    },
    {
      "cell_type": "markdown",
      "metadata": {
        "id": "JD7JS6FDugM2"
      },
      "source": [
        "За минуту разница 700 долларов, давайте посмотрим внимательнее:"
      ]
    },
    {
      "cell_type": "code",
      "metadata": {
        "colab": {
          "base_uri": "https://localhost:8080/",
          "height": 81
        },
        "outputId": "f34b482a-4fa1-4b8d-fbcc-dbe849a7adf0",
        "id": "3X8MyxCvugM2"
      },
      "source": [
        "all_btc[(all_btc.High - all_btc.Low)>700]"
      ],
      "execution_count": null,
      "outputs": [
        {
          "output_type": "execute_result",
          "data": {
            "text/html": [
              "\n",
              "  <div id=\"df-a4e3181c-5b66-4ca4-afb7-063d1b961b7b\">\n",
              "    <div class=\"colab-df-container\">\n",
              "      <div>\n",
              "<style scoped>\n",
              "    .dataframe tbody tr th:only-of-type {\n",
              "        vertical-align: middle;\n",
              "    }\n",
              "\n",
              "    .dataframe tbody tr th {\n",
              "        vertical-align: top;\n",
              "    }\n",
              "\n",
              "    .dataframe thead th {\n",
              "        text-align: right;\n",
              "    }\n",
              "</style>\n",
              "<table border=\"1\" class=\"dataframe\">\n",
              "  <thead>\n",
              "    <tr style=\"text-align: right;\">\n",
              "      <th></th>\n",
              "      <th>Open</th>\n",
              "      <th>High</th>\n",
              "      <th>Low</th>\n",
              "      <th>Close</th>\n",
              "      <th>Volume_(BTC)</th>\n",
              "      <th>Volume_(Currency)</th>\n",
              "      <th>Weighted_Price</th>\n",
              "      <th>curs</th>\n",
              "      <th>RUB</th>\n",
              "    </tr>\n",
              "  </thead>\n",
              "  <tbody>\n",
              "    <tr>\n",
              "      <th>2019-05-17 03:10:00</th>\n",
              "      <td>6250.000</td>\n",
              "      <td>6907.010</td>\n",
              "      <td>6178.000</td>\n",
              "      <td>6907.010</td>\n",
              "      <td>150.971</td>\n",
              "      <td>940847.083</td>\n",
              "      <td>6231.966</td>\n",
              "      <td>64.560</td>\n",
              "      <td>402334.481</td>\n",
              "    </tr>\n",
              "  </tbody>\n",
              "</table>\n",
              "</div>\n",
              "      <button class=\"colab-df-convert\" onclick=\"convertToInteractive('df-a4e3181c-5b66-4ca4-afb7-063d1b961b7b')\"\n",
              "              title=\"Convert this dataframe to an interactive table.\"\n",
              "              style=\"display:none;\">\n",
              "        \n",
              "  <svg xmlns=\"http://www.w3.org/2000/svg\" height=\"24px\"viewBox=\"0 0 24 24\"\n",
              "       width=\"24px\">\n",
              "    <path d=\"M0 0h24v24H0V0z\" fill=\"none\"/>\n",
              "    <path d=\"M18.56 5.44l.94 2.06.94-2.06 2.06-.94-2.06-.94-.94-2.06-.94 2.06-2.06.94zm-11 1L8.5 8.5l.94-2.06 2.06-.94-2.06-.94L8.5 2.5l-.94 2.06-2.06.94zm10 10l.94 2.06.94-2.06 2.06-.94-2.06-.94-.94-2.06-.94 2.06-2.06.94z\"/><path d=\"M17.41 7.96l-1.37-1.37c-.4-.4-.92-.59-1.43-.59-.52 0-1.04.2-1.43.59L10.3 9.45l-7.72 7.72c-.78.78-.78 2.05 0 2.83L4 21.41c.39.39.9.59 1.41.59.51 0 1.02-.2 1.41-.59l7.78-7.78 2.81-2.81c.8-.78.8-2.07 0-2.86zM5.41 20L4 18.59l7.72-7.72 1.47 1.35L5.41 20z\"/>\n",
              "  </svg>\n",
              "      </button>\n",
              "      \n",
              "  <style>\n",
              "    .colab-df-container {\n",
              "      display:flex;\n",
              "      flex-wrap:wrap;\n",
              "      gap: 12px;\n",
              "    }\n",
              "\n",
              "    .colab-df-convert {\n",
              "      background-color: #E8F0FE;\n",
              "      border: none;\n",
              "      border-radius: 50%;\n",
              "      cursor: pointer;\n",
              "      display: none;\n",
              "      fill: #1967D2;\n",
              "      height: 32px;\n",
              "      padding: 0 0 0 0;\n",
              "      width: 32px;\n",
              "    }\n",
              "\n",
              "    .colab-df-convert:hover {\n",
              "      background-color: #E2EBFA;\n",
              "      box-shadow: 0px 1px 2px rgba(60, 64, 67, 0.3), 0px 1px 3px 1px rgba(60, 64, 67, 0.15);\n",
              "      fill: #174EA6;\n",
              "    }\n",
              "\n",
              "    [theme=dark] .colab-df-convert {\n",
              "      background-color: #3B4455;\n",
              "      fill: #D2E3FC;\n",
              "    }\n",
              "\n",
              "    [theme=dark] .colab-df-convert:hover {\n",
              "      background-color: #434B5C;\n",
              "      box-shadow: 0px 1px 3px 1px rgba(0, 0, 0, 0.15);\n",
              "      filter: drop-shadow(0px 1px 2px rgba(0, 0, 0, 0.3));\n",
              "      fill: #FFFFFF;\n",
              "    }\n",
              "  </style>\n",
              "\n",
              "      <script>\n",
              "        const buttonEl =\n",
              "          document.querySelector('#df-a4e3181c-5b66-4ca4-afb7-063d1b961b7b button.colab-df-convert');\n",
              "        buttonEl.style.display =\n",
              "          google.colab.kernel.accessAllowed ? 'block' : 'none';\n",
              "\n",
              "        async function convertToInteractive(key) {\n",
              "          const element = document.querySelector('#df-a4e3181c-5b66-4ca4-afb7-063d1b961b7b');\n",
              "          const dataTable =\n",
              "            await google.colab.kernel.invokeFunction('convertToInteractive',\n",
              "                                                     [key], {});\n",
              "          if (!dataTable) return;\n",
              "\n",
              "          const docLinkHtml = 'Like what you see? Visit the ' +\n",
              "            '<a target=\"_blank\" href=https://colab.research.google.com/notebooks/data_table.ipynb>data table notebook</a>'\n",
              "            + ' to learn more about interactive tables.';\n",
              "          element.innerHTML = '';\n",
              "          dataTable['output_type'] = 'display_data';\n",
              "          await google.colab.output.renderOutput(dataTable, element);\n",
              "          const docLink = document.createElement('div');\n",
              "          docLink.innerHTML = docLinkHtml;\n",
              "          element.appendChild(docLink);\n",
              "        }\n",
              "      </script>\n",
              "    </div>\n",
              "  </div>\n",
              "  "
            ],
            "text/plain": [
              "                        Open     High  ...   curs        RUB\n",
              "2019-05-17 03:10:00 6250.000 6907.010  ... 64.560 402334.481\n",
              "\n",
              "[1 rows x 9 columns]"
            ]
          },
          "metadata": {},
          "execution_count": 48
        }
      ]
    },
    {
      "cell_type": "code",
      "metadata": {
        "colab": {
          "base_uri": "https://localhost:8080/",
          "height": 551
        },
        "outputId": "432dce32-f824-4dc5-c2b9-3958d82dc849",
        "id": "gfzSU_2FugM2"
      },
      "source": [
        "all_btc.loc['2019-05-17 03:00:00':'2019-05-17 03:15:00', :]"
      ],
      "execution_count": null,
      "outputs": [
        {
          "output_type": "execute_result",
          "data": {
            "text/html": [
              "\n",
              "  <div id=\"df-8da8aef1-eac7-48d9-94d9-f5e5278598da\">\n",
              "    <div class=\"colab-df-container\">\n",
              "      <div>\n",
              "<style scoped>\n",
              "    .dataframe tbody tr th:only-of-type {\n",
              "        vertical-align: middle;\n",
              "    }\n",
              "\n",
              "    .dataframe tbody tr th {\n",
              "        vertical-align: top;\n",
              "    }\n",
              "\n",
              "    .dataframe thead th {\n",
              "        text-align: right;\n",
              "    }\n",
              "</style>\n",
              "<table border=\"1\" class=\"dataframe\">\n",
              "  <thead>\n",
              "    <tr style=\"text-align: right;\">\n",
              "      <th></th>\n",
              "      <th>Open</th>\n",
              "      <th>High</th>\n",
              "      <th>Low</th>\n",
              "      <th>Close</th>\n",
              "      <th>Volume_(BTC)</th>\n",
              "      <th>Volume_(Currency)</th>\n",
              "      <th>Weighted_Price</th>\n",
              "      <th>curs</th>\n",
              "      <th>RUB</th>\n",
              "    </tr>\n",
              "  </thead>\n",
              "  <tbody>\n",
              "    <tr>\n",
              "      <th>2019-05-17 03:00:00</th>\n",
              "      <td>7318.000</td>\n",
              "      <td>7318.000</td>\n",
              "      <td>7148.000</td>\n",
              "      <td>7148.000</td>\n",
              "      <td>385.747</td>\n",
              "      <td>2785189.151</td>\n",
              "      <td>7220.249</td>\n",
              "      <td>64.560</td>\n",
              "      <td>466137.809</td>\n",
              "    </tr>\n",
              "    <tr>\n",
              "      <th>2019-05-17 03:01:00</th>\n",
              "      <td>7147.000</td>\n",
              "      <td>7147.000</td>\n",
              "      <td>7100.020</td>\n",
              "      <td>7100.020</td>\n",
              "      <td>296.733</td>\n",
              "      <td>2108866.758</td>\n",
              "      <td>7106.941</td>\n",
              "      <td>64.560</td>\n",
              "      <td>458822.661</td>\n",
              "    </tr>\n",
              "    <tr>\n",
              "      <th>2019-05-17 03:02:00</th>\n",
              "      <td>7100.020</td>\n",
              "      <td>7100.020</td>\n",
              "      <td>7001.000</td>\n",
              "      <td>7001.000</td>\n",
              "      <td>448.353</td>\n",
              "      <td>3152032.649</td>\n",
              "      <td>7030.249</td>\n",
              "      <td>64.560</td>\n",
              "      <td>453871.483</td>\n",
              "    </tr>\n",
              "    <tr>\n",
              "      <th>2019-05-17 03:03:00</th>\n",
              "      <td>7001.000</td>\n",
              "      <td>7001.000</td>\n",
              "      <td>6844.440</td>\n",
              "      <td>6844.440</td>\n",
              "      <td>643.799</td>\n",
              "      <td>4457442.647</td>\n",
              "      <td>6923.657</td>\n",
              "      <td>64.560</td>\n",
              "      <td>446989.937</td>\n",
              "    </tr>\n",
              "    <tr>\n",
              "      <th>2019-05-17 03:04:00</th>\n",
              "      <td>6843.350</td>\n",
              "      <td>6843.350</td>\n",
              "      <td>6718.000</td>\n",
              "      <td>6718.000</td>\n",
              "      <td>213.999</td>\n",
              "      <td>1452791.035</td>\n",
              "      <td>6788.764</td>\n",
              "      <td>64.560</td>\n",
              "      <td>438281.250</td>\n",
              "    </tr>\n",
              "    <tr>\n",
              "      <th>2019-05-17 03:05:00</th>\n",
              "      <td>6718.000</td>\n",
              "      <td>6718.000</td>\n",
              "      <td>6606.000</td>\n",
              "      <td>6606.000</td>\n",
              "      <td>225.033</td>\n",
              "      <td>1500593.171</td>\n",
              "      <td>6668.329</td>\n",
              "      <td>64.560</td>\n",
              "      <td>430505.999</td>\n",
              "    </tr>\n",
              "    <tr>\n",
              "      <th>2019-05-17 03:06:00</th>\n",
              "      <td>6606.000</td>\n",
              "      <td>6606.000</td>\n",
              "      <td>6493.770</td>\n",
              "      <td>6493.770</td>\n",
              "      <td>338.266</td>\n",
              "      <td>2212210.056</td>\n",
              "      <td>6539.854</td>\n",
              "      <td>64.560</td>\n",
              "      <td>422211.665</td>\n",
              "    </tr>\n",
              "    <tr>\n",
              "      <th>2019-05-17 03:07:00</th>\n",
              "      <td>6492.000</td>\n",
              "      <td>6492.000</td>\n",
              "      <td>6420.000</td>\n",
              "      <td>6420.000</td>\n",
              "      <td>289.972</td>\n",
              "      <td>1874226.833</td>\n",
              "      <td>6463.466</td>\n",
              "      <td>64.560</td>\n",
              "      <td>417280.084</td>\n",
              "    </tr>\n",
              "    <tr>\n",
              "      <th>2019-05-17 03:08:00</th>\n",
              "      <td>6420.000</td>\n",
              "      <td>6420.000</td>\n",
              "      <td>6350.030</td>\n",
              "      <td>6350.030</td>\n",
              "      <td>185.181</td>\n",
              "      <td>1182485.622</td>\n",
              "      <td>6385.575</td>\n",
              "      <td>64.560</td>\n",
              "      <td>412251.413</td>\n",
              "    </tr>\n",
              "    <tr>\n",
              "      <th>2019-05-17 03:09:00</th>\n",
              "      <td>6350.000</td>\n",
              "      <td>6350.000</td>\n",
              "      <td>6250.000</td>\n",
              "      <td>6250.000</td>\n",
              "      <td>262.538</td>\n",
              "      <td>1654015.913</td>\n",
              "      <td>6300.090</td>\n",
              "      <td>64.560</td>\n",
              "      <td>406732.527</td>\n",
              "    </tr>\n",
              "    <tr>\n",
              "      <th>2019-05-17 03:10:00</th>\n",
              "      <td>6250.000</td>\n",
              "      <td>6907.010</td>\n",
              "      <td>6178.000</td>\n",
              "      <td>6907.010</td>\n",
              "      <td>150.971</td>\n",
              "      <td>940847.083</td>\n",
              "      <td>6231.966</td>\n",
              "      <td>64.560</td>\n",
              "      <td>402334.481</td>\n",
              "    </tr>\n",
              "    <tr>\n",
              "      <th>2019-05-17 03:11:00</th>\n",
              "      <td>6907.010</td>\n",
              "      <td>7217.300</td>\n",
              "      <td>6810.000</td>\n",
              "      <td>6810.000</td>\n",
              "      <td>126.366</td>\n",
              "      <td>885853.401</td>\n",
              "      <td>7010.238</td>\n",
              "      <td>64.560</td>\n",
              "      <td>452579.532</td>\n",
              "    </tr>\n",
              "    <tr>\n",
              "      <th>2019-05-17 03:12:00</th>\n",
              "      <td>6810.000</td>\n",
              "      <td>7320.610</td>\n",
              "      <td>6666.000</td>\n",
              "      <td>6775.340</td>\n",
              "      <td>155.564</td>\n",
              "      <td>1077596.221</td>\n",
              "      <td>6927.025</td>\n",
              "      <td>64.560</td>\n",
              "      <td>447207.360</td>\n",
              "    </tr>\n",
              "    <tr>\n",
              "      <th>2019-05-17 03:13:00</th>\n",
              "      <td>6666.000</td>\n",
              "      <td>6758.450</td>\n",
              "      <td>6620.000</td>\n",
              "      <td>6620.000</td>\n",
              "      <td>146.839</td>\n",
              "      <td>977001.287</td>\n",
              "      <td>6653.555</td>\n",
              "      <td>64.560</td>\n",
              "      <td>429552.191</td>\n",
              "    </tr>\n",
              "    <tr>\n",
              "      <th>2019-05-17 03:14:00</th>\n",
              "      <td>6691.280</td>\n",
              "      <td>6826.280</td>\n",
              "      <td>6600.000</td>\n",
              "      <td>6600.000</td>\n",
              "      <td>183.602</td>\n",
              "      <td>1230106.998</td>\n",
              "      <td>6699.866</td>\n",
              "      <td>64.560</td>\n",
              "      <td>432542.003</td>\n",
              "    </tr>\n",
              "    <tr>\n",
              "      <th>2019-05-17 03:15:00</th>\n",
              "      <td>6600.000</td>\n",
              "      <td>6877.610</td>\n",
              "      <td>6580.000</td>\n",
              "      <td>6877.610</td>\n",
              "      <td>74.934</td>\n",
              "      <td>506638.706</td>\n",
              "      <td>6761.107</td>\n",
              "      <td>64.560</td>\n",
              "      <td>436495.731</td>\n",
              "    </tr>\n",
              "  </tbody>\n",
              "</table>\n",
              "</div>\n",
              "      <button class=\"colab-df-convert\" onclick=\"convertToInteractive('df-8da8aef1-eac7-48d9-94d9-f5e5278598da')\"\n",
              "              title=\"Convert this dataframe to an interactive table.\"\n",
              "              style=\"display:none;\">\n",
              "        \n",
              "  <svg xmlns=\"http://www.w3.org/2000/svg\" height=\"24px\"viewBox=\"0 0 24 24\"\n",
              "       width=\"24px\">\n",
              "    <path d=\"M0 0h24v24H0V0z\" fill=\"none\"/>\n",
              "    <path d=\"M18.56 5.44l.94 2.06.94-2.06 2.06-.94-2.06-.94-.94-2.06-.94 2.06-2.06.94zm-11 1L8.5 8.5l.94-2.06 2.06-.94-2.06-.94L8.5 2.5l-.94 2.06-2.06.94zm10 10l.94 2.06.94-2.06 2.06-.94-2.06-.94-.94-2.06-.94 2.06-2.06.94z\"/><path d=\"M17.41 7.96l-1.37-1.37c-.4-.4-.92-.59-1.43-.59-.52 0-1.04.2-1.43.59L10.3 9.45l-7.72 7.72c-.78.78-.78 2.05 0 2.83L4 21.41c.39.39.9.59 1.41.59.51 0 1.02-.2 1.41-.59l7.78-7.78 2.81-2.81c.8-.78.8-2.07 0-2.86zM5.41 20L4 18.59l7.72-7.72 1.47 1.35L5.41 20z\"/>\n",
              "  </svg>\n",
              "      </button>\n",
              "      \n",
              "  <style>\n",
              "    .colab-df-container {\n",
              "      display:flex;\n",
              "      flex-wrap:wrap;\n",
              "      gap: 12px;\n",
              "    }\n",
              "\n",
              "    .colab-df-convert {\n",
              "      background-color: #E8F0FE;\n",
              "      border: none;\n",
              "      border-radius: 50%;\n",
              "      cursor: pointer;\n",
              "      display: none;\n",
              "      fill: #1967D2;\n",
              "      height: 32px;\n",
              "      padding: 0 0 0 0;\n",
              "      width: 32px;\n",
              "    }\n",
              "\n",
              "    .colab-df-convert:hover {\n",
              "      background-color: #E2EBFA;\n",
              "      box-shadow: 0px 1px 2px rgba(60, 64, 67, 0.3), 0px 1px 3px 1px rgba(60, 64, 67, 0.15);\n",
              "      fill: #174EA6;\n",
              "    }\n",
              "\n",
              "    [theme=dark] .colab-df-convert {\n",
              "      background-color: #3B4455;\n",
              "      fill: #D2E3FC;\n",
              "    }\n",
              "\n",
              "    [theme=dark] .colab-df-convert:hover {\n",
              "      background-color: #434B5C;\n",
              "      box-shadow: 0px 1px 3px 1px rgba(0, 0, 0, 0.15);\n",
              "      filter: drop-shadow(0px 1px 2px rgba(0, 0, 0, 0.3));\n",
              "      fill: #FFFFFF;\n",
              "    }\n",
              "  </style>\n",
              "\n",
              "      <script>\n",
              "        const buttonEl =\n",
              "          document.querySelector('#df-8da8aef1-eac7-48d9-94d9-f5e5278598da button.colab-df-convert');\n",
              "        buttonEl.style.display =\n",
              "          google.colab.kernel.accessAllowed ? 'block' : 'none';\n",
              "\n",
              "        async function convertToInteractive(key) {\n",
              "          const element = document.querySelector('#df-8da8aef1-eac7-48d9-94d9-f5e5278598da');\n",
              "          const dataTable =\n",
              "            await google.colab.kernel.invokeFunction('convertToInteractive',\n",
              "                                                     [key], {});\n",
              "          if (!dataTable) return;\n",
              "\n",
              "          const docLinkHtml = 'Like what you see? Visit the ' +\n",
              "            '<a target=\"_blank\" href=https://colab.research.google.com/notebooks/data_table.ipynb>data table notebook</a>'\n",
              "            + ' to learn more about interactive tables.';\n",
              "          element.innerHTML = '';\n",
              "          dataTable['output_type'] = 'display_data';\n",
              "          await google.colab.output.renderOutput(dataTable, element);\n",
              "          const docLink = document.createElement('div');\n",
              "          docLink.innerHTML = docLinkHtml;\n",
              "          element.appendChild(docLink);\n",
              "        }\n",
              "      </script>\n",
              "    </div>\n",
              "  </div>\n",
              "  "
            ],
            "text/plain": [
              "                        Open     High  ...   curs        RUB\n",
              "2019-05-17 03:00:00 7318.000 7318.000  ... 64.560 466137.809\n",
              "2019-05-17 03:01:00 7147.000 7147.000  ... 64.560 458822.661\n",
              "2019-05-17 03:02:00 7100.020 7100.020  ... 64.560 453871.483\n",
              "2019-05-17 03:03:00 7001.000 7001.000  ... 64.560 446989.937\n",
              "2019-05-17 03:04:00 6843.350 6843.350  ... 64.560 438281.250\n",
              "2019-05-17 03:05:00 6718.000 6718.000  ... 64.560 430505.999\n",
              "2019-05-17 03:06:00 6606.000 6606.000  ... 64.560 422211.665\n",
              "2019-05-17 03:07:00 6492.000 6492.000  ... 64.560 417280.084\n",
              "2019-05-17 03:08:00 6420.000 6420.000  ... 64.560 412251.413\n",
              "2019-05-17 03:09:00 6350.000 6350.000  ... 64.560 406732.527\n",
              "2019-05-17 03:10:00 6250.000 6907.010  ... 64.560 402334.481\n",
              "2019-05-17 03:11:00 6907.010 7217.300  ... 64.560 452579.532\n",
              "2019-05-17 03:12:00 6810.000 7320.610  ... 64.560 447207.360\n",
              "2019-05-17 03:13:00 6666.000 6758.450  ... 64.560 429552.191\n",
              "2019-05-17 03:14:00 6691.280 6826.280  ... 64.560 432542.003\n",
              "2019-05-17 03:15:00 6600.000 6877.610  ... 64.560 436495.731\n",
              "\n",
              "[16 rows x 9 columns]"
            ]
          },
          "metadata": {},
          "execution_count": 49
        }
      ]
    },
    {
      "cell_type": "markdown",
      "metadata": {
        "id": "zntnWVgdugM3"
      },
      "source": [
        "Начиная с 3:10 биткоин резко подорожал, после чего цена стала восстанавливаться к предыдущему значению очень медленно."
      ]
    },
    {
      "cell_type": "markdown",
      "metadata": {
        "id": "sm_UTLQZugM3"
      },
      "source": [
        "Как менялся курс доллара с течением времени:"
      ]
    },
    {
      "cell_type": "code",
      "metadata": {
        "colab": {
          "base_uri": "https://localhost:8080/",
          "height": 282
        },
        "outputId": "ff69b8d4-715c-43f0-8404-22e75500d462",
        "id": "_a1nv1QaugM3"
      },
      "source": [
        "usd_rub.plot()"
      ],
      "execution_count": null,
      "outputs": [
        {
          "output_type": "execute_result",
          "data": {
            "text/plain": [
              "<matplotlib.axes._subplots.AxesSubplot at 0x7fdaba532190>"
            ]
          },
          "metadata": {},
          "execution_count": 50
        },
        {
          "output_type": "display_data",
          "data": {
            "image/png": "[encoded data removed]",
            "text/plain": [
              "<Figure size 432x288 with 1 Axes>"
            ]
          },
          "metadata": {}
        }
      ]
    },
    {
      "cell_type": "markdown",
      "metadata": {
        "id": "H9fLzdZaugM3"
      },
      "source": [
        "И, наконец, посмотрим зависимость цены доллара от стоимости биткоина:"
      ]
    },
    {
      "cell_type": "code",
      "metadata": {
        "colab": {
          "base_uri": "https://localhost:8080/",
          "height": 295
        },
        "outputId": "275b14d5-2f19-40dd-958b-4ded0bbd2b0f",
        "id": "GUtyFKTpugM3"
      },
      "source": [
        "all_btc.plot(kind='scatter', x='curs', y='Weighted_Price', alpha = 0.5, color = 'blue')\n",
        "plt.xlabel('USD Price')              # label = name of label\n",
        "plt.ylabel('BTC Price')\n",
        "plt.title('BTC-Currency Scatter Plot')  \n",
        "plt.show()"
      ],
      "execution_count": null,
      "outputs": [
        {
          "output_type": "display_data",
          "data": {
            "image/png": "[encoded data removed]",
            "text/plain": [
              "<Figure size 432x288 with 1 Axes>"
            ]
          },
          "metadata": {}
        }
      ]
    },
    {
      "cell_type": "markdown",
      "metadata": {
        "id": "3snyEJq2ugM3"
      },
      "source": [
        "Биткоин набрал большую популярность в 2017, когда доллар был по 60-70р."
      ]
    },
    {
      "cell_type": "markdown",
      "source": [
        "3. Определим, сколько стоил биткоин, когда доллар имел максимальную цену:"
      ],
      "metadata": {
        "id": "YkuYQlBszD-j"
      }
    },
    {
      "cell_type": "code",
      "source": [
        "all_btc"
      ],
      "metadata": {
        "colab": {
          "base_uri": "https://localhost:8080/",
          "height": 424
        },
        "id": "SFj_gakZzG89",
        "outputId": "c45b23e2-36d0-4df2-841f-6440a5994d54"
      },
      "execution_count": null,
      "outputs": [
        {
          "output_type": "execute_result",
          "data": {
            "text/html": [
              "\n",
              "  <div id=\"df-8390676f-7481-463b-90ba-cc0ec79fece1\">\n",
              "    <div class=\"colab-df-container\">\n",
              "      <div>\n",
              "<style scoped>\n",
              "    .dataframe tbody tr th:only-of-type {\n",
              "        vertical-align: middle;\n",
              "    }\n",
              "\n",
              "    .dataframe tbody tr th {\n",
              "        vertical-align: top;\n",
              "    }\n",
              "\n",
              "    .dataframe thead th {\n",
              "        text-align: right;\n",
              "    }\n",
              "</style>\n",
              "<table border=\"1\" class=\"dataframe\">\n",
              "  <thead>\n",
              "    <tr style=\"text-align: right;\">\n",
              "      <th></th>\n",
              "      <th>Open</th>\n",
              "      <th>High</th>\n",
              "      <th>Low</th>\n",
              "      <th>Close</th>\n",
              "      <th>Volume_(BTC)</th>\n",
              "      <th>Volume_(Currency)</th>\n",
              "      <th>Weighted_Price</th>\n",
              "      <th>curs</th>\n",
              "      <th>RUB</th>\n",
              "    </tr>\n",
              "  </thead>\n",
              "  <tbody>\n",
              "    <tr>\n",
              "      <th>2011-12-31 07:52:00</th>\n",
              "      <td>4.390</td>\n",
              "      <td>4.390</td>\n",
              "      <td>4.390</td>\n",
              "      <td>4.390</td>\n",
              "      <td>0.456</td>\n",
              "      <td>2.000</td>\n",
              "      <td>4.390</td>\n",
              "      <td>32.196</td>\n",
              "      <td>141.341</td>\n",
              "    </tr>\n",
              "    <tr>\n",
              "      <th>2011-12-31 15:50:00</th>\n",
              "      <td>4.390</td>\n",
              "      <td>4.390</td>\n",
              "      <td>4.390</td>\n",
              "      <td>4.390</td>\n",
              "      <td>48.000</td>\n",
              "      <td>210.720</td>\n",
              "      <td>4.390</td>\n",
              "      <td>32.196</td>\n",
              "      <td>141.341</td>\n",
              "    </tr>\n",
              "    <tr>\n",
              "      <th>2011-12-31 16:59:00</th>\n",
              "      <td>4.500</td>\n",
              "      <td>4.570</td>\n",
              "      <td>4.500</td>\n",
              "      <td>4.570</td>\n",
              "      <td>37.862</td>\n",
              "      <td>171.380</td>\n",
              "      <td>4.526</td>\n",
              "      <td>32.196</td>\n",
              "      <td>145.733</td>\n",
              "    </tr>\n",
              "    <tr>\n",
              "      <th>2011-12-31 17:00:00</th>\n",
              "      <td>4.580</td>\n",
              "      <td>4.580</td>\n",
              "      <td>4.580</td>\n",
              "      <td>4.580</td>\n",
              "      <td>9.000</td>\n",
              "      <td>41.220</td>\n",
              "      <td>4.580</td>\n",
              "      <td>32.196</td>\n",
              "      <td>147.458</td>\n",
              "    </tr>\n",
              "    <tr>\n",
              "      <th>2012-01-01 04:16:00</th>\n",
              "      <td>4.580</td>\n",
              "      <td>4.580</td>\n",
              "      <td>4.580</td>\n",
              "      <td>4.580</td>\n",
              "      <td>1.502</td>\n",
              "      <td>6.879</td>\n",
              "      <td>4.580</td>\n",
              "      <td>32.196</td>\n",
              "      <td>147.458</td>\n",
              "    </tr>\n",
              "    <tr>\n",
              "      <th>...</th>\n",
              "      <td>...</td>\n",
              "      <td>...</td>\n",
              "      <td>...</td>\n",
              "      <td>...</td>\n",
              "      <td>...</td>\n",
              "      <td>...</td>\n",
              "      <td>...</td>\n",
              "      <td>...</td>\n",
              "      <td>...</td>\n",
              "    </tr>\n",
              "    <tr>\n",
              "      <th>2020-03-20 23:55:00</th>\n",
              "      <td>6189.650</td>\n",
              "      <td>6211.540</td>\n",
              "      <td>6189.650</td>\n",
              "      <td>6207.140</td>\n",
              "      <td>0.528</td>\n",
              "      <td>3278.832</td>\n",
              "      <td>6207.342</td>\n",
              "      <td>80.157</td>\n",
              "      <td>497561.906</td>\n",
              "    </tr>\n",
              "    <tr>\n",
              "      <th>2020-03-20 23:57:00</th>\n",
              "      <td>6214.060</td>\n",
              "      <td>6236.450</td>\n",
              "      <td>6212.770</td>\n",
              "      <td>6224.460</td>\n",
              "      <td>20.182</td>\n",
              "      <td>125560.106</td>\n",
              "      <td>6221.418</td>\n",
              "      <td>80.157</td>\n",
              "      <td>498690.185</td>\n",
              "    </tr>\n",
              "    <tr>\n",
              "      <th>2020-03-20 23:58:00</th>\n",
              "      <td>6231.220</td>\n",
              "      <td>6231.220</td>\n",
              "      <td>6219.190</td>\n",
              "      <td>6231.210</td>\n",
              "      <td>0.911</td>\n",
              "      <td>5675.120</td>\n",
              "      <td>6229.148</td>\n",
              "      <td>80.157</td>\n",
              "      <td>499309.794</td>\n",
              "    </tr>\n",
              "    <tr>\n",
              "      <th>2020-03-20 23:59:00</th>\n",
              "      <td>6223.780</td>\n",
              "      <td>6230.790</td>\n",
              "      <td>6196.390</td>\n",
              "      <td>6210.140</td>\n",
              "      <td>2.493</td>\n",
              "      <td>15485.019</td>\n",
              "      <td>6212.161</td>\n",
              "      <td>80.157</td>\n",
              "      <td>497948.165</td>\n",
              "    </tr>\n",
              "    <tr>\n",
              "      <th>2020-03-21 00:00:00</th>\n",
              "      <td>6207.660</td>\n",
              "      <td>6227.310</td>\n",
              "      <td>6203.990</td>\n",
              "      <td>6220.440</td>\n",
              "      <td>0.825</td>\n",
              "      <td>5124.404</td>\n",
              "      <td>6212.191</td>\n",
              "      <td>78.044</td>\n",
              "      <td>484826.091</td>\n",
              "    </tr>\n",
              "  </tbody>\n",
              "</table>\n",
              "<p>3081631 rows × 9 columns</p>\n",
              "</div>\n",
              "      <button class=\"colab-df-convert\" onclick=\"convertToInteractive('df-8390676f-7481-463b-90ba-cc0ec79fece1')\"\n",
              "              title=\"Convert this dataframe to an interactive table.\"\n",
              "              style=\"display:none;\">\n",
              "        \n",
              "  <svg xmlns=\"http://www.w3.org/2000/svg\" height=\"24px\"viewBox=\"0 0 24 24\"\n",
              "       width=\"24px\">\n",
              "    <path d=\"M0 0h24v24H0V0z\" fill=\"none\"/>\n",
              "    <path d=\"M18.56 5.44l.94 2.06.94-2.06 2.06-.94-2.06-.94-.94-2.06-.94 2.06-2.06.94zm-11 1L8.5 8.5l.94-2.06 2.06-.94-2.06-.94L8.5 2.5l-.94 2.06-2.06.94zm10 10l.94 2.06.94-2.06 2.06-.94-2.06-.94-.94-2.06-.94 2.06-2.06.94z\"/><path d=\"M17.41 7.96l-1.37-1.37c-.4-.4-.92-.59-1.43-.59-.52 0-1.04.2-1.43.59L10.3 9.45l-7.72 7.72c-.78.78-.78 2.05 0 2.83L4 21.41c.39.39.9.59 1.41.59.51 0 1.02-.2 1.41-.59l7.78-7.78 2.81-2.81c.8-.78.8-2.07 0-2.86zM5.41 20L4 18.59l7.72-7.72 1.47 1.35L5.41 20z\"/>\n",
              "  </svg>\n",
              "      </button>\n",
              "      \n",
              "  <style>\n",
              "    .colab-df-container {\n",
              "      display:flex;\n",
              "      flex-wrap:wrap;\n",
              "      gap: 12px;\n",
              "    }\n",
              "\n",
              "    .colab-df-convert {\n",
              "      background-color: #E8F0FE;\n",
              "      border: none;\n",
              "      border-radius: 50%;\n",
              "      cursor: pointer;\n",
              "      display: none;\n",
              "      fill: #1967D2;\n",
              "      height: 32px;\n",
              "      padding: 0 0 0 0;\n",
              "      width: 32px;\n",
              "    }\n",
              "\n",
              "    .colab-df-convert:hover {\n",
              "      background-color: #E2EBFA;\n",
              "      box-shadow: 0px 1px 2px rgba(60, 64, 67, 0.3), 0px 1px 3px 1px rgba(60, 64, 67, 0.15);\n",
              "      fill: #174EA6;\n",
              "    }\n",
              "\n",
              "    [theme=dark] .colab-df-convert {\n",
              "      background-color: #3B4455;\n",
              "      fill: #D2E3FC;\n",
              "    }\n",
              "\n",
              "    [theme=dark] .colab-df-convert:hover {\n",
              "      background-color: #434B5C;\n",
              "      box-shadow: 0px 1px 3px 1px rgba(0, 0, 0, 0.15);\n",
              "      filter: drop-shadow(0px 1px 2px rgba(0, 0, 0, 0.3));\n",
              "      fill: #FFFFFF;\n",
              "    }\n",
              "  </style>\n",
              "\n",
              "      <script>\n",
              "        const buttonEl =\n",
              "          document.querySelector('#df-8390676f-7481-463b-90ba-cc0ec79fece1 button.colab-df-convert');\n",
              "        buttonEl.style.display =\n",
              "          google.colab.kernel.accessAllowed ? 'block' : 'none';\n",
              "\n",
              "        async function convertToInteractive(key) {\n",
              "          const element = document.querySelector('#df-8390676f-7481-463b-90ba-cc0ec79fece1');\n",
              "          const dataTable =\n",
              "            await google.colab.kernel.invokeFunction('convertToInteractive',\n",
              "                                                     [key], {});\n",
              "          if (!dataTable) return;\n",
              "\n",
              "          const docLinkHtml = 'Like what you see? Visit the ' +\n",
              "            '<a target=\"_blank\" href=https://colab.research.google.com/notebooks/data_table.ipynb>data table notebook</a>'\n",
              "            + ' to learn more about interactive tables.';\n",
              "          element.innerHTML = '';\n",
              "          dataTable['output_type'] = 'display_data';\n",
              "          await google.colab.output.renderOutput(dataTable, element);\n",
              "          const docLink = document.createElement('div');\n",
              "          docLink.innerHTML = docLinkHtml;\n",
              "          element.appendChild(docLink);\n",
              "        }\n",
              "      </script>\n",
              "    </div>\n",
              "  </div>\n",
              "  "
            ],
            "text/plain": [
              "                        Open     High  ...   curs        RUB\n",
              "2011-12-31 07:52:00    4.390    4.390  ... 32.196    141.341\n",
              "2011-12-31 15:50:00    4.390    4.390  ... 32.196    141.341\n",
              "2011-12-31 16:59:00    4.500    4.570  ... 32.196    145.733\n",
              "2011-12-31 17:00:00    4.580    4.580  ... 32.196    147.458\n",
              "2012-01-01 04:16:00    4.580    4.580  ... 32.196    147.458\n",
              "...                      ...      ...  ...    ...        ...\n",
              "2020-03-20 23:55:00 6189.650 6211.540  ... 80.157 497561.906\n",
              "2020-03-20 23:57:00 6214.060 6236.450  ... 80.157 498690.185\n",
              "2020-03-20 23:58:00 6231.220 6231.220  ... 80.157 499309.794\n",
              "2020-03-20 23:59:00 6223.780 6230.790  ... 80.157 497948.165\n",
              "2020-03-21 00:00:00 6207.660 6227.310  ... 78.044 484826.091\n",
              "\n",
              "[3081631 rows x 9 columns]"
            ]
          },
          "metadata": {},
          "execution_count": 52
        }
      ]
    },
    {
      "cell_type": "code",
      "source": [
        "all_btc['curs'].max() #максимальная стоимость доллара в рублях"
      ],
      "metadata": {
        "colab": {
          "base_uri": "https://localhost:8080/"
        },
        "id": "lukpjucS2HQd",
        "outputId": "1f269ed1-05bf-440d-a623-f1576e6929a2"
      },
      "execution_count": null,
      "outputs": [
        {
          "output_type": "execute_result",
          "data": {
            "text/plain": [
              "83.5913"
            ]
          },
          "metadata": {},
          "execution_count": 53
        }
      ]
    },
    {
      "cell_type": "code",
      "source": [
        "Weighted_Price_Btc = all_btc[all_btc['curs'] == all_btc['curs'].max()]\n",
        "Weighted_Price_Btc"
      ],
      "metadata": {
        "colab": {
          "base_uri": "https://localhost:8080/",
          "height": 424
        },
        "id": "shRviphDU0h6",
        "outputId": "6def05d2-622d-4c9a-d1e3-995a8ed0e1f6"
      },
      "execution_count": null,
      "outputs": [
        {
          "output_type": "execute_result",
          "data": {
            "text/html": [
              "\n",
              "  <div id=\"df-604d4a2a-25eb-4405-8e4d-2a60872ed5dd\">\n",
              "    <div class=\"colab-df-container\">\n",
              "      <div>\n",
              "<style scoped>\n",
              "    .dataframe tbody tr th:only-of-type {\n",
              "        vertical-align: middle;\n",
              "    }\n",
              "\n",
              "    .dataframe tbody tr th {\n",
              "        vertical-align: top;\n",
              "    }\n",
              "\n",
              "    .dataframe thead th {\n",
              "        text-align: right;\n",
              "    }\n",
              "</style>\n",
              "<table border=\"1\" class=\"dataframe\">\n",
              "  <thead>\n",
              "    <tr style=\"text-align: right;\">\n",
              "      <th></th>\n",
              "      <th>Open</th>\n",
              "      <th>High</th>\n",
              "      <th>Low</th>\n",
              "      <th>Close</th>\n",
              "      <th>Volume_(BTC)</th>\n",
              "      <th>Volume_(Currency)</th>\n",
              "      <th>Weighted_Price</th>\n",
              "      <th>curs</th>\n",
              "      <th>RUB</th>\n",
              "    </tr>\n",
              "  </thead>\n",
              "  <tbody>\n",
              "    <tr>\n",
              "      <th>2016-01-22 00:00:00</th>\n",
              "      <td>409.420</td>\n",
              "      <td>409.780</td>\n",
              "      <td>409.420</td>\n",
              "      <td>409.560</td>\n",
              "      <td>1.389</td>\n",
              "      <td>569.191</td>\n",
              "      <td>409.649</td>\n",
              "      <td>83.591</td>\n",
              "      <td>34243.070</td>\n",
              "    </tr>\n",
              "    <tr>\n",
              "      <th>2016-01-22 00:01:00</th>\n",
              "      <td>409.410</td>\n",
              "      <td>409.410</td>\n",
              "      <td>409.210</td>\n",
              "      <td>409.210</td>\n",
              "      <td>0.217</td>\n",
              "      <td>88.869</td>\n",
              "      <td>409.328</td>\n",
              "      <td>83.591</td>\n",
              "      <td>34216.230</td>\n",
              "    </tr>\n",
              "    <tr>\n",
              "      <th>2016-01-22 00:02:00</th>\n",
              "      <td>409.450</td>\n",
              "      <td>409.450</td>\n",
              "      <td>409.450</td>\n",
              "      <td>409.450</td>\n",
              "      <td>2.427</td>\n",
              "      <td>993.894</td>\n",
              "      <td>409.450</td>\n",
              "      <td>83.591</td>\n",
              "      <td>34226.458</td>\n",
              "    </tr>\n",
              "    <tr>\n",
              "      <th>2016-01-22 00:04:00</th>\n",
              "      <td>409.550</td>\n",
              "      <td>409.550</td>\n",
              "      <td>409.490</td>\n",
              "      <td>409.490</td>\n",
              "      <td>0.931</td>\n",
              "      <td>381.426</td>\n",
              "      <td>409.507</td>\n",
              "      <td>83.591</td>\n",
              "      <td>34231.197</td>\n",
              "    </tr>\n",
              "    <tr>\n",
              "      <th>2016-01-22 00:06:00</th>\n",
              "      <td>409.490</td>\n",
              "      <td>409.490</td>\n",
              "      <td>409.490</td>\n",
              "      <td>409.490</td>\n",
              "      <td>0.133</td>\n",
              "      <td>54.298</td>\n",
              "      <td>409.490</td>\n",
              "      <td>83.591</td>\n",
              "      <td>34229.801</td>\n",
              "    </tr>\n",
              "    <tr>\n",
              "      <th>...</th>\n",
              "      <td>...</td>\n",
              "      <td>...</td>\n",
              "      <td>...</td>\n",
              "      <td>...</td>\n",
              "      <td>...</td>\n",
              "      <td>...</td>\n",
              "      <td>...</td>\n",
              "      <td>...</td>\n",
              "      <td>...</td>\n",
              "    </tr>\n",
              "    <tr>\n",
              "      <th>2016-01-22 23:55:00</th>\n",
              "      <td>381.580</td>\n",
              "      <td>383.800</td>\n",
              "      <td>381.500</td>\n",
              "      <td>381.640</td>\n",
              "      <td>15.824</td>\n",
              "      <td>6072.230</td>\n",
              "      <td>383.733</td>\n",
              "      <td>83.591</td>\n",
              "      <td>32076.700</td>\n",
              "    </tr>\n",
              "    <tr>\n",
              "      <th>2016-01-22 23:56:00</th>\n",
              "      <td>382.920</td>\n",
              "      <td>383.980</td>\n",
              "      <td>381.700</td>\n",
              "      <td>383.110</td>\n",
              "      <td>16.123</td>\n",
              "      <td>6187.839</td>\n",
              "      <td>383.783</td>\n",
              "      <td>83.591</td>\n",
              "      <td>32080.925</td>\n",
              "    </tr>\n",
              "    <tr>\n",
              "      <th>2016-01-22 23:57:00</th>\n",
              "      <td>382.930</td>\n",
              "      <td>383.130</td>\n",
              "      <td>382.930</td>\n",
              "      <td>383.130</td>\n",
              "      <td>0.781</td>\n",
              "      <td>299.121</td>\n",
              "      <td>382.930</td>\n",
              "      <td>83.591</td>\n",
              "      <td>32009.641</td>\n",
              "    </tr>\n",
              "    <tr>\n",
              "      <th>2016-01-22 23:58:00</th>\n",
              "      <td>382.310</td>\n",
              "      <td>383.600</td>\n",
              "      <td>381.340</td>\n",
              "      <td>382.440</td>\n",
              "      <td>10.559</td>\n",
              "      <td>4040.359</td>\n",
              "      <td>382.649</td>\n",
              "      <td>83.591</td>\n",
              "      <td>31986.143</td>\n",
              "    </tr>\n",
              "    <tr>\n",
              "      <th>2016-01-22 23:59:00</th>\n",
              "      <td>382.850</td>\n",
              "      <td>383.980</td>\n",
              "      <td>382.550</td>\n",
              "      <td>382.550</td>\n",
              "      <td>23.764</td>\n",
              "      <td>9113.445</td>\n",
              "      <td>383.501</td>\n",
              "      <td>83.591</td>\n",
              "      <td>32057.382</td>\n",
              "    </tr>\n",
              "  </tbody>\n",
              "</table>\n",
              "<p>1212 rows × 9 columns</p>\n",
              "</div>\n",
              "      <button class=\"colab-df-convert\" onclick=\"convertToInteractive('df-604d4a2a-25eb-4405-8e4d-2a60872ed5dd')\"\n",
              "              title=\"Convert this dataframe to an interactive table.\"\n",
              "              style=\"display:none;\">\n",
              "        \n",
              "  <svg xmlns=\"http://www.w3.org/2000/svg\" height=\"24px\"viewBox=\"0 0 24 24\"\n",
              "       width=\"24px\">\n",
              "    <path d=\"M0 0h24v24H0V0z\" fill=\"none\"/>\n",
              "    <path d=\"M18.56 5.44l.94 2.06.94-2.06 2.06-.94-2.06-.94-.94-2.06-.94 2.06-2.06.94zm-11 1L8.5 8.5l.94-2.06 2.06-.94-2.06-.94L8.5 2.5l-.94 2.06-2.06.94zm10 10l.94 2.06.94-2.06 2.06-.94-2.06-.94-.94-2.06-.94 2.06-2.06.94z\"/><path d=\"M17.41 7.96l-1.37-1.37c-.4-.4-.92-.59-1.43-.59-.52 0-1.04.2-1.43.59L10.3 9.45l-7.72 7.72c-.78.78-.78 2.05 0 2.83L4 21.41c.39.39.9.59 1.41.59.51 0 1.02-.2 1.41-.59l7.78-7.78 2.81-2.81c.8-.78.8-2.07 0-2.86zM5.41 20L4 18.59l7.72-7.72 1.47 1.35L5.41 20z\"/>\n",
              "  </svg>\n",
              "      </button>\n",
              "      \n",
              "  <style>\n",
              "    .colab-df-container {\n",
              "      display:flex;\n",
              "      flex-wrap:wrap;\n",
              "      gap: 12px;\n",
              "    }\n",
              "\n",
              "    .colab-df-convert {\n",
              "      background-color: #E8F0FE;\n",
              "      border: none;\n",
              "      border-radius: 50%;\n",
              "      cursor: pointer;\n",
              "      display: none;\n",
              "      fill: #1967D2;\n",
              "      height: 32px;\n",
              "      padding: 0 0 0 0;\n",
              "      width: 32px;\n",
              "    }\n",
              "\n",
              "    .colab-df-convert:hover {\n",
              "      background-color: #E2EBFA;\n",
              "      box-shadow: 0px 1px 2px rgba(60, 64, 67, 0.3), 0px 1px 3px 1px rgba(60, 64, 67, 0.15);\n",
              "      fill: #174EA6;\n",
              "    }\n",
              "\n",
              "    [theme=dark] .colab-df-convert {\n",
              "      background-color: #3B4455;\n",
              "      fill: #D2E3FC;\n",
              "    }\n",
              "\n",
              "    [theme=dark] .colab-df-convert:hover {\n",
              "      background-color: #434B5C;\n",
              "      box-shadow: 0px 1px 3px 1px rgba(0, 0, 0, 0.15);\n",
              "      filter: drop-shadow(0px 1px 2px rgba(0, 0, 0, 0.3));\n",
              "      fill: #FFFFFF;\n",
              "    }\n",
              "  </style>\n",
              "\n",
              "      <script>\n",
              "        const buttonEl =\n",
              "          document.querySelector('#df-604d4a2a-25eb-4405-8e4d-2a60872ed5dd button.colab-df-convert');\n",
              "        buttonEl.style.display =\n",
              "          google.colab.kernel.accessAllowed ? 'block' : 'none';\n",
              "\n",
              "        async function convertToInteractive(key) {\n",
              "          const element = document.querySelector('#df-604d4a2a-25eb-4405-8e4d-2a60872ed5dd');\n",
              "          const dataTable =\n",
              "            await google.colab.kernel.invokeFunction('convertToInteractive',\n",
              "                                                     [key], {});\n",
              "          if (!dataTable) return;\n",
              "\n",
              "          const docLinkHtml = 'Like what you see? Visit the ' +\n",
              "            '<a target=\"_blank\" href=https://colab.research.google.com/notebooks/data_table.ipynb>data table notebook</a>'\n",
              "            + ' to learn more about interactive tables.';\n",
              "          element.innerHTML = '';\n",
              "          dataTable['output_type'] = 'display_data';\n",
              "          await google.colab.output.renderOutput(dataTable, element);\n",
              "          const docLink = document.createElement('div');\n",
              "          docLink.innerHTML = docLinkHtml;\n",
              "          element.appendChild(docLink);\n",
              "        }\n",
              "      </script>\n",
              "    </div>\n",
              "  </div>\n",
              "  "
            ],
            "text/plain": [
              "                       Open    High     Low  ...  Weighted_Price   curs       RUB\n",
              "2016-01-22 00:00:00 409.420 409.780 409.420  ...         409.649 83.591 34243.070\n",
              "2016-01-22 00:01:00 409.410 409.410 409.210  ...         409.328 83.591 34216.230\n",
              "2016-01-22 00:02:00 409.450 409.450 409.450  ...         409.450 83.591 34226.458\n",
              "2016-01-22 00:04:00 409.550 409.550 409.490  ...         409.507 83.591 34231.197\n",
              "2016-01-22 00:06:00 409.490 409.490 409.490  ...         409.490 83.591 34229.801\n",
              "...                     ...     ...     ...  ...             ...    ...       ...\n",
              "2016-01-22 23:55:00 381.580 383.800 381.500  ...         383.733 83.591 32076.700\n",
              "2016-01-22 23:56:00 382.920 383.980 381.700  ...         383.783 83.591 32080.925\n",
              "2016-01-22 23:57:00 382.930 383.130 382.930  ...         382.930 83.591 32009.641\n",
              "2016-01-22 23:58:00 382.310 383.600 381.340  ...         382.649 83.591 31986.143\n",
              "2016-01-22 23:59:00 382.850 383.980 382.550  ...         383.501 83.591 32057.382\n",
              "\n",
              "[1212 rows x 9 columns]"
            ]
          },
          "metadata": {},
          "execution_count": 58
        }
      ]
    },
    {
      "cell_type": "code",
      "source": [
        "Weighted_Price_Btc['Weighted_Price'].describe()"
      ],
      "metadata": {
        "colab": {
          "base_uri": "https://localhost:8080/"
        },
        "id": "jhGu1YhfV-Uh",
        "outputId": "57758909-d681-47a3-cee6-faffd1ee403c"
      },
      "execution_count": null,
      "outputs": [
        {
          "output_type": "execute_result",
          "data": {
            "text/plain": [
              "count   1212.000\n",
              "mean     392.837\n",
              "std        9.623\n",
              "min      374.959\n",
              "25%      383.481\n",
              "50%      395.100\n",
              "75%      398.489\n",
              "max      409.940\n",
              "Name: Weighted_Price, dtype: float64"
            ]
          },
          "metadata": {},
          "execution_count": 59
        }
      ]
    },
    {
      "cell_type": "code",
      "source": [
        "all_btc.plot(y='curs')"
      ],
      "metadata": {
        "colab": {
          "base_uri": "https://localhost:8080/",
          "height": 272
        },
        "id": "AMdDN122x_mP",
        "outputId": "93c068a0-261a-4687-827b-8d438746e805"
      },
      "execution_count": null,
      "outputs": [
        {
          "output_type": "execute_result",
          "data": {
            "text/plain": [
              "<matplotlib.axes._subplots.AxesSubplot at 0x7fda85b35510>"
            ]
          },
          "metadata": {},
          "execution_count": 82
        },
        {
          "output_type": "display_data",
          "data": {
            "image/png": "[encoded data removed]",
            "text/plain": [
              "<Figure size 432x288 with 1 Axes>"
            ]
          },
          "metadata": {}
        }
      ]
    },
    {
      "cell_type": "markdown",
      "source": [
        "Вывод: даллар имел максимальную стоимость в январе 2016 года равную 83.59 рублей. В этом же месяце минимальная стоимость биткоина равнялась 374.95 долларов, максимальная стоимость биткоина равнялась 409.94 долларов. "
      ],
      "metadata": {
        "id": "e_cKtEYuVmBv"
      }
    },
    {
      "cell_type": "markdown",
      "source": [
        "4. Нарисуем график изменения цены доллара за 2019 год:"
      ],
      "metadata": {
        "id": "FInQPjB6a5MP"
      }
    },
    {
      "cell_type": "code",
      "source": [
        "usd_rub['2019-01-01 00:00:00':'2019-12-31 23:59:00'].plot()"
      ],
      "metadata": {
        "colab": {
          "base_uri": "https://localhost:8080/",
          "height": 294
        },
        "id": "LCNUCR1tkhyN",
        "outputId": "90a775f7-cc16-4499-d514-0cd6c8764fc2"
      },
      "execution_count": null,
      "outputs": [
        {
          "output_type": "execute_result",
          "data": {
            "text/plain": [
              "<matplotlib.axes._subplots.AxesSubplot at 0x7fdac373d050>"
            ]
          },
          "metadata": {},
          "execution_count": 69
        },
        {
          "output_type": "display_data",
          "data": {
            "image/png": "[encoded data removed]",
            "text/plain": [
              "<Figure size 432x288 with 1 Axes>"
            ]
          },
          "metadata": {}
        }
      ]
    },
    {
      "cell_type": "markdown",
      "source": [
        "Вывод: в течение 2019 года стоимость доллара по отношению к рублю снижалась."
      ],
      "metadata": {
        "id": "rf8TbtXVzAMM"
      }
    },
    {
      "cell_type": "markdown",
      "source": [
        "5. Отобразим на графике разницу между ценами открытия и закрытия. Посмотрим когда она была максимальной:"
      ],
      "metadata": {
        "id": "QmCAuhTqlOwK"
      }
    },
    {
      "cell_type": "code",
      "source": [
        "all_btc"
      ],
      "metadata": {
        "colab": {
          "base_uri": "https://localhost:8080/",
          "height": 424
        },
        "id": "Q6fLUfQJlQUZ",
        "outputId": "b73d8aa4-d943-4233-ec76-d6d0dd812410"
      },
      "execution_count": null,
      "outputs": [
        {
          "output_type": "execute_result",
          "data": {
            "text/html": [
              "\n",
              "  <div id=\"df-30ef1eda-21db-4ce1-bffa-ce283b6362cc\">\n",
              "    <div class=\"colab-df-container\">\n",
              "      <div>\n",
              "<style scoped>\n",
              "    .dataframe tbody tr th:only-of-type {\n",
              "        vertical-align: middle;\n",
              "    }\n",
              "\n",
              "    .dataframe tbody tr th {\n",
              "        vertical-align: top;\n",
              "    }\n",
              "\n",
              "    .dataframe thead th {\n",
              "        text-align: right;\n",
              "    }\n",
              "</style>\n",
              "<table border=\"1\" class=\"dataframe\">\n",
              "  <thead>\n",
              "    <tr style=\"text-align: right;\">\n",
              "      <th></th>\n",
              "      <th>Open</th>\n",
              "      <th>High</th>\n",
              "      <th>Low</th>\n",
              "      <th>Close</th>\n",
              "      <th>Volume_(BTC)</th>\n",
              "      <th>Volume_(Currency)</th>\n",
              "      <th>Weighted_Price</th>\n",
              "      <th>curs</th>\n",
              "      <th>RUB</th>\n",
              "    </tr>\n",
              "  </thead>\n",
              "  <tbody>\n",
              "    <tr>\n",
              "      <th>2011-12-31 07:52:00</th>\n",
              "      <td>4.390</td>\n",
              "      <td>4.390</td>\n",
              "      <td>4.390</td>\n",
              "      <td>4.390</td>\n",
              "      <td>0.456</td>\n",
              "      <td>2.000</td>\n",
              "      <td>4.390</td>\n",
              "      <td>32.196</td>\n",
              "      <td>141.341</td>\n",
              "    </tr>\n",
              "    <tr>\n",
              "      <th>2011-12-31 15:50:00</th>\n",
              "      <td>4.390</td>\n",
              "      <td>4.390</td>\n",
              "      <td>4.390</td>\n",
              "      <td>4.390</td>\n",
              "      <td>48.000</td>\n",
              "      <td>210.720</td>\n",
              "      <td>4.390</td>\n",
              "      <td>32.196</td>\n",
              "      <td>141.341</td>\n",
              "    </tr>\n",
              "    <tr>\n",
              "      <th>2011-12-31 16:59:00</th>\n",
              "      <td>4.500</td>\n",
              "      <td>4.570</td>\n",
              "      <td>4.500</td>\n",
              "      <td>4.570</td>\n",
              "      <td>37.862</td>\n",
              "      <td>171.380</td>\n",
              "      <td>4.526</td>\n",
              "      <td>32.196</td>\n",
              "      <td>145.733</td>\n",
              "    </tr>\n",
              "    <tr>\n",
              "      <th>2011-12-31 17:00:00</th>\n",
              "      <td>4.580</td>\n",
              "      <td>4.580</td>\n",
              "      <td>4.580</td>\n",
              "      <td>4.580</td>\n",
              "      <td>9.000</td>\n",
              "      <td>41.220</td>\n",
              "      <td>4.580</td>\n",
              "      <td>32.196</td>\n",
              "      <td>147.458</td>\n",
              "    </tr>\n",
              "    <tr>\n",
              "      <th>2012-01-01 04:16:00</th>\n",
              "      <td>4.580</td>\n",
              "      <td>4.580</td>\n",
              "      <td>4.580</td>\n",
              "      <td>4.580</td>\n",
              "      <td>1.502</td>\n",
              "      <td>6.879</td>\n",
              "      <td>4.580</td>\n",
              "      <td>32.196</td>\n",
              "      <td>147.458</td>\n",
              "    </tr>\n",
              "    <tr>\n",
              "      <th>...</th>\n",
              "      <td>...</td>\n",
              "      <td>...</td>\n",
              "      <td>...</td>\n",
              "      <td>...</td>\n",
              "      <td>...</td>\n",
              "      <td>...</td>\n",
              "      <td>...</td>\n",
              "      <td>...</td>\n",
              "      <td>...</td>\n",
              "    </tr>\n",
              "    <tr>\n",
              "      <th>2020-03-20 23:55:00</th>\n",
              "      <td>6189.650</td>\n",
              "      <td>6211.540</td>\n",
              "      <td>6189.650</td>\n",
              "      <td>6207.140</td>\n",
              "      <td>0.528</td>\n",
              "      <td>3278.832</td>\n",
              "      <td>6207.342</td>\n",
              "      <td>80.157</td>\n",
              "      <td>497561.906</td>\n",
              "    </tr>\n",
              "    <tr>\n",
              "      <th>2020-03-20 23:57:00</th>\n",
              "      <td>6214.060</td>\n",
              "      <td>6236.450</td>\n",
              "      <td>6212.770</td>\n",
              "      <td>6224.460</td>\n",
              "      <td>20.182</td>\n",
              "      <td>125560.106</td>\n",
              "      <td>6221.418</td>\n",
              "      <td>80.157</td>\n",
              "      <td>498690.185</td>\n",
              "    </tr>\n",
              "    <tr>\n",
              "      <th>2020-03-20 23:58:00</th>\n",
              "      <td>6231.220</td>\n",
              "      <td>6231.220</td>\n",
              "      <td>6219.190</td>\n",
              "      <td>6231.210</td>\n",
              "      <td>0.911</td>\n",
              "      <td>5675.120</td>\n",
              "      <td>6229.148</td>\n",
              "      <td>80.157</td>\n",
              "      <td>499309.794</td>\n",
              "    </tr>\n",
              "    <tr>\n",
              "      <th>2020-03-20 23:59:00</th>\n",
              "      <td>6223.780</td>\n",
              "      <td>6230.790</td>\n",
              "      <td>6196.390</td>\n",
              "      <td>6210.140</td>\n",
              "      <td>2.493</td>\n",
              "      <td>15485.019</td>\n",
              "      <td>6212.161</td>\n",
              "      <td>80.157</td>\n",
              "      <td>497948.165</td>\n",
              "    </tr>\n",
              "    <tr>\n",
              "      <th>2020-03-21 00:00:00</th>\n",
              "      <td>6207.660</td>\n",
              "      <td>6227.310</td>\n",
              "      <td>6203.990</td>\n",
              "      <td>6220.440</td>\n",
              "      <td>0.825</td>\n",
              "      <td>5124.404</td>\n",
              "      <td>6212.191</td>\n",
              "      <td>78.044</td>\n",
              "      <td>484826.091</td>\n",
              "    </tr>\n",
              "  </tbody>\n",
              "</table>\n",
              "<p>3081631 rows × 9 columns</p>\n",
              "</div>\n",
              "      <button class=\"colab-df-convert\" onclick=\"convertToInteractive('df-30ef1eda-21db-4ce1-bffa-ce283b6362cc')\"\n",
              "              title=\"Convert this dataframe to an interactive table.\"\n",
              "              style=\"display:none;\">\n",
              "        \n",
              "  <svg xmlns=\"http://www.w3.org/2000/svg\" height=\"24px\"viewBox=\"0 0 24 24\"\n",
              "       width=\"24px\">\n",
              "    <path d=\"M0 0h24v24H0V0z\" fill=\"none\"/>\n",
              "    <path d=\"M18.56 5.44l.94 2.06.94-2.06 2.06-.94-2.06-.94-.94-2.06-.94 2.06-2.06.94zm-11 1L8.5 8.5l.94-2.06 2.06-.94-2.06-.94L8.5 2.5l-.94 2.06-2.06.94zm10 10l.94 2.06.94-2.06 2.06-.94-2.06-.94-.94-2.06-.94 2.06-2.06.94z\"/><path d=\"M17.41 7.96l-1.37-1.37c-.4-.4-.92-.59-1.43-.59-.52 0-1.04.2-1.43.59L10.3 9.45l-7.72 7.72c-.78.78-.78 2.05 0 2.83L4 21.41c.39.39.9.59 1.41.59.51 0 1.02-.2 1.41-.59l7.78-7.78 2.81-2.81c.8-.78.8-2.07 0-2.86zM5.41 20L4 18.59l7.72-7.72 1.47 1.35L5.41 20z\"/>\n",
              "  </svg>\n",
              "      </button>\n",
              "      \n",
              "  <style>\n",
              "    .colab-df-container {\n",
              "      display:flex;\n",
              "      flex-wrap:wrap;\n",
              "      gap: 12px;\n",
              "    }\n",
              "\n",
              "    .colab-df-convert {\n",
              "      background-color: #E8F0FE;\n",
              "      border: none;\n",
              "      border-radius: 50%;\n",
              "      cursor: pointer;\n",
              "      display: none;\n",
              "      fill: #1967D2;\n",
              "      height: 32px;\n",
              "      padding: 0 0 0 0;\n",
              "      width: 32px;\n",
              "    }\n",
              "\n",
              "    .colab-df-convert:hover {\n",
              "      background-color: #E2EBFA;\n",
              "      box-shadow: 0px 1px 2px rgba(60, 64, 67, 0.3), 0px 1px 3px 1px rgba(60, 64, 67, 0.15);\n",
              "      fill: #174EA6;\n",
              "    }\n",
              "\n",
              "    [theme=dark] .colab-df-convert {\n",
              "      background-color: #3B4455;\n",
              "      fill: #D2E3FC;\n",
              "    }\n",
              "\n",
              "    [theme=dark] .colab-df-convert:hover {\n",
              "      background-color: #434B5C;\n",
              "      box-shadow: 0px 1px 3px 1px rgba(0, 0, 0, 0.15);\n",
              "      filter: drop-shadow(0px 1px 2px rgba(0, 0, 0, 0.3));\n",
              "      fill: #FFFFFF;\n",
              "    }\n",
              "  </style>\n",
              "\n",
              "      <script>\n",
              "        const buttonEl =\n",
              "          document.querySelector('#df-30ef1eda-21db-4ce1-bffa-ce283b6362cc button.colab-df-convert');\n",
              "        buttonEl.style.display =\n",
              "          google.colab.kernel.accessAllowed ? 'block' : 'none';\n",
              "\n",
              "        async function convertToInteractive(key) {\n",
              "          const element = document.querySelector('#df-30ef1eda-21db-4ce1-bffa-ce283b6362cc');\n",
              "          const dataTable =\n",
              "            await google.colab.kernel.invokeFunction('convertToInteractive',\n",
              "                                                     [key], {});\n",
              "          if (!dataTable) return;\n",
              "\n",
              "          const docLinkHtml = 'Like what you see? Visit the ' +\n",
              "            '<a target=\"_blank\" href=https://colab.research.google.com/notebooks/data_table.ipynb>data table notebook</a>'\n",
              "            + ' to learn more about interactive tables.';\n",
              "          element.innerHTML = '';\n",
              "          dataTable['output_type'] = 'display_data';\n",
              "          await google.colab.output.renderOutput(dataTable, element);\n",
              "          const docLink = document.createElement('div');\n",
              "          docLink.innerHTML = docLinkHtml;\n",
              "          element.appendChild(docLink);\n",
              "        }\n",
              "      </script>\n",
              "    </div>\n",
              "  </div>\n",
              "  "
            ],
            "text/plain": [
              "                        Open     High  ...   curs        RUB\n",
              "2011-12-31 07:52:00    4.390    4.390  ... 32.196    141.341\n",
              "2011-12-31 15:50:00    4.390    4.390  ... 32.196    141.341\n",
              "2011-12-31 16:59:00    4.500    4.570  ... 32.196    145.733\n",
              "2011-12-31 17:00:00    4.580    4.580  ... 32.196    147.458\n",
              "2012-01-01 04:16:00    4.580    4.580  ... 32.196    147.458\n",
              "...                      ...      ...  ...    ...        ...\n",
              "2020-03-20 23:55:00 6189.650 6211.540  ... 80.157 497561.906\n",
              "2020-03-20 23:57:00 6214.060 6236.450  ... 80.157 498690.185\n",
              "2020-03-20 23:58:00 6231.220 6231.220  ... 80.157 499309.794\n",
              "2020-03-20 23:59:00 6223.780 6230.790  ... 80.157 497948.165\n",
              "2020-03-21 00:00:00 6207.660 6227.310  ... 78.044 484826.091\n",
              "\n",
              "[3081631 rows x 9 columns]"
            ]
          },
          "metadata": {},
          "execution_count": 70
        }
      ]
    },
    {
      "cell_type": "code",
      "source": [
        "all_btc['Difference'] = all_btc['Close'] - all_btc['Open']"
      ],
      "metadata": {
        "id": "MbO6giVRl17D"
      },
      "execution_count": null,
      "outputs": []
    },
    {
      "cell_type": "code",
      "source": [
        "all_btc['Difference'] = all_btc['Difference'].abs()"
      ],
      "metadata": {
        "id": "aHWxXkwQnI4I"
      },
      "execution_count": null,
      "outputs": []
    },
    {
      "cell_type": "code",
      "source": [
        "all_btc.plot(y='Difference')"
      ],
      "metadata": {
        "colab": {
          "base_uri": "https://localhost:8080/",
          "height": 272
        },
        "id": "zPVlR_cmxL34",
        "outputId": "8fed5adb-14f2-4e68-a279-777dfe045d91"
      },
      "execution_count": null,
      "outputs": [
        {
          "output_type": "execute_result",
          "data": {
            "text/plain": [
              "<matplotlib.axes._subplots.AxesSubplot at 0x7fda8ece0310>"
            ]
          },
          "metadata": {},
          "execution_count": 79
        },
        {
          "output_type": "display_data",
          "data": {
            "image/png": "[encoded data removed]",
            "text/plain": [
              "<Figure size 432x288 with 1 Axes>"
            ]
          },
          "metadata": {}
        }
      ]
    },
    {
      "cell_type": "code",
      "source": [
        "all_btc['Difference'].describe()"
      ],
      "metadata": {
        "colab": {
          "base_uri": "https://localhost:8080/"
        },
        "id": "PGxHtBQQntPy",
        "outputId": "10f5c390-3560-418c-97aa-14e1b2b7d8e9"
      },
      "execution_count": null,
      "outputs": [
        {
          "output_type": "execute_result",
          "data": {
            "text/plain": [
              "count   3081631.000\n",
              "mean          3.101\n",
              "std           7.804\n",
              "min           0.000\n",
              "25%           0.000\n",
              "50%           0.390\n",
              "75%           2.930\n",
              "max         657.010\n",
              "Name: Difference, dtype: float64"
            ]
          },
          "metadata": {},
          "execution_count": 76
        }
      ]
    },
    {
      "cell_type": "code",
      "source": [
        "Difference_Df = all_btc[all_btc['Difference'] == all_btc['Difference'].max()]\n",
        "Difference_Df"
      ],
      "metadata": {
        "colab": {
          "base_uri": "https://localhost:8080/",
          "height": 81
        },
        "id": "bH60Hk8nn7g2",
        "outputId": "2fd780ee-251e-4ee0-9217-b536dc5b266a"
      },
      "execution_count": null,
      "outputs": [
        {
          "output_type": "execute_result",
          "data": {
            "text/html": [
              "\n",
              "  <div id=\"df-247f3ba0-e5bf-41a0-b03d-bf66dba2cf94\">\n",
              "    <div class=\"colab-df-container\">\n",
              "      <div>\n",
              "<style scoped>\n",
              "    .dataframe tbody tr th:only-of-type {\n",
              "        vertical-align: middle;\n",
              "    }\n",
              "\n",
              "    .dataframe tbody tr th {\n",
              "        vertical-align: top;\n",
              "    }\n",
              "\n",
              "    .dataframe thead th {\n",
              "        text-align: right;\n",
              "    }\n",
              "</style>\n",
              "<table border=\"1\" class=\"dataframe\">\n",
              "  <thead>\n",
              "    <tr style=\"text-align: right;\">\n",
              "      <th></th>\n",
              "      <th>Open</th>\n",
              "      <th>High</th>\n",
              "      <th>Low</th>\n",
              "      <th>Close</th>\n",
              "      <th>Volume_(BTC)</th>\n",
              "      <th>Volume_(Currency)</th>\n",
              "      <th>Weighted_Price</th>\n",
              "      <th>curs</th>\n",
              "      <th>RUB</th>\n",
              "      <th>Difference</th>\n",
              "    </tr>\n",
              "  </thead>\n",
              "  <tbody>\n",
              "    <tr>\n",
              "      <th>2019-05-17 03:10:00</th>\n",
              "      <td>6250.000</td>\n",
              "      <td>6907.010</td>\n",
              "      <td>6178.000</td>\n",
              "      <td>6907.010</td>\n",
              "      <td>150.971</td>\n",
              "      <td>940847.083</td>\n",
              "      <td>6231.966</td>\n",
              "      <td>64.560</td>\n",
              "      <td>402334.481</td>\n",
              "      <td>657.010</td>\n",
              "    </tr>\n",
              "  </tbody>\n",
              "</table>\n",
              "</div>\n",
              "      <button class=\"colab-df-convert\" onclick=\"convertToInteractive('df-247f3ba0-e5bf-41a0-b03d-bf66dba2cf94')\"\n",
              "              title=\"Convert this dataframe to an interactive table.\"\n",
              "              style=\"display:none;\">\n",
              "        \n",
              "  <svg xmlns=\"http://www.w3.org/2000/svg\" height=\"24px\"viewBox=\"0 0 24 24\"\n",
              "       width=\"24px\">\n",
              "    <path d=\"M0 0h24v24H0V0z\" fill=\"none\"/>\n",
              "    <path d=\"M18.56 5.44l.94 2.06.94-2.06 2.06-.94-2.06-.94-.94-2.06-.94 2.06-2.06.94zm-11 1L8.5 8.5l.94-2.06 2.06-.94-2.06-.94L8.5 2.5l-.94 2.06-2.06.94zm10 10l.94 2.06.94-2.06 2.06-.94-2.06-.94-.94-2.06-.94 2.06-2.06.94z\"/><path d=\"M17.41 7.96l-1.37-1.37c-.4-.4-.92-.59-1.43-.59-.52 0-1.04.2-1.43.59L10.3 9.45l-7.72 7.72c-.78.78-.78 2.05 0 2.83L4 21.41c.39.39.9.59 1.41.59.51 0 1.02-.2 1.41-.59l7.78-7.78 2.81-2.81c.8-.78.8-2.07 0-2.86zM5.41 20L4 18.59l7.72-7.72 1.47 1.35L5.41 20z\"/>\n",
              "  </svg>\n",
              "      </button>\n",
              "      \n",
              "  <style>\n",
              "    .colab-df-container {\n",
              "      display:flex;\n",
              "      flex-wrap:wrap;\n",
              "      gap: 12px;\n",
              "    }\n",
              "\n",
              "    .colab-df-convert {\n",
              "      background-color: #E8F0FE;\n",
              "      border: none;\n",
              "      border-radius: 50%;\n",
              "      cursor: pointer;\n",
              "      display: none;\n",
              "      fill: #1967D2;\n",
              "      height: 32px;\n",
              "      padding: 0 0 0 0;\n",
              "      width: 32px;\n",
              "    }\n",
              "\n",
              "    .colab-df-convert:hover {\n",
              "      background-color: #E2EBFA;\n",
              "      box-shadow: 0px 1px 2px rgba(60, 64, 67, 0.3), 0px 1px 3px 1px rgba(60, 64, 67, 0.15);\n",
              "      fill: #174EA6;\n",
              "    }\n",
              "\n",
              "    [theme=dark] .colab-df-convert {\n",
              "      background-color: #3B4455;\n",
              "      fill: #D2E3FC;\n",
              "    }\n",
              "\n",
              "    [theme=dark] .colab-df-convert:hover {\n",
              "      background-color: #434B5C;\n",
              "      box-shadow: 0px 1px 3px 1px rgba(0, 0, 0, 0.15);\n",
              "      filter: drop-shadow(0px 1px 2px rgba(0, 0, 0, 0.3));\n",
              "      fill: #FFFFFF;\n",
              "    }\n",
              "  </style>\n",
              "\n",
              "      <script>\n",
              "        const buttonEl =\n",
              "          document.querySelector('#df-247f3ba0-e5bf-41a0-b03d-bf66dba2cf94 button.colab-df-convert');\n",
              "        buttonEl.style.display =\n",
              "          google.colab.kernel.accessAllowed ? 'block' : 'none';\n",
              "\n",
              "        async function convertToInteractive(key) {\n",
              "          const element = document.querySelector('#df-247f3ba0-e5bf-41a0-b03d-bf66dba2cf94');\n",
              "          const dataTable =\n",
              "            await google.colab.kernel.invokeFunction('convertToInteractive',\n",
              "                                                     [key], {});\n",
              "          if (!dataTable) return;\n",
              "\n",
              "          const docLinkHtml = 'Like what you see? Visit the ' +\n",
              "            '<a target=\"_blank\" href=https://colab.research.google.com/notebooks/data_table.ipynb>data table notebook</a>'\n",
              "            + ' to learn more about interactive tables.';\n",
              "          element.innerHTML = '';\n",
              "          dataTable['output_type'] = 'display_data';\n",
              "          await google.colab.output.renderOutput(dataTable, element);\n",
              "          const docLink = document.createElement('div');\n",
              "          docLink.innerHTML = docLinkHtml;\n",
              "          element.appendChild(docLink);\n",
              "        }\n",
              "      </script>\n",
              "    </div>\n",
              "  </div>\n",
              "  "
            ],
            "text/plain": [
              "                        Open     High      Low  ...   curs        RUB  Difference\n",
              "2019-05-17 03:10:00 6250.000 6907.010 6178.000  ... 64.560 402334.481     657.010\n",
              "\n",
              "[1 rows x 10 columns]"
            ]
          },
          "metadata": {},
          "execution_count": 77
        }
      ]
    },
    {
      "cell_type": "markdown",
      "source": [
        "Вывод: разница между ценами Btc открытия и закрытия была максимальной в 2019-05-17 03:10:00."
      ],
      "metadata": {
        "id": "70zg8-13rD-v"
      }
    }
  ]
}
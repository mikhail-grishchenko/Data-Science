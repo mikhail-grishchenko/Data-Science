{
  "nbformat": 4,
  "nbformat_minor": 0,
  "metadata": {
    "colab": {
      "name": "Retailer analysis",
      "provenance": [],
      "collapsed_sections": []
    },
    "kernelspec": {
      "name": "python3",
      "display_name": "Python 3"
    },
    "language_info": {
      "name": "python"
    }
  },
  "cells": [
    {
      "cell_type": "markdown",
      "source": [
        "\n",
        "# 1. Ключевые метрики:\n",
        "1.1 Распределение \"сумма всех товаров в корзине - общее время сборки и доставки\" с разбивкой графиков по ритейлерам и разбивкой данных по городам. Приведено в ниже в текущем ноутбуке. Считаю, что нужно видеть приход денег, чтобы посчитать чистую прибыль, а также понимать затраченное время на сборку и доставку. Дополнительно необходимо отслеживать - кто из ритейлеров и в каких городах лучше всего справляется с поставленной задачей, а кто нет, и куда нужно вмешиваться и решать потенциально возможные проблемы и задачи.\n",
        "\n",
        "1.2 Распределение \"сумма всех товаров в корзине - количество единиц товара\" с разбивкой графиков по ритейлерам и разбивкой данных по городам. Приведено в ниже в текущем ноутбуке. Для возможности проследить выручку и затраченное время на сборку плюс доставку заказов, так как второе это затраты на экусплутацию оборудования, зарплаты сотрудников, топливные и ремонтные расходы и прочее.\n",
        "\n",
        "1.3 Распределение \"количество единиц товара в заказе - общий вес заказа\" с разбивкой графиков по ритейлерам и разбивкой данных по общей стоимости заказа. Приведено в ниже в текущем ноутбуке.\n",
        "\n",
        "1.4 Распределение \"количество единиц товара в заказе - общий вес заказа\" с разбивкой графиков по ритейлерам и разбивкой данных по общему времени сборки и доставки заказов. Приведено в ниже в текущем ноутбуке.\n",
        "\n",
        "\n",
        "\n",
        "\n",
        "\n",
        "\n",
        "# 2. Инсайты/выводы:\n",
        "2.1 Графики распределений разнообразны, в зависимости от текущих целей и задач требуется провести более детальный анализ, но уже в более конкретном направлении.\n",
        "\n",
        "2.2 Определяем 20 магазинов с самым большим количеством замен и отмен товаров.Приведено в ниже в текущем ноутбуке. С данными магазинами нужно поработать в плане наладки и оптимизации процессов формирования буфера и оперативной выкладки \"проблемных\" наиболее восстребованных товаров.\n",
        "\n",
        "2.3 Определяем 50 товаров с самым вольшим количеством замен и отмен. Приведено в ниже в текущем ноутбуке. Данным товарам нужно уделить большее внимание в плане формирования буфера в магазине, а также внимание к оперативной выкладке на полки.\n",
        "\n",
        "2.4 Некоторых данных недостаточно. Например географические координаты адресов доставки указаны, а координат магазинов нет. То есть мы не понимаем откуда мы везем. При наличии их можно было бы посчитать преодолеваемое расстояние во время доставки каждого заказа, сравнить позиции по ритейлерам, магазинам, городам."
      ],
      "metadata": {
        "id": "_seyVpWAz4jc"
      }
    },
    {
      "cell_type": "code",
      "source": [
        "#импортируем необходимые для работы бибилиотеки\n",
        "import psycopg2\n",
        "import seaborn as sns\n",
        "import pandas as pd\n",
        "import matplotlib.pyplot as plt\n",
        "%matplotlib inline "
      ],
      "metadata": {
        "id": "lIuNJ3QjQP3a"
      },
      "execution_count": null,
      "outputs": []
    },
    {
      "cell_type": "code",
      "source": [
        "# подключаемся к базе данных и делаем выборку \n",
        "\n",
        "connection = psycopg2.connect(\n",
        "        host='rc1c-fhrb9f1e0l9g611h.mdb.yandexcloud.net',\n",
        "        user='analytics',\n",
        "        password='HRanalytics',\n",
        "        database='hr-analytics',\n",
        "        port=6432,\n",
        "        sslmode='require'\n",
        "    )\n",
        "df_orders = pd.read_sql (\"SELECT * FROM orders\", connection)\n",
        "df_delivery_windows = pd.read_sql (\"SELECT * FROM delivery_windows\", connection)\n",
        "df_stores = pd.read_sql (\"SELECT * FROM stores\", connection)\n",
        "df_addresses = pd.read_sql (\"SELECT * FROM addresses\", connection)\n",
        "df_replacements = pd.read_sql (\"SELECT * FROM replacements\", connection)\n",
        "df_cancellations = pd.read_sql (\"SELECT * FROM cancellations\", connection)"
      ],
      "metadata": {
        "id": "nlvTbnKdSlAc"
      },
      "execution_count": null,
      "outputs": []
    },
    {
      "cell_type": "code",
      "source": [
        "#смотрим краткую сводку для таблицы заказов\n",
        "df_orders.count()"
      ],
      "metadata": {
        "colab": {
          "base_uri": "https://localhost:8080/"
        },
        "id": "afFejgGgIGEq",
        "outputId": "75b1eac8-1032-48ba-896d-486c4f896b3b"
      },
      "execution_count": null,
      "outputs": [
        {
          "output_type": "execute_result",
          "data": {
            "text/plain": [
              "id                    720433\n",
              "user_id               720433\n",
              "total_cost            720433\n",
              "cost                  720433\n",
              "item_total            720433\n",
              "promo_total           720433\n",
              "total_weight          720433\n",
              "total_quantity        720433\n",
              "state                 720433\n",
              "shipped_at            720433\n",
              "created_at            720433\n",
              "ship_address_id       720433\n",
              "store_id              720433\n",
              "delivery_window_id    720433\n",
              "dtype: int64"
            ]
          },
          "metadata": {},
          "execution_count": 4
        }
      ]
    },
    {
      "cell_type": "code",
      "source": [
        "#смотрим краткую сводку для таблицы временного слота доставки\n",
        "df_delivery_windows.count()"
      ],
      "metadata": {
        "colab": {
          "base_uri": "https://localhost:8080/"
        },
        "id": "x1htxi3JIBFv",
        "outputId": "f0760535-7a9a-417b-a783-bd3b2cf4d4b2"
      },
      "execution_count": null,
      "outputs": [
        {
          "output_type": "execute_result",
          "data": {
            "text/plain": [
              "store_id     204343\n",
              "id           204343\n",
              "starts_at    204343\n",
              "ends_at      204343\n",
              "time_zone    204343\n",
              "dtype: int64"
            ]
          },
          "metadata": {},
          "execution_count": 5
        }
      ]
    },
    {
      "cell_type": "code",
      "source": [
        "#смотрим краткую сводку для таблицы списка городов и ритейлеров\n",
        "df_stores.count()"
      ],
      "metadata": {
        "colab": {
          "base_uri": "https://localhost:8080/"
        },
        "id": "6UzR9ToTKkcW",
        "outputId": "4e73a6db-fb42-4c20-ef59-0428154da08b"
      },
      "execution_count": null,
      "outputs": [
        {
          "output_type": "execute_result",
          "data": {
            "text/plain": [
              "id             162\n",
              "city           162\n",
              "retailer_id    162\n",
              "dtype: int64"
            ]
          },
          "metadata": {},
          "execution_count": 6
        }
      ]
    },
    {
      "cell_type": "code",
      "source": [
        "#смотрим краткую сводку для таблицы географических координат адресов доставки\n",
        "df_addresses.count()"
      ],
      "metadata": {
        "colab": {
          "base_uri": "https://localhost:8080/"
        },
        "id": "xpEreoWzLLoE",
        "outputId": "f52fd803-9f36-47c2-94e3-e69be4051121"
      },
      "execution_count": null,
      "outputs": [
        {
          "output_type": "execute_result",
          "data": {
            "text/plain": [
              "lat         1492303\n",
              "lon         1492303\n",
              "id          1492303\n",
              "elevator     342532\n",
              "floor       1492303\n",
              "dtype: int64"
            ]
          },
          "metadata": {},
          "execution_count": 7
        }
      ]
    },
    {
      "cell_type": "code",
      "source": [
        "#смотрим краткую сводку для таблицы замененных товаров\n",
        "df_replacements.count()"
      ],
      "metadata": {
        "colab": {
          "base_uri": "https://localhost:8080/"
        },
        "id": "ZG2iWY2Y_xA6",
        "outputId": "5d4062f2-a676-4814-b9e0-d52ae5d2a0ff"
      },
      "execution_count": null,
      "outputs": [
        {
          "output_type": "execute_result",
          "data": {
            "text/plain": [
              "order_id    1250244\n",
              "item_id     1250244\n",
              "state       1250244\n",
              "dtype: int64"
            ]
          },
          "metadata": {},
          "execution_count": 8
        }
      ]
    },
    {
      "cell_type": "code",
      "source": [
        "#смотрим краткую сводку для таблицы отмененных товаров\n",
        "df_cancellations.count()"
      ],
      "metadata": {
        "colab": {
          "base_uri": "https://localhost:8080/"
        },
        "id": "vr0PhV4l_xNI",
        "outputId": "d36e32de-268f-419e-c472-92e7b7dce6aa"
      },
      "execution_count": null,
      "outputs": [
        {
          "output_type": "execute_result",
          "data": {
            "text/plain": [
              "order_id    1441605\n",
              "item_id     1441605\n",
              "state       1441605\n",
              "dtype: int64"
            ]
          },
          "metadata": {},
          "execution_count": 9
        }
      ]
    },
    {
      "cell_type": "code",
      "source": [
        "#объединяем таблицу заказов и таблицу временного слота доставки\n",
        "df_orders.rename(columns={'id': 'id_order'}, inplace=True)\n",
        "ndf1_orders = df_orders.merge(df_delivery_windows, how = 'left', left_on = 'delivery_window_id', right_on = 'id' )\n",
        "ndf1_orders.count()"
      ],
      "metadata": {
        "colab": {
          "base_uri": "https://localhost:8080/"
        },
        "id": "810nwrrXsjwv",
        "outputId": "a5f7cd54-9b59-45e2-fb62-153b9733b0fc"
      },
      "execution_count": null,
      "outputs": [
        {
          "output_type": "execute_result",
          "data": {
            "text/plain": [
              "id_order              720433\n",
              "user_id               720433\n",
              "total_cost            720433\n",
              "cost                  720433\n",
              "item_total            720433\n",
              "promo_total           720433\n",
              "total_weight          720433\n",
              "total_quantity        720433\n",
              "state                 720433\n",
              "shipped_at            720433\n",
              "created_at            720433\n",
              "ship_address_id       720433\n",
              "store_id_x            720433\n",
              "delivery_window_id    720433\n",
              "store_id_y            720429\n",
              "id                    720429\n",
              "starts_at             720429\n",
              "ends_at               720429\n",
              "time_zone             720429\n",
              "dtype: int64"
            ]
          },
          "metadata": {},
          "execution_count": 12
        }
      ]
    },
    {
      "cell_type": "code",
      "source": [
        "#добавляем таблицу списка городов и ритейлеров\n",
        "ndf2_orders = ndf1_orders.merge(df_stores, how = 'left', left_on = 'store_id_x', right_on = 'id' )\n",
        "ndf2_orders.count()"
      ],
      "metadata": {
        "colab": {
          "base_uri": "https://localhost:8080/"
        },
        "id": "uPgYG9RMsrqA",
        "outputId": "f11f891b-2225-4134-e435-33b07e093e33"
      },
      "execution_count": null,
      "outputs": [
        {
          "output_type": "execute_result",
          "data": {
            "text/plain": [
              "id_order              720433\n",
              "user_id               720433\n",
              "total_cost            720433\n",
              "cost                  720433\n",
              "item_total            720433\n",
              "promo_total           720433\n",
              "total_weight          720433\n",
              "total_quantity        720433\n",
              "state                 720433\n",
              "shipped_at            720433\n",
              "created_at            720433\n",
              "ship_address_id       720433\n",
              "store_id_x            720433\n",
              "delivery_window_id    720433\n",
              "store_id_y            720429\n",
              "id_x                  720429\n",
              "starts_at             720429\n",
              "ends_at               720429\n",
              "time_zone             720429\n",
              "id_y                  720433\n",
              "city                  720433\n",
              "retailer_id           720433\n",
              "dtype: int64"
            ]
          },
          "metadata": {},
          "execution_count": 13
        }
      ]
    },
    {
      "cell_type": "code",
      "source": [
        "#добавляем таблицу географических координат адресов доставки\n",
        "ndf3_orders = ndf2_orders.merge(df_addresses, how = 'left', left_on = 'ship_address_id', right_on = 'id' )\n",
        "ndf3_orders.count()"
      ],
      "metadata": {
        "colab": {
          "base_uri": "https://localhost:8080/"
        },
        "id": "R7Em4zD-svDG",
        "outputId": "3c6834fd-d4c4-4d52-9fa5-faa1311c55dc"
      },
      "execution_count": null,
      "outputs": [
        {
          "output_type": "execute_result",
          "data": {
            "text/plain": [
              "id_order              729993\n",
              "user_id               729993\n",
              "total_cost            729993\n",
              "cost                  729993\n",
              "item_total            729993\n",
              "promo_total           729993\n",
              "total_weight          729993\n",
              "total_quantity        729993\n",
              "state                 729993\n",
              "shipped_at            729993\n",
              "created_at            729993\n",
              "ship_address_id       729993\n",
              "store_id_x            729993\n",
              "delivery_window_id    729993\n",
              "store_id_y            729989\n",
              "id_x                  729989\n",
              "starts_at             729989\n",
              "ends_at               729989\n",
              "time_zone             729989\n",
              "id_y                  729993\n",
              "city                  729993\n",
              "retailer_id           729993\n",
              "lat                   729947\n",
              "lon                   729947\n",
              "id                    729947\n",
              "elevator              271495\n",
              "floor                 729947\n",
              "dtype: int64"
            ]
          },
          "metadata": {},
          "execution_count": 14
        }
      ]
    },
    {
      "cell_type": "code",
      "source": [
        "#смотрим итог объединения таблиц\n",
        "ndf3_orders.head(3)"
      ],
      "metadata": {
        "colab": {
          "base_uri": "https://localhost:8080/",
          "height": 312
        },
        "id": "jy4go154s7YQ",
        "outputId": "034b7570-111a-43e3-9d2b-22ee72b13e5c"
      },
      "execution_count": null,
      "outputs": [
        {
          "output_type": "execute_result",
          "data": {
            "text/html": [
              "\n",
              "  <div id=\"df-a4c74f12-a2e6-42d7-8923-1c87b40f0247\">\n",
              "    <div class=\"colab-df-container\">\n",
              "      <div>\n",
              "<style scoped>\n",
              "    .dataframe tbody tr th:only-of-type {\n",
              "        vertical-align: middle;\n",
              "    }\n",
              "\n",
              "    .dataframe tbody tr th {\n",
              "        vertical-align: top;\n",
              "    }\n",
              "\n",
              "    .dataframe thead th {\n",
              "        text-align: right;\n",
              "    }\n",
              "</style>\n",
              "<table border=\"1\" class=\"dataframe\">\n",
              "  <thead>\n",
              "    <tr style=\"text-align: right;\">\n",
              "      <th></th>\n",
              "      <th>id_order</th>\n",
              "      <th>user_id</th>\n",
              "      <th>total_cost</th>\n",
              "      <th>cost</th>\n",
              "      <th>item_total</th>\n",
              "      <th>promo_total</th>\n",
              "      <th>total_weight</th>\n",
              "      <th>total_quantity</th>\n",
              "      <th>state</th>\n",
              "      <th>shipped_at</th>\n",
              "      <th>created_at</th>\n",
              "      <th>ship_address_id</th>\n",
              "      <th>store_id_x</th>\n",
              "      <th>delivery_window_id</th>\n",
              "      <th>store_id_y</th>\n",
              "      <th>id_x</th>\n",
              "      <th>starts_at</th>\n",
              "      <th>ends_at</th>\n",
              "      <th>time_zone</th>\n",
              "      <th>id_y</th>\n",
              "      <th>city</th>\n",
              "      <th>retailer_id</th>\n",
              "      <th>lat</th>\n",
              "      <th>lon</th>\n",
              "      <th>id</th>\n",
              "      <th>elevator</th>\n",
              "      <th>floor</th>\n",
              "    </tr>\n",
              "  </thead>\n",
              "  <tbody>\n",
              "    <tr>\n",
              "      <th>0</th>\n",
              "      <td>756927</td>\n",
              "      <td>139676</td>\n",
              "      <td>0.0</td>\n",
              "      <td>0.0</td>\n",
              "      <td>5015</td>\n",
              "      <td>0.0</td>\n",
              "      <td>37708</td>\n",
              "      <td>39</td>\n",
              "      <td>shipped</td>\n",
              "      <td>2018-08-26 15:01:42</td>\n",
              "      <td>2018-08-26 02:06:55</td>\n",
              "      <td>888330</td>\n",
              "      <td>1</td>\n",
              "      <td>226459</td>\n",
              "      <td>1.0</td>\n",
              "      <td>226459.0</td>\n",
              "      <td>2018-08-26 14:00:00</td>\n",
              "      <td>2018-08-26 16:00:00</td>\n",
              "      <td>Europe/Moscow</td>\n",
              "      <td>1</td>\n",
              "      <td>1</td>\n",
              "      <td>1</td>\n",
              "      <td>55.855683</td>\n",
              "      <td>37.644165</td>\n",
              "      <td>888330.0</td>\n",
              "      <td>None</td>\n",
              "      <td>3</td>\n",
              "    </tr>\n",
              "    <tr>\n",
              "      <th>1</th>\n",
              "      <td>756963</td>\n",
              "      <td>139682</td>\n",
              "      <td>0.0</td>\n",
              "      <td>0.0</td>\n",
              "      <td>7096</td>\n",
              "      <td>0.0</td>\n",
              "      <td>49435</td>\n",
              "      <td>71</td>\n",
              "      <td>shipped</td>\n",
              "      <td>2018-08-26 16:28:41</td>\n",
              "      <td>2018-08-26 05:43:20</td>\n",
              "      <td>888394</td>\n",
              "      <td>1</td>\n",
              "      <td>226460</td>\n",
              "      <td>1.0</td>\n",
              "      <td>226460.0</td>\n",
              "      <td>2018-08-26 15:00:00</td>\n",
              "      <td>2018-08-26 17:00:00</td>\n",
              "      <td>Europe/Moscow</td>\n",
              "      <td>1</td>\n",
              "      <td>1</td>\n",
              "      <td>1</td>\n",
              "      <td>55.858791</td>\n",
              "      <td>37.638656</td>\n",
              "      <td>888394.0</td>\n",
              "      <td>passenger</td>\n",
              "      <td>8</td>\n",
              "    </tr>\n",
              "    <tr>\n",
              "      <th>2</th>\n",
              "      <td>756983</td>\n",
              "      <td>63967</td>\n",
              "      <td>299.0</td>\n",
              "      <td>299.0</td>\n",
              "      <td>2724</td>\n",
              "      <td>-250.0</td>\n",
              "      <td>11590</td>\n",
              "      <td>32</td>\n",
              "      <td>shipped</td>\n",
              "      <td>2018-08-26 15:09:11</td>\n",
              "      <td>2018-08-26 06:12:13</td>\n",
              "      <td>888420</td>\n",
              "      <td>1</td>\n",
              "      <td>226459</td>\n",
              "      <td>1.0</td>\n",
              "      <td>226459.0</td>\n",
              "      <td>2018-08-26 14:00:00</td>\n",
              "      <td>2018-08-26 16:00:00</td>\n",
              "      <td>Europe/Moscow</td>\n",
              "      <td>1</td>\n",
              "      <td>1</td>\n",
              "      <td>1</td>\n",
              "      <td>55.890288</td>\n",
              "      <td>37.612822</td>\n",
              "      <td>888420.0</td>\n",
              "      <td>passenger</td>\n",
              "      <td>3</td>\n",
              "    </tr>\n",
              "  </tbody>\n",
              "</table>\n",
              "</div>\n",
              "      <button class=\"colab-df-convert\" onclick=\"convertToInteractive('df-a4c74f12-a2e6-42d7-8923-1c87b40f0247')\"\n",
              "              title=\"Convert this dataframe to an interactive table.\"\n",
              "              style=\"display:none;\">\n",
              "        \n",
              "  <svg xmlns=\"http://www.w3.org/2000/svg\" height=\"24px\"viewBox=\"0 0 24 24\"\n",
              "       width=\"24px\">\n",
              "    <path d=\"M0 0h24v24H0V0z\" fill=\"none\"/>\n",
              "    <path d=\"M18.56 5.44l.94 2.06.94-2.06 2.06-.94-2.06-.94-.94-2.06-.94 2.06-2.06.94zm-11 1L8.5 8.5l.94-2.06 2.06-.94-2.06-.94L8.5 2.5l-.94 2.06-2.06.94zm10 10l.94 2.06.94-2.06 2.06-.94-2.06-.94-.94-2.06-.94 2.06-2.06.94z\"/><path d=\"M17.41 7.96l-1.37-1.37c-.4-.4-.92-.59-1.43-.59-.52 0-1.04.2-1.43.59L10.3 9.45l-7.72 7.72c-.78.78-.78 2.05 0 2.83L4 21.41c.39.39.9.59 1.41.59.51 0 1.02-.2 1.41-.59l7.78-7.78 2.81-2.81c.8-.78.8-2.07 0-2.86zM5.41 20L4 18.59l7.72-7.72 1.47 1.35L5.41 20z\"/>\n",
              "  </svg>\n",
              "      </button>\n",
              "      \n",
              "  <style>\n",
              "    .colab-df-container {\n",
              "      display:flex;\n",
              "      flex-wrap:wrap;\n",
              "      gap: 12px;\n",
              "    }\n",
              "\n",
              "    .colab-df-convert {\n",
              "      background-color: #E8F0FE;\n",
              "      border: none;\n",
              "      border-radius: 50%;\n",
              "      cursor: pointer;\n",
              "      display: none;\n",
              "      fill: #1967D2;\n",
              "      height: 32px;\n",
              "      padding: 0 0 0 0;\n",
              "      width: 32px;\n",
              "    }\n",
              "\n",
              "    .colab-df-convert:hover {\n",
              "      background-color: #E2EBFA;\n",
              "      box-shadow: 0px 1px 2px rgba(60, 64, 67, 0.3), 0px 1px 3px 1px rgba(60, 64, 67, 0.15);\n",
              "      fill: #174EA6;\n",
              "    }\n",
              "\n",
              "    [theme=dark] .colab-df-convert {\n",
              "      background-color: #3B4455;\n",
              "      fill: #D2E3FC;\n",
              "    }\n",
              "\n",
              "    [theme=dark] .colab-df-convert:hover {\n",
              "      background-color: #434B5C;\n",
              "      box-shadow: 0px 1px 3px 1px rgba(0, 0, 0, 0.15);\n",
              "      filter: drop-shadow(0px 1px 2px rgba(0, 0, 0, 0.3));\n",
              "      fill: #FFFFFF;\n",
              "    }\n",
              "  </style>\n",
              "\n",
              "      <script>\n",
              "        const buttonEl =\n",
              "          document.querySelector('#df-a4c74f12-a2e6-42d7-8923-1c87b40f0247 button.colab-df-convert');\n",
              "        buttonEl.style.display =\n",
              "          google.colab.kernel.accessAllowed ? 'block' : 'none';\n",
              "\n",
              "        async function convertToInteractive(key) {\n",
              "          const element = document.querySelector('#df-a4c74f12-a2e6-42d7-8923-1c87b40f0247');\n",
              "          const dataTable =\n",
              "            await google.colab.kernel.invokeFunction('convertToInteractive',\n",
              "                                                     [key], {});\n",
              "          if (!dataTable) return;\n",
              "\n",
              "          const docLinkHtml = 'Like what you see? Visit the ' +\n",
              "            '<a target=\"_blank\" href=https://colab.research.google.com/notebooks/data_table.ipynb>data table notebook</a>'\n",
              "            + ' to learn more about interactive tables.';\n",
              "          element.innerHTML = '';\n",
              "          dataTable['output_type'] = 'display_data';\n",
              "          await google.colab.output.renderOutput(dataTable, element);\n",
              "          const docLink = document.createElement('div');\n",
              "          docLink.innerHTML = docLinkHtml;\n",
              "          element.appendChild(docLink);\n",
              "        }\n",
              "      </script>\n",
              "    </div>\n",
              "  </div>\n",
              "  "
            ],
            "text/plain": [
              "   id_order  user_id  total_cost   cost  ...        lon        id   elevator  floor\n",
              "0    756927   139676         0.0    0.0  ...  37.644165  888330.0       None      3\n",
              "1    756963   139682         0.0    0.0  ...  37.638656  888394.0  passenger      8\n",
              "2    756983    63967       299.0  299.0  ...  37.612822  888420.0  passenger      3\n",
              "\n",
              "[3 rows x 27 columns]"
            ]
          },
          "metadata": {},
          "execution_count": 15
        }
      ]
    },
    {
      "cell_type": "code",
      "source": [
        "#делаем выборку приоритетных колонок\n",
        "ndf4_orders = ndf3_orders[['user_id', 'id_order','created_at', 'starts_at', 'shipped_at',\t'ends_at', 'state', 'city',\t'retailer_id', 'store_id_x',\t'lat', 'lon', 'item_total', 'promo_total', 'cost', 'total_cost', 'total_quantity', 'total_weight']]"
      ],
      "metadata": {
        "id": "_g-hpSMzsz_l"
      },
      "execution_count": null,
      "outputs": []
    },
    {
      "cell_type": "code",
      "source": [
        "#сортируем по времени создания заказа и времени начала слота доставки\n",
        "ndf5_orders = ndf4_orders.sort_values(by=['starts_at','created_at'])\n",
        "ndf5_orders.head(5)"
      ],
      "metadata": {
        "colab": {
          "base_uri": "https://localhost:8080/",
          "height": 250
        },
        "id": "N_4rmWt_D2u0",
        "outputId": "9bbe6084-529d-4ac9-8485-3f08137d56b1"
      },
      "execution_count": null,
      "outputs": [
        {
          "output_type": "execute_result",
          "data": {
            "text/html": [
              "\n",
              "  <div id=\"df-3bdb80a0-b237-4742-9c46-36081814b505\">\n",
              "    <div class=\"colab-df-container\">\n",
              "      <div>\n",
              "<style scoped>\n",
              "    .dataframe tbody tr th:only-of-type {\n",
              "        vertical-align: middle;\n",
              "    }\n",
              "\n",
              "    .dataframe tbody tr th {\n",
              "        vertical-align: top;\n",
              "    }\n",
              "\n",
              "    .dataframe thead th {\n",
              "        text-align: right;\n",
              "    }\n",
              "</style>\n",
              "<table border=\"1\" class=\"dataframe\">\n",
              "  <thead>\n",
              "    <tr style=\"text-align: right;\">\n",
              "      <th></th>\n",
              "      <th>user_id</th>\n",
              "      <th>id_order</th>\n",
              "      <th>created_at</th>\n",
              "      <th>starts_at</th>\n",
              "      <th>shipped_at</th>\n",
              "      <th>ends_at</th>\n",
              "      <th>state</th>\n",
              "      <th>city</th>\n",
              "      <th>retailer_id</th>\n",
              "      <th>store_id_x</th>\n",
              "      <th>lat</th>\n",
              "      <th>lon</th>\n",
              "      <th>item_total</th>\n",
              "      <th>promo_total</th>\n",
              "      <th>cost</th>\n",
              "      <th>total_cost</th>\n",
              "      <th>total_quantity</th>\n",
              "      <th>total_weight</th>\n",
              "    </tr>\n",
              "  </thead>\n",
              "  <tbody>\n",
              "    <tr>\n",
              "      <th>382690</th>\n",
              "      <td>4225</td>\n",
              "      <td>756916</td>\n",
              "      <td>2018-08-26 00:07:14</td>\n",
              "      <td>2018-08-26 08:00:00</td>\n",
              "      <td>2018-08-26 11:13:14</td>\n",
              "      <td>2018-08-26 10:00:00</td>\n",
              "      <td>shipped</td>\n",
              "      <td>1</td>\n",
              "      <td>1</td>\n",
              "      <td>21</td>\n",
              "      <td>55.766353</td>\n",
              "      <td>37.557816</td>\n",
              "      <td>4130</td>\n",
              "      <td>0.0</td>\n",
              "      <td>249.0</td>\n",
              "      <td>249.0</td>\n",
              "      <td>48</td>\n",
              "      <td>26104</td>\n",
              "    </tr>\n",
              "    <tr>\n",
              "      <th>240834</th>\n",
              "      <td>113740</td>\n",
              "      <td>756958</td>\n",
              "      <td>2018-08-26 05:38:12</td>\n",
              "      <td>2018-08-26 08:00:00</td>\n",
              "      <td>2018-08-26 07:46:10</td>\n",
              "      <td>2018-08-26 10:00:00</td>\n",
              "      <td>shipped</td>\n",
              "      <td>1</td>\n",
              "      <td>1</td>\n",
              "      <td>11</td>\n",
              "      <td>55.788854</td>\n",
              "      <td>37.463587</td>\n",
              "      <td>3512</td>\n",
              "      <td>0.0</td>\n",
              "      <td>299.0</td>\n",
              "      <td>299.0</td>\n",
              "      <td>11</td>\n",
              "      <td>9176</td>\n",
              "    </tr>\n",
              "    <tr>\n",
              "      <th>500473</th>\n",
              "      <td>96268</td>\n",
              "      <td>757015</td>\n",
              "      <td>2018-08-26 06:53:51</td>\n",
              "      <td>2018-08-26 09:00:00</td>\n",
              "      <td>2018-08-26 10:36:29</td>\n",
              "      <td>2018-08-26 10:00:00</td>\n",
              "      <td>shipped</td>\n",
              "      <td>2</td>\n",
              "      <td>1</td>\n",
              "      <td>63</td>\n",
              "      <td>55.762961</td>\n",
              "      <td>49.202657</td>\n",
              "      <td>2707</td>\n",
              "      <td>0.0</td>\n",
              "      <td>149.0</td>\n",
              "      <td>149.0</td>\n",
              "      <td>107</td>\n",
              "      <td>37370</td>\n",
              "    </tr>\n",
              "    <tr>\n",
              "      <th>382697</th>\n",
              "      <td>91917</td>\n",
              "      <td>757024</td>\n",
              "      <td>2018-08-26 06:59:44</td>\n",
              "      <td>2018-08-26 10:00:00</td>\n",
              "      <td>2018-08-26 10:41:59</td>\n",
              "      <td>2018-08-26 12:00:00</td>\n",
              "      <td>shipped</td>\n",
              "      <td>1</td>\n",
              "      <td>1</td>\n",
              "      <td>21</td>\n",
              "      <td>55.772973</td>\n",
              "      <td>37.611133</td>\n",
              "      <td>2487</td>\n",
              "      <td>0.0</td>\n",
              "      <td>299.0</td>\n",
              "      <td>299.0</td>\n",
              "      <td>49</td>\n",
              "      <td>8440</td>\n",
              "    </tr>\n",
              "    <tr>\n",
              "      <th>482580</th>\n",
              "      <td>96268</td>\n",
              "      <td>757033</td>\n",
              "      <td>2018-08-26 07:03:25</td>\n",
              "      <td>2018-08-26 10:00:00</td>\n",
              "      <td>2018-08-26 09:39:29</td>\n",
              "      <td>2018-08-26 11:00:00</td>\n",
              "      <td>shipped</td>\n",
              "      <td>2</td>\n",
              "      <td>1</td>\n",
              "      <td>62</td>\n",
              "      <td>55.788366</td>\n",
              "      <td>49.103743</td>\n",
              "      <td>4077</td>\n",
              "      <td>0.0</td>\n",
              "      <td>149.0</td>\n",
              "      <td>149.0</td>\n",
              "      <td>62</td>\n",
              "      <td>34940</td>\n",
              "    </tr>\n",
              "  </tbody>\n",
              "</table>\n",
              "</div>\n",
              "      <button class=\"colab-df-convert\" onclick=\"convertToInteractive('df-3bdb80a0-b237-4742-9c46-36081814b505')\"\n",
              "              title=\"Convert this dataframe to an interactive table.\"\n",
              "              style=\"display:none;\">\n",
              "        \n",
              "  <svg xmlns=\"http://www.w3.org/2000/svg\" height=\"24px\"viewBox=\"0 0 24 24\"\n",
              "       width=\"24px\">\n",
              "    <path d=\"M0 0h24v24H0V0z\" fill=\"none\"/>\n",
              "    <path d=\"M18.56 5.44l.94 2.06.94-2.06 2.06-.94-2.06-.94-.94-2.06-.94 2.06-2.06.94zm-11 1L8.5 8.5l.94-2.06 2.06-.94-2.06-.94L8.5 2.5l-.94 2.06-2.06.94zm10 10l.94 2.06.94-2.06 2.06-.94-2.06-.94-.94-2.06-.94 2.06-2.06.94z\"/><path d=\"M17.41 7.96l-1.37-1.37c-.4-.4-.92-.59-1.43-.59-.52 0-1.04.2-1.43.59L10.3 9.45l-7.72 7.72c-.78.78-.78 2.05 0 2.83L4 21.41c.39.39.9.59 1.41.59.51 0 1.02-.2 1.41-.59l7.78-7.78 2.81-2.81c.8-.78.8-2.07 0-2.86zM5.41 20L4 18.59l7.72-7.72 1.47 1.35L5.41 20z\"/>\n",
              "  </svg>\n",
              "      </button>\n",
              "      \n",
              "  <style>\n",
              "    .colab-df-container {\n",
              "      display:flex;\n",
              "      flex-wrap:wrap;\n",
              "      gap: 12px;\n",
              "    }\n",
              "\n",
              "    .colab-df-convert {\n",
              "      background-color: #E8F0FE;\n",
              "      border: none;\n",
              "      border-radius: 50%;\n",
              "      cursor: pointer;\n",
              "      display: none;\n",
              "      fill: #1967D2;\n",
              "      height: 32px;\n",
              "      padding: 0 0 0 0;\n",
              "      width: 32px;\n",
              "    }\n",
              "\n",
              "    .colab-df-convert:hover {\n",
              "      background-color: #E2EBFA;\n",
              "      box-shadow: 0px 1px 2px rgba(60, 64, 67, 0.3), 0px 1px 3px 1px rgba(60, 64, 67, 0.15);\n",
              "      fill: #174EA6;\n",
              "    }\n",
              "\n",
              "    [theme=dark] .colab-df-convert {\n",
              "      background-color: #3B4455;\n",
              "      fill: #D2E3FC;\n",
              "    }\n",
              "\n",
              "    [theme=dark] .colab-df-convert:hover {\n",
              "      background-color: #434B5C;\n",
              "      box-shadow: 0px 1px 3px 1px rgba(0, 0, 0, 0.15);\n",
              "      filter: drop-shadow(0px 1px 2px rgba(0, 0, 0, 0.3));\n",
              "      fill: #FFFFFF;\n",
              "    }\n",
              "  </style>\n",
              "\n",
              "      <script>\n",
              "        const buttonEl =\n",
              "          document.querySelector('#df-3bdb80a0-b237-4742-9c46-36081814b505 button.colab-df-convert');\n",
              "        buttonEl.style.display =\n",
              "          google.colab.kernel.accessAllowed ? 'block' : 'none';\n",
              "\n",
              "        async function convertToInteractive(key) {\n",
              "          const element = document.querySelector('#df-3bdb80a0-b237-4742-9c46-36081814b505');\n",
              "          const dataTable =\n",
              "            await google.colab.kernel.invokeFunction('convertToInteractive',\n",
              "                                                     [key], {});\n",
              "          if (!dataTable) return;\n",
              "\n",
              "          const docLinkHtml = 'Like what you see? Visit the ' +\n",
              "            '<a target=\"_blank\" href=https://colab.research.google.com/notebooks/data_table.ipynb>data table notebook</a>'\n",
              "            + ' to learn more about interactive tables.';\n",
              "          element.innerHTML = '';\n",
              "          dataTable['output_type'] = 'display_data';\n",
              "          await google.colab.output.renderOutput(dataTable, element);\n",
              "          const docLink = document.createElement('div');\n",
              "          docLink.innerHTML = docLinkHtml;\n",
              "          element.appendChild(docLink);\n",
              "        }\n",
              "      </script>\n",
              "    </div>\n",
              "  </div>\n",
              "  "
            ],
            "text/plain": [
              "        user_id  id_order  ... total_quantity total_weight\n",
              "382690     4225    756916  ...             48        26104\n",
              "240834   113740    756958  ...             11         9176\n",
              "500473    96268    757015  ...            107        37370\n",
              "382697    91917    757024  ...             49         8440\n",
              "482580    96268    757033  ...             62        34940\n",
              "\n",
              "[5 rows x 18 columns]"
            ]
          },
          "metadata": {},
          "execution_count": 17
        }
      ]
    },
    {
      "cell_type": "code",
      "source": [
        "#вычисляем общее затраченное время от момента создания заказа до момента закрытия слота доставки и убираем лишние колонки\n",
        "ndf5_orders['total_time_assembly_and_delivery'] = ndf5_orders.ends_at - ndf5_orders.created_at\n",
        "ndf6_orders = ndf5_orders[['user_id', 'id_order','total_time_assembly_and_delivery', 'state', 'city',\t'retailer_id', 'store_id_x',\t'lat', 'lon', 'item_total', 'promo_total', 'cost', 'total_cost', 'total_quantity', 'total_weight']]\n",
        "ndf6_orders.head(5)"
      ],
      "metadata": {
        "colab": {
          "base_uri": "https://localhost:8080/",
          "height": 206
        },
        "id": "F9GRZZQCJA_Z",
        "outputId": "baf3ef9d-fd1f-4ebd-8649-b1f6a63aa8c4"
      },
      "execution_count": null,
      "outputs": [
        {
          "output_type": "execute_result",
          "data": {
            "text/html": [
              "\n",
              "  <div id=\"df-0870378a-3629-491f-a6a2-51667302055e\">\n",
              "    <div class=\"colab-df-container\">\n",
              "      <div>\n",
              "<style scoped>\n",
              "    .dataframe tbody tr th:only-of-type {\n",
              "        vertical-align: middle;\n",
              "    }\n",
              "\n",
              "    .dataframe tbody tr th {\n",
              "        vertical-align: top;\n",
              "    }\n",
              "\n",
              "    .dataframe thead th {\n",
              "        text-align: right;\n",
              "    }\n",
              "</style>\n",
              "<table border=\"1\" class=\"dataframe\">\n",
              "  <thead>\n",
              "    <tr style=\"text-align: right;\">\n",
              "      <th></th>\n",
              "      <th>user_id</th>\n",
              "      <th>id_order</th>\n",
              "      <th>total_time_assembly_and_delivery</th>\n",
              "      <th>state</th>\n",
              "      <th>city</th>\n",
              "      <th>retailer_id</th>\n",
              "      <th>store_id_x</th>\n",
              "      <th>lat</th>\n",
              "      <th>lon</th>\n",
              "      <th>item_total</th>\n",
              "      <th>promo_total</th>\n",
              "      <th>cost</th>\n",
              "      <th>total_cost</th>\n",
              "      <th>total_quantity</th>\n",
              "      <th>total_weight</th>\n",
              "    </tr>\n",
              "  </thead>\n",
              "  <tbody>\n",
              "    <tr>\n",
              "      <th>382690</th>\n",
              "      <td>4225</td>\n",
              "      <td>756916</td>\n",
              "      <td>0 days 09:52:46</td>\n",
              "      <td>shipped</td>\n",
              "      <td>1</td>\n",
              "      <td>1</td>\n",
              "      <td>21</td>\n",
              "      <td>55.766353</td>\n",
              "      <td>37.557816</td>\n",
              "      <td>4130</td>\n",
              "      <td>0.0</td>\n",
              "      <td>249.0</td>\n",
              "      <td>249.0</td>\n",
              "      <td>48</td>\n",
              "      <td>26104</td>\n",
              "    </tr>\n",
              "    <tr>\n",
              "      <th>240834</th>\n",
              "      <td>113740</td>\n",
              "      <td>756958</td>\n",
              "      <td>0 days 04:21:48</td>\n",
              "      <td>shipped</td>\n",
              "      <td>1</td>\n",
              "      <td>1</td>\n",
              "      <td>11</td>\n",
              "      <td>55.788854</td>\n",
              "      <td>37.463587</td>\n",
              "      <td>3512</td>\n",
              "      <td>0.0</td>\n",
              "      <td>299.0</td>\n",
              "      <td>299.0</td>\n",
              "      <td>11</td>\n",
              "      <td>9176</td>\n",
              "    </tr>\n",
              "    <tr>\n",
              "      <th>500473</th>\n",
              "      <td>96268</td>\n",
              "      <td>757015</td>\n",
              "      <td>0 days 03:06:09</td>\n",
              "      <td>shipped</td>\n",
              "      <td>2</td>\n",
              "      <td>1</td>\n",
              "      <td>63</td>\n",
              "      <td>55.762961</td>\n",
              "      <td>49.202657</td>\n",
              "      <td>2707</td>\n",
              "      <td>0.0</td>\n",
              "      <td>149.0</td>\n",
              "      <td>149.0</td>\n",
              "      <td>107</td>\n",
              "      <td>37370</td>\n",
              "    </tr>\n",
              "    <tr>\n",
              "      <th>382697</th>\n",
              "      <td>91917</td>\n",
              "      <td>757024</td>\n",
              "      <td>0 days 05:00:16</td>\n",
              "      <td>shipped</td>\n",
              "      <td>1</td>\n",
              "      <td>1</td>\n",
              "      <td>21</td>\n",
              "      <td>55.772973</td>\n",
              "      <td>37.611133</td>\n",
              "      <td>2487</td>\n",
              "      <td>0.0</td>\n",
              "      <td>299.0</td>\n",
              "      <td>299.0</td>\n",
              "      <td>49</td>\n",
              "      <td>8440</td>\n",
              "    </tr>\n",
              "    <tr>\n",
              "      <th>482580</th>\n",
              "      <td>96268</td>\n",
              "      <td>757033</td>\n",
              "      <td>0 days 03:56:35</td>\n",
              "      <td>shipped</td>\n",
              "      <td>2</td>\n",
              "      <td>1</td>\n",
              "      <td>62</td>\n",
              "      <td>55.788366</td>\n",
              "      <td>49.103743</td>\n",
              "      <td>4077</td>\n",
              "      <td>0.0</td>\n",
              "      <td>149.0</td>\n",
              "      <td>149.0</td>\n",
              "      <td>62</td>\n",
              "      <td>34940</td>\n",
              "    </tr>\n",
              "  </tbody>\n",
              "</table>\n",
              "</div>\n",
              "      <button class=\"colab-df-convert\" onclick=\"convertToInteractive('df-0870378a-3629-491f-a6a2-51667302055e')\"\n",
              "              title=\"Convert this dataframe to an interactive table.\"\n",
              "              style=\"display:none;\">\n",
              "        \n",
              "  <svg xmlns=\"http://www.w3.org/2000/svg\" height=\"24px\"viewBox=\"0 0 24 24\"\n",
              "       width=\"24px\">\n",
              "    <path d=\"M0 0h24v24H0V0z\" fill=\"none\"/>\n",
              "    <path d=\"M18.56 5.44l.94 2.06.94-2.06 2.06-.94-2.06-.94-.94-2.06-.94 2.06-2.06.94zm-11 1L8.5 8.5l.94-2.06 2.06-.94-2.06-.94L8.5 2.5l-.94 2.06-2.06.94zm10 10l.94 2.06.94-2.06 2.06-.94-2.06-.94-.94-2.06-.94 2.06-2.06.94z\"/><path d=\"M17.41 7.96l-1.37-1.37c-.4-.4-.92-.59-1.43-.59-.52 0-1.04.2-1.43.59L10.3 9.45l-7.72 7.72c-.78.78-.78 2.05 0 2.83L4 21.41c.39.39.9.59 1.41.59.51 0 1.02-.2 1.41-.59l7.78-7.78 2.81-2.81c.8-.78.8-2.07 0-2.86zM5.41 20L4 18.59l7.72-7.72 1.47 1.35L5.41 20z\"/>\n",
              "  </svg>\n",
              "      </button>\n",
              "      \n",
              "  <style>\n",
              "    .colab-df-container {\n",
              "      display:flex;\n",
              "      flex-wrap:wrap;\n",
              "      gap: 12px;\n",
              "    }\n",
              "\n",
              "    .colab-df-convert {\n",
              "      background-color: #E8F0FE;\n",
              "      border: none;\n",
              "      border-radius: 50%;\n",
              "      cursor: pointer;\n",
              "      display: none;\n",
              "      fill: #1967D2;\n",
              "      height: 32px;\n",
              "      padding: 0 0 0 0;\n",
              "      width: 32px;\n",
              "    }\n",
              "\n",
              "    .colab-df-convert:hover {\n",
              "      background-color: #E2EBFA;\n",
              "      box-shadow: 0px 1px 2px rgba(60, 64, 67, 0.3), 0px 1px 3px 1px rgba(60, 64, 67, 0.15);\n",
              "      fill: #174EA6;\n",
              "    }\n",
              "\n",
              "    [theme=dark] .colab-df-convert {\n",
              "      background-color: #3B4455;\n",
              "      fill: #D2E3FC;\n",
              "    }\n",
              "\n",
              "    [theme=dark] .colab-df-convert:hover {\n",
              "      background-color: #434B5C;\n",
              "      box-shadow: 0px 1px 3px 1px rgba(0, 0, 0, 0.15);\n",
              "      filter: drop-shadow(0px 1px 2px rgba(0, 0, 0, 0.3));\n",
              "      fill: #FFFFFF;\n",
              "    }\n",
              "  </style>\n",
              "\n",
              "      <script>\n",
              "        const buttonEl =\n",
              "          document.querySelector('#df-0870378a-3629-491f-a6a2-51667302055e button.colab-df-convert');\n",
              "        buttonEl.style.display =\n",
              "          google.colab.kernel.accessAllowed ? 'block' : 'none';\n",
              "\n",
              "        async function convertToInteractive(key) {\n",
              "          const element = document.querySelector('#df-0870378a-3629-491f-a6a2-51667302055e');\n",
              "          const dataTable =\n",
              "            await google.colab.kernel.invokeFunction('convertToInteractive',\n",
              "                                                     [key], {});\n",
              "          if (!dataTable) return;\n",
              "\n",
              "          const docLinkHtml = 'Like what you see? Visit the ' +\n",
              "            '<a target=\"_blank\" href=https://colab.research.google.com/notebooks/data_table.ipynb>data table notebook</a>'\n",
              "            + ' to learn more about interactive tables.';\n",
              "          element.innerHTML = '';\n",
              "          dataTable['output_type'] = 'display_data';\n",
              "          await google.colab.output.renderOutput(dataTable, element);\n",
              "          const docLink = document.createElement('div');\n",
              "          docLink.innerHTML = docLinkHtml;\n",
              "          element.appendChild(docLink);\n",
              "        }\n",
              "      </script>\n",
              "    </div>\n",
              "  </div>\n",
              "  "
            ],
            "text/plain": [
              "        user_id  id_order  ... total_quantity total_weight\n",
              "382690     4225    756916  ...             48        26104\n",
              "240834   113740    756958  ...             11         9176\n",
              "500473    96268    757015  ...            107        37370\n",
              "382697    91917    757024  ...             49         8440\n",
              "482580    96268    757033  ...             62        34940\n",
              "\n",
              "[5 rows x 15 columns]"
            ]
          },
          "metadata": {},
          "execution_count": 18
        }
      ]
    },
    {
      "cell_type": "code",
      "source": [
        "#смотрим типы данных ndf6_orders\n",
        "ndf6_orders.dtypes"
      ],
      "metadata": {
        "colab": {
          "base_uri": "https://localhost:8080/"
        },
        "id": "rfTjvmD7mXWA",
        "outputId": "0456ff37-953c-4f51-afdc-a972d1a2f1ec"
      },
      "execution_count": null,
      "outputs": [
        {
          "output_type": "execute_result",
          "data": {
            "text/plain": [
              "user_id                                       int64\n",
              "id_order                                      int64\n",
              "total_time_assembly_and_delivery    timedelta64[ns]\n",
              "state                                        object\n",
              "city                                          int64\n",
              "retailer_id                                   int64\n",
              "store_id_x                                    int64\n",
              "lat                                         float64\n",
              "lon                                         float64\n",
              "item_total                                    int64\n",
              "promo_total                                 float64\n",
              "cost                                        float64\n",
              "total_cost                                  float64\n",
              "total_quantity                                int64\n",
              "total_weight                                  int64\n",
              "dtype: object"
            ]
          },
          "metadata": {},
          "execution_count": 19
        }
      ]
    },
    {
      "cell_type": "code",
      "source": [
        "#переводим в секунды общее затраченное время от момента создания заказа до момента закрытия слота доставки\n",
        "ndf6_orders['total_time_assembly_and_delivery'] = ndf6_orders.total_time_assembly_and_delivery.dt.total_seconds()"
      ],
      "metadata": {
        "colab": {
          "base_uri": "https://localhost:8080/"
        },
        "id": "biHTo5mEdgsZ",
        "outputId": "ebf5689b-911e-4b78-ec64-0e5842b5240a"
      },
      "execution_count": null,
      "outputs": [
        {
          "output_type": "stream",
          "name": "stderr",
          "text": [
            "/usr/local/lib/python3.7/dist-packages/ipykernel_launcher.py:2: SettingWithCopyWarning: \n",
            "A value is trying to be set on a copy of a slice from a DataFrame.\n",
            "Try using .loc[row_indexer,col_indexer] = value instead\n",
            "\n",
            "See the caveats in the documentation: https://pandas.pydata.org/pandas-docs/stable/user_guide/indexing.html#returning-a-view-versus-a-copy\n",
            "  \n"
          ]
        }
      ]
    },
    {
      "cell_type": "code",
      "source": [
        "#смотрим тип total_time_assembly_and_delivery\n",
        "ndf6_orders.total_time_assembly_and_delivery.dtype"
      ],
      "metadata": {
        "colab": {
          "base_uri": "https://localhost:8080/"
        },
        "id": "F3wl2Lbnm0VU",
        "outputId": "f5585011-d256-43d3-bd22-af6609291a2d"
      },
      "execution_count": null,
      "outputs": [
        {
          "output_type": "execute_result",
          "data": {
            "text/plain": [
              "dtype('float64')"
            ]
          },
          "metadata": {},
          "execution_count": 21
        }
      ]
    },
    {
      "cell_type": "code",
      "source": [
        "#посмотрим количество городов\n",
        "ndf6_orders.city.unique()\t"
      ],
      "metadata": {
        "colab": {
          "base_uri": "https://localhost:8080/"
        },
        "id": "bcKLIIp5p4s_",
        "outputId": "56dfbfc0-6bcf-4a46-d914-b06bd4404f9d"
      },
      "execution_count": null,
      "outputs": [
        {
          "output_type": "execute_result",
          "data": {
            "text/plain": [
              "array([ 1,  2,  5,  7,  8, 10, 13])"
            ]
          },
          "metadata": {},
          "execution_count": 22
        }
      ]
    },
    {
      "cell_type": "code",
      "source": [
        "#посмотрим количество ритейлеров\n",
        "ndf6_orders.retailer_id.unique()"
      ],
      "metadata": {
        "colab": {
          "base_uri": "https://localhost:8080/"
        },
        "id": "nQwVjZbGp_hR",
        "outputId": "f28a35f1-a934-4a84-a01d-b03defcaccd0"
      },
      "execution_count": null,
      "outputs": [
        {
          "output_type": "execute_result",
          "data": {
            "text/plain": [
              "array([ 1, 15,  8, 16])"
            ]
          },
          "metadata": {},
          "execution_count": 23
        }
      ]
    },
    {
      "cell_type": "code",
      "source": [
        "#отобразим распределение \"сумма всех товаров в корзине - общее время сборки и доставки\" с разбивкой графиков по ритейлерам и разбивкой данных по городам\n",
        "fg0 = sns.relplot(data = ndf6_orders, x = 'total_time_assembly_and_delivery', y = 'item_total', kind = 'scatter', col = 'retailer_id', hue = 'city')  \n",
        "# fg0.figure.set_figwidth(80)\n",
        "# fg0.figure.set_figheight(20)"
      ],
      "metadata": {
        "colab": {
          "base_uri": "https://localhost:8080/",
          "height": 370
        },
        "id": "Gc9914KCtu7B",
        "outputId": "79d245e5-327e-4c48-9421-8ab1f5c361ad"
      },
      "execution_count": null,
      "outputs": [
        {
          "output_type": "display_data",
          "data": {
            "image/png": "[encoded data removed]",
            "text/plain": [
              "<Figure size 1488.75x360 with 4 Axes>"
            ]
          },
          "metadata": {
            "needs_background": "light"
          }
        }
      ]
    },
    {
      "cell_type": "code",
      "source": [
        "#отобразим распределение \"сумма всех товаров в корзине - количество единиц товара в заказе\" с разбивкой графиков по ритейлерам и разбивкой данных по городам\n",
        "fg1 = sns.relplot(data = ndf6_orders, x = 'total_quantity', y = 'item_total', kind = 'scatter', col = 'retailer_id', hue = 'city')  "
      ],
      "metadata": {
        "colab": {
          "base_uri": "https://localhost:8080/",
          "height": 370
        },
        "id": "ONzMzO4ctPrr",
        "outputId": "2c87b7c4-0f89-41ce-8f2e-e99f5981834c"
      },
      "execution_count": null,
      "outputs": [
        {
          "output_type": "display_data",
          "data": {
            "image/png": "[encoded data removed]",
            "text/plain": [
              "<Figure size 1488.75x360 with 4 Axes>"
            ]
          },
          "metadata": {
            "needs_background": "light"
          }
        }
      ]
    },
    {
      "cell_type": "code",
      "source": [
        "#отобразим распределение \"количество единиц товара в заказе - общий вес заказа\" с разбивкой графиков по ритейлерам и разбивкой данных по общей стоимости заказа\n",
        "fg2 = sns.relplot(data = ndf6_orders, x = 'total_quantity', y = 'total_weight', kind = 'scatter', col = 'retailer_id', hue = 'item_total')  "
      ],
      "metadata": {
        "colab": {
          "base_uri": "https://localhost:8080/",
          "height": 370
        },
        "id": "ABUh6zpDQOlu",
        "outputId": "55f088e5-461f-48d8-b1a8-ca24934a2bd1"
      },
      "execution_count": null,
      "outputs": [
        {
          "output_type": "display_data",
          "data": {
            "image/png": "[encoded data removed]",
            "text/plain": [
              "<Figure size 1513.62x360 with 4 Axes>"
            ]
          },
          "metadata": {
            "needs_background": "light"
          }
        }
      ]
    },
    {
      "cell_type": "code",
      "source": [
        "#отобразим распределение \"количество единиц товара в заказе - общий вес заказа\" с разбивкой графиков по ритейлерам и разбивкой данных по общему времени сборки и доставки заказов\n",
        "fg3 = sns.relplot(data = ndf6_orders, x = 'total_quantity', y = 'total_weight', kind = 'scatter', col = 'retailer_id', hue = 'total_time_assembly_and_delivery')\n",
        "# fg3.figure.set_figwidth(80)\n",
        "# fg3.figure.set_figheight(20)"
      ],
      "metadata": {
        "colab": {
          "base_uri": "https://localhost:8080/",
          "height": 370
        },
        "id": "eU1gL5NLRrxX",
        "outputId": "e3a4958b-b2b1-4309-fb4a-186258f9e89e"
      },
      "execution_count": null,
      "outputs": [
        {
          "output_type": "display_data",
          "data": {
            "image/png": "[encoded data removed]",
            "text/plain": [
              "<Figure size 1619.75x360 with 4 Axes>"
            ]
          },
          "metadata": {
            "needs_background": "light"
          }
        }
      ]
    },
    {
      "cell_type": "code",
      "source": [
        "#добавляем к нашей выборке таблицу замененных товаров\n",
        "df_replacements.rename(columns={'item_id': 'id_item_replace', 'order_id': 'id_order_replace', 'state': 'state_replace'}, inplace=True)\n",
        "ndf7_orders = ndf6_orders.merge(df_replacements, how = 'left', left_on = 'id_order', right_on = 'id_order_replace')"
      ],
      "metadata": {
        "id": "MLqEe8qlalB1"
      },
      "execution_count": null,
      "outputs": []
    },
    {
      "cell_type": "code",
      "source": [
        "#добавляем к нашей выборке таблицу отмененных товаров\n",
        "df_cancellations.rename(columns={'item_id': 'id_item_cancel', 'order_id': 'id_order_cancel', 'state': 'state_cancel'}, inplace=True)\n",
        "ndf8_orders = ndf7_orders.merge(df_cancellations, how = 'left', left_on = 'id_order', right_on = 'id_order_cancel')"
      ],
      "metadata": {
        "id": "KF2crRgEdn59"
      },
      "execution_count": null,
      "outputs": []
    },
    {
      "cell_type": "code",
      "source": [
        "ndf8_orders.head(10)"
      ],
      "metadata": {
        "colab": {
          "base_uri": "https://localhost:8080/",
          "height": 427
        },
        "id": "-38g3cMab6fR",
        "outputId": "92680fb0-fc30-4212-83eb-11bfbfdf765d"
      },
      "execution_count": null,
      "outputs": [
        {
          "output_type": "execute_result",
          "data": {
            "text/html": [
              "\n",
              "  <div id=\"df-d699128b-4b20-4d77-af83-42ac8d5040b3\">\n",
              "    <div class=\"colab-df-container\">\n",
              "      <div>\n",
              "<style scoped>\n",
              "    .dataframe tbody tr th:only-of-type {\n",
              "        vertical-align: middle;\n",
              "    }\n",
              "\n",
              "    .dataframe tbody tr th {\n",
              "        vertical-align: top;\n",
              "    }\n",
              "\n",
              "    .dataframe thead th {\n",
              "        text-align: right;\n",
              "    }\n",
              "</style>\n",
              "<table border=\"1\" class=\"dataframe\">\n",
              "  <thead>\n",
              "    <tr style=\"text-align: right;\">\n",
              "      <th></th>\n",
              "      <th>user_id</th>\n",
              "      <th>id_order</th>\n",
              "      <th>total_time_assembly_and_delivery</th>\n",
              "      <th>state</th>\n",
              "      <th>city</th>\n",
              "      <th>retailer_id</th>\n",
              "      <th>store_id_x</th>\n",
              "      <th>lat</th>\n",
              "      <th>lon</th>\n",
              "      <th>item_total</th>\n",
              "      <th>promo_total</th>\n",
              "      <th>cost</th>\n",
              "      <th>total_cost</th>\n",
              "      <th>total_quantity</th>\n",
              "      <th>total_weight</th>\n",
              "      <th>id_order_replace</th>\n",
              "      <th>id_item_replace</th>\n",
              "      <th>state_replace</th>\n",
              "      <th>id_order_cancel</th>\n",
              "      <th>id_item_cancel</th>\n",
              "      <th>state_cancel</th>\n",
              "    </tr>\n",
              "  </thead>\n",
              "  <tbody>\n",
              "    <tr>\n",
              "      <th>0</th>\n",
              "      <td>4225</td>\n",
              "      <td>756916</td>\n",
              "      <td>35566.0</td>\n",
              "      <td>shipped</td>\n",
              "      <td>1</td>\n",
              "      <td>1</td>\n",
              "      <td>21</td>\n",
              "      <td>55.766353</td>\n",
              "      <td>37.557816</td>\n",
              "      <td>4130</td>\n",
              "      <td>0.0</td>\n",
              "      <td>249.0</td>\n",
              "      <td>249.0</td>\n",
              "      <td>48</td>\n",
              "      <td>26104</td>\n",
              "      <td>756916.0</td>\n",
              "      <td>9447232.0</td>\n",
              "      <td>replaced</td>\n",
              "      <td>756916.0</td>\n",
              "      <td>9448086.0</td>\n",
              "      <td>canceled</td>\n",
              "    </tr>\n",
              "    <tr>\n",
              "      <th>1</th>\n",
              "      <td>4225</td>\n",
              "      <td>756916</td>\n",
              "      <td>35566.0</td>\n",
              "      <td>shipped</td>\n",
              "      <td>1</td>\n",
              "      <td>1</td>\n",
              "      <td>21</td>\n",
              "      <td>55.766353</td>\n",
              "      <td>37.557816</td>\n",
              "      <td>4130</td>\n",
              "      <td>0.0</td>\n",
              "      <td>249.0</td>\n",
              "      <td>249.0</td>\n",
              "      <td>48</td>\n",
              "      <td>26104</td>\n",
              "      <td>756916.0</td>\n",
              "      <td>9447232.0</td>\n",
              "      <td>replaced</td>\n",
              "      <td>756916.0</td>\n",
              "      <td>9448305.0</td>\n",
              "      <td>canceled</td>\n",
              "    </tr>\n",
              "    <tr>\n",
              "      <th>2</th>\n",
              "      <td>4225</td>\n",
              "      <td>756916</td>\n",
              "      <td>35566.0</td>\n",
              "      <td>shipped</td>\n",
              "      <td>1</td>\n",
              "      <td>1</td>\n",
              "      <td>21</td>\n",
              "      <td>55.766353</td>\n",
              "      <td>37.557816</td>\n",
              "      <td>4130</td>\n",
              "      <td>0.0</td>\n",
              "      <td>249.0</td>\n",
              "      <td>249.0</td>\n",
              "      <td>48</td>\n",
              "      <td>26104</td>\n",
              "      <td>756916.0</td>\n",
              "      <td>9447239.0</td>\n",
              "      <td>replaced</td>\n",
              "      <td>756916.0</td>\n",
              "      <td>9448086.0</td>\n",
              "      <td>canceled</td>\n",
              "    </tr>\n",
              "    <tr>\n",
              "      <th>3</th>\n",
              "      <td>4225</td>\n",
              "      <td>756916</td>\n",
              "      <td>35566.0</td>\n",
              "      <td>shipped</td>\n",
              "      <td>1</td>\n",
              "      <td>1</td>\n",
              "      <td>21</td>\n",
              "      <td>55.766353</td>\n",
              "      <td>37.557816</td>\n",
              "      <td>4130</td>\n",
              "      <td>0.0</td>\n",
              "      <td>249.0</td>\n",
              "      <td>249.0</td>\n",
              "      <td>48</td>\n",
              "      <td>26104</td>\n",
              "      <td>756916.0</td>\n",
              "      <td>9447239.0</td>\n",
              "      <td>replaced</td>\n",
              "      <td>756916.0</td>\n",
              "      <td>9448305.0</td>\n",
              "      <td>canceled</td>\n",
              "    </tr>\n",
              "    <tr>\n",
              "      <th>4</th>\n",
              "      <td>4225</td>\n",
              "      <td>756916</td>\n",
              "      <td>35566.0</td>\n",
              "      <td>shipped</td>\n",
              "      <td>1</td>\n",
              "      <td>1</td>\n",
              "      <td>21</td>\n",
              "      <td>55.766353</td>\n",
              "      <td>37.557816</td>\n",
              "      <td>4130</td>\n",
              "      <td>0.0</td>\n",
              "      <td>249.0</td>\n",
              "      <td>249.0</td>\n",
              "      <td>48</td>\n",
              "      <td>26104</td>\n",
              "      <td>756916.0</td>\n",
              "      <td>9447194.0</td>\n",
              "      <td>replaced</td>\n",
              "      <td>756916.0</td>\n",
              "      <td>9448086.0</td>\n",
              "      <td>canceled</td>\n",
              "    </tr>\n",
              "    <tr>\n",
              "      <th>5</th>\n",
              "      <td>4225</td>\n",
              "      <td>756916</td>\n",
              "      <td>35566.0</td>\n",
              "      <td>shipped</td>\n",
              "      <td>1</td>\n",
              "      <td>1</td>\n",
              "      <td>21</td>\n",
              "      <td>55.766353</td>\n",
              "      <td>37.557816</td>\n",
              "      <td>4130</td>\n",
              "      <td>0.0</td>\n",
              "      <td>249.0</td>\n",
              "      <td>249.0</td>\n",
              "      <td>48</td>\n",
              "      <td>26104</td>\n",
              "      <td>756916.0</td>\n",
              "      <td>9447194.0</td>\n",
              "      <td>replaced</td>\n",
              "      <td>756916.0</td>\n",
              "      <td>9448305.0</td>\n",
              "      <td>canceled</td>\n",
              "    </tr>\n",
              "    <tr>\n",
              "      <th>6</th>\n",
              "      <td>4225</td>\n",
              "      <td>756916</td>\n",
              "      <td>35566.0</td>\n",
              "      <td>shipped</td>\n",
              "      <td>1</td>\n",
              "      <td>1</td>\n",
              "      <td>21</td>\n",
              "      <td>55.766353</td>\n",
              "      <td>37.557816</td>\n",
              "      <td>4130</td>\n",
              "      <td>0.0</td>\n",
              "      <td>249.0</td>\n",
              "      <td>249.0</td>\n",
              "      <td>48</td>\n",
              "      <td>26104</td>\n",
              "      <td>756916.0</td>\n",
              "      <td>9447188.0</td>\n",
              "      <td>replaced</td>\n",
              "      <td>756916.0</td>\n",
              "      <td>9448086.0</td>\n",
              "      <td>canceled</td>\n",
              "    </tr>\n",
              "    <tr>\n",
              "      <th>7</th>\n",
              "      <td>4225</td>\n",
              "      <td>756916</td>\n",
              "      <td>35566.0</td>\n",
              "      <td>shipped</td>\n",
              "      <td>1</td>\n",
              "      <td>1</td>\n",
              "      <td>21</td>\n",
              "      <td>55.766353</td>\n",
              "      <td>37.557816</td>\n",
              "      <td>4130</td>\n",
              "      <td>0.0</td>\n",
              "      <td>249.0</td>\n",
              "      <td>249.0</td>\n",
              "      <td>48</td>\n",
              "      <td>26104</td>\n",
              "      <td>756916.0</td>\n",
              "      <td>9447188.0</td>\n",
              "      <td>replaced</td>\n",
              "      <td>756916.0</td>\n",
              "      <td>9448305.0</td>\n",
              "      <td>canceled</td>\n",
              "    </tr>\n",
              "    <tr>\n",
              "      <th>8</th>\n",
              "      <td>4225</td>\n",
              "      <td>756916</td>\n",
              "      <td>35566.0</td>\n",
              "      <td>shipped</td>\n",
              "      <td>1</td>\n",
              "      <td>1</td>\n",
              "      <td>21</td>\n",
              "      <td>55.766353</td>\n",
              "      <td>37.557816</td>\n",
              "      <td>4130</td>\n",
              "      <td>0.0</td>\n",
              "      <td>249.0</td>\n",
              "      <td>249.0</td>\n",
              "      <td>48</td>\n",
              "      <td>26104</td>\n",
              "      <td>756916.0</td>\n",
              "      <td>9448124.0</td>\n",
              "      <td>replaced</td>\n",
              "      <td>756916.0</td>\n",
              "      <td>9448086.0</td>\n",
              "      <td>canceled</td>\n",
              "    </tr>\n",
              "    <tr>\n",
              "      <th>9</th>\n",
              "      <td>4225</td>\n",
              "      <td>756916</td>\n",
              "      <td>35566.0</td>\n",
              "      <td>shipped</td>\n",
              "      <td>1</td>\n",
              "      <td>1</td>\n",
              "      <td>21</td>\n",
              "      <td>55.766353</td>\n",
              "      <td>37.557816</td>\n",
              "      <td>4130</td>\n",
              "      <td>0.0</td>\n",
              "      <td>249.0</td>\n",
              "      <td>249.0</td>\n",
              "      <td>48</td>\n",
              "      <td>26104</td>\n",
              "      <td>756916.0</td>\n",
              "      <td>9448124.0</td>\n",
              "      <td>replaced</td>\n",
              "      <td>756916.0</td>\n",
              "      <td>9448305.0</td>\n",
              "      <td>canceled</td>\n",
              "    </tr>\n",
              "  </tbody>\n",
              "</table>\n",
              "</div>\n",
              "      <button class=\"colab-df-convert\" onclick=\"convertToInteractive('df-d699128b-4b20-4d77-af83-42ac8d5040b3')\"\n",
              "              title=\"Convert this dataframe to an interactive table.\"\n",
              "              style=\"display:none;\">\n",
              "        \n",
              "  <svg xmlns=\"http://www.w3.org/2000/svg\" height=\"24px\"viewBox=\"0 0 24 24\"\n",
              "       width=\"24px\">\n",
              "    <path d=\"M0 0h24v24H0V0z\" fill=\"none\"/>\n",
              "    <path d=\"M18.56 5.44l.94 2.06.94-2.06 2.06-.94-2.06-.94-.94-2.06-.94 2.06-2.06.94zm-11 1L8.5 8.5l.94-2.06 2.06-.94-2.06-.94L8.5 2.5l-.94 2.06-2.06.94zm10 10l.94 2.06.94-2.06 2.06-.94-2.06-.94-.94-2.06-.94 2.06-2.06.94z\"/><path d=\"M17.41 7.96l-1.37-1.37c-.4-.4-.92-.59-1.43-.59-.52 0-1.04.2-1.43.59L10.3 9.45l-7.72 7.72c-.78.78-.78 2.05 0 2.83L4 21.41c.39.39.9.59 1.41.59.51 0 1.02-.2 1.41-.59l7.78-7.78 2.81-2.81c.8-.78.8-2.07 0-2.86zM5.41 20L4 18.59l7.72-7.72 1.47 1.35L5.41 20z\"/>\n",
              "  </svg>\n",
              "      </button>\n",
              "      \n",
              "  <style>\n",
              "    .colab-df-container {\n",
              "      display:flex;\n",
              "      flex-wrap:wrap;\n",
              "      gap: 12px;\n",
              "    }\n",
              "\n",
              "    .colab-df-convert {\n",
              "      background-color: #E8F0FE;\n",
              "      border: none;\n",
              "      border-radius: 50%;\n",
              "      cursor: pointer;\n",
              "      display: none;\n",
              "      fill: #1967D2;\n",
              "      height: 32px;\n",
              "      padding: 0 0 0 0;\n",
              "      width: 32px;\n",
              "    }\n",
              "\n",
              "    .colab-df-convert:hover {\n",
              "      background-color: #E2EBFA;\n",
              "      box-shadow: 0px 1px 2px rgba(60, 64, 67, 0.3), 0px 1px 3px 1px rgba(60, 64, 67, 0.15);\n",
              "      fill: #174EA6;\n",
              "    }\n",
              "\n",
              "    [theme=dark] .colab-df-convert {\n",
              "      background-color: #3B4455;\n",
              "      fill: #D2E3FC;\n",
              "    }\n",
              "\n",
              "    [theme=dark] .colab-df-convert:hover {\n",
              "      background-color: #434B5C;\n",
              "      box-shadow: 0px 1px 3px 1px rgba(0, 0, 0, 0.15);\n",
              "      filter: drop-shadow(0px 1px 2px rgba(0, 0, 0, 0.3));\n",
              "      fill: #FFFFFF;\n",
              "    }\n",
              "  </style>\n",
              "\n",
              "      <script>\n",
              "        const buttonEl =\n",
              "          document.querySelector('#df-d699128b-4b20-4d77-af83-42ac8d5040b3 button.colab-df-convert');\n",
              "        buttonEl.style.display =\n",
              "          google.colab.kernel.accessAllowed ? 'block' : 'none';\n",
              "\n",
              "        async function convertToInteractive(key) {\n",
              "          const element = document.querySelector('#df-d699128b-4b20-4d77-af83-42ac8d5040b3');\n",
              "          const dataTable =\n",
              "            await google.colab.kernel.invokeFunction('convertToInteractive',\n",
              "                                                     [key], {});\n",
              "          if (!dataTable) return;\n",
              "\n",
              "          const docLinkHtml = 'Like what you see? Visit the ' +\n",
              "            '<a target=\"_blank\" href=https://colab.research.google.com/notebooks/data_table.ipynb>data table notebook</a>'\n",
              "            + ' to learn more about interactive tables.';\n",
              "          element.innerHTML = '';\n",
              "          dataTable['output_type'] = 'display_data';\n",
              "          await google.colab.output.renderOutput(dataTable, element);\n",
              "          const docLink = document.createElement('div');\n",
              "          docLink.innerHTML = docLinkHtml;\n",
              "          element.appendChild(docLink);\n",
              "        }\n",
              "      </script>\n",
              "    </div>\n",
              "  </div>\n",
              "  "
            ],
            "text/plain": [
              "   user_id  id_order  ...  id_item_cancel state_cancel\n",
              "0     4225    756916  ...       9448086.0     canceled\n",
              "1     4225    756916  ...       9448305.0     canceled\n",
              "2     4225    756916  ...       9448086.0     canceled\n",
              "3     4225    756916  ...       9448305.0     canceled\n",
              "4     4225    756916  ...       9448086.0     canceled\n",
              "5     4225    756916  ...       9448305.0     canceled\n",
              "6     4225    756916  ...       9448086.0     canceled\n",
              "7     4225    756916  ...       9448305.0     canceled\n",
              "8     4225    756916  ...       9448086.0     canceled\n",
              "9     4225    756916  ...       9448305.0     canceled\n",
              "\n",
              "[10 rows x 21 columns]"
            ]
          },
          "metadata": {},
          "execution_count": 30
        }
      ]
    },
    {
      "cell_type": "code",
      "source": [
        "ndf9_orders = ndf8_orders[['user_id', 'id_order','total_time_assembly_and_delivery', 'state', 'city',\t'retailer_id', 'store_id_x', 'lat', 'lon', 'item_total', 'promo_total', 'cost', 'total_cost', 'total_quantity', 'total_weight', 'id_item_replace',\t'state_replace', 'id_item_cancel',\t'state_cancel' ]]\n",
        "ndf9_orders"
      ],
      "metadata": {
        "colab": {
          "base_uri": "https://localhost:8080/",
          "height": 488
        },
        "id": "YEFODl8s6zL_",
        "outputId": "4e3892c3-71b8-464f-f62c-7c482e98f672"
      },
      "execution_count": null,
      "outputs": [
        {
          "output_type": "execute_result",
          "data": {
            "text/html": [
              "\n",
              "  <div id=\"df-86d87d70-0ff3-4d0b-9e2b-66c280385396\">\n",
              "    <div class=\"colab-df-container\">\n",
              "      <div>\n",
              "<style scoped>\n",
              "    .dataframe tbody tr th:only-of-type {\n",
              "        vertical-align: middle;\n",
              "    }\n",
              "\n",
              "    .dataframe tbody tr th {\n",
              "        vertical-align: top;\n",
              "    }\n",
              "\n",
              "    .dataframe thead th {\n",
              "        text-align: right;\n",
              "    }\n",
              "</style>\n",
              "<table border=\"1\" class=\"dataframe\">\n",
              "  <thead>\n",
              "    <tr style=\"text-align: right;\">\n",
              "      <th></th>\n",
              "      <th>user_id</th>\n",
              "      <th>id_order</th>\n",
              "      <th>total_time_assembly_and_delivery</th>\n",
              "      <th>state</th>\n",
              "      <th>city</th>\n",
              "      <th>retailer_id</th>\n",
              "      <th>store_id_x</th>\n",
              "      <th>lat</th>\n",
              "      <th>lon</th>\n",
              "      <th>item_total</th>\n",
              "      <th>promo_total</th>\n",
              "      <th>cost</th>\n",
              "      <th>total_cost</th>\n",
              "      <th>total_quantity</th>\n",
              "      <th>total_weight</th>\n",
              "      <th>id_item_replace</th>\n",
              "      <th>state_replace</th>\n",
              "      <th>id_item_cancel</th>\n",
              "      <th>state_cancel</th>\n",
              "    </tr>\n",
              "  </thead>\n",
              "  <tbody>\n",
              "    <tr>\n",
              "      <th>0</th>\n",
              "      <td>4225</td>\n",
              "      <td>756916</td>\n",
              "      <td>35566.0</td>\n",
              "      <td>shipped</td>\n",
              "      <td>1</td>\n",
              "      <td>1</td>\n",
              "      <td>21</td>\n",
              "      <td>55.766353</td>\n",
              "      <td>37.557816</td>\n",
              "      <td>4130</td>\n",
              "      <td>0.0</td>\n",
              "      <td>249.0</td>\n",
              "      <td>249.0</td>\n",
              "      <td>48</td>\n",
              "      <td>26104</td>\n",
              "      <td>9447232.0</td>\n",
              "      <td>replaced</td>\n",
              "      <td>9448086.0</td>\n",
              "      <td>canceled</td>\n",
              "    </tr>\n",
              "    <tr>\n",
              "      <th>1</th>\n",
              "      <td>4225</td>\n",
              "      <td>756916</td>\n",
              "      <td>35566.0</td>\n",
              "      <td>shipped</td>\n",
              "      <td>1</td>\n",
              "      <td>1</td>\n",
              "      <td>21</td>\n",
              "      <td>55.766353</td>\n",
              "      <td>37.557816</td>\n",
              "      <td>4130</td>\n",
              "      <td>0.0</td>\n",
              "      <td>249.0</td>\n",
              "      <td>249.0</td>\n",
              "      <td>48</td>\n",
              "      <td>26104</td>\n",
              "      <td>9447232.0</td>\n",
              "      <td>replaced</td>\n",
              "      <td>9448305.0</td>\n",
              "      <td>canceled</td>\n",
              "    </tr>\n",
              "    <tr>\n",
              "      <th>2</th>\n",
              "      <td>4225</td>\n",
              "      <td>756916</td>\n",
              "      <td>35566.0</td>\n",
              "      <td>shipped</td>\n",
              "      <td>1</td>\n",
              "      <td>1</td>\n",
              "      <td>21</td>\n",
              "      <td>55.766353</td>\n",
              "      <td>37.557816</td>\n",
              "      <td>4130</td>\n",
              "      <td>0.0</td>\n",
              "      <td>249.0</td>\n",
              "      <td>249.0</td>\n",
              "      <td>48</td>\n",
              "      <td>26104</td>\n",
              "      <td>9447239.0</td>\n",
              "      <td>replaced</td>\n",
              "      <td>9448086.0</td>\n",
              "      <td>canceled</td>\n",
              "    </tr>\n",
              "    <tr>\n",
              "      <th>3</th>\n",
              "      <td>4225</td>\n",
              "      <td>756916</td>\n",
              "      <td>35566.0</td>\n",
              "      <td>shipped</td>\n",
              "      <td>1</td>\n",
              "      <td>1</td>\n",
              "      <td>21</td>\n",
              "      <td>55.766353</td>\n",
              "      <td>37.557816</td>\n",
              "      <td>4130</td>\n",
              "      <td>0.0</td>\n",
              "      <td>249.0</td>\n",
              "      <td>249.0</td>\n",
              "      <td>48</td>\n",
              "      <td>26104</td>\n",
              "      <td>9447239.0</td>\n",
              "      <td>replaced</td>\n",
              "      <td>9448305.0</td>\n",
              "      <td>canceled</td>\n",
              "    </tr>\n",
              "    <tr>\n",
              "      <th>4</th>\n",
              "      <td>4225</td>\n",
              "      <td>756916</td>\n",
              "      <td>35566.0</td>\n",
              "      <td>shipped</td>\n",
              "      <td>1</td>\n",
              "      <td>1</td>\n",
              "      <td>21</td>\n",
              "      <td>55.766353</td>\n",
              "      <td>37.557816</td>\n",
              "      <td>4130</td>\n",
              "      <td>0.0</td>\n",
              "      <td>249.0</td>\n",
              "      <td>249.0</td>\n",
              "      <td>48</td>\n",
              "      <td>26104</td>\n",
              "      <td>9447194.0</td>\n",
              "      <td>replaced</td>\n",
              "      <td>9448086.0</td>\n",
              "      <td>canceled</td>\n",
              "    </tr>\n",
              "    <tr>\n",
              "      <th>...</th>\n",
              "      <td>...</td>\n",
              "      <td>...</td>\n",
              "      <td>...</td>\n",
              "      <td>...</td>\n",
              "      <td>...</td>\n",
              "      <td>...</td>\n",
              "      <td>...</td>\n",
              "      <td>...</td>\n",
              "      <td>...</td>\n",
              "      <td>...</td>\n",
              "      <td>...</td>\n",
              "      <td>...</td>\n",
              "      <td>...</td>\n",
              "      <td>...</td>\n",
              "      <td>...</td>\n",
              "      <td>...</td>\n",
              "      <td>...</td>\n",
              "      <td>...</td>\n",
              "      <td>...</td>\n",
              "    </tr>\n",
              "    <tr>\n",
              "      <th>3960261</th>\n",
              "      <td>46789</td>\n",
              "      <td>5251456</td>\n",
              "      <td>NaN</td>\n",
              "      <td>shipped</td>\n",
              "      <td>1</td>\n",
              "      <td>1</td>\n",
              "      <td>14</td>\n",
              "      <td>55.686341</td>\n",
              "      <td>37.569372</td>\n",
              "      <td>3697</td>\n",
              "      <td>0.0</td>\n",
              "      <td>249.0</td>\n",
              "      <td>158.0</td>\n",
              "      <td>17</td>\n",
              "      <td>11404</td>\n",
              "      <td>86253240.0</td>\n",
              "      <td>replaced</td>\n",
              "      <td>85776973.0</td>\n",
              "      <td>canceled</td>\n",
              "    </tr>\n",
              "    <tr>\n",
              "      <th>3960262</th>\n",
              "      <td>1829563</td>\n",
              "      <td>5408981</td>\n",
              "      <td>NaN</td>\n",
              "      <td>shipped</td>\n",
              "      <td>1</td>\n",
              "      <td>1</td>\n",
              "      <td>1</td>\n",
              "      <td>55.918005</td>\n",
              "      <td>37.710782</td>\n",
              "      <td>11463</td>\n",
              "      <td>0.0</td>\n",
              "      <td>149.0</td>\n",
              "      <td>98.0</td>\n",
              "      <td>20</td>\n",
              "      <td>12855</td>\n",
              "      <td>89426469.0</td>\n",
              "      <td>replaced</td>\n",
              "      <td>89048647.0</td>\n",
              "      <td>canceled</td>\n",
              "    </tr>\n",
              "    <tr>\n",
              "      <th>3960263</th>\n",
              "      <td>1829563</td>\n",
              "      <td>5408981</td>\n",
              "      <td>NaN</td>\n",
              "      <td>shipped</td>\n",
              "      <td>1</td>\n",
              "      <td>1</td>\n",
              "      <td>1</td>\n",
              "      <td>55.918005</td>\n",
              "      <td>37.710782</td>\n",
              "      <td>11463</td>\n",
              "      <td>0.0</td>\n",
              "      <td>149.0</td>\n",
              "      <td>98.0</td>\n",
              "      <td>20</td>\n",
              "      <td>12855</td>\n",
              "      <td>89048645.0</td>\n",
              "      <td>replaced</td>\n",
              "      <td>89048647.0</td>\n",
              "      <td>canceled</td>\n",
              "    </tr>\n",
              "    <tr>\n",
              "      <th>3960264</th>\n",
              "      <td>1829563</td>\n",
              "      <td>5408981</td>\n",
              "      <td>NaN</td>\n",
              "      <td>shipped</td>\n",
              "      <td>1</td>\n",
              "      <td>1</td>\n",
              "      <td>1</td>\n",
              "      <td>55.918005</td>\n",
              "      <td>37.710782</td>\n",
              "      <td>11463</td>\n",
              "      <td>0.0</td>\n",
              "      <td>149.0</td>\n",
              "      <td>98.0</td>\n",
              "      <td>20</td>\n",
              "      <td>12855</td>\n",
              "      <td>89426574.0</td>\n",
              "      <td>replaced</td>\n",
              "      <td>89048647.0</td>\n",
              "      <td>canceled</td>\n",
              "    </tr>\n",
              "    <tr>\n",
              "      <th>3960265</th>\n",
              "      <td>1835289</td>\n",
              "      <td>5433668</td>\n",
              "      <td>NaN</td>\n",
              "      <td>shipped</td>\n",
              "      <td>1</td>\n",
              "      <td>1</td>\n",
              "      <td>14</td>\n",
              "      <td>55.714121</td>\n",
              "      <td>37.395480</td>\n",
              "      <td>1441</td>\n",
              "      <td>0.0</td>\n",
              "      <td>299.0</td>\n",
              "      <td>299.0</td>\n",
              "      <td>13</td>\n",
              "      <td>7190</td>\n",
              "      <td>NaN</td>\n",
              "      <td>NaN</td>\n",
              "      <td>NaN</td>\n",
              "      <td>NaN</td>\n",
              "    </tr>\n",
              "  </tbody>\n",
              "</table>\n",
              "<p>3960266 rows × 19 columns</p>\n",
              "</div>\n",
              "      <button class=\"colab-df-convert\" onclick=\"convertToInteractive('df-86d87d70-0ff3-4d0b-9e2b-66c280385396')\"\n",
              "              title=\"Convert this dataframe to an interactive table.\"\n",
              "              style=\"display:none;\">\n",
              "        \n",
              "  <svg xmlns=\"http://www.w3.org/2000/svg\" height=\"24px\"viewBox=\"0 0 24 24\"\n",
              "       width=\"24px\">\n",
              "    <path d=\"M0 0h24v24H0V0z\" fill=\"none\"/>\n",
              "    <path d=\"M18.56 5.44l.94 2.06.94-2.06 2.06-.94-2.06-.94-.94-2.06-.94 2.06-2.06.94zm-11 1L8.5 8.5l.94-2.06 2.06-.94-2.06-.94L8.5 2.5l-.94 2.06-2.06.94zm10 10l.94 2.06.94-2.06 2.06-.94-2.06-.94-.94-2.06-.94 2.06-2.06.94z\"/><path d=\"M17.41 7.96l-1.37-1.37c-.4-.4-.92-.59-1.43-.59-.52 0-1.04.2-1.43.59L10.3 9.45l-7.72 7.72c-.78.78-.78 2.05 0 2.83L4 21.41c.39.39.9.59 1.41.59.51 0 1.02-.2 1.41-.59l7.78-7.78 2.81-2.81c.8-.78.8-2.07 0-2.86zM5.41 20L4 18.59l7.72-7.72 1.47 1.35L5.41 20z\"/>\n",
              "  </svg>\n",
              "      </button>\n",
              "      \n",
              "  <style>\n",
              "    .colab-df-container {\n",
              "      display:flex;\n",
              "      flex-wrap:wrap;\n",
              "      gap: 12px;\n",
              "    }\n",
              "\n",
              "    .colab-df-convert {\n",
              "      background-color: #E8F0FE;\n",
              "      border: none;\n",
              "      border-radius: 50%;\n",
              "      cursor: pointer;\n",
              "      display: none;\n",
              "      fill: #1967D2;\n",
              "      height: 32px;\n",
              "      padding: 0 0 0 0;\n",
              "      width: 32px;\n",
              "    }\n",
              "\n",
              "    .colab-df-convert:hover {\n",
              "      background-color: #E2EBFA;\n",
              "      box-shadow: 0px 1px 2px rgba(60, 64, 67, 0.3), 0px 1px 3px 1px rgba(60, 64, 67, 0.15);\n",
              "      fill: #174EA6;\n",
              "    }\n",
              "\n",
              "    [theme=dark] .colab-df-convert {\n",
              "      background-color: #3B4455;\n",
              "      fill: #D2E3FC;\n",
              "    }\n",
              "\n",
              "    [theme=dark] .colab-df-convert:hover {\n",
              "      background-color: #434B5C;\n",
              "      box-shadow: 0px 1px 3px 1px rgba(0, 0, 0, 0.15);\n",
              "      filter: drop-shadow(0px 1px 2px rgba(0, 0, 0, 0.3));\n",
              "      fill: #FFFFFF;\n",
              "    }\n",
              "  </style>\n",
              "\n",
              "      <script>\n",
              "        const buttonEl =\n",
              "          document.querySelector('#df-86d87d70-0ff3-4d0b-9e2b-66c280385396 button.colab-df-convert');\n",
              "        buttonEl.style.display =\n",
              "          google.colab.kernel.accessAllowed ? 'block' : 'none';\n",
              "\n",
              "        async function convertToInteractive(key) {\n",
              "          const element = document.querySelector('#df-86d87d70-0ff3-4d0b-9e2b-66c280385396');\n",
              "          const dataTable =\n",
              "            await google.colab.kernel.invokeFunction('convertToInteractive',\n",
              "                                                     [key], {});\n",
              "          if (!dataTable) return;\n",
              "\n",
              "          const docLinkHtml = 'Like what you see? Visit the ' +\n",
              "            '<a target=\"_blank\" href=https://colab.research.google.com/notebooks/data_table.ipynb>data table notebook</a>'\n",
              "            + ' to learn more about interactive tables.';\n",
              "          element.innerHTML = '';\n",
              "          dataTable['output_type'] = 'display_data';\n",
              "          await google.colab.output.renderOutput(dataTable, element);\n",
              "          const docLink = document.createElement('div');\n",
              "          docLink.innerHTML = docLinkHtml;\n",
              "          element.appendChild(docLink);\n",
              "        }\n",
              "      </script>\n",
              "    </div>\n",
              "  </div>\n",
              "  "
            ],
            "text/plain": [
              "         user_id  id_order  ...  id_item_cancel state_cancel\n",
              "0           4225    756916  ...       9448086.0     canceled\n",
              "1           4225    756916  ...       9448305.0     canceled\n",
              "2           4225    756916  ...       9448086.0     canceled\n",
              "3           4225    756916  ...       9448305.0     canceled\n",
              "4           4225    756916  ...       9448086.0     canceled\n",
              "...          ...       ...  ...             ...          ...\n",
              "3960261    46789   5251456  ...      85776973.0     canceled\n",
              "3960262  1829563   5408981  ...      89048647.0     canceled\n",
              "3960263  1829563   5408981  ...      89048647.0     canceled\n",
              "3960264  1829563   5408981  ...      89048647.0     canceled\n",
              "3960265  1835289   5433668  ...             NaN          NaN\n",
              "\n",
              "[3960266 rows x 19 columns]"
            ]
          },
          "metadata": {},
          "execution_count": 31
        }
      ]
    },
    {
      "cell_type": "code",
      "source": [
        "ndf9_orders.count()"
      ],
      "metadata": {
        "colab": {
          "base_uri": "https://localhost:8080/"
        },
        "id": "BOn5ZzDoV1uk",
        "outputId": "0c96a314-b2c2-441b-a9e5-d945031a631f"
      },
      "execution_count": null,
      "outputs": [
        {
          "output_type": "execute_result",
          "data": {
            "text/plain": [
              "user_id                             3960266\n",
              "id_order                            3960266\n",
              "total_time_assembly_and_delivery    3960249\n",
              "state                               3960266\n",
              "city                                3960266\n",
              "retailer_id                         3960266\n",
              "store_id_x                          3960266\n",
              "lat                                 3960000\n",
              "lon                                 3960000\n",
              "item_total                          3960266\n",
              "promo_total                         3960266\n",
              "cost                                3960266\n",
              "total_cost                          3960266\n",
              "total_quantity                      3960266\n",
              "total_weight                        3960266\n",
              "id_item_replace                     3341652\n",
              "state_replace                       3341652\n",
              "id_item_cancel                      3519652\n",
              "state_cancel                        3519652\n",
              "dtype: int64"
            ]
          },
          "metadata": {},
          "execution_count": 32
        }
      ]
    },
    {
      "cell_type": "code",
      "source": [
        "ndf10_orders = ndf9_orders.dropna(subset=['id_item_replace', 'id_item_cancel'], how='any')"
      ],
      "metadata": {
        "id": "Nh79e50zV0cz"
      },
      "execution_count": null,
      "outputs": []
    },
    {
      "cell_type": "code",
      "source": [
        "#количество непустых элементов справочно\n",
        "ndf10_orders.count()"
      ],
      "metadata": {
        "colab": {
          "base_uri": "https://localhost:8080/"
        },
        "id": "yvHgOSOAWgda",
        "outputId": "f6d2f7e7-9e17-42ca-beca-6aab09c351c8"
      },
      "execution_count": null,
      "outputs": [
        {
          "output_type": "execute_result",
          "data": {
            "text/plain": [
              "user_id                             3049004\n",
              "id_order                            3049004\n",
              "total_time_assembly_and_delivery    3048988\n",
              "state                               3049004\n",
              "city                                3049004\n",
              "retailer_id                         3049004\n",
              "store_id_x                          3049004\n",
              "lat                                 3048831\n",
              "lon                                 3048831\n",
              "item_total                          3049004\n",
              "promo_total                         3049004\n",
              "cost                                3049004\n",
              "total_cost                          3049004\n",
              "total_quantity                      3049004\n",
              "total_weight                        3049004\n",
              "id_item_replace                     3049004\n",
              "state_replace                       3049004\n",
              "id_item_cancel                      3049004\n",
              "state_cancel                        3049004\n",
              "dtype: int64"
            ]
          },
          "metadata": {},
          "execution_count": 34
        }
      ]
    },
    {
      "cell_type": "code",
      "source": [
        "#определяем 20 магазинов с самым вольшим количеством замен и отмен товаров\n",
        "ndf11_orders = ndf10_orders['store_id_x'].value_counts(sort=True)\n",
        "ndf11_orders.head(20)"
      ],
      "metadata": {
        "colab": {
          "base_uri": "https://localhost:8080/"
        },
        "id": "BOO-EuIiMVLM",
        "outputId": "baeb0c96-d387-4bde-fbb5-e34c2e2f9ff8"
      },
      "execution_count": null,
      "outputs": [
        {
          "output_type": "execute_result",
          "data": {
            "text/plain": [
              "8      246090\n",
              "14     242780\n",
              "1      203205\n",
              "21     197496\n",
              "12     189114\n",
              "10     177398\n",
              "11     176163\n",
              "2      168121\n",
              "9      135785\n",
              "3      118903\n",
              "70      96423\n",
              "68      87511\n",
              "177     67829\n",
              "90      63238\n",
              "128     58816\n",
              "98      50004\n",
              "172     49902\n",
              "105     46357\n",
              "91      45012\n",
              "89      42162\n",
              "Name: store_id_x, dtype: int64"
            ]
          },
          "metadata": {},
          "execution_count": 35
        }
      ]
    },
    {
      "cell_type": "code",
      "source": [
        "#определяем 50 товаров с самым вольшим количеством замен и отмен\n",
        "ndf12_orders = ndf10_orders['id_item_replace'].value_counts(sort=True)\n",
        "ndf12_orders.head(50)"
      ],
      "metadata": {
        "colab": {
          "base_uri": "https://localhost:8080/"
        },
        "id": "IRnVJunWXJr5",
        "outputId": "52a104ea-e3c1-46ee-efda-d1f0f239aff0"
      },
      "execution_count": null,
      "outputs": [
        {
          "output_type": "execute_result",
          "data": {
            "text/plain": [
              "41839937.0    97\n",
              "41837216.0    97\n",
              "41874864.0    97\n",
              "44961155.0    97\n",
              "41902631.0    97\n",
              "41834483.0    97\n",
              "40688781.0    97\n",
              "40688581.0    97\n",
              "41856417.0    97\n",
              "41945969.0    97\n",
              "41946259.0    97\n",
              "41946017.0    97\n",
              "41860388.0    97\n",
              "41885165.0    97\n",
              "41901348.0    97\n",
              "41946045.0    97\n",
              "44938794.0    97\n",
              "41834074.0    95\n",
              "44883310.0    88\n",
              "44455730.0    86\n",
              "44455762.0    86\n",
              "44455759.0    86\n",
              "44455817.0    86\n",
              "44455763.0    86\n",
              "44455825.0    86\n",
              "44455850.0    86\n",
              "44455877.0    86\n",
              "44455891.0    86\n",
              "44455893.0    86\n",
              "44455876.0    86\n",
              "41619696.0    82\n",
              "43945990.0    82\n",
              "43939695.0    82\n",
              "41615077.0    82\n",
              "41619930.0    82\n",
              "41611136.0    82\n",
              "41619996.0    82\n",
              "41622943.0    82\n",
              "41625100.0    82\n",
              "41615658.0    82\n",
              "41623165.0    82\n",
              "41616179.0    82\n",
              "41622355.0    82\n",
              "41622185.0    82\n",
              "41622407.0    82\n",
              "41614203.0    82\n",
              "82459290.0    80\n",
              "82459334.0    80\n",
              "82459294.0    80\n",
              "82459251.0    80\n",
              "Name: id_item_replace, dtype: int64"
            ]
          },
          "metadata": {},
          "execution_count": 36
        }
      ]
    },
    {
      "cell_type": "code",
      "source": [
        "ndf10_orders['id_item_cancel'].plot(kind = 'hist', bins = 20, legend = True) "
      ],
      "metadata": {
        "colab": {
          "base_uri": "https://localhost:8080/",
          "height": 295
        },
        "id": "D_9sTyQTMHaN",
        "outputId": "e33c39eb-5867-4175-a52f-1e2f1f5656b7"
      },
      "execution_count": null,
      "outputs": [
        {
          "output_type": "execute_result",
          "data": {
            "text/plain": [
              "<matplotlib.axes._subplots.AxesSubplot at 0x7f70889bd710>"
            ]
          },
          "metadata": {},
          "execution_count": 43
        },
        {
          "output_type": "display_data",
          "data": {
            "image/png": "[encoded data removed]",
            "text/plain": [
              "<Figure size 432x288 with 1 Axes>"
            ]
          },
          "metadata": {
            "needs_background": "light"
          }
        }
      ]
    },
    {
      "cell_type": "code",
      "source": [
        "ndf10_orders['id_item_replace'].plot(kind = 'hist', bins = 20, legend = True)"
      ],
      "metadata": {
        "id": "qT2lYiC5BDVv",
        "colab": {
          "base_uri": "https://localhost:8080/",
          "height": 295
        },
        "outputId": "532f8049-3192-423d-f6a2-18851b6484a6"
      },
      "execution_count": null,
      "outputs": [
        {
          "output_type": "execute_result",
          "data": {
            "text/plain": [
              "<matplotlib.axes._subplots.AxesSubplot at 0x7f7084f8bf10>"
            ]
          },
          "metadata": {},
          "execution_count": 44
        },
        {
          "output_type": "display_data",
          "data": {
            "image/png": "[encoded data removed]",
            "text/plain": [
              "<Figure size 432x288 with 1 Axes>"
            ]
          },
          "metadata": {
            "needs_background": "light"
          }
        }
      ]
    }
  ]
}